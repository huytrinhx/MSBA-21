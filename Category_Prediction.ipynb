{
  "nbformat": 4,
  "nbformat_minor": 0,
  "metadata": {
    "kernelspec": {
      "display_name": "Python 3",
      "language": "python",
      "name": "python3"
    },
    "language_info": {
      "codemirror_mode": {
        "name": "ipython",
        "version": 3
      },
      "file_extension": ".py",
      "mimetype": "text/x-python",
      "name": "python",
      "nbconvert_exporter": "python",
      "pygments_lexer": "ipython3",
      "version": "3.7.1"
    },
    "colab": {
      "name": "Category_Prediction.ipynb",
      "provenance": [],
      "include_colab_link": true
    }
  },
  "cells": [
    {
      "cell_type": "markdown",
      "metadata": {
        "id": "view-in-github",
        "colab_type": "text"
      },
      "source": [
        "<a href=\"https://colab.research.google.com/github/tpmarsha/ML2AmazonKaggle/blob/master/Category_Prediction.ipynb\" target=\"_parent\"><img src=\"https://colab.research.google.com/assets/colab-badge.svg\" alt=\"Open In Colab\"/></a>"
      ]
    },
    {
      "cell_type": "code",
      "metadata": {
        "id": "_-x9J3S1khRx",
        "colab_type": "code",
        "colab": {}
      },
      "source": [
        "import pandas as pd\n",
        "import os\n",
        "from collections import defaultdict\n",
        "import time\n",
        "import numpy as np\n",
        "from numpy import random\n",
        "import nltk\n",
        "from sklearn.model_selection import train_test_split\n",
        "from sklearn.feature_extraction.text import CountVectorizer, TfidfVectorizer\n",
        "from sklearn.metrics import accuracy_score, classification_report\n",
        "import matplotlib.pyplot as plt\n",
        "from nltk.corpus import stopwords\n",
        "import re\n",
        "\n",
        "\n"
      ],
      "execution_count": 0,
      "outputs": []
    },
    {
      "cell_type": "code",
      "metadata": {
        "id": "FX_SmV8AkhR1",
        "colab_type": "code",
        "colab": {}
      },
      "source": [
        "# def read_json(f):\n",
        "#   for l in open(f,\"r\"):\n",
        "#     yield eval(l)"
      ],
      "execution_count": 0,
      "outputs": []
    },
    {
      "cell_type": "code",
      "metadata": {
        "id": "3NF2Gf8akhR3",
        "colab_type": "code",
        "colab": {}
      },
      "source": [
        "# f = \"C:/Users/Hewitt/Documents/GitHub/ML2_FinalProject/train.json\"\n",
        "# labels = ['Men','Women','Baby', 'Boys','Girls']\n",
        "# for l in read_json(f):\n",
        "#     start_time = time.time()\n",
        "#     reviewHash, reviewText, category = l['reviewHash'],l['reviewText'],l['categories']\n",
        "#     flat_category = [item for sublist in category for item in sublist]\n",
        "#     label = [label for label in labels if\n",
        "#              any(label in str for str in flat_category)] \n",
        "# #     print(label[0])\n",
        "#     df = df.append({'ReviewHash': reviewHash,\n",
        "#                     'ReviewText': reviewText,\n",
        "#                    'CategoryLabel': label[0]}, ignore_index=True)\n",
        "# #     print(\"--- %s seconds ---\" % (time.time() - start_time))\n",
        "# df.to_csv(\"train.csv\")"
      ],
      "execution_count": 0,
      "outputs": []
    },
    {
      "cell_type": "code",
      "metadata": {
        "id": "G2ZDFVfVk_sV",
        "colab_type": "code",
        "colab": {
          "base_uri": "https://localhost:8080/",
          "height": 121
        },
        "outputId": "c7b8ded8-2029-4264-fea5-e5bc234faa2c"
      },
      "source": [
        "from google.colab import drive\n",
        "drive.mount('/content/drive')"
      ],
      "execution_count": 4,
      "outputs": [
        {
          "output_type": "stream",
          "text": [
            "Go to this URL in a browser: https://accounts.google.com/o/oauth2/auth?client_id=947318989803-6bn6qk8qdgf4n4g3pfee6491hc0brc4i.apps.googleusercontent.com&redirect_uri=urn%3aietf%3awg%3aoauth%3a2.0%3aoob&response_type=code&scope=email%20https%3a%2f%2fwww.googleapis.com%2fauth%2fdocs.test%20https%3a%2f%2fwww.googleapis.com%2fauth%2fdrive%20https%3a%2f%2fwww.googleapis.com%2fauth%2fdrive.photos.readonly%20https%3a%2f%2fwww.googleapis.com%2fauth%2fpeopleapi.readonly\n",
            "\n",
            "Enter your authorization code:\n",
            "··········\n",
            "Mounted at /content/drive\n"
          ],
          "name": "stdout"
        }
      ]
    },
    {
      "cell_type": "code",
      "metadata": {
        "id": "ruaOnkJskhR5",
        "colab_type": "code",
        "colab": {
          "base_uri": "https://localhost:8080/",
          "height": 441
        },
        "outputId": "1616a59e-91cd-4e65-d7d1-fa098c795444"
      },
      "source": [
        "root_path = 'content/drive/My Drive/Team 3 Kaggle Competition ML2/'\n",
        "df= pd.read_csv(root_path + 'train_CategoryPrediction.csv',\n",
        "               index_col=0)\n",
        "df.head(5)\n"
      ],
      "execution_count": 8,
      "outputs": [
        {
          "output_type": "error",
          "ename": "FileNotFoundError",
          "evalue": "ignored",
          "traceback": [
            "\u001b[0;31m---------------------------------------------------------------------------\u001b[0m",
            "\u001b[0;31mFileNotFoundError\u001b[0m                         Traceback (most recent call last)",
            "\u001b[0;32m<ipython-input-8-a759baae1651>\u001b[0m in \u001b[0;36m<module>\u001b[0;34m()\u001b[0m\n\u001b[1;32m      1\u001b[0m \u001b[0mroot_path\u001b[0m \u001b[0;34m=\u001b[0m \u001b[0;34m'/My Drive/Team 3 Kaggle Competition ML2/'\u001b[0m\u001b[0;34m\u001b[0m\u001b[0;34m\u001b[0m\u001b[0m\n\u001b[1;32m      2\u001b[0m df= pd.read_csv(root_path + 'train.csv',\n\u001b[0;32m----> 3\u001b[0;31m                index_col=0)\n\u001b[0m\u001b[1;32m      4\u001b[0m \u001b[0mdf\u001b[0m\u001b[0;34m.\u001b[0m\u001b[0mhead\u001b[0m\u001b[0;34m(\u001b[0m\u001b[0;36m5\u001b[0m\u001b[0;34m)\u001b[0m\u001b[0;34m\u001b[0m\u001b[0;34m\u001b[0m\u001b[0m\n",
            "\u001b[0;32m/usr/local/lib/python3.6/dist-packages/pandas/io/parsers.py\u001b[0m in \u001b[0;36mparser_f\u001b[0;34m(filepath_or_buffer, sep, delimiter, header, names, index_col, usecols, squeeze, prefix, mangle_dupe_cols, dtype, engine, converters, true_values, false_values, skipinitialspace, skiprows, skipfooter, nrows, na_values, keep_default_na, na_filter, verbose, skip_blank_lines, parse_dates, infer_datetime_format, keep_date_col, date_parser, dayfirst, cache_dates, iterator, chunksize, compression, thousands, decimal, lineterminator, quotechar, quoting, doublequote, escapechar, comment, encoding, dialect, error_bad_lines, warn_bad_lines, delim_whitespace, low_memory, memory_map, float_precision)\u001b[0m\n\u001b[1;32m    674\u001b[0m         )\n\u001b[1;32m    675\u001b[0m \u001b[0;34m\u001b[0m\u001b[0m\n\u001b[0;32m--> 676\u001b[0;31m         \u001b[0;32mreturn\u001b[0m \u001b[0m_read\u001b[0m\u001b[0;34m(\u001b[0m\u001b[0mfilepath_or_buffer\u001b[0m\u001b[0;34m,\u001b[0m \u001b[0mkwds\u001b[0m\u001b[0;34m)\u001b[0m\u001b[0;34m\u001b[0m\u001b[0;34m\u001b[0m\u001b[0m\n\u001b[0m\u001b[1;32m    677\u001b[0m \u001b[0;34m\u001b[0m\u001b[0m\n\u001b[1;32m    678\u001b[0m     \u001b[0mparser_f\u001b[0m\u001b[0;34m.\u001b[0m\u001b[0m__name__\u001b[0m \u001b[0;34m=\u001b[0m \u001b[0mname\u001b[0m\u001b[0;34m\u001b[0m\u001b[0;34m\u001b[0m\u001b[0m\n",
            "\u001b[0;32m/usr/local/lib/python3.6/dist-packages/pandas/io/parsers.py\u001b[0m in \u001b[0;36m_read\u001b[0;34m(filepath_or_buffer, kwds)\u001b[0m\n\u001b[1;32m    446\u001b[0m \u001b[0;34m\u001b[0m\u001b[0m\n\u001b[1;32m    447\u001b[0m     \u001b[0;31m# Create the parser.\u001b[0m\u001b[0;34m\u001b[0m\u001b[0;34m\u001b[0m\u001b[0;34m\u001b[0m\u001b[0m\n\u001b[0;32m--> 448\u001b[0;31m     \u001b[0mparser\u001b[0m \u001b[0;34m=\u001b[0m \u001b[0mTextFileReader\u001b[0m\u001b[0;34m(\u001b[0m\u001b[0mfp_or_buf\u001b[0m\u001b[0;34m,\u001b[0m \u001b[0;34m**\u001b[0m\u001b[0mkwds\u001b[0m\u001b[0;34m)\u001b[0m\u001b[0;34m\u001b[0m\u001b[0;34m\u001b[0m\u001b[0m\n\u001b[0m\u001b[1;32m    449\u001b[0m \u001b[0;34m\u001b[0m\u001b[0m\n\u001b[1;32m    450\u001b[0m     \u001b[0;32mif\u001b[0m \u001b[0mchunksize\u001b[0m \u001b[0;32mor\u001b[0m \u001b[0miterator\u001b[0m\u001b[0;34m:\u001b[0m\u001b[0;34m\u001b[0m\u001b[0;34m\u001b[0m\u001b[0m\n",
            "\u001b[0;32m/usr/local/lib/python3.6/dist-packages/pandas/io/parsers.py\u001b[0m in \u001b[0;36m__init__\u001b[0;34m(self, f, engine, **kwds)\u001b[0m\n\u001b[1;32m    878\u001b[0m             \u001b[0mself\u001b[0m\u001b[0;34m.\u001b[0m\u001b[0moptions\u001b[0m\u001b[0;34m[\u001b[0m\u001b[0;34m\"has_index_names\"\u001b[0m\u001b[0;34m]\u001b[0m \u001b[0;34m=\u001b[0m \u001b[0mkwds\u001b[0m\u001b[0;34m[\u001b[0m\u001b[0;34m\"has_index_names\"\u001b[0m\u001b[0;34m]\u001b[0m\u001b[0;34m\u001b[0m\u001b[0;34m\u001b[0m\u001b[0m\n\u001b[1;32m    879\u001b[0m \u001b[0;34m\u001b[0m\u001b[0m\n\u001b[0;32m--> 880\u001b[0;31m         \u001b[0mself\u001b[0m\u001b[0;34m.\u001b[0m\u001b[0m_make_engine\u001b[0m\u001b[0;34m(\u001b[0m\u001b[0mself\u001b[0m\u001b[0;34m.\u001b[0m\u001b[0mengine\u001b[0m\u001b[0;34m)\u001b[0m\u001b[0;34m\u001b[0m\u001b[0;34m\u001b[0m\u001b[0m\n\u001b[0m\u001b[1;32m    881\u001b[0m \u001b[0;34m\u001b[0m\u001b[0m\n\u001b[1;32m    882\u001b[0m     \u001b[0;32mdef\u001b[0m \u001b[0mclose\u001b[0m\u001b[0;34m(\u001b[0m\u001b[0mself\u001b[0m\u001b[0;34m)\u001b[0m\u001b[0;34m:\u001b[0m\u001b[0;34m\u001b[0m\u001b[0;34m\u001b[0m\u001b[0m\n",
            "\u001b[0;32m/usr/local/lib/python3.6/dist-packages/pandas/io/parsers.py\u001b[0m in \u001b[0;36m_make_engine\u001b[0;34m(self, engine)\u001b[0m\n\u001b[1;32m   1112\u001b[0m     \u001b[0;32mdef\u001b[0m \u001b[0m_make_engine\u001b[0m\u001b[0;34m(\u001b[0m\u001b[0mself\u001b[0m\u001b[0;34m,\u001b[0m \u001b[0mengine\u001b[0m\u001b[0;34m=\u001b[0m\u001b[0;34m\"c\"\u001b[0m\u001b[0;34m)\u001b[0m\u001b[0;34m:\u001b[0m\u001b[0;34m\u001b[0m\u001b[0;34m\u001b[0m\u001b[0m\n\u001b[1;32m   1113\u001b[0m         \u001b[0;32mif\u001b[0m \u001b[0mengine\u001b[0m \u001b[0;34m==\u001b[0m \u001b[0;34m\"c\"\u001b[0m\u001b[0;34m:\u001b[0m\u001b[0;34m\u001b[0m\u001b[0;34m\u001b[0m\u001b[0m\n\u001b[0;32m-> 1114\u001b[0;31m             \u001b[0mself\u001b[0m\u001b[0;34m.\u001b[0m\u001b[0m_engine\u001b[0m \u001b[0;34m=\u001b[0m \u001b[0mCParserWrapper\u001b[0m\u001b[0;34m(\u001b[0m\u001b[0mself\u001b[0m\u001b[0;34m.\u001b[0m\u001b[0mf\u001b[0m\u001b[0;34m,\u001b[0m \u001b[0;34m**\u001b[0m\u001b[0mself\u001b[0m\u001b[0;34m.\u001b[0m\u001b[0moptions\u001b[0m\u001b[0;34m)\u001b[0m\u001b[0;34m\u001b[0m\u001b[0;34m\u001b[0m\u001b[0m\n\u001b[0m\u001b[1;32m   1115\u001b[0m         \u001b[0;32melse\u001b[0m\u001b[0;34m:\u001b[0m\u001b[0;34m\u001b[0m\u001b[0;34m\u001b[0m\u001b[0m\n\u001b[1;32m   1116\u001b[0m             \u001b[0;32mif\u001b[0m \u001b[0mengine\u001b[0m \u001b[0;34m==\u001b[0m \u001b[0;34m\"python\"\u001b[0m\u001b[0;34m:\u001b[0m\u001b[0;34m\u001b[0m\u001b[0;34m\u001b[0m\u001b[0m\n",
            "\u001b[0;32m/usr/local/lib/python3.6/dist-packages/pandas/io/parsers.py\u001b[0m in \u001b[0;36m__init__\u001b[0;34m(self, src, **kwds)\u001b[0m\n\u001b[1;32m   1889\u001b[0m         \u001b[0mkwds\u001b[0m\u001b[0;34m[\u001b[0m\u001b[0;34m\"usecols\"\u001b[0m\u001b[0;34m]\u001b[0m \u001b[0;34m=\u001b[0m \u001b[0mself\u001b[0m\u001b[0;34m.\u001b[0m\u001b[0musecols\u001b[0m\u001b[0;34m\u001b[0m\u001b[0;34m\u001b[0m\u001b[0m\n\u001b[1;32m   1890\u001b[0m \u001b[0;34m\u001b[0m\u001b[0m\n\u001b[0;32m-> 1891\u001b[0;31m         \u001b[0mself\u001b[0m\u001b[0;34m.\u001b[0m\u001b[0m_reader\u001b[0m \u001b[0;34m=\u001b[0m \u001b[0mparsers\u001b[0m\u001b[0;34m.\u001b[0m\u001b[0mTextReader\u001b[0m\u001b[0;34m(\u001b[0m\u001b[0msrc\u001b[0m\u001b[0;34m,\u001b[0m \u001b[0;34m**\u001b[0m\u001b[0mkwds\u001b[0m\u001b[0;34m)\u001b[0m\u001b[0;34m\u001b[0m\u001b[0;34m\u001b[0m\u001b[0m\n\u001b[0m\u001b[1;32m   1892\u001b[0m         \u001b[0mself\u001b[0m\u001b[0;34m.\u001b[0m\u001b[0munnamed_cols\u001b[0m \u001b[0;34m=\u001b[0m \u001b[0mself\u001b[0m\u001b[0;34m.\u001b[0m\u001b[0m_reader\u001b[0m\u001b[0;34m.\u001b[0m\u001b[0munnamed_cols\u001b[0m\u001b[0;34m\u001b[0m\u001b[0;34m\u001b[0m\u001b[0m\n\u001b[1;32m   1893\u001b[0m \u001b[0;34m\u001b[0m\u001b[0m\n",
            "\u001b[0;32mpandas/_libs/parsers.pyx\u001b[0m in \u001b[0;36mpandas._libs.parsers.TextReader.__cinit__\u001b[0;34m()\u001b[0m\n",
            "\u001b[0;32mpandas/_libs/parsers.pyx\u001b[0m in \u001b[0;36mpandas._libs.parsers.TextReader._setup_parser_source\u001b[0;34m()\u001b[0m\n",
            "\u001b[0;31mFileNotFoundError\u001b[0m: [Errno 2] File /My Drive/Team 3 Kaggle Competition ML2/train.csv does not exist: '/My Drive/Team 3 Kaggle Competition ML2/train.csv'"
          ]
        }
      ]
    },
    {
      "cell_type": "code",
      "metadata": {
        "id": "ew6OP3bQkhR-",
        "colab_type": "code",
        "colab": {},
        "outputId": "8ea3b907-50ef-41f0-f88c-4eef03ff7969"
      },
      "source": [
        "display(df['CategoryLabel'].value_counts())"
      ],
      "execution_count": 0,
      "outputs": [
        {
          "output_type": "display_data",
          "data": {
            "text/plain": [
              "Women    141303\n",
              "Men       51530\n",
              "Baby       3324\n",
              "Girls      2191\n",
              "Boys       1652\n",
              "Name: CategoryLabel, dtype: int64"
            ]
          },
          "metadata": {
            "tags": []
          }
        }
      ]
    },
    {
      "cell_type": "code",
      "metadata": {
        "id": "JpKszWGwkhSA",
        "colab_type": "code",
        "colab": {},
        "outputId": "cea5c80d-bc2b-47e1-f0b7-ff3451a6e712"
      },
      "source": [
        "Replace_by_space_re = re.compile('[/(){}\\[\\]\\|@,;]')\n",
        "Bad_symbols_re = re.compile('[^0-9a-z #+_]')\n",
        "Stopwords = set(stopwords.words('english'))\n",
        "\n",
        "def clean_text(text):\n",
        "    text=str(text)\n",
        "    text=text.lower()\n",
        "    text=Replace_by_space_re.sub(' ', text)\n",
        "    text=Bad_symbols_re.sub('', text)\n",
        "    text= ' '.join(word for word in text.split() if word not in Stopwords)\n",
        "    return text\n",
        "\n",
        "df['ReviewText'] = df['ReviewText'].apply(clean_text)\n",
        "print(df.head(5))\n",
        "### Word Size\n",
        "print(df['ReviewText'].apply(lambda x: len(x.split(' '))).sum())\n",
        "### Max Review Length\n",
        "print(df['ReviewText'].apply(lambda x: len(x.split(' '))).max())\n",
        "\n",
        "df['tokens_length'] = df['ReviewText'].apply(lambda x: len(x.split(' ')))\n",
        "df[df.tokens_length==2046].ReviewText\n"
      ],
      "execution_count": 0,
      "outputs": [
        {
          "output_type": "stream",
          "text": [
            "   ReviewHash                                         ReviewText CategoryLabel\n",
            "0  R798569390  model picture rolled top actually high waisted...         Women\n",
            "1  R436443063  love look bra wanted however cup size band siz...         Women\n",
            "2  R103439446  comfortable wearing wedding band little diamon...         Women\n",
            "3  R486351639  like look top really looks cute buton closer l...         Women\n",
            "4  R508664275  im quite small xs fits like regular tshirt imp...         Women\n",
            "5889335\n",
            "2046\n"
          ],
          "name": "stdout"
        },
        {
          "output_type": "execute_result",
          "data": {
            "text/plain": [
              "164763    kind icebreaker oasis shirt last week decided ...\n",
              "Name: ReviewText, dtype: object"
            ]
          },
          "metadata": {
            "tags": []
          },
          "execution_count": 5
        }
      ]
    },
    {
      "cell_type": "code",
      "metadata": {
        "id": "JeJDCfmmkhSC",
        "colab_type": "code",
        "colab": {},
        "outputId": "fdc647a8-77d6-4663-9d05-665a18d39d37"
      },
      "source": [
        "### Generate words count & histograms\n",
        "from yellowbrick.text import FreqDistVisualizer\n",
        "v=CountVectorizer()\n",
        "d=v.fit_transform(df['ReviewText'])\n",
        "f=v.get_feature_names()\n",
        "\n",
        "visualizer = FreqDistVisualizer(features=f, orient='v', n=2500)\n",
        "visualizer.fit(d)\n",
        "visualizer.show()"
      ],
      "execution_count": 0,
      "outputs": [
        {
          "output_type": "display_data",
          "data": {
            "image/png": "[encoded data removed]",
            "text/plain": [
              "<Figure size 576x396 with 1 Axes>"
            ]
          },
          "metadata": {
            "tags": []
          }
        },
        {
          "output_type": "execute_result",
          "data": {
            "text/plain": [
              "<matplotlib.axes._subplots.AxesSubplot at 0x1a3593697f0>"
            ]
          },
          "metadata": {
            "tags": []
          },
          "execution_count": 7
        }
      ]
    },
    {
      "cell_type": "code",
      "metadata": {
        "id": "LlZF6sD5khSF",
        "colab_type": "code",
        "colab": {},
        "outputId": "7b8fd393-09f1-4860-cd68-e1933c7f1dc5"
      },
      "source": [
        "from nltk import FreqDist\n",
        "df['tokenized'] = df['ReviewText'].apply(lambda x: x.split(' '))\n",
        "# df.head(5)\n",
        "all_words = [word for item in list(df['tokenized']) for word in item]\n",
        "fdist = FreqDist(all_words)\n",
        "print(len(fdist)) # number of unique words\n",
        "# choose k and visually inspect the bottom 10 words of the top k\n",
        "k = 10000\n",
        "top_k_words = fdist.most_common(k)\n",
        "print(top_k_words[-10:])\n",
        "\n",
        "k = 5000\n",
        "top_k_words = fdist.most_common(k)\n",
        "print(top_k_words[-10:])\n",
        "\n",
        "k = 2000\n",
        "top_k_words = fdist.most_common(k)\n",
        "print(top_k_words[-10:])\n",
        "\n",
        "k = 1000\n",
        "top_k_words = fdist.most_common(k)\n",
        "print(top_k_words[-10:])\n",
        "\n",
        "k = 500\n",
        "top_k_words = fdist.most_common(k)\n",
        "print(top_k_words[-10:])\n",
        "\n",
        "k = 100\n",
        "top_k_words = fdist.most_common(k)\n",
        "print(top_k_words[-10:])\n"
      ],
      "execution_count": 0,
      "outputs": [
        {
          "output_type": "stream",
          "text": [
            "123375\n",
            "[('toesi', 19), ('spd', 19), ('44#34', 19), ('gifti', 19), ('braces', 19), ('poolside', 19), ('understandable', 19), ('1314', 19), ('singing', 19), ('approve', 19)]\n",
            "[('tracking', 67), ('handled', 67), ('eternity', 67), ('dishes', 67), ('pilates', 67), ('reads', 67), ('http', 67), ('score', 67), ('kudos', 67), ('neoprene', 67)]\n",
            "[('satin', 320), ('smart', 320), ('manufacturers', 320), ('def', 319), ('mark', 319), ('dr', 318), ('beginning', 318), ('amazoncom', 318), ('charge', 318), ('rolled', 317)]\n",
            "[('saying', 888), ('colored', 887), ('nicer', 885), ('figured', 884), ('skechers', 883), ('16', 881), ('rough', 877), ('flexible', 876), ('collar', 872), ('affordable', 872)]\n",
            "[('hoping', 2154), ('making', 2152), ('women', 2148), ('sock', 2146), ('dresses', 2145), ('womens', 2142), ('okay', 2136), ('zipper', 2119), ('pain', 2118), ('month', 2099)]\n",
            "[('style', 10241), ('lot', 10235), ('fabric', 10032), ('two', 9959), ('put', 9898), ('keep', 9890), ('cant', 9868), ('worn', 9802), ('since', 9772), ('true', 9711)]\n"
          ],
          "name": "stdout"
        }
      ]
    },
    {
      "cell_type": "code",
      "metadata": {
        "id": "Rn9b9ibEkhSJ",
        "colab_type": "code",
        "colab": {},
        "outputId": "ec39e393-5133-4614-c1f0-b7a88002e322"
      },
      "source": [
        "# define a function only to keep words in the top k words\n",
        "k=2500\n",
        "top_k_words,_ = zip(*fdist.most_common(k))\n",
        "top_k_words = set(top_k_words)\n",
        "def keep_top_k_words(text):\n",
        "    return [word for word in text if word in top_k_words]\n",
        "\n",
        "df['tokenized'] = df['tokenized'].apply(keep_top_k_words)\n",
        "\n",
        "# document length\n",
        "df['doc_len'] = df['tokenized'].apply(lambda x: len(x))\n",
        "doc_lengths = list(df['doc_len'])\n",
        "\n",
        "print(\"length of list:\",len(doc_lengths),\n",
        "      \"\\naverage document length\", np.average(doc_lengths),\n",
        "      \"\\nminimum document length\", min(doc_lengths),\n",
        "      \"\\nmaximum document length\", max(doc_lengths))"
      ],
      "execution_count": 0,
      "outputs": [
        {
          "output_type": "stream",
          "text": [
            "length of list: 200000 \n",
            "average document length 25.805625 \n",
            "minimum document length 0 \n",
            "maximum document length 1554\n"
          ],
          "name": "stdout"
        }
      ]
    },
    {
      "cell_type": "code",
      "metadata": {
        "id": "kHM8sjm1khSL",
        "colab_type": "code",
        "colab": {}
      },
      "source": [
        "X =df.ReviewText\n",
        "y= df.CategoryLabel\n",
        "X_train, X_test, y_train, y_test = train_test_split(X, y, test_size=0.2, random_state = 42, stratify=y)"
      ],
      "execution_count": 0,
      "outputs": []
    },
    {
      "cell_type": "code",
      "metadata": {
        "id": "pLOrIzkDkhSN",
        "colab_type": "code",
        "colab": {},
        "outputId": "4d583433-424e-430b-b0f7-eb18feee331f"
      },
      "source": [
        "from sklearn.pipeline import Pipeline\n",
        "from sklearn.feature_extraction.text import TfidfTransformer\n",
        "from sklearn.linear_model import LogisticRegression\n",
        "\n",
        "tfidf = Pipeline([('vect', CountVectorizer()),\n",
        "                 ('tfidf', TfidfTransformer()),\n",
        "                 ('clf', LogisticRegression(n_jobs=1, C=1e5)),\n",
        "                 ])\n",
        "start_time = time.time()\n",
        "tfidf.fit(X_train, y_train)\n",
        "\n",
        "y_pred = tfidf.predict(X_test)\n",
        "\n",
        "print(\"--- %s seconds ---\" % (time.time() - start_time))\n",
        "print('accuracy %s' % accuracy_score(y_pred,y_test))\n",
        "print(classification_report(y_test, y_pred, target_names=y.unique()))\n"
      ],
      "execution_count": 0,
      "outputs": [
        {
          "output_type": "stream",
          "text": [
            "C:\\Users\\Hewitt\\Anaconda3\\lib\\site-packages\\sklearn\\linear_model\\logistic.py:433: FutureWarning: Default solver will be changed to 'lbfgs' in 0.22. Specify a solver to silence this warning.\n",
            "  FutureWarning)\n",
            "C:\\Users\\Hewitt\\Anaconda3\\lib\\site-packages\\sklearn\\linear_model\\logistic.py:460: FutureWarning: Default multi_class will be changed to 'auto' in 0.22. Specify the multi_class option to silence this warning.\n",
            "  \"this warning.\", FutureWarning)\n",
            "C:\\Users\\Hewitt\\Anaconda3\\lib\\site-packages\\sklearn\\svm\\base.py:922: ConvergenceWarning: Liblinear failed to converge, increase the number of iterations.\n",
            "  \"the number of iterations.\", ConvergenceWarning)\n"
          ],
          "name": "stderr"
        },
        {
          "output_type": "stream",
          "text": [
            "--- 217.68828463554382 seconds ---\n",
            "accuracy 0.784025\n",
            "              precision    recall  f1-score   support\n",
            "\n",
            "       Women       0.48      0.56      0.52       665\n",
            "        Baby       0.19      0.26      0.22       330\n",
            "        Boys       0.10      0.14      0.12       438\n",
            "         Men       0.67      0.60      0.64     10306\n",
            "       Girls       0.85      0.87      0.86     28261\n",
            "\n",
            "   micro avg       0.78      0.78      0.78     40000\n",
            "   macro avg       0.46      0.49      0.47     40000\n",
            "weighted avg       0.79      0.78      0.78     40000\n",
            "\n"
          ],
          "name": "stdout"
        }
      ]
    },
    {
      "cell_type": "code",
      "metadata": {
        "id": "38p7Fq1SkhSO",
        "colab_type": "code",
        "colab": {},
        "outputId": "a3c27962-7f7f-475e-cd80-9cc15f791d88"
      },
      "source": [
        "#Initialize TFIDF vectorizer that turn collection of document to sparse matrix of ngram from 1 to 3\n",
        "ngram = TfidfVectorizer(ngram_range=(1,3), min_df=1, use_idf=True, smooth_idf=True)\n",
        "#Vectorize the training data\n",
        "start_time = time.time()\n",
        "X_train_vector = ngram.fit_transform(X_train)\n",
        "#Vectorize the testing data\n",
        "X_test_vector = ngram.transform(X_test)\n",
        "clf = LogisticRegression(n_jobs=1, C=1e5)\n",
        "clf.fit(X_train_vector,y_train)\n",
        "#Prediction\n",
        "y_pred = clf.predict(X_test_vector)\n",
        "\n",
        "print(\"--- %s seconds ---\" % (time.time() - start_time))\n",
        "print('accuracy %s' % accuracy_score(y_pred,y_test))\n",
        "print(classification_report(y_test, y_pred, target_names=y.unique()))\n"
      ],
      "execution_count": 0,
      "outputs": [
        {
          "output_type": "stream",
          "text": [
            "C:\\Users\\Hewitt\\Anaconda3\\lib\\site-packages\\sklearn\\linear_model\\logistic.py:433: FutureWarning: Default solver will be changed to 'lbfgs' in 0.22. Specify a solver to silence this warning.\n",
            "  FutureWarning)\n",
            "C:\\Users\\Hewitt\\Anaconda3\\lib\\site-packages\\sklearn\\linear_model\\logistic.py:460: FutureWarning: Default multi_class will be changed to 'auto' in 0.22. Specify the multi_class option to silence this warning.\n",
            "  \"this warning.\", FutureWarning)\n"
          ],
          "name": "stderr"
        },
        {
          "output_type": "stream",
          "text": [
            "--- 306.3920817375183 seconds ---\n",
            "accuracy 0.84195\n",
            "              precision    recall  f1-score   support\n",
            "\n",
            "       Women       0.80      0.60      0.69       665\n",
            "        Baby       0.59      0.28      0.39       330\n",
            "        Boys       0.58      0.12      0.20       438\n",
            "         Men       0.75      0.69      0.72     10306\n",
            "       Girls       0.87      0.92      0.90     28261\n",
            "\n",
            "   micro avg       0.84      0.84      0.84     40000\n",
            "   macro avg       0.72      0.52      0.58     40000\n",
            "weighted avg       0.84      0.84      0.84     40000\n",
            "\n"
          ],
          "name": "stdout"
        }
      ]
    },
    {
      "cell_type": "code",
      "metadata": {
        "id": "OwnfAbQRkhSQ",
        "colab_type": "code",
        "colab": {}
      },
      "source": [
        "from tensorflow.keras.preprocessing.text import Tokenizer\n",
        "from tensorflow.keras.preprocessing.sequence import pad_sequences\n",
        "from tensorflow.keras.utils import to_categorical\n",
        "n_most_common_words = 2500 # based on the inspection of the words counts above\n",
        "max_len = 1554 # based on max document length above after filtering for top 2500 words\n",
        "\n",
        "tokenizer = Tokenizer(num_words=n_most_common_words)\n",
        "tokenizer.fit_on_texts(X)\n",
        "sequences = tokenizer.texts_to_sequences(X)\n",
        "X_LSTM = pad_sequences(sequences, maxlen=max_len)\n",
        "y_LSTM = to_categorical(df.CategoryLabel.factorize()[0], num_classes=5)\n",
        "X_train_lstm, X_test_lstm, y_train_lstm, y_test_lstm = train_test_split(X_LSTM, y_LSTM, test_size=0.2, random_state = 42, stratify=y)"
      ],
      "execution_count": 0,
      "outputs": []
    },
    {
      "cell_type": "code",
      "metadata": {
        "id": "mJ63dFG8khST",
        "colab_type": "code",
        "colab": {},
        "outputId": "f22737b8-9fc7-4147-d77d-b233b999d9cf"
      },
      "source": [
        "import tensorflow as tf\n",
        "from tensorflow import keras\n",
        "from tensorflow.keras import Sequential\n",
        "from tensorflow.keras.layers import Embedding, Dense, Bidirectional, LSTM\n",
        "# from tensorflow.core.protobuf import rewriter_config_pb2\n",
        "# from tensorflow.compat.v1.keras.backend import set_session\n",
        "# from tensorflow.keras.backend import clear_session  \n",
        "# # # For easy reset of notebook state.\n",
        "# clear_session()\n",
        "# # #Borrow StackoverFlow for AlreadyExistError\n",
        "# config_proto = tf.compat.v1.ConfigProto\n",
        "# # off = rewriter_config_pb2.RewriterConfig.OFF\n",
        "# # config_proto.graph_options.rewrite_options.arithmetic_optimization = off\n",
        "# session = tf.compat.v1.Session(config=config_proto)\n",
        "# set_session(session)\n",
        "# ##\n",
        "embedding_size = 300\n",
        "model = Sequential()\n",
        "model.add(Embedding(n_most_common_words, embedding_size, input_length=X_LSTM.shape[1]))\n",
        "model.add(Bidirectional(LSTM(128, dropout=0.7, recurrent_dropout=0.7)))\n",
        "model.add(Dense(y_LSTM.shape[1], activation='softmax'))\n",
        "model.compile(optimizer='adam', \n",
        "              loss='categorical_crossentropy',\n",
        "              metrics=['accuracy'])\n",
        "print(model.summary())"
      ],
      "execution_count": 0,
      "outputs": [
        {
          "output_type": "stream",
          "text": [
            "Model: \"sequential_2\"\n",
            "_________________________________________________________________\n",
            "Layer (type)                 Output Shape              Param #   \n",
            "=================================================================\n",
            "embedding_2 (Embedding)      (None, 1554, 300)         750000    \n",
            "_________________________________________________________________\n",
            "bidirectional_2 (Bidirection (None, 256)               439296    \n",
            "_________________________________________________________________\n",
            "dense_2 (Dense)              (None, 5)                 1285      \n",
            "=================================================================\n",
            "Total params: 1,190,581\n",
            "Trainable params: 1,190,581\n",
            "Non-trainable params: 0\n",
            "_________________________________________________________________\n",
            "None\n"
          ],
          "name": "stdout"
        }
      ]
    },
    {
      "cell_type": "code",
      "metadata": {
        "id": "vD5H-rzTkhSV",
        "colab_type": "code",
        "colab": {}
      },
      "source": [
        "start_time = time.time()\n",
        "model.fit(X_train_lstm, y_train_lstm, batch_size=128, validation_split=0.2)\n",
        "prediction_probas = model.predict(X_test_lstm)\n",
        "y_pred = [np.argmax(pred) for pred in prediction_probas]\n",
        "\n",
        "print(\"--- %s seconds ---\" % (time.time() - start_time))\n",
        "print('accuracy %s' % accuracy_score(y_pred,y_test))\n",
        "print(classification_report(y_test, y_pred, target_names=y.unique()))\n"
      ],
      "execution_count": 0,
      "outputs": []
    },
    {
      "cell_type": "code",
      "metadata": {
        "id": "DsqmAYO1khSW",
        "colab_type": "code",
        "colab": {}
      },
      "source": [
        ""
      ],
      "execution_count": 0,
      "outputs": []
    }
  ]
}