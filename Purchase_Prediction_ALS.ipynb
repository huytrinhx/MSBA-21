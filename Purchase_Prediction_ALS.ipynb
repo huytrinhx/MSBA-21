{
 "cells": [
  {
   "cell_type": "markdown",
   "metadata": {
    "colab_type": "text",
    "id": "view-in-github"
   },
   "source": [
    "<a href=\"https://colab.research.google.com/github/tpmarsha/ML2AmazonKaggle/blob/master/Purchase_Prediction.ipynb\" target=\"_parent\"><img src=\"https://colab.research.google.com/assets/colab-badge.svg\" alt=\"Open In Colab\"/></a>"
   ]
  },
  {
   "cell_type": "code",
   "execution_count": 113,
   "metadata": {
    "colab": {},
    "colab_type": "code",
    "id": "hhoMne-G7ID4"
   },
   "outputs": [],
   "source": [
    "#!pip install mxnet\n",
    "#!pip install d2l\n",
    "import pandas as pd\n",
    "from mxnet import gluon, np, npx, autograd\n",
    "from mxnet.gluon import nn\n",
    "import d2l\n",
    "import mxnet as mx\n",
    "import scipy.sparse as sparse\n",
    "import numpy\n",
    "npx.set_np()"
   ]
  },
  {
   "cell_type": "code",
   "execution_count": 114,
   "metadata": {
    "colab": {},
    "colab_type": "code",
    "id": "wvibhDAv7ID7"
   },
   "outputs": [],
   "source": [
    "# read user and items into a dataframe which is then converted into csv\n",
    "# this part takes a while and is only done ONCE\n",
    "# after creating csv, we can upload that into a dataframe directly\n",
    "\n",
    "#def read_file(f):\n",
    " #   for l in open(f):\n",
    " #       yield eval(l)\n",
    "#df = pd.DataFrame()\n",
    "\n",
    "#for l in read_file(\"train.json\"):\n",
    " #   reviewerID,itemID = l['reviewerID'],l['itemID']\n",
    " #   df = df.append({'reviewerID': reviewerID, 'itemID': itemID}, ignore_index = True)\n",
    "#df.to_csv(\"train.csv\")"
   ]
  },
  {
   "cell_type": "code",
   "execution_count": 115,
   "metadata": {
    "colab": {
     "base_uri": "https://localhost:8080/",
     "height": 34
    },
    "colab_type": "code",
    "executionInfo": {
     "elapsed": 374,
     "status": "ok",
     "timestamp": 1591553488201,
     "user": {
      "displayName": "Dipali Mistri",
      "photoUrl": "",
      "userId": "14112564951328525400"
     },
     "user_tz": 240
    },
    "id": "3fbeVC687S0N",
    "outputId": "40b47d28-b666-46fd-ab29-d0d1c2233f28"
   },
   "outputs": [],
   "source": [
    "#from google.colab import drive\n",
    "#drive.mount('/content/drive')"
   ]
  },
  {
   "cell_type": "code",
   "execution_count": 116,
   "metadata": {
    "colab": {
     "base_uri": "https://localhost:8080/",
     "height": 204
    },
    "colab_type": "code",
    "executionInfo": {
     "elapsed": 520,
     "status": "ok",
     "timestamp": 1591553489299,
     "user": {
      "displayName": "Dipali Mistri",
      "photoUrl": "",
      "userId": "14112564951328525400"
     },
     "user_tz": 240
    },
    "id": "Tih8fzpO7ID9",
    "outputId": "b095177b-4303-4f9d-de3a-3e5b42a96706"
   },
   "outputs": [
    {
     "data": {
      "text/html": [
       "<div>\n",
       "<style scoped>\n",
       "    .dataframe tbody tr th:only-of-type {\n",
       "        vertical-align: middle;\n",
       "    }\n",
       "\n",
       "    .dataframe tbody tr th {\n",
       "        vertical-align: top;\n",
       "    }\n",
       "\n",
       "    .dataframe thead th {\n",
       "        text-align: right;\n",
       "    }\n",
       "</style>\n",
       "<table border=\"1\" class=\"dataframe\">\n",
       "  <thead>\n",
       "    <tr style=\"text-align: right;\">\n",
       "      <th></th>\n",
       "      <th>itemID</th>\n",
       "      <th>reviewerID</th>\n",
       "      <th>Purchased</th>\n",
       "    </tr>\n",
       "  </thead>\n",
       "  <tbody>\n",
       "    <tr>\n",
       "      <th>0</th>\n",
       "      <td>I402344648</td>\n",
       "      <td>U490934656</td>\n",
       "      <td>1</td>\n",
       "    </tr>\n",
       "    <tr>\n",
       "      <th>1</th>\n",
       "      <td>I697650540</td>\n",
       "      <td>U714157797</td>\n",
       "      <td>1</td>\n",
       "    </tr>\n",
       "    <tr>\n",
       "      <th>2</th>\n",
       "      <td>I464613034</td>\n",
       "      <td>U507366950</td>\n",
       "      <td>1</td>\n",
       "    </tr>\n",
       "    <tr>\n",
       "      <th>3</th>\n",
       "      <td>I559560885</td>\n",
       "      <td>U307862152</td>\n",
       "      <td>1</td>\n",
       "    </tr>\n",
       "    <tr>\n",
       "      <th>4</th>\n",
       "      <td>I476005312</td>\n",
       "      <td>U742726598</td>\n",
       "      <td>1</td>\n",
       "    </tr>\n",
       "  </tbody>\n",
       "</table>\n",
       "</div>"
      ],
      "text/plain": [
       "       itemID  reviewerID  Purchased\n",
       "0  I402344648  U490934656          1\n",
       "1  I697650540  U714157797          1\n",
       "2  I464613034  U507366950          1\n",
       "3  I559560885  U307862152          1\n",
       "4  I476005312  U742726598          1"
      ]
     },
     "execution_count": 116,
     "metadata": {},
     "output_type": "execute_result"
    }
   ],
   "source": [
    "# now we can upload csv straight into dataframe\n",
    "#root_path = '/content/drive/My Drive/Team 3 Kaggle Competition ML2/'\n",
    "#data = pd.read_csv(root_path+\"train_PurchasePrediction.csv\")\n",
    "data = pd.read_csv(\"train.csv\")\n",
    "data = data.drop(data.columns[0], axis=1)  # drop the unnamed column\n",
    "# check to see if there are any duplicate users + items\n",
    "len(data[data.duplicated()])\n",
    "# add a column to indicate item was purchased\n",
    "data['Purchased'] = 1\n",
    "data.head(5)"
   ]
  },
  {
   "cell_type": "code",
   "execution_count": 117,
   "metadata": {},
   "outputs": [
    {
     "name": "stdout",
     "output_type": "stream",
     "text": [
      "200000\n"
     ]
    }
   ],
   "source": [
    "# to speed things up, working with a subset of rows\n",
    "#data = data.drop(data.index[5000:])\n",
    "print(len(data))"
   ]
  },
  {
   "cell_type": "code",
   "execution_count": 118,
   "metadata": {
    "colab": {
     "base_uri": "https://localhost:8080/",
     "height": 34
    },
    "colab_type": "code",
    "executionInfo": {
     "elapsed": 361,
     "status": "ok",
     "timestamp": 1591553490357,
     "user": {
      "displayName": "Dipali Mistri",
      "photoUrl": "",
      "userId": "14112564951328525400"
     },
     "user_tz": 240
    },
    "id": "QZshU-0t7ID_",
    "outputId": "106fc8de-bb0f-47df-b060-3a0da1d5f87c"
   },
   "outputs": [],
   "source": [
    "customers = list(numpy.sort(data.reviewerID.unique())) # Get our unique customers\n",
    "products = list(data.itemID.unique()) # Get our unique products that were purchased\n",
    "quantity = list(data.Purchased) # All of our purchases"
   ]
  },
  {
   "cell_type": "code",
   "execution_count": 119,
   "metadata": {},
   "outputs": [
    {
     "data": {
      "text/plain": [
       "<39239x19914 sparse matrix of type '<class 'numpy.longlong'>'\n",
       "\twith 200000 stored elements in Compressed Sparse Row format>"
      ]
     },
     "execution_count": 119,
     "metadata": {},
     "output_type": "execute_result"
    }
   ],
   "source": [
    "# create a sparse matrix\n",
    "rows = data.reviewerID.astype('category').cat.codes \n",
    "cols = data.itemID.astype('category').cat.codes \n",
    "purchases_sparse = sparse.csr_matrix((quantity, (rows, cols)), shape=(len(customers), len(products)))\n",
    "purchases_sparse"
   ]
  },
  {
   "cell_type": "code",
   "execution_count": 120,
   "metadata": {},
   "outputs": [
    {
     "data": {
      "text/plain": [
       "99.97440509264123"
      ]
     },
     "execution_count": 120,
     "metadata": {},
     "output_type": "execute_result"
    }
   ],
   "source": [
    "# check the sparsity\n",
    "matrix_size = purchases_sparse.shape[0]*purchases_sparse.shape[1] # Number of possible interactions in the matrix\n",
    "num_purchases = len(purchases_sparse.nonzero()[0]) # Number of items interacted with\n",
    "sparsity_original = 100*(1 - (num_purchases/matrix_size))\n",
    "sparsity_original  # extremely sparse\n",
    "\n",
    "# from d2l textbook: A viable solution is to use additional side information such as user/item features to alleviate the sparsity."
   ]
  },
  {
   "cell_type": "code",
   "execution_count": 121,
   "metadata": {},
   "outputs": [],
   "source": [
    "training_set = purchases_sparse.copy() # Make a copy of the original data we can alter as our training set\n",
    "test_set = purchases_sparse.copy() # Make a copy of the original set to be the test set"
   ]
  },
  {
   "cell_type": "code",
   "execution_count": 122,
   "metadata": {},
   "outputs": [
    {
     "data": {
      "text/plain": [
       "200000"
      ]
     },
     "execution_count": 122,
     "metadata": {},
     "output_type": "execute_result"
    }
   ],
   "source": [
    "# identify all the interactions within the sparse matrix and zip them together\n",
    "nonzero_inds = training_set.nonzero()\n",
    "nonzero_pairs = list(zip(nonzero_inds[0], nonzero_inds[1])) \n",
    "len(nonzero_pairs)"
   ]
  },
  {
   "cell_type": "code",
   "execution_count": 123,
   "metadata": {},
   "outputs": [
    {
     "data": {
      "text/plain": [
       "40000"
      ]
     },
     "execution_count": 123,
     "metadata": {},
     "output_type": "execute_result"
    }
   ],
   "source": [
    "#split for train-test with 20% as test\n",
    "import random\n",
    "num_samples = int(np.ceil(0.20*len(nonzero_pairs))) # round the number of samples needed to the nearest integer\n",
    "samples = random.sample(nonzero_pairs, num_samples) # randomly select 20% to be in the test set\n",
    "len(samples)"
   ]
  },
  {
   "cell_type": "code",
   "execution_count": 124,
   "metadata": {},
   "outputs": [],
   "source": [
    "# for the 20% of users in the test, \"mask\" them in the training set (change all their purchase history to 0's)\n",
    "user_inds = [index[0] for index in samples] # Get the user row indices\n",
    "item_inds = [index[1] for index in samples] # Get the item column indices\n",
    "training_set[user_inds, item_inds] = 0 # Assign all of the randomly chosen user-item pairs to zero"
   ]
  },
  {
   "cell_type": "code",
   "execution_count": 125,
   "metadata": {},
   "outputs": [
    {
     "name": "stdout",
     "output_type": "stream",
     "text": [
      "99.97440509264123 99.97952407411299 99.97440509264123\n"
     ]
    }
   ],
   "source": [
    "# to check this happened, compare sparsity between training_set and test_set\n",
    "# sparsity of training set\n",
    "matrix_size = training_set.shape[0]*training_set.shape[1] # Number of possible interactions in the matrix\n",
    "num_purchases = len(training_set.nonzero()[0]) # Number of items interacted with\n",
    "sparsity_train = 100*(1 - (num_purchases/matrix_size))\n",
    "# sparsity of test set\n",
    "matrix_size = test_set.shape[0]*test_set.shape[1] # Number of possible interactions in the matrix\n",
    "num_purchases = len(test_set.nonzero()[0]) # Number of items interacted with\n",
    "sparsity_test = 100*(1 - (num_purchases/matrix_size))\n",
    "\n",
    "# print sparsity of original dataset, train, and test sets\n",
    "print(sparsity_original, sparsity_train, sparsity_test)"
   ]
  },
  {
   "cell_type": "code",
   "execution_count": 126,
   "metadata": {},
   "outputs": [],
   "source": [
    "# store users who were masked from training in a list\n",
    "users_altered = list(set(user_inds))"
   ]
  },
  {
   "cell_type": "code",
   "execution_count": 127,
   "metadata": {},
   "outputs": [],
   "source": [
    "#!pip install implicit\n",
    "import implicit"
   ]
  },
  {
   "cell_type": "code",
   "execution_count": 128,
   "metadata": {},
   "outputs": [
    {
     "name": "stderr",
     "output_type": "stream",
     "text": [
      "WARNING:implicit:This method is deprecated. Please use the AlternatingLeastSquares class instead\n"
     ]
    },
    {
     "data": {
      "application/vnd.jupyter.widget-view+json": {
       "model_id": "24e0bbb0bc9549979ba1b9b44d129f81",
       "version_major": 2,
       "version_minor": 0
      },
      "text/plain": [
       "HBox(children=(FloatProgress(value=0.0, max=50.0), HTML(value='')))"
      ]
     },
     "metadata": {},
     "output_type": "display_data"
    },
    {
     "name": "stdout",
     "output_type": "stream",
     "text": [
      "\n"
     ]
    }
   ],
   "source": [
    "alpha = 15\n",
    "user_vecs, item_vecs = implicit.alternating_least_squares((training_set*alpha).astype('double'), \n",
    "                                                           factors=20, \n",
    "                                                           regularization = 0.1, \n",
    "                                                           iterations = 50)"
   ]
  },
  {
   "cell_type": "code",
   "execution_count": 129,
   "metadata": {},
   "outputs": [],
   "source": [
    "#implicit.lmf.LogisticMatrixFactorization(factors=20, regularization=0.1, iterations=20)\n",
    "#alpha_val = 15\n",
    "#data_conf = (training_set * alpha_val).astype('double')\n",
    "#model.fit(data_conf)"
   ]
  },
  {
   "cell_type": "code",
   "execution_count": null,
   "metadata": {},
   "outputs": [],
   "source": []
  },
  {
   "cell_type": "code",
   "execution_count": 130,
   "metadata": {},
   "outputs": [
    {
     "data": {
      "text/plain": [
       "[<39239x20 sparse matrix of type '<class 'numpy.float32'>'\n",
       " \twith 784780 stored elements in Compressed Sparse Row format>,\n",
       " <20x19914 sparse matrix of type '<class 'numpy.float32'>'\n",
       " \twith 398280 stored elements in Compressed Sparse Row format>]"
      ]
     },
     "execution_count": 130,
     "metadata": {},
     "output_type": "execute_result"
    }
   ],
   "source": [
    "predictions = [sparse.csr_matrix(user_vecs), sparse.csr_matrix(item_vecs.T)]\n",
    "\n",
    "predictions"
   ]
  },
  {
   "cell_type": "code",
   "execution_count": 131,
   "metadata": {},
   "outputs": [],
   "source": [
    "from sklearn import metrics\n",
    "\n",
    "def auc_score(predictions, test):\n",
    "    '''\n",
    "    This simple function will output the area under the curve using sklearn's metrics. \n",
    "    \n",
    "    parameters:\n",
    "    \n",
    "    - predictions: your prediction output\n",
    "    \n",
    "    - test: the actual target result you are comparing to\n",
    "    \n",
    "    returns:\n",
    "    \n",
    "    - AUC (area under the Receiver Operating Characterisic curve)\n",
    "    '''\n",
    "    fpr, tpr, thresholds = metrics.roc_curve(test, predictions)\n",
    "    return metrics.auc(fpr, tpr)   "
   ]
  },
  {
   "cell_type": "code",
   "execution_count": 132,
   "metadata": {},
   "outputs": [],
   "source": [
    "item_vecs = predictions[1]"
   ]
  },
  {
   "cell_type": "code",
   "execution_count": 133,
   "metadata": {},
   "outputs": [],
   "source": [
    "store_auc = [] # An empty list to store the AUC for each user that had an item removed from the training set\n",
    "popularity_auc = [] # To store popular AUC scores\n",
    "pop_items = numpy.array(test_set.sum(axis = 0)).reshape(-1) # Get sum of item iteractions to find most popular\n",
    "\n",
    "for user in users_altered: # Iterate through each user that had an item altered\n",
    "    training_row = training_set[user,:].toarray().reshape(-1) # Get the training set row\n",
    "    zero_inds = numpy.where(training_row == 0) # Find where the interaction had not yet occurred\n",
    "    # Get the predicted values based on our user/item vectors\n",
    "    user_vec = predictions[0][user,:]\n",
    "    pred = user_vec.dot(item_vecs).toarray()[0,zero_inds].reshape(-1)\n",
    "    # Select all ratings from the MF prediction for this user that originally had no iteraction\n",
    "    actual = test_set[user,:].toarray()[0,zero_inds].reshape(-1) \n",
    "    store_auc.append(auc_score(pred, actual)) # Calculate AUC for the given user and store\n",
    "    # popular items\n",
    "    pop = pop_items[zero_inds] # Get the item popularity for our chosen items\n",
    "    popularity_auc.append(auc_score(pop, actual)) # Calculate AUC using most popular and score"
   ]
  },
  {
   "cell_type": "code",
   "execution_count": null,
   "metadata": {},
   "outputs": [],
   "source": []
  },
  {
   "cell_type": "code",
   "execution_count": 134,
   "metadata": {},
   "outputs": [
    {
     "data": {
      "text/plain": [
       "(0.6833485756455943, 0.7063826850071151)"
      ]
     },
     "execution_count": 134,
     "metadata": {},
     "output_type": "execute_result"
    }
   ],
   "source": [
    "numpy.mean(store_auc), numpy.mean(popularity_auc)"
   ]
  },
  {
   "cell_type": "code",
   "execution_count": null,
   "metadata": {},
   "outputs": [],
   "source": []
  },
  {
   "cell_type": "code",
   "execution_count": null,
   "metadata": {
    "colab": {},
    "colab_type": "code",
    "id": "rfPIducX7IEM"
   },
   "outputs": [],
   "source": []
  },
  {
   "cell_type": "code",
   "execution_count": null,
   "metadata": {
    "colab": {},
    "colab_type": "code",
    "id": "iYsu2dYCdydP"
   },
   "outputs": [],
   "source": []
  },
  {
   "cell_type": "code",
   "execution_count": null,
   "metadata": {
    "colab": {},
    "colab_type": "code",
    "id": "BG5GaevK9qZC"
   },
   "outputs": [],
   "source": []
  }
 ],
 "metadata": {
  "colab": {
   "collapsed_sections": [],
   "name": "Purchase_Prediction.ipynb",
   "provenance": []
  },
  "kernelspec": {
   "display_name": "Python 3",
   "language": "python",
   "name": "python3"
  },
  "language_info": {
   "codemirror_mode": {
    "name": "ipython",
    "version": 3
   },
   "file_extension": ".py",
   "mimetype": "text/x-python",
   "name": "python",
   "nbconvert_exporter": "python",
   "pygments_lexer": "ipython3",
   "version": "3.7.7"
  }
 },
 "nbformat": 4,
 "nbformat_minor": 1
}
