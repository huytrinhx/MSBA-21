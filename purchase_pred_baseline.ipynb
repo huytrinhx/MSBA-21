{
 "cells": [
  {
   "cell_type": "code",
   "execution_count": 1,
   "metadata": {},
   "outputs": [],
   "source": [
    "def read_file(f):\n",
    "    for l in open(f):\n",
    "        yield eval(l)\n",
    "\n",
    "from collections import defaultdict\n",
    "business_count = defaultdict(int)\n",
    "total_purchases = 0\n",
    "\n",
    "for l in read_file(\"train.json\"):\n",
    "    user,business = l['reviewerID'],l['itemID']\n",
    "    business_count[business] += 1  # num of reviews (& purchases) by itemID\n",
    "    total_purchases += 1           # total purchases overall"
   ]
  },
  {
   "cell_type": "code",
   "execution_count": 2,
   "metadata": {},
   "outputs": [
    {
     "data": {
      "text/plain": [
       "200000"
      ]
     },
     "execution_count": 2,
     "metadata": {},
     "output_type": "execute_result"
    }
   ],
   "source": [
    "# as a test, see if the total purchases (from above) equates to sum of values in 'business_count'\n",
    "test = []\n",
    "for key, value in business_count.items():\n",
    "    test.append(value)\n",
    "sum(test)"
   ]
  },
  {
   "cell_type": "code",
   "execution_count": null,
   "metadata": {},
   "outputs": [],
   "source": []
  },
  {
   "cell_type": "code",
   "execution_count": 5,
   "metadata": {},
   "outputs": [],
   "source": [
    "# move \"business_count\" from default dict to list of tuples in \"most_popular\"\n",
    "most_popular = []\n",
    "for business,purchases in business_count.items():\n",
    "    most_popular.append((purchases,business))\n",
    "most_popular.sort()\n",
    "most_popular.reverse()"
   ]
  },
  {
   "cell_type": "code",
   "execution_count": 22,
   "metadata": {},
   "outputs": [],
   "source": [
    "# purchase prediction baseline\n",
    "\n",
    "# for loop to identify top businesses - top businesses where the total sum of their purchases = 100,000\n",
    "popular = set()\n",
    "count = 0\n",
    "for num_purchases, business in most_popular:\n",
    "    count += num_purchases\n",
    "    popular.add(business)\n",
    "    if count > total_purchases/2:   # stop loop once the sum of top businesses = 100,000 (which is total purchases/2)\n",
    "        break\n",
    "\n",
    "# working with test set: predict \"purchase\" or \"1\" if business is top ranked (if it exists in \"popular\")\n",
    "predictions = open(\"predictions_Purchase.txt\", 'w')\n",
    "for l in open(\"pairs_Purchase.txt\"):   # this is the test set\n",
    "    if l.startswith(\"reviewerID\"):\n",
    "        predictions.write(l)\n",
    "        continue\n",
    "    reviewer,item = l.strip().split('-')\n",
    "    if item in popular:\n",
    "        predictions.write(reviewer + '-' + item + \",1\\n\")  # predict 1 if item exists in \"popular\"\n",
    "    else:\n",
    "        predictions.write(reviewer + '-' + item + \",0\\n\")\n",
    "predictions.close()"
   ]
  },
  {
   "cell_type": "code",
   "execution_count": 29,
   "metadata": {},
   "outputs": [
    {
     "data": {
      "text/html": [
       "<div>\n",
       "<style scoped>\n",
       "    .dataframe tbody tr th:only-of-type {\n",
       "        vertical-align: middle;\n",
       "    }\n",
       "\n",
       "    .dataframe tbody tr th {\n",
       "        vertical-align: top;\n",
       "    }\n",
       "\n",
       "    .dataframe thead th {\n",
       "        text-align: right;\n",
       "    }\n",
       "</style>\n",
       "<table border=\"1\" class=\"dataframe\">\n",
       "  <thead>\n",
       "    <tr style=\"text-align: right;\">\n",
       "      <th></th>\n",
       "      <th>reviewerID-itemID</th>\n",
       "    </tr>\n",
       "    <tr>\n",
       "      <th>prediction</th>\n",
       "      <th></th>\n",
       "    </tr>\n",
       "  </thead>\n",
       "  <tbody>\n",
       "    <tr>\n",
       "      <th>0</th>\n",
       "      <td>18675</td>\n",
       "    </tr>\n",
       "    <tr>\n",
       "      <th>1</th>\n",
       "      <td>9325</td>\n",
       "    </tr>\n",
       "  </tbody>\n",
       "</table>\n",
       "</div>"
      ],
      "text/plain": [
       "            reviewerID-itemID\n",
       "prediction                   \n",
       "0                       18675\n",
       "1                        9325"
      ]
     },
     "execution_count": 29,
     "metadata": {},
     "output_type": "execute_result"
    }
   ],
   "source": [
    "import pandas as pd\n",
    "data = pd.read_csv(\"predictions_Purchase.txt\")\n",
    "data.groupby('prediction').count()"
   ]
  },
  {
   "cell_type": "code",
   "execution_count": null,
   "metadata": {},
   "outputs": [],
   "source": []
  },
  {
   "cell_type": "code",
   "execution_count": null,
   "metadata": {},
   "outputs": [],
   "source": []
  }
 ],
 "metadata": {
  "kernelspec": {
   "display_name": "Python 3",
   "language": "python",
   "name": "python3"
  },
  "language_info": {
   "codemirror_mode": {
    "name": "ipython",
    "version": 3
   },
   "file_extension": ".py",
   "mimetype": "text/x-python",
   "name": "python",
   "nbconvert_exporter": "python",
   "pygments_lexer": "ipython3",
   "version": "3.7.7"
  }
 },
 "nbformat": 4,
 "nbformat_minor": 2
}
