{
 "cells": [
  {
   "cell_type": "markdown",
   "metadata": {
    "colab_type": "text",
    "id": "view-in-github"
   },
   "source": [
    "<a href=\"https://colab.research.google.com/github/tpmarsha/ML2AmazonKaggle/blob/master/Purchase_Prediction.ipynb\" target=\"_parent\"><img src=\"https://colab.research.google.com/assets/colab-badge.svg\" alt=\"Open In Colab\"/></a>"
   ]
  },
  {
   "cell_type": "code",
   "execution_count": 1,
   "metadata": {
    "colab": {},
    "colab_type": "code",
    "id": "hhoMne-G7ID4"
   },
   "outputs": [],
   "source": [
    "#!pip install mxnet\n",
    "#!pip install d2l\n",
    "#!pip install implicit\n",
    "import pandas as pd\n",
    "import scipy.sparse as sparse\n",
    "import numpy\n",
    "import random\n",
    "import implicit\n",
    "from sklearn import metrics\n",
    "from sklearn.metrics import recall_score, precision_score, accuracy_score, roc_curve"
   ]
  },
  {
   "cell_type": "code",
   "execution_count": 2,
   "metadata": {
    "colab": {},
    "colab_type": "code",
    "id": "wvibhDAv7ID7"
   },
   "outputs": [],
   "source": [
    "# read user and items into a dataframe which is then converted into csv\n",
    "# this part takes a while and is only done ONCE\n",
    "# after creating csv, we can upload that into a dataframe directly\n",
    "\n",
    "#def read_file(f):\n",
    " #   for l in open(f):\n",
    " #       yield eval(l)\n",
    "#df = pd.DataFrame()\n",
    "\n",
    "#for l in read_file(\"train.json\"):\n",
    " #   reviewerID,itemID = l['reviewerID'],l['itemID']\n",
    " #   df = df.append({'reviewerID': reviewerID, 'itemID': itemID}, ignore_index = True)\n",
    "#df.to_csv(\"train.csv\")"
   ]
  },
  {
   "cell_type": "code",
   "execution_count": 3,
   "metadata": {
    "colab": {
     "base_uri": "https://localhost:8080/",
     "height": 34
    },
    "colab_type": "code",
    "executionInfo": {
     "elapsed": 374,
     "status": "ok",
     "timestamp": 1591553488201,
     "user": {
      "displayName": "Dipali Mistri",
      "photoUrl": "",
      "userId": "14112564951328525400"
     },
     "user_tz": 240
    },
    "id": "3fbeVC687S0N",
    "outputId": "40b47d28-b666-46fd-ab29-d0d1c2233f28"
   },
   "outputs": [],
   "source": [
    "# import data straight from csv that was created above"
   ]
  },
  {
   "cell_type": "code",
   "execution_count": 4,
   "metadata": {
    "colab": {
     "base_uri": "https://localhost:8080/",
     "height": 204
    },
    "colab_type": "code",
    "executionInfo": {
     "elapsed": 520,
     "status": "ok",
     "timestamp": 1591553489299,
     "user": {
      "displayName": "Dipali Mistri",
      "photoUrl": "",
      "userId": "14112564951328525400"
     },
     "user_tz": 240
    },
    "id": "Tih8fzpO7ID9",
    "outputId": "b095177b-4303-4f9d-de3a-3e5b42a96706"
   },
   "outputs": [
    {
     "data": {
      "text/html": [
       "<div>\n",
       "<style scoped>\n",
       "    .dataframe tbody tr th:only-of-type {\n",
       "        vertical-align: middle;\n",
       "    }\n",
       "\n",
       "    .dataframe tbody tr th {\n",
       "        vertical-align: top;\n",
       "    }\n",
       "\n",
       "    .dataframe thead th {\n",
       "        text-align: right;\n",
       "    }\n",
       "</style>\n",
       "<table border=\"1\" class=\"dataframe\">\n",
       "  <thead>\n",
       "    <tr style=\"text-align: right;\">\n",
       "      <th></th>\n",
       "      <th>itemID</th>\n",
       "      <th>reviewerID</th>\n",
       "      <th>Purchased</th>\n",
       "    </tr>\n",
       "  </thead>\n",
       "  <tbody>\n",
       "    <tr>\n",
       "      <th>0</th>\n",
       "      <td>I402344648</td>\n",
       "      <td>U490934656</td>\n",
       "      <td>1</td>\n",
       "    </tr>\n",
       "    <tr>\n",
       "      <th>1</th>\n",
       "      <td>I697650540</td>\n",
       "      <td>U714157797</td>\n",
       "      <td>1</td>\n",
       "    </tr>\n",
       "    <tr>\n",
       "      <th>2</th>\n",
       "      <td>I464613034</td>\n",
       "      <td>U507366950</td>\n",
       "      <td>1</td>\n",
       "    </tr>\n",
       "    <tr>\n",
       "      <th>3</th>\n",
       "      <td>I559560885</td>\n",
       "      <td>U307862152</td>\n",
       "      <td>1</td>\n",
       "    </tr>\n",
       "    <tr>\n",
       "      <th>4</th>\n",
       "      <td>I476005312</td>\n",
       "      <td>U742726598</td>\n",
       "      <td>1</td>\n",
       "    </tr>\n",
       "  </tbody>\n",
       "</table>\n",
       "</div>"
      ],
      "text/plain": [
       "       itemID  reviewerID  Purchased\n",
       "0  I402344648  U490934656          1\n",
       "1  I697650540  U714157797          1\n",
       "2  I464613034  U507366950          1\n",
       "3  I559560885  U307862152          1\n",
       "4  I476005312  U742726598          1"
      ]
     },
     "execution_count": 4,
     "metadata": {},
     "output_type": "execute_result"
    }
   ],
   "source": [
    "# now we can upload csv straight into dataframe\n",
    "path = \"/Users/dipali/Desktop/CMU MSBA/machine_learning_2/final_project/\"\n",
    "data = pd.read_csv(path+\"train.csv\")\n",
    "data = data.drop(data.columns[0], axis=1)  # drop the unnamed column\n",
    "# check to see if there are any duplicate users + items\n",
    "len(data[data.duplicated()])\n",
    "# add a column to indicate item was purchased\n",
    "data['Purchased'] = 1\n",
    "data.head(5)"
   ]
  },
  {
   "cell_type": "code",
   "execution_count": 5,
   "metadata": {},
   "outputs": [
    {
     "name": "stdout",
     "output_type": "stream",
     "text": [
      "200000\n"
     ]
    }
   ],
   "source": [
    "print(len(data))"
   ]
  },
  {
   "cell_type": "code",
   "execution_count": 6,
   "metadata": {
    "colab": {
     "base_uri": "https://localhost:8080/",
     "height": 34
    },
    "colab_type": "code",
    "executionInfo": {
     "elapsed": 361,
     "status": "ok",
     "timestamp": 1591553490357,
     "user": {
      "displayName": "Dipali Mistri",
      "photoUrl": "",
      "userId": "14112564951328525400"
     },
     "user_tz": 240
    },
    "id": "QZshU-0t7ID_",
    "outputId": "106fc8de-bb0f-47df-b060-3a0da1d5f87c"
   },
   "outputs": [],
   "source": [
    "users = list(numpy.sort(data.reviewerID.unique())) # list of unique users\n",
    "items = list(data.itemID.unique()) # list of unique items\n",
    "quantity = list(data.Purchased) # purchases"
   ]
  },
  {
   "cell_type": "code",
   "execution_count": 7,
   "metadata": {},
   "outputs": [
    {
     "data": {
      "text/plain": [
       "<39239x19914 sparse matrix of type '<class 'numpy.longlong'>'\n",
       "\twith 200000 stored elements in Compressed Sparse Row format>"
      ]
     },
     "execution_count": 7,
     "metadata": {},
     "output_type": "execute_result"
    }
   ],
   "source": [
    "# create a sparse matrix\n",
    "rows = data.reviewerID.astype('category').cat.codes \n",
    "cols = data.itemID.astype('category').cat.codes \n",
    "purchases_sparse = sparse.csr_matrix((quantity, (rows, cols)), shape=(len(users), len(items)))\n",
    "purchases_sparse"
   ]
  },
  {
   "cell_type": "code",
   "execution_count": 8,
   "metadata": {},
   "outputs": [
    {
     "data": {
      "text/html": [
       "<div>\n",
       "<style scoped>\n",
       "    .dataframe tbody tr th:only-of-type {\n",
       "        vertical-align: middle;\n",
       "    }\n",
       "\n",
       "    .dataframe tbody tr th {\n",
       "        vertical-align: top;\n",
       "    }\n",
       "\n",
       "    .dataframe thead th {\n",
       "        text-align: right;\n",
       "    }\n",
       "</style>\n",
       "<table border=\"1\" class=\"dataframe\">\n",
       "  <thead>\n",
       "    <tr style=\"text-align: right;\">\n",
       "      <th></th>\n",
       "      <th>itemID</th>\n",
       "      <th>reviewerID</th>\n",
       "      <th>Purchased</th>\n",
       "      <th>item_indices</th>\n",
       "      <th>reviewer_indices</th>\n",
       "    </tr>\n",
       "  </thead>\n",
       "  <tbody>\n",
       "    <tr>\n",
       "      <th>0</th>\n",
       "      <td>I402344648</td>\n",
       "      <td>U490934656</td>\n",
       "      <td>1</td>\n",
       "      <td>7898</td>\n",
       "      <td>19395</td>\n",
       "    </tr>\n",
       "    <tr>\n",
       "      <th>1</th>\n",
       "      <td>I697650540</td>\n",
       "      <td>U714157797</td>\n",
       "      <td>1</td>\n",
       "      <td>13783</td>\n",
       "      <td>28196</td>\n",
       "    </tr>\n",
       "    <tr>\n",
       "      <th>2</th>\n",
       "      <td>I464613034</td>\n",
       "      <td>U507366950</td>\n",
       "      <td>1</td>\n",
       "      <td>9177</td>\n",
       "      <td>20029</td>\n",
       "    </tr>\n",
       "    <tr>\n",
       "      <th>3</th>\n",
       "      <td>I559560885</td>\n",
       "      <td>U307862152</td>\n",
       "      <td>1</td>\n",
       "      <td>11096</td>\n",
       "      <td>12131</td>\n",
       "    </tr>\n",
       "    <tr>\n",
       "      <th>4</th>\n",
       "      <td>I476005312</td>\n",
       "      <td>U742726598</td>\n",
       "      <td>1</td>\n",
       "      <td>9409</td>\n",
       "      <td>29299</td>\n",
       "    </tr>\n",
       "  </tbody>\n",
       "</table>\n",
       "</div>"
      ],
      "text/plain": [
       "       itemID  reviewerID  Purchased  item_indices  reviewer_indices\n",
       "0  I402344648  U490934656          1          7898             19395\n",
       "1  I697650540  U714157797          1         13783             28196\n",
       "2  I464613034  U507366950          1          9177             20029\n",
       "3  I559560885  U307862152          1         11096             12131\n",
       "4  I476005312  U742726598          1          9409             29299"
      ]
     },
     "execution_count": 8,
     "metadata": {},
     "output_type": "execute_result"
    }
   ],
   "source": [
    "# assign indices to item and reviewer and add them to dataframe\n",
    "data['item_indices'] = data.itemID.astype('category').cat.codes\n",
    "data['reviewer_indices'] = data.reviewerID.astype('category').cat.codes\n",
    "data.head(5)"
   ]
  },
  {
   "cell_type": "code",
   "execution_count": 9,
   "metadata": {},
   "outputs": [
    {
     "data": {
      "text/plain": [
       "99.97440509264123"
      ]
     },
     "execution_count": 9,
     "metadata": {},
     "output_type": "execute_result"
    }
   ],
   "source": [
    "# check the sparsity\n",
    "matrix_size = purchases_sparse.shape[0]*purchases_sparse.shape[1]\n",
    "num_purchases = len(purchases_sparse.nonzero()[0])  \n",
    "100*(1 - (num_purchases/matrix_size)) # calculate sparsity"
   ]
  },
  {
   "cell_type": "code",
   "execution_count": 10,
   "metadata": {},
   "outputs": [],
   "source": [
    "training_set = purchases_sparse.copy() # copy of original sparse matrix as training set\n",
    "test_set = purchases_sparse.copy() # copy of original sparse matrix as testing set"
   ]
  },
  {
   "cell_type": "code",
   "execution_count": 11,
   "metadata": {},
   "outputs": [],
   "source": [
    "# identify all non-zero (purchased) user-item pairs from training_set and zip them together\n",
    "nonzero_indices = training_set.nonzero()\n",
    "nonzero_pairs = list(zip(nonzero_indices[0], nonzero_indices[1])) # equal to 200,000"
   ]
  },
  {
   "cell_type": "code",
   "execution_count": 12,
   "metadata": {},
   "outputs": [],
   "source": [
    "# randomly select 20% of users-item pairs with a purchase, mask their item purchases (turn label to 0's) in training data, save them for testing\n",
    "testing_sample = int(numpy.ceil(0.20*len(nonzero_pairs)))\n",
    "samples = random.sample(nonzero_pairs, testing_sample) # randomly select 20% of user-item pairs\n",
    "user_indices = [index[0] for index in samples] # Get the user row indices\n",
    "item_indices = [index[1] for index in samples] # Get the item column indices\n",
    "training_set[user_indices, item_indices] = 0 # Assign all of the randomly chosen user-item pairs to zero\n",
    "training_set.eliminate_zeros()"
   ]
  },
  {
   "cell_type": "code",
   "execution_count": 13,
   "metadata": {},
   "outputs": [],
   "source": [
    "# store unique list of users saved for testing\n",
    "testing_users = list(set(user_indices))\n",
    "# find unique list of users that were not saved for testing (to be used during training)\n",
    "training_users = list(set(nonzero_indices[0]) - set(testing_users))"
   ]
  },
  {
   "cell_type": "code",
   "execution_count": 14,
   "metadata": {},
   "outputs": [],
   "source": [
    "# identify top items by item index\n",
    "pop_items = data[['item_indices', 'Purchased']]\n",
    "pop_items = pop_items.groupby('item_indices').sum().reset_index()\n",
    "pop_items = pop_items.nlargest(3000, 'Purchased')   # most popular items\n",
    "pop_items = pop_items['item_indices'].to_list()"
   ]
  },
  {
   "cell_type": "markdown",
   "metadata": {},
   "source": [
    "### Training"
   ]
  },
  {
   "cell_type": "code",
   "execution_count": 15,
   "metadata": {},
   "outputs": [
    {
     "name": "stderr",
     "output_type": "stream",
     "text": [
      "WARNING:root:OpenBLAS detected. Its highly recommend to set the environment variable 'export OPENBLAS_NUM_THREADS=1' to disable its internal multithreading\n"
     ]
    },
    {
     "data": {
      "application/vnd.jupyter.widget-view+json": {
       "model_id": "8a1e03ff643c47a58a1f686060494461",
       "version_major": 2,
       "version_minor": 0
      },
      "text/plain": [
       "HBox(children=(FloatProgress(value=0.0, max=50.0), HTML(value='')))"
      ]
     },
     "metadata": {},
     "output_type": "display_data"
    },
    {
     "name": "stdout",
     "output_type": "stream",
     "text": [
      "\n"
     ]
    }
   ],
   "source": [
    "# apply matrix factorization using alternating least squares\n",
    "\n",
    "model = implicit.als.AlternatingLeastSquares(factors=5, regularization=150, iterations=50,num_threads=1,calculate_training_loss=True)\n",
    "alpha_val = 50\n",
    "data_conf = (training_set * alpha_val).astype('double')\n",
    "model.fit(data_conf)"
   ]
  },
  {
   "cell_type": "code",
   "execution_count": 16,
   "metadata": {},
   "outputs": [],
   "source": [
    "# generate predictions for each user-item\n",
    "user_vectors = model.item_factors\n",
    "item_vectors = model.user_factors\n",
    "predictions = [sparse.csr_matrix(user_vectors), sparse.csr_matrix(item_vectors.T)]  # take dot product to get predictions\n",
    "item_vectors = predictions[1]\n",
    "user_vectors = predictions[0]"
   ]
  },
  {
   "cell_type": "code",
   "execution_count": 17,
   "metadata": {},
   "outputs": [],
   "source": [
    "# calculate average prediction score across all user-item pairs\n",
    "dot_prod = predictions[0].dot(item_vectors).toarray().reshape(-1)\n",
    "avg_pred = dot_prod.sum() / dot_prod.size"
   ]
  },
  {
   "cell_type": "code",
   "execution_count": 18,
   "metadata": {},
   "outputs": [
    {
     "name": "stdout",
     "output_type": "stream",
     "text": [
      "mean auc: 0.839772\n",
      "mean recall: 0.833254\n",
      "mean precision: 0.000737\n"
     ]
    }
   ],
   "source": [
    "# training loop\n",
    "# evaluate by mean AUC, mean precision, mean recall\n",
    "\n",
    "top_x_items = int(len(items)*0.20)  # threshold value by which to convert predictions to binary values\n",
    "\n",
    "training_recall = []\n",
    "training_precision = []\n",
    "training_auc = []\n",
    "pred = []\n",
    "actual = []\n",
    "\n",
    "for user in training_users:  # iterate through users who were not saved for training\n",
    "    training_row = training_set[user,:].toarray().reshape(-1)\n",
    "    user_vec = predictions[0][user,:]\n",
    "    pred = user_vec.dot(item_vectors).toarray()[0,:].reshape(-1)\n",
    "    actual = test_set[user,:].toarray()[0,:].reshape(-1)   \n",
    "    fpr, tpr, thresholds = metrics.roc_curve(actual, pred)\n",
    "    training_auc.append(metrics.auc(fpr, tpr))\n",
    "    \n",
    "    pred2 = []\n",
    "    for i in pred:\n",
    "        if i >= avg_pred:\n",
    "            pred2.append(1)\n",
    "        else:\n",
    "            pred2.append(0)\n",
    "    numpy.array(pred2)\n",
    "\n",
    "    # get top x items with highest prediction scores\n",
    "    top_indices = numpy.argsort(pred)[::-1][:top_x_items]   \n",
    "    pred2 = numpy.zeros(actual.shape)\n",
    "    for i in top_indices:    # make top x items 1's and the rest of items as 0's\n",
    "        pred2[i] = 1\n",
    "    pred2 = pred2[:top_x_items]\n",
    "    actual = actual[:top_x_items] \n",
    "    training_recall.append(recall_score(actual,pred2,zero_division=1))\n",
    "    training_precision.append(precision_score(actual,pred2,zero_division=1))\n",
    "\n",
    "print('mean auc: %f'% numpy.mean(training_auc))\n",
    "print('mean recall: %f'% numpy.mean(training_recall))    \n",
    "print('mean precision: %f'% numpy.mean(training_precision))"
   ]
  },
  {
   "cell_type": "markdown",
   "metadata": {},
   "source": [
    "### Testing"
   ]
  },
  {
   "cell_type": "code",
   "execution_count": 19,
   "metadata": {},
   "outputs": [
    {
     "name": "stdout",
     "output_type": "stream",
     "text": [
      "mean auc: 0.723454\n",
      "mean recall: 0.869631\n",
      "mean precision: 0.013576\n"
     ]
    }
   ],
   "source": [
    "# testing loop\n",
    "# evaluate by mean AUC, mean precision, mean recall\n",
    "\n",
    "testing_recall = []\n",
    "testing_precision = []\n",
    "testing_auc = []\n",
    "pred = []\n",
    "actual = []\n",
    "\n",
    "for user in testing_users:  # iterate through users saved for testing\n",
    "    training_row = training_set[user,:].toarray().reshape(-1)\n",
    "    zero_indices = numpy.where(training_row == 0)  # find corresponding items that were masked\n",
    "    user_vec = predictions[0][user,:]\n",
    "    pred = user_vec.dot(item_vectors).toarray()[0,zero_indices].reshape(-1)\n",
    "    actual = test_set[user,:].toarray()[0,zero_indices].reshape(-1) # get actual values from test set\n",
    "    fpr, tpr, thresholds = metrics.roc_curve(actual, pred)\n",
    "    testing_auc.append(metrics.auc(fpr, tpr)) \n",
    "\n",
    "    pred2 = []\n",
    "    for i in pred:\n",
    "        if i >= avg_pred:\n",
    "            pred2.append(1)\n",
    "        else:\n",
    "            pred2.append(0)\n",
    "    numpy.array(pred2)\n",
    "    \n",
    "    # get top x items with highest prediction scores\n",
    "    top_indices = numpy.argsort(pred)[::-1][:top_x_items]   \n",
    "    pred2 = numpy.zeros(actual.shape)\n",
    "    for i in top_indices:    # make top x items 1's and the rest of items as 0's\n",
    "        pred2[i] = 1 \n",
    "    pred2 = pred2[:top_x_items]\n",
    "    actual = actual[:top_x_items]\n",
    "    testing_recall.append(recall_score(actual,pred2,zero_division=1))\n",
    "    testing_precision.append(precision_score(actual,pred2,zero_division=1))\n",
    "\n",
    "print('mean auc: %f'% numpy.mean(testing_auc))\n",
    "print('mean recall: %f'% numpy.mean(testing_recall))    \n",
    "print('mean precision: %f'% numpy.mean(testing_precision))"
   ]
  },
  {
   "cell_type": "markdown",
   "metadata": {},
   "source": [
    "### Predictions"
   ]
  },
  {
   "cell_type": "code",
   "execution_count": 20,
   "metadata": {},
   "outputs": [
    {
     "data": {
      "text/html": [
       "<div>\n",
       "<style scoped>\n",
       "    .dataframe tbody tr th:only-of-type {\n",
       "        vertical-align: middle;\n",
       "    }\n",
       "\n",
       "    .dataframe tbody tr th {\n",
       "        vertical-align: top;\n",
       "    }\n",
       "\n",
       "    .dataframe thead th {\n",
       "        text-align: right;\n",
       "    }\n",
       "</style>\n",
       "<table border=\"1\" class=\"dataframe\">\n",
       "  <thead>\n",
       "    <tr style=\"text-align: right;\">\n",
       "      <th></th>\n",
       "      <th>reviewerID</th>\n",
       "      <th>itemID</th>\n",
       "      <th>reviewer_indices</th>\n",
       "      <th>item_indices</th>\n",
       "    </tr>\n",
       "  </thead>\n",
       "  <tbody>\n",
       "    <tr>\n",
       "      <th>0</th>\n",
       "      <td>U938994110</td>\n",
       "      <td>I529819131</td>\n",
       "      <td>36963.0</td>\n",
       "      <td>10536.0</td>\n",
       "    </tr>\n",
       "    <tr>\n",
       "      <th>1</th>\n",
       "      <td>U181459539</td>\n",
       "      <td>I863471064</td>\n",
       "      <td>7182.0</td>\n",
       "      <td>17192.0</td>\n",
       "    </tr>\n",
       "    <tr>\n",
       "      <th>2</th>\n",
       "      <td>U941668816</td>\n",
       "      <td>I684585522</td>\n",
       "      <td>37055.0</td>\n",
       "      <td>13523.0</td>\n",
       "    </tr>\n",
       "    <tr>\n",
       "      <th>3</th>\n",
       "      <td>U768449391</td>\n",
       "      <td>I782253949</td>\n",
       "      <td>30321.0</td>\n",
       "      <td>15526.0</td>\n",
       "    </tr>\n",
       "    <tr>\n",
       "      <th>4</th>\n",
       "      <td>U640450168</td>\n",
       "      <td>I232683472</td>\n",
       "      <td>25359.0</td>\n",
       "      <td>4545.0</td>\n",
       "    </tr>\n",
       "  </tbody>\n",
       "</table>\n",
       "</div>"
      ],
      "text/plain": [
       "   reviewerID      itemID  reviewer_indices  item_indices\n",
       "0  U938994110  I529819131           36963.0       10536.0\n",
       "1  U181459539  I863471064            7182.0       17192.0\n",
       "2  U941668816  I684585522           37055.0       13523.0\n",
       "3  U768449391  I782253949           30321.0       15526.0\n",
       "4  U640450168  I232683472           25359.0        4545.0"
      ]
     },
     "execution_count": 20,
     "metadata": {},
     "output_type": "execute_result"
    }
   ],
   "source": [
    "# upload the test data\n",
    "test_data = pd.read_csv(\"/Users/dipali/Desktop/CMU MSBA/machine_learning_2/final_project/pairs_Purchase.txt\")\n",
    "test_data = pd.DataFrame(test_data['reviewerID-itemID'].str.split(\"-\",expand=True))\n",
    "test_data.columns = 'reviewerID', 'itemID'\n",
    "\n",
    "# find corresponding item and reviewer indices which were determined earlier\n",
    "data2 = data.drop(columns = ['itemID', 'Purchased', 'item_indices'])\n",
    "data2 = data2.drop_duplicates()\n",
    "data3 = data.drop(columns = ['reviewerID', 'Purchased', 'reviewer_indices'])\n",
    "data3 = data3.drop_duplicates()\n",
    "\n",
    "# one dataframe of test set with reviewerid, itemid, and indices\n",
    "test_data = test_data[['reviewerID', 'itemID']].merge(data2[['reviewerID', 'reviewer_indices']], on='reviewerID', how='left')\n",
    "test_data = test_data[['reviewerID', 'itemID', 'reviewer_indices']].merge(data3[['itemID', 'item_indices']], on='itemID', how='left')\n",
    "\n",
    "# if NaN (reviewer or item did not exist in the test set), assign them to a random value: '123456'\n",
    "test_data[\"reviewer_indices\"] = test_data[\"reviewer_indices\"].fillna(123456)\n",
    "test_data[\"item_indices\"] = test_data[\"item_indices\"].fillna(123456)\n",
    "\n",
    "test_data.head(5)"
   ]
  },
  {
   "cell_type": "code",
   "execution_count": 22,
   "metadata": {},
   "outputs": [],
   "source": [
    "# generate predictions\n",
    "# 2 methods: 1) for users who do not exist in test set, set all their predictions to 0 OR 2) set their prediction to 1 if item is among most popular\n",
    "# method 1 yielded better results, so method 2 is commented out below\n",
    "\n",
    "test_pred_boolean = []  # prediction values (0 or 1)\n",
    "test_pred = []          # interaction score (dot product between user vec and item vec)\n",
    "test_user_item_indices = list(zip(test_data['reviewer_indices'],test_data['item_indices']))\n",
    "\n",
    "for user, item in test_user_item_indices:\n",
    "    if int(user) == 123456:  # for users who did not exist in test set (101 users), set prediction to 1 if item is among most popular\n",
    "        if int(item) in pop_items:\n",
    "            test_pred_boolean.append(1)\n",
    "            test_pred.append(0)\n",
    "        else:\n",
    "            test_pred_boolean.append(0)\n",
    "            test_pred.append(0)\n",
    "    elif int(item) == 123456:   # if item did not exist in the test set, set prediction to 0 (there's only 3 such cases)\n",
    "        test_pred_boolean.append(0)\n",
    "        test_pred.append(0)\n",
    "    else:                      # if user or item did exist in test set...\n",
    "        user_vec = predictions[0][int(user),:]\n",
    "        pred = user_vec.dot(item_vectors).toarray().reshape(-1)\n",
    "        test_pred.append(pred[int(item)])  # generate interaction score\n",
    "        \n",
    "        top_indices = numpy.argsort(pred)[::-1][:top_x_items]   # get top x% items with highest interaction scores\n",
    "        pred2 = numpy.zeros(pred.shape)\n",
    "        for i in top_indices:\n",
    "            pred2[i] = 1\n",
    "        test_pred_boolean.append(pred2[int(item)])  # generate 1's and 0's"
   ]
  },
  {
   "cell_type": "code",
   "execution_count": 23,
   "metadata": {},
   "outputs": [
    {
     "data": {
      "text/plain": [
       "28000"
      ]
     },
     "execution_count": 23,
     "metadata": {},
     "output_type": "execute_result"
    }
   ],
   "source": [
    "len(test_pred)"
   ]
  },
  {
   "cell_type": "code",
   "execution_count": 24,
   "metadata": {},
   "outputs": [
    {
     "data": {
      "text/plain": [
       "28000"
      ]
     },
     "execution_count": 24,
     "metadata": {},
     "output_type": "execute_result"
    }
   ],
   "source": [
    "len(test_pred_boolean)"
   ]
  },
  {
   "cell_type": "code",
   "execution_count": 25,
   "metadata": {},
   "outputs": [
    {
     "data": {
      "text/html": [
       "<div>\n",
       "<style scoped>\n",
       "    .dataframe tbody tr th:only-of-type {\n",
       "        vertical-align: middle;\n",
       "    }\n",
       "\n",
       "    .dataframe tbody tr th {\n",
       "        vertical-align: top;\n",
       "    }\n",
       "\n",
       "    .dataframe thead th {\n",
       "        text-align: right;\n",
       "    }\n",
       "</style>\n",
       "<table border=\"1\" class=\"dataframe\">\n",
       "  <thead>\n",
       "    <tr style=\"text-align: right;\">\n",
       "      <th></th>\n",
       "      <th>reviewerID</th>\n",
       "      <th>itemID</th>\n",
       "      <th>reviewer_indices</th>\n",
       "      <th>item_indices</th>\n",
       "      <th>prediction</th>\n",
       "      <th>interaction_score</th>\n",
       "    </tr>\n",
       "  </thead>\n",
       "  <tbody>\n",
       "    <tr>\n",
       "      <th>0</th>\n",
       "      <td>U938994110</td>\n",
       "      <td>I529819131</td>\n",
       "      <td>36963.0</td>\n",
       "      <td>10536.0</td>\n",
       "      <td>1</td>\n",
       "      <td>0.006823</td>\n",
       "    </tr>\n",
       "    <tr>\n",
       "      <th>1</th>\n",
       "      <td>U181459539</td>\n",
       "      <td>I863471064</td>\n",
       "      <td>7182.0</td>\n",
       "      <td>17192.0</td>\n",
       "      <td>1</td>\n",
       "      <td>0.016707</td>\n",
       "    </tr>\n",
       "    <tr>\n",
       "      <th>2</th>\n",
       "      <td>U941668816</td>\n",
       "      <td>I684585522</td>\n",
       "      <td>37055.0</td>\n",
       "      <td>13523.0</td>\n",
       "      <td>0</td>\n",
       "      <td>0.000161</td>\n",
       "    </tr>\n",
       "    <tr>\n",
       "      <th>3</th>\n",
       "      <td>U768449391</td>\n",
       "      <td>I782253949</td>\n",
       "      <td>30321.0</td>\n",
       "      <td>15526.0</td>\n",
       "      <td>0</td>\n",
       "      <td>0.013550</td>\n",
       "    </tr>\n",
       "    <tr>\n",
       "      <th>4</th>\n",
       "      <td>U640450168</td>\n",
       "      <td>I232683472</td>\n",
       "      <td>25359.0</td>\n",
       "      <td>4545.0</td>\n",
       "      <td>1</td>\n",
       "      <td>0.085687</td>\n",
       "    </tr>\n",
       "    <tr>\n",
       "      <th>5</th>\n",
       "      <td>U087574132</td>\n",
       "      <td>I014281144</td>\n",
       "      <td>3461.0</td>\n",
       "      <td>266.0</td>\n",
       "      <td>0</td>\n",
       "      <td>0.000731</td>\n",
       "    </tr>\n",
       "    <tr>\n",
       "      <th>6</th>\n",
       "      <td>U885457860</td>\n",
       "      <td>I600866492</td>\n",
       "      <td>34834.0</td>\n",
       "      <td>11915.0</td>\n",
       "      <td>1</td>\n",
       "      <td>0.002472</td>\n",
       "    </tr>\n",
       "    <tr>\n",
       "      <th>7</th>\n",
       "      <td>U319023404</td>\n",
       "      <td>I050733439</td>\n",
       "      <td>12557.0</td>\n",
       "      <td>975.0</td>\n",
       "      <td>1</td>\n",
       "      <td>0.031027</td>\n",
       "    </tr>\n",
       "    <tr>\n",
       "      <th>8</th>\n",
       "      <td>U535965656</td>\n",
       "      <td>I929867818</td>\n",
       "      <td>21135.0</td>\n",
       "      <td>18522.0</td>\n",
       "      <td>0</td>\n",
       "      <td>0.002509</td>\n",
       "    </tr>\n",
       "    <tr>\n",
       "      <th>9</th>\n",
       "      <td>U883645154</td>\n",
       "      <td>I158444048</td>\n",
       "      <td>34761.0</td>\n",
       "      <td>3106.0</td>\n",
       "      <td>0</td>\n",
       "      <td>0.010048</td>\n",
       "    </tr>\n",
       "  </tbody>\n",
       "</table>\n",
       "</div>"
      ],
      "text/plain": [
       "   reviewerID      itemID  reviewer_indices  item_indices  prediction  \\\n",
       "0  U938994110  I529819131           36963.0       10536.0           1   \n",
       "1  U181459539  I863471064            7182.0       17192.0           1   \n",
       "2  U941668816  I684585522           37055.0       13523.0           0   \n",
       "3  U768449391  I782253949           30321.0       15526.0           0   \n",
       "4  U640450168  I232683472           25359.0        4545.0           1   \n",
       "5  U087574132  I014281144            3461.0         266.0           0   \n",
       "6  U885457860  I600866492           34834.0       11915.0           1   \n",
       "7  U319023404  I050733439           12557.0         975.0           1   \n",
       "8  U535965656  I929867818           21135.0       18522.0           0   \n",
       "9  U883645154  I158444048           34761.0        3106.0           0   \n",
       "\n",
       "   interaction_score  \n",
       "0           0.006823  \n",
       "1           0.016707  \n",
       "2           0.000161  \n",
       "3           0.013550  \n",
       "4           0.085687  \n",
       "5           0.000731  \n",
       "6           0.002472  \n",
       "7           0.031027  \n",
       "8           0.002509  \n",
       "9           0.010048  "
      ]
     },
     "execution_count": 25,
     "metadata": {},
     "output_type": "execute_result"
    }
   ],
   "source": [
    "# insert predictions and interaction scores into dataframe\n",
    "test_data['prediction'] = numpy.array(test_pred_boolean,dtype=int)\n",
    "test_data['interaction_score'] = numpy.array(test_pred)\n",
    "\n",
    "test_data.head(10)"
   ]
  },
  {
   "cell_type": "code",
   "execution_count": 26,
   "metadata": {},
   "outputs": [
    {
     "name": "stderr",
     "output_type": "stream",
     "text": [
      "/Users/dipali/miniconda3/envs/d2l/lib/python3.7/site-packages/ipykernel_launcher.py:4: SettingWithCopyWarning: \n",
      "A value is trying to be set on a copy of a slice from a DataFrame\n",
      "\n",
      "See the caveats in the documentation: https://pandas.pydata.org/pandas-docs/stable/user_guide/indexing.html#returning-a-view-versus-a-copy\n",
      "  after removing the cwd from sys.path.\n"
     ]
    }
   ],
   "source": [
    "# if interaction score is >= avg interaction score, set prediction to 1\n",
    "avg_pred = sum(test_pred) / len(test_pred)\n",
    "mask = test_data['interaction_score'] >= avg_pred\n",
    "test_data['prediction'][mask] = 1"
   ]
  },
  {
   "cell_type": "code",
   "execution_count": 27,
   "metadata": {},
   "outputs": [
    {
     "data": {
      "text/html": [
       "<div>\n",
       "<style scoped>\n",
       "    .dataframe tbody tr th:only-of-type {\n",
       "        vertical-align: middle;\n",
       "    }\n",
       "\n",
       "    .dataframe tbody tr th {\n",
       "        vertical-align: top;\n",
       "    }\n",
       "\n",
       "    .dataframe thead th {\n",
       "        text-align: right;\n",
       "    }\n",
       "</style>\n",
       "<table border=\"1\" class=\"dataframe\">\n",
       "  <thead>\n",
       "    <tr style=\"text-align: right;\">\n",
       "      <th></th>\n",
       "      <th>reviewerID-itemID</th>\n",
       "      <th>prediction</th>\n",
       "    </tr>\n",
       "  </thead>\n",
       "  <tbody>\n",
       "    <tr>\n",
       "      <th>0</th>\n",
       "      <td>U938994110-I529819131</td>\n",
       "      <td>1</td>\n",
       "    </tr>\n",
       "    <tr>\n",
       "      <th>1</th>\n",
       "      <td>U181459539-I863471064</td>\n",
       "      <td>1</td>\n",
       "    </tr>\n",
       "    <tr>\n",
       "      <th>2</th>\n",
       "      <td>U941668816-I684585522</td>\n",
       "      <td>0</td>\n",
       "    </tr>\n",
       "    <tr>\n",
       "      <th>3</th>\n",
       "      <td>U768449391-I782253949</td>\n",
       "      <td>0</td>\n",
       "    </tr>\n",
       "    <tr>\n",
       "      <th>4</th>\n",
       "      <td>U640450168-I232683472</td>\n",
       "      <td>1</td>\n",
       "    </tr>\n",
       "  </tbody>\n",
       "</table>\n",
       "</div>"
      ],
      "text/plain": [
       "       reviewerID-itemID  prediction\n",
       "0  U938994110-I529819131           1\n",
       "1  U181459539-I863471064           1\n",
       "2  U941668816-I684585522           0\n",
       "3  U768449391-I782253949           0\n",
       "4  U640450168-I232683472           1"
      ]
     },
     "execution_count": 27,
     "metadata": {},
     "output_type": "execute_result"
    }
   ],
   "source": [
    "# prepare dataframe to match format for kaggle submission\n",
    "test_data['reviewerID-itemID'] = test_data['reviewerID'] + \"-\" + test_data['itemID']\n",
    "predictions_upload = test_data[['reviewerID-itemID', 'prediction']]\n",
    "predictions_upload.head(5)"
   ]
  },
  {
   "cell_type": "code",
   "execution_count": 28,
   "metadata": {},
   "outputs": [
    {
     "data": {
      "text/html": [
       "<div>\n",
       "<style scoped>\n",
       "    .dataframe tbody tr th:only-of-type {\n",
       "        vertical-align: middle;\n",
       "    }\n",
       "\n",
       "    .dataframe tbody tr th {\n",
       "        vertical-align: top;\n",
       "    }\n",
       "\n",
       "    .dataframe thead th {\n",
       "        text-align: right;\n",
       "    }\n",
       "</style>\n",
       "<table border=\"1\" class=\"dataframe\">\n",
       "  <thead>\n",
       "    <tr style=\"text-align: right;\">\n",
       "      <th></th>\n",
       "      <th>reviewerID-itemID</th>\n",
       "    </tr>\n",
       "    <tr>\n",
       "      <th>prediction</th>\n",
       "      <th></th>\n",
       "    </tr>\n",
       "  </thead>\n",
       "  <tbody>\n",
       "    <tr>\n",
       "      <th>0</th>\n",
       "      <td>17467</td>\n",
       "    </tr>\n",
       "    <tr>\n",
       "      <th>1</th>\n",
       "      <td>10533</td>\n",
       "    </tr>\n",
       "  </tbody>\n",
       "</table>\n",
       "</div>"
      ],
      "text/plain": [
       "            reviewerID-itemID\n",
       "prediction                   \n",
       "0                       17467\n",
       "1                       10533"
      ]
     },
     "execution_count": 28,
     "metadata": {},
     "output_type": "execute_result"
    }
   ],
   "source": [
    "predictions_upload.groupby('prediction').count()"
   ]
  },
  {
   "cell_type": "code",
   "execution_count": 29,
   "metadata": {},
   "outputs": [],
   "source": [
    "# export prediction file for submission\n",
    "\n",
    "path = \"/Users/dipali/Desktop/CMU MSBA/machine_learning_2/final_project/\"\n",
    "\n",
    "predictions_upload.to_csv(path+\"predictions_test.txt\", index=False, header=True, line_terminator=\"\\n\", sep=\",\")"
   ]
  }
 ],
 "metadata": {
  "colab": {
   "collapsed_sections": [],
   "name": "Purchase_Prediction.ipynb",
   "provenance": []
  },
  "kernelspec": {
   "display_name": "Python 3",
   "language": "python",
   "name": "python3"
  },
  "language_info": {
   "codemirror_mode": {
    "name": "ipython",
    "version": 3
   },
   "file_extension": ".py",
   "mimetype": "text/x-python",
   "name": "python",
   "nbconvert_exporter": "python",
   "pygments_lexer": "ipython3",
   "version": "3.7.7"
  }
 },
 "nbformat": 4,
 "nbformat_minor": 1
}
