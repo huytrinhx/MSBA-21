{
 "cells": [
  {
   "cell_type": "code",
   "execution_count": 143,
   "metadata": {},
   "outputs": [
    {
     "name": "stdout",
     "output_type": "stream",
     "text": [
      "Requirement already satisfied: matplotlib in ./lib/python3.6/site-packages (3.2.2)\n",
      "Requirement already satisfied: pyparsing!=2.0.4,!=2.1.2,!=2.1.6,>=2.0.1 in ./lib/python3.6/site-packages (from matplotlib) (2.4.7)\n",
      "Requirement already satisfied: numpy>=1.11 in ./lib/python3.6/site-packages (from matplotlib) (1.19.0)\n",
      "Requirement already satisfied: cycler>=0.10 in ./lib/python3.6/site-packages (from matplotlib) (0.10.0)\n",
      "Requirement already satisfied: python-dateutil>=2.1 in ./lib/python3.6/site-packages (from matplotlib) (2.8.1)\n",
      "Requirement already satisfied: kiwisolver>=1.0.1 in ./lib/python3.6/site-packages (from matplotlib) (1.2.0)\n",
      "Requirement already satisfied: six in ./lib/python3.6/site-packages (from cycler>=0.10->matplotlib) (1.15.0)\n",
      "Collecting sklearn\n",
      "  Downloading sklearn-0.0.tar.gz (1.1 kB)\n",
      "Collecting scikit-learn\n",
      "  Downloading scikit_learn-0.23.1-cp36-cp36m-manylinux1_x86_64.whl (6.8 MB)\n",
      "\u001b[K     |████████████████████████████████| 6.8 MB 2.8 MB/s eta 0:00:01\n",
      "\u001b[?25hCollecting joblib>=0.11\n",
      "  Downloading joblib-0.15.1-py3-none-any.whl (298 kB)\n",
      "\u001b[K     |████████████████████████████████| 298 kB 15.5 MB/s eta 0:00:01\n",
      "\u001b[?25hCollecting threadpoolctl>=2.0.0\n",
      "  Downloading threadpoolctl-2.1.0-py3-none-any.whl (12 kB)\n",
      "Requirement already satisfied: scipy>=0.19.1 in ./lib/python3.6/site-packages (from scikit-learn->sklearn) (1.5.0)\n",
      "Requirement already satisfied: numpy>=1.13.3 in ./lib/python3.6/site-packages (from scikit-learn->sklearn) (1.19.0)\n",
      "Building wheels for collected packages: sklearn\n",
      "  Building wheel for sklearn (setup.py) ... \u001b[?25ldone\n",
      "\u001b[?25h  Created wheel for sklearn: filename=sklearn-0.0-py2.py3-none-any.whl size=1315 sha256=6d8b5ae3ca42bcdce5245cbee23e4a70fe072d7b5967628e19a39e05dd31c71f\n",
      "  Stored in directory: /home/flagg/.cache/pip/wheels/23/9d/42/5ec745cbbb17517000a53cecc49d6a865450d1f5cb16dc8a9c\n",
      "Successfully built sklearn\n",
      "Installing collected packages: joblib, threadpoolctl, scikit-learn, sklearn\n",
      "Successfully installed joblib-0.15.1 scikit-learn-0.23.1 sklearn-0.0 threadpoolctl-2.1.0\n"
     ]
    }
   ],
   "source": [
    "!pip3 install matplotlib\n",
    "!pip3 install sklearn"
   ]
  },
  {
   "cell_type": "code",
   "execution_count": 136,
   "metadata": {},
   "outputs": [],
   "source": [
    "import time\n",
    "import numpy as np\n",
    "import pandas as pd\n",
    "import turicreate as tc\n",
    "import matplotlib.pyplot as plt\n",
    "tc??"
   ]
  },
  {
   "cell_type": "markdown",
   "metadata": {},
   "source": [
    "### data exploration"
   ]
  },
  {
   "cell_type": "code",
   "execution_count": 10,
   "metadata": {},
   "outputs": [
    {
     "name": "stdout",
     "output_type": "stream",
     "text": [
      "unique reviewers: 39239 \n",
      "unique items: \t  19914\n",
      "num_ratings: \t  200000   \n",
      "rating sparcity:  0.99974\n",
      "\n"
     ]
    },
    {
     "data": {
      "image/png": "[encoded data removed]",
      "text/plain": [
       "<Figure size 432x288 with 1 Axes>"
      ]
     },
     "metadata": {
      "needs_background": "light"
     },
     "output_type": "display_data"
    }
   ],
   "source": [
    "data = pd.read_csv(\"train_tab_delimited.txt\", sep='\\t')\n",
    "\n",
    "# print some structure details\n",
    "num_reviewers = data['reviewerID'].unique().shape[0]\n",
    "num_items = data['itemID'].unique().shape[0]\n",
    "num_ratings = len(data)\n",
    "sparsity = 1 - num_ratings / (num_reviewers * num_items)\n",
    "print(\"unique reviewers: {} \\nunique items: \\t  {}\\nnum_ratings: \\t  {}   \\nrating sparcity:  {}\\n\".format(\n",
    "    num_reviewers, \n",
    "    num_items, \n",
    "    num_ratings, \n",
    "    round(sparsity, 5))) # note, the data is extremely sparse\n",
    "\n",
    "# display distribution of ratings, it is bias toward higher ratings\n",
    "plt.hist(data['rating'], bins=5, ec='black')\n",
    "plt.xlabel('Rating')\n",
    "plt.ylabel('Count')\n",
    "plt.title('Distribution of Item Ratings')\n",
    "plt.show()"
   ]
  },
  {
   "cell_type": "code",
   "execution_count": 137,
   "metadata": {},
   "outputs": [
    {
     "data": {
      "text/html": [
       "<div>\n",
       "<style scoped>\n",
       "    .dataframe tbody tr th:only-of-type {\n",
       "        vertical-align: middle;\n",
       "    }\n",
       "\n",
       "    .dataframe tbody tr th {\n",
       "        vertical-align: top;\n",
       "    }\n",
       "\n",
       "    .dataframe thead th {\n",
       "        text-align: right;\n",
       "    }\n",
       "</style>\n",
       "<table border=\"1\" class=\"dataframe\">\n",
       "  <thead>\n",
       "    <tr style=\"text-align: right;\">\n",
       "      <th></th>\n",
       "      <th>reviewTime</th>\n",
       "      <th>reviewText</th>\n",
       "      <th>helpful_ratio</th>\n",
       "      <th>helpful</th>\n",
       "      <th>helpful_outOf</th>\n",
       "      <th>reviewerID</th>\n",
       "      <th>reviewHash</th>\n",
       "      <th>categories</th>\n",
       "      <th>unixReviewTime</th>\n",
       "      <th>itemID</th>\n",
       "      <th>price</th>\n",
       "      <th>rating</th>\n",
       "      <th>summary</th>\n",
       "      <th>categoryID</th>\n",
       "    </tr>\n",
       "  </thead>\n",
       "  <tbody>\n",
       "    <tr>\n",
       "      <th>0</th>\n",
       "      <td>12, 12, 2012</td>\n",
       "      <td>\"I was a little afraid to get since the price ...</td>\n",
       "      <td>-1.0</td>\n",
       "      <td>0</td>\n",
       "      <td>0</td>\n",
       "      <td>U829827806</td>\n",
       "      <td>R363782763</td>\n",
       "      <td>[['Clothing, Shoes &amp; Jewelry', 'Women'], ['Clo...</td>\n",
       "      <td>1355270400</td>\n",
       "      <td>I999917660</td>\n",
       "      <td>0.24</td>\n",
       "      <td>5</td>\n",
       "      <td>Awesome</td>\n",
       "      <td>0</td>\n",
       "    </tr>\n",
       "    <tr>\n",
       "      <th>1</th>\n",
       "      <td>02, 6, 2013</td>\n",
       "      <td>\"I wear this at zumba ..in the summer months.....</td>\n",
       "      <td>-1.0</td>\n",
       "      <td>0</td>\n",
       "      <td>0</td>\n",
       "      <td>U183746108</td>\n",
       "      <td>R127989112</td>\n",
       "      <td>[['Clothing, Shoes &amp; Jewelry', 'Women'], ['Clo...</td>\n",
       "      <td>1360108800</td>\n",
       "      <td>I999917660</td>\n",
       "      <td>0.24</td>\n",
       "      <td>5</td>\n",
       "      <td>scarf</td>\n",
       "      <td>0</td>\n",
       "    </tr>\n",
       "    <tr>\n",
       "      <th>2</th>\n",
       "      <td>01, 14, 2013</td>\n",
       "      <td>\"I bought this scarf for my Zumba classes. It ...</td>\n",
       "      <td>-1.0</td>\n",
       "      <td>0</td>\n",
       "      <td>0</td>\n",
       "      <td>U146313905</td>\n",
       "      <td>R683302492</td>\n",
       "      <td>[['Clothing, Shoes &amp; Jewelry', 'Women'], ['Clo...</td>\n",
       "      <td>1358121600</td>\n",
       "      <td>I999917660</td>\n",
       "      <td>0.24</td>\n",
       "      <td>5</td>\n",
       "      <td>Cute Scarf</td>\n",
       "      <td>0</td>\n",
       "    </tr>\n",
       "    <tr>\n",
       "      <th>3</th>\n",
       "      <td>08, 4, 2013</td>\n",
       "      <td>\"The belly dance hip scarf is beautiful, well ...</td>\n",
       "      <td>1.0</td>\n",
       "      <td>4</td>\n",
       "      <td>4</td>\n",
       "      <td>U888802715</td>\n",
       "      <td>R449569320</td>\n",
       "      <td>[['Clothing, Shoes &amp; Jewelry', 'Women'], ['Clo...</td>\n",
       "      <td>1375574400</td>\n",
       "      <td>I999917660</td>\n",
       "      <td>0.24</td>\n",
       "      <td>3</td>\n",
       "      <td>Beautiful but stinky</td>\n",
       "      <td>0</td>\n",
       "    </tr>\n",
       "    <tr>\n",
       "      <th>4</th>\n",
       "      <td>11, 23, 2013</td>\n",
       "      <td>\"This is extremely beautiful and make a lot of...</td>\n",
       "      <td>-1.0</td>\n",
       "      <td>0</td>\n",
       "      <td>0</td>\n",
       "      <td>U935282947</td>\n",
       "      <td>R198932892</td>\n",
       "      <td>[['Clothing, Shoes &amp; Jewelry', 'Women'], ['Clo...</td>\n",
       "      <td>1385164800</td>\n",
       "      <td>I999917660</td>\n",
       "      <td>0.24</td>\n",
       "      <td>5</td>\n",
       "      <td>Belly Lady waist scarf</td>\n",
       "      <td>0</td>\n",
       "    </tr>\n",
       "  </tbody>\n",
       "</table>\n",
       "</div>"
      ],
      "text/plain": [
       "     reviewTime                                         reviewText  \\\n",
       "0  12, 12, 2012  \"I was a little afraid to get since the price ...   \n",
       "1   02, 6, 2013  \"I wear this at zumba ..in the summer months.....   \n",
       "2  01, 14, 2013  \"I bought this scarf for my Zumba classes. It ...   \n",
       "3   08, 4, 2013  \"The belly dance hip scarf is beautiful, well ...   \n",
       "4  11, 23, 2013  \"This is extremely beautiful and make a lot of...   \n",
       "\n",
       "   helpful_ratio  helpful  helpful_outOf  reviewerID  reviewHash  \\\n",
       "0           -1.0        0              0  U829827806  R363782763   \n",
       "1           -1.0        0              0  U183746108  R127989112   \n",
       "2           -1.0        0              0  U146313905  R683302492   \n",
       "3            1.0        4              4  U888802715  R449569320   \n",
       "4           -1.0        0              0  U935282947  R198932892   \n",
       "\n",
       "                                          categories  unixReviewTime  \\\n",
       "0  [['Clothing, Shoes & Jewelry', 'Women'], ['Clo...      1355270400   \n",
       "1  [['Clothing, Shoes & Jewelry', 'Women'], ['Clo...      1360108800   \n",
       "2  [['Clothing, Shoes & Jewelry', 'Women'], ['Clo...      1358121600   \n",
       "3  [['Clothing, Shoes & Jewelry', 'Women'], ['Clo...      1375574400   \n",
       "4  [['Clothing, Shoes & Jewelry', 'Women'], ['Clo...      1385164800   \n",
       "\n",
       "       itemID  price  rating                  summary  categoryID  \n",
       "0  I999917660   0.24       5                 Awesome            0  \n",
       "1  I999917660   0.24       5                   scarf            0  \n",
       "2  I999917660   0.24       5              Cute Scarf            0  \n",
       "3  I999917660   0.24       3    Beautiful but stinky            0  \n",
       "4  I999917660   0.24       5  Belly Lady waist scarf            0  "
      ]
     },
     "execution_count": 137,
     "metadata": {},
     "output_type": "execute_result"
    }
   ],
   "source": [
    "data.head(5)"
   ]
  },
  {
   "cell_type": "markdown",
   "metadata": {},
   "source": [
    "### create sparse array"
   ]
  },
  {
   "cell_type": "code",
   "execution_count": 138,
   "metadata": {},
   "outputs": [
    {
     "name": "stdout",
     "output_type": "stream",
     "text": [
      "time to execute: 31.765388250350952\n"
     ]
    }
   ],
   "source": [
    "start = time.time()\n",
    "\n",
    "# generate list of numeric id mappings for item ids values\n",
    "unique_items = data['itemID'].unique()\n",
    "item_ids = np.arange(len(unique_items)).astype('float32')\n",
    "item_dict = dict(zip(unique_items, item_ids))\n",
    "len(item_dict)\n",
    "\n",
    "cols = []\n",
    "for i, j in data.iterrows():\n",
    "    itemID = data['itemID'][i]\n",
    "    cols.append(item_dict[itemID])\n",
    "\n",
    "# generate list of numeric id mappings for reviewer ids values\n",
    "unique_reviewers = data['reviewerID'].unique()\n",
    "reviewer_ids = np.arange(len(unique_reviewers)).astype('float32')\n",
    "reviewer_dict = dict(zip(unique_reviewers, reviewer_ids))\n",
    "len(reviewer_dict)\n",
    "\n",
    "rows = []\n",
    "for i, j in data.iterrows():\n",
    "    reviewer_id = data['reviewerID'][i]\n",
    "    rows.append(reviewer_dict[reviewer_id])\n",
    "    \n",
    "end = time.time()\n",
    "print(\"time to execute: {}\".format(end-start))\n",
    "\n",
    "# get list of rating values\n",
    "ratings = data['rating'].astype('float32').tolist()"
   ]
  },
  {
   "cell_type": "code",
   "execution_count": 139,
   "metadata": {},
   "outputs": [
    {
     "data": {
      "text/html": [
       "<div>\n",
       "<style scoped>\n",
       "    .dataframe tbody tr th:only-of-type {\n",
       "        vertical-align: middle;\n",
       "    }\n",
       "\n",
       "    .dataframe tbody tr th {\n",
       "        vertical-align: top;\n",
       "    }\n",
       "\n",
       "    .dataframe thead th {\n",
       "        text-align: right;\n",
       "    }\n",
       "</style>\n",
       "<table border=\"1\" class=\"dataframe\">\n",
       "  <thead>\n",
       "    <tr style=\"text-align: right;\">\n",
       "      <th></th>\n",
       "      <th>0</th>\n",
       "      <th>1</th>\n",
       "      <th>2</th>\n",
       "    </tr>\n",
       "  </thead>\n",
       "  <tbody>\n",
       "    <tr>\n",
       "      <th>0</th>\n",
       "      <td>0.0</td>\n",
       "      <td>0.0</td>\n",
       "      <td>5.0</td>\n",
       "    </tr>\n",
       "    <tr>\n",
       "      <th>1</th>\n",
       "      <td>1.0</td>\n",
       "      <td>0.0</td>\n",
       "      <td>5.0</td>\n",
       "    </tr>\n",
       "    <tr>\n",
       "      <th>2</th>\n",
       "      <td>2.0</td>\n",
       "      <td>0.0</td>\n",
       "      <td>5.0</td>\n",
       "    </tr>\n",
       "    <tr>\n",
       "      <th>3</th>\n",
       "      <td>3.0</td>\n",
       "      <td>0.0</td>\n",
       "      <td>3.0</td>\n",
       "    </tr>\n",
       "    <tr>\n",
       "      <th>4</th>\n",
       "      <td>4.0</td>\n",
       "      <td>0.0</td>\n",
       "      <td>5.0</td>\n",
       "    </tr>\n",
       "    <tr>\n",
       "      <th>...</th>\n",
       "      <td>...</td>\n",
       "      <td>...</td>\n",
       "      <td>...</td>\n",
       "    </tr>\n",
       "    <tr>\n",
       "      <th>95</th>\n",
       "      <td>95.0</td>\n",
       "      <td>7.0</td>\n",
       "      <td>5.0</td>\n",
       "    </tr>\n",
       "    <tr>\n",
       "      <th>96</th>\n",
       "      <td>96.0</td>\n",
       "      <td>8.0</td>\n",
       "      <td>5.0</td>\n",
       "    </tr>\n",
       "    <tr>\n",
       "      <th>97</th>\n",
       "      <td>97.0</td>\n",
       "      <td>8.0</td>\n",
       "      <td>4.0</td>\n",
       "    </tr>\n",
       "    <tr>\n",
       "      <th>98</th>\n",
       "      <td>98.0</td>\n",
       "      <td>8.0</td>\n",
       "      <td>4.0</td>\n",
       "    </tr>\n",
       "    <tr>\n",
       "      <th>99</th>\n",
       "      <td>99.0</td>\n",
       "      <td>8.0</td>\n",
       "      <td>5.0</td>\n",
       "    </tr>\n",
       "  </tbody>\n",
       "</table>\n",
       "<p>100 rows × 3 columns</p>\n",
       "</div>"
      ],
      "text/plain": [
       "       0    1    2\n",
       "0    0.0  0.0  5.0\n",
       "1    1.0  0.0  5.0\n",
       "2    2.0  0.0  5.0\n",
       "3    3.0  0.0  3.0\n",
       "4    4.0  0.0  5.0\n",
       "..   ...  ...  ...\n",
       "95  95.0  7.0  5.0\n",
       "96  96.0  8.0  5.0\n",
       "97  97.0  8.0  4.0\n",
       "98  98.0  8.0  4.0\n",
       "99  99.0  8.0  5.0\n",
       "\n",
       "[100 rows x 3 columns]"
      ]
     },
     "execution_count": 139,
     "metadata": {},
     "output_type": "execute_result"
    }
   ],
   "source": [
    "replaced_df = pd.DataFrame(zip(rows, cols, ratings))\n",
    "replaced_df.head(100)"
   ]
  },
  {
   "cell_type": "code",
   "execution_count": 140,
   "metadata": {},
   "outputs": [],
   "source": [
    "from scipy import sparse\n",
    "replaced_df.columns = ['user_index', 'item_index', 'rating']\n",
    "matrix = replaced_df.pivot(index='user_index', columns='item_index', values='rating')\n",
    "matrix = matrix.fillna(0)\n",
    "user_item_matrix = sparse.csr_matrix(matrix.values)"
   ]
  },
  {
   "cell_type": "code",
   "execution_count": 141,
   "metadata": {},
   "outputs": [
    {
     "data": {
      "text/plain": [
       "[((0, 0), 5.0),\n",
       " ((0, 4125), 5.0),\n",
       " ((0, 13460), 5.0),\n",
       " ((0, 16465), 5.0),\n",
       " ((1, 0), 5.0),\n",
       " ((1, 5039), 5.0),\n",
       " ((1, 11725), 5.0),\n",
       " ((1, 18240), 5.0),\n",
       " ((1, 19486), 3.0),\n",
       " ((2, 0), 5.0),\n",
       " ((2, 6229), 4.0),\n",
       " ((2, 8873), 5.0),\n",
       " ((2, 19486), 5.0),\n",
       " ((3, 0), 3.0),\n",
       " ((3, 6348), 5.0),\n",
       " ((3, 11842), 5.0),\n",
       " ((3, 14755), 4.0),\n",
       " ((3, 16461), 5.0),\n",
       " ((4, 0), 5.0),\n",
       " ((4, 732), 5.0),\n",
       " ((4, 6820), 1.0),\n",
       " ((4, 15792), 5.0),\n",
       " ((5, 0), 5.0),\n",
       " ((5, 5664), 1.0),\n",
       " ((5, 7791), 5.0),\n",
       " ((5, 8876), 3.0),\n",
       " ((5, 8946), 5.0),\n",
       " ((5, 10322), 4.0),\n",
       " ((5, 14531), 4.0),\n",
       " ((5, 16570), 5.0),\n",
       " ((5, 18374), 4.0),\n",
       " ((6, 0), 5.0),\n",
       " ((6, 5954), 5.0),\n",
       " ((6, 16950), 5.0),\n",
       " ((7, 0), 4.0),\n",
       " ((7, 4932), 5.0),\n",
       " ((7, 7058), 5.0),\n",
       " ((7, 18842), 3.0),\n",
       " ((7, 19223), 3.0),\n",
       " ((8, 0), 5.0),\n",
       " ((8, 2650), 5.0),\n",
       " ((8, 4437), 5.0),\n",
       " ((8, 7390), 4.0),\n",
       " ((8, 10186), 4.0),\n",
       " ((9, 0), 5.0),\n",
       " ((9, 1706), 5.0),\n",
       " ((9, 3361), 5.0),\n",
       " ((9, 14854), 5.0),\n",
       " ((9, 19787), 5.0),\n",
       " ((10, 0), 5.0),\n",
       " ((10, 12491), 4.0),\n",
       " ((10, 19266), 3.0),\n",
       " ((11, 0), 5.0),\n",
       " ((11, 3367), 5.0),\n",
       " ((11, 12089), 5.0),\n",
       " ((11, 14584), 5.0),\n",
       " ((12, 0), 5.0),\n",
       " ((12, 4232), 5.0),\n",
       " ((12, 9269), 2.0),\n",
       " ((12, 17686), 5.0),\n",
       " ((12, 18797), 4.0),\n",
       " ((13, 0), 4.0),\n",
       " ((13, 14147), 5.0),\n",
       " ((14, 0), 5.0),\n",
       " ((14, 5163), 3.0),\n",
       " ((14, 6757), 5.0),\n",
       " ((14, 8269), 5.0),\n",
       " ((15, 0), 5.0),\n",
       " ((15, 2001), 3.0),\n",
       " ((15, 8042), 1.0),\n",
       " ((15, 11522), 4.0),\n",
       " ((16, 0), 5.0),\n",
       " ((16, 100), 3.0),\n",
       " ((16, 173), 1.0),\n",
       " ((16, 2744), 5.0),\n",
       " ((16, 3555), 5.0),\n",
       " ((16, 7825), 5.0),\n",
       " ((16, 16998), 1.0),\n",
       " ((17, 0), 5.0),\n",
       " ((17, 8103), 5.0),\n",
       " ((17, 10648), 5.0),\n",
       " ((17, 10670), 5.0),\n",
       " ((17, 10872), 5.0),\n",
       " ((17, 13862), 5.0),\n",
       " ((17, 17960), 5.0),\n",
       " ((18, 0), 5.0),\n",
       " ((18, 3875), 5.0),\n",
       " ((18, 7715), 5.0),\n",
       " ((18, 8936), 5.0),\n",
       " ((18, 11905), 5.0),\n",
       " ((19, 0), 5.0),\n",
       " ((19, 6275), 4.0),\n",
       " ((19, 10860), 5.0),\n",
       " ((20, 0), 5.0),\n",
       " ((20, 4178), 5.0),\n",
       " ((20, 8762), 5.0),\n",
       " ((20, 9503), 5.0),\n",
       " ((20, 11226), 5.0),\n",
       " ((20, 14418), 5.0),\n",
       " ((21, 0), 4.0),\n",
       " ((21, 1128), 4.0),\n",
       " ((21, 4623), 4.0),\n",
       " ((21, 15968), 4.0),\n",
       " ((21, 19703), 5.0),\n",
       " ((22, 0), 3.0),\n",
       " ((22, 129), 5.0),\n",
       " ((22, 964), 4.0),\n",
       " ((22, 2382), 3.0),\n",
       " ((22, 3384), 5.0),\n",
       " ((22, 4505), 5.0),\n",
       " ((22, 9392), 3.0),\n",
       " ((22, 10642), 5.0),\n",
       " ((22, 13611), 4.0),\n",
       " ((22, 15120), 1.0),\n",
       " ((22, 16098), 5.0),\n",
       " ((22, 17171), 3.0),\n",
       " ((22, 17335), 5.0),\n",
       " ((23, 1), 5.0),\n",
       " ((23, 3530), 4.0),\n",
       " ((23, 5632), 5.0),\n",
       " ((23, 6870), 3.0),\n",
       " ((23, 7071), 4.0),\n",
       " ((23, 8852), 5.0),\n",
       " ((23, 12818), 4.0),\n",
       " ((23, 16992), 3.0),\n",
       " ((24, 1), 5.0),\n",
       " ((24, 12818), 5.0),\n",
       " ((24, 18375), 5.0),\n",
       " ((25, 1), 4.0),\n",
       " ((25, 3188), 1.0),\n",
       " ((25, 4069), 1.0),\n",
       " ((25, 16101), 2.0),\n",
       " ((25, 19152), 2.0),\n",
       " ((26, 1), 5.0),\n",
       " ((26, 11734), 5.0),\n",
       " ((26, 13018), 5.0),\n",
       " ((26, 13478), 5.0),\n",
       " ((26, 14074), 4.0),\n",
       " ((26, 17357), 1.0),\n",
       " ((26, 18471), 5.0),\n",
       " ((26, 18544), 3.0),\n",
       " ((26, 18966), 5.0),\n",
       " ((26, 19594), 5.0),\n",
       " ((27, 1), 5.0),\n",
       " ((27, 2658), 5.0),\n",
       " ((27, 6523), 5.0),\n",
       " ((27, 8727), 5.0),\n",
       " ((27, 15498), 5.0),\n",
       " ((28, 1), 5.0),\n",
       " ((28, 1282), 4.0),\n",
       " ((28, 11620), 5.0),\n",
       " ((28, 14274), 5.0),\n",
       " ((29, 1), 4.0),\n",
       " ((29, 9243), 5.0),\n",
       " ((29, 10582), 5.0),\n",
       " ((29, 13492), 5.0),\n",
       " ((30, 1), 5.0),\n",
       " ((30, 4155), 4.0),\n",
       " ((30, 5165), 3.0),\n",
       " ((30, 11360), 2.0),\n",
       " ((30, 15127), 5.0),\n",
       " ((31, 1), 4.0),\n",
       " ((31, 6920), 5.0),\n",
       " ((31, 19553), 5.0),\n",
       " ((31, 19723), 5.0),\n",
       " ((32, 1), 4.0),\n",
       " ((32, 2136), 4.0),\n",
       " ((32, 4778), 4.0),\n",
       " ((32, 5926), 3.0),\n",
       " ((32, 8418), 5.0),\n",
       " ((32, 9592), 5.0),\n",
       " ((32, 9907), 5.0),\n",
       " ((32, 14418), 4.0),\n",
       " ((32, 16432), 5.0),\n",
       " ((33, 1), 5.0),\n",
       " ((33, 741), 5.0),\n",
       " ((33, 15228), 5.0),\n",
       " ((33, 15993), 4.0),\n",
       " ((33, 18417), 5.0),\n",
       " ((34, 1), 5.0),\n",
       " ((34, 689), 5.0),\n",
       " ((34, 2204), 5.0),\n",
       " ((34, 5150), 4.0),\n",
       " ((34, 5707), 3.0),\n",
       " ((34, 13992), 2.0),\n",
       " ((34, 15639), 3.0),\n",
       " ((34, 19018), 4.0),\n",
       " ((35, 1), 5.0),\n",
       " ((35, 9592), 5.0),\n",
       " ((35, 13439), 5.0),\n",
       " ((35, 19066), 5.0),\n",
       " ((35, 19723), 5.0),\n",
       " ((36, 2), 4.0),\n",
       " ((36, 14225), 3.0),\n",
       " ((37, 2), 5.0),\n",
       " ((37, 3815), 5.0),\n",
       " ((37, 3914), 5.0),\n",
       " ((37, 7605), 5.0),\n",
       " ((37, 8277), 5.0),\n",
       " ((38, 2), 5.0),\n",
       " ((38, 855), 3.0),\n",
       " ((38, 4194), 5.0),\n",
       " ((38, 5350), 2.0),\n",
       " ((38, 11607), 3.0),\n",
       " ((38, 18330), 5.0),\n",
       " ((39, 2), 5.0),\n",
       " ((39, 12537), 5.0),\n",
       " ((39, 15108), 3.0),\n",
       " ((39, 16589), 5.0),\n",
       " ((40, 2), 5.0),\n",
       " ((40, 11738), 3.0),\n",
       " ((40, 13551), 5.0),\n",
       " ((40, 14606), 5.0),\n",
       " ((40, 15871), 5.0),\n",
       " ((40, 17729), 4.0),\n",
       " ((41, 2), 5.0),\n",
       " ((41, 92), 5.0),\n",
       " ((41, 11293), 5.0),\n",
       " ((42, 2), 5.0),\n",
       " ((42, 2921), 5.0),\n",
       " ((42, 8527), 5.0),\n",
       " ((42, 11583), 5.0),\n",
       " ((42, 19677), 5.0),\n",
       " ((43, 3), 4.0),\n",
       " ((43, 425), 4.0),\n",
       " ((43, 622), 5.0),\n",
       " ((43, 757), 4.0),\n",
       " ((43, 1540), 5.0),\n",
       " ((43, 3217), 3.0),\n",
       " ((43, 3583), 4.0),\n",
       " ((43, 3622), 5.0),\n",
       " ((43, 4442), 5.0),\n",
       " ((43, 6423), 4.0),\n",
       " ((43, 6798), 5.0),\n",
       " ((43, 7869), 3.0),\n",
       " ((43, 12013), 4.0),\n",
       " ((43, 13059), 3.0),\n",
       " ((43, 13390), 5.0),\n",
       " ((43, 15707), 4.0),\n",
       " ((43, 15729), 5.0),\n",
       " ((43, 16220), 5.0),\n",
       " ((43, 16998), 5.0),\n",
       " ((43, 17577), 3.0),\n",
       " ((43, 18652), 5.0),\n",
       " ((43, 19269), 5.0),\n",
       " ((44, 3), 4.0),\n",
       " ((44, 1297), 5.0),\n",
       " ((44, 3622), 4.0),\n",
       " ((44, 12009), 4.0),\n",
       " ((44, 17826), 4.0),\n",
       " ((44, 19499), 4.0),\n",
       " ((45, 3), 4.0),\n",
       " ((45, 6330), 5.0),\n",
       " ((45, 15580), 4.0),\n",
       " ((45, 16640), 4.0),\n",
       " ((45, 19479), 4.0),\n",
       " ((46, 3), 4.0),\n",
       " ((46, 1961), 4.0),\n",
       " ((46, 6690), 3.0),\n",
       " ((46, 8198), 3.0),\n",
       " ((46, 10682), 2.0),\n",
       " ((46, 10788), 3.0),\n",
       " ((46, 11454), 4.0),\n",
       " ((46, 11708), 4.0),\n",
       " ((46, 12545), 4.0),\n",
       " ((46, 14728), 4.0),\n",
       " ((46, 15780), 3.0),\n",
       " ((46, 17402), 5.0),\n",
       " ((47, 3), 4.0),\n",
       " ((47, 148), 5.0),\n",
       " ((47, 226), 5.0),\n",
       " ((47, 662), 5.0),\n",
       " ((47, 808), 2.0),\n",
       " ((47, 1198), 5.0),\n",
       " ((47, 1526), 4.0),\n",
       " ((47, 1809), 5.0),\n",
       " ((47, 2699), 2.0),\n",
       " ((47, 3465), 5.0),\n",
       " ((47, 3942), 5.0),\n",
       " ((47, 4028), 5.0),\n",
       " ((47, 4095), 4.0),\n",
       " ((47, 4457), 5.0),\n",
       " ((47, 5013), 5.0),\n",
       " ((47, 6159), 4.0),\n",
       " ((47, 6528), 5.0),\n",
       " ((47, 6866), 3.0),\n",
       " ((47, 7782), 4.0),\n",
       " ((47, 8280), 4.0),\n",
       " ((47, 9423), 4.0),\n",
       " ((47, 9597), 5.0),\n",
       " ((47, 9791), 5.0),\n",
       " ((47, 10088), 5.0),\n",
       " ((47, 10152), 5.0),\n",
       " ((47, 10188), 2.0),\n",
       " ((47, 10915), 4.0),\n",
       " ((47, 11329), 5.0),\n",
       " ((47, 11445), 5.0),\n",
       " ((47, 12902), 5.0),\n",
       " ((47, 13174), 3.0),\n",
       " ((47, 13181), 4.0),\n",
       " ((47, 13233), 3.0),\n",
       " ((47, 13595), 5.0),\n",
       " ((47, 13663), 5.0),\n",
       " ((47, 14289), 5.0),\n",
       " ((47, 14721), 4.0),\n",
       " ((47, 15694), 4.0),\n",
       " ((47, 16766), 5.0),\n",
       " ((47, 17315), 4.0),\n",
       " ((47, 17402), 5.0),\n",
       " ((47, 17505), 4.0),\n",
       " ((47, 17607), 5.0),\n",
       " ((47, 18330), 4.0),\n",
       " ((47, 18428), 4.0),\n",
       " ((47, 19011), 3.0),\n",
       " ((47, 19487), 4.0),\n",
       " ((47, 19569), 4.0),\n",
       " ((48, 3), 5.0),\n",
       " ((48, 693), 5.0),\n",
       " ((48, 6407), 5.0),\n",
       " ((48, 8667), 5.0),\n",
       " ((48, 18913), 5.0),\n",
       " ((49, 3), 4.0),\n",
       " ((49, 2029), 5.0),\n",
       " ((49, 4900), 4.0),\n",
       " ((49, 10788), 4.0),\n",
       " ((50, 4), 4.0),\n",
       " ((50, 1591), 5.0),\n",
       " ((50, 3103), 5.0),\n",
       " ((50, 4085), 5.0),\n",
       " ((50, 6299), 5.0),\n",
       " ((50, 6952), 5.0),\n",
       " ((50, 7914), 4.0),\n",
       " ((50, 8639), 4.0),\n",
       " ((50, 8910), 4.0),\n",
       " ((50, 9131), 5.0),\n",
       " ((50, 10307), 5.0),\n",
       " ((50, 10899), 5.0),\n",
       " ((50, 11312), 4.0),\n",
       " ((50, 11730), 4.0),\n",
       " ((50, 12976), 5.0),\n",
       " ((50, 14272), 5.0),\n",
       " ((50, 15454), 5.0),\n",
       " ((50, 16294), 5.0),\n",
       " ((50, 16666), 5.0),\n",
       " ((50, 16900), 5.0),\n",
       " ((50, 17372), 5.0),\n",
       " ((50, 18382), 5.0),\n",
       " ((51, 4), 5.0),\n",
       " ((51, 779), 5.0),\n",
       " ((51, 6952), 3.0),\n",
       " ((51, 7586), 5.0),\n",
       " ((51, 7835), 3.0),\n",
       " ((51, 10073), 2.0),\n",
       " ((51, 14571), 4.0),\n",
       " ((51, 16379), 3.0),\n",
       " ((51, 16992), 4.0),\n",
       " ((52, 4), 4.0),\n",
       " ((52, 780), 5.0),\n",
       " ((52, 1629), 3.0),\n",
       " ((52, 10126), 4.0),\n",
       " ((52, 11399), 2.0),\n",
       " ((52, 16841), 3.0),\n",
       " ((53, 4), 3.0),\n",
       " ((53, 179), 4.0),\n",
       " ((53, 6047), 5.0),\n",
       " ((53, 6275), 5.0),\n",
       " ((53, 8958), 5.0),\n",
       " ((53, 11317), 5.0),\n",
       " ((53, 16181), 5.0),\n",
       " ((53, 19305), 4.0),\n",
       " ((54, 4), 5.0),\n",
       " ((54, 394), 5.0),\n",
       " ((54, 440), 5.0),\n",
       " ((54, 816), 5.0),\n",
       " ((54, 3179), 5.0),\n",
       " ((54, 4246), 5.0),\n",
       " ((54, 5551), 5.0),\n",
       " ((54, 5955), 5.0),\n",
       " ((54, 7316), 5.0),\n",
       " ((54, 12696), 5.0),\n",
       " ((54, 15767), 5.0),\n",
       " ((55, 4), 5.0),\n",
       " ((55, 21), 5.0),\n",
       " ((55, 297), 5.0),\n",
       " ((55, 857), 5.0),\n",
       " ((55, 1493), 5.0),\n",
       " ((55, 1820), 5.0),\n",
       " ((55, 2225), 5.0),\n",
       " ((55, 3448), 5.0),\n",
       " ((55, 6110), 5.0),\n",
       " ((55, 6577), 5.0),\n",
       " ((55, 8122), 5.0),\n",
       " ((55, 8359), 5.0),\n",
       " ((55, 8645), 4.0),\n",
       " ((55, 10394), 4.0),\n",
       " ((55, 10762), 5.0),\n",
       " ((55, 12161), 5.0),\n",
       " ((55, 12269), 3.0),\n",
       " ((55, 12579), 5.0),\n",
       " ((55, 13440), 5.0),\n",
       " ((55, 13901), 4.0),\n",
       " ((55, 15919), 5.0),\n",
       " ((55, 16128), 5.0),\n",
       " ((55, 16287), 5.0),\n",
       " ((55, 16601), 5.0),\n",
       " ((55, 16626), 5.0),\n",
       " ((55, 16792), 5.0),\n",
       " ((55, 18181), 5.0),\n",
       " ((55, 18938), 4.0),\n",
       " ((56, 4), 5.0),\n",
       " ((56, 89), 5.0),\n",
       " ((56, 1973), 5.0),\n",
       " ((56, 7977), 5.0),\n",
       " ((56, 11024), 4.0),\n",
       " ((57, 4), 5.0),\n",
       " ((57, 751), 3.0),\n",
       " ((57, 922), 5.0),\n",
       " ((57, 962), 5.0),\n",
       " ((57, 2798), 5.0),\n",
       " ((57, 4189), 5.0),\n",
       " ((57, 4811), 4.0),\n",
       " ((57, 8656), 4.0),\n",
       " ((57, 8905), 4.0),\n",
       " ((57, 9678), 4.0),\n",
       " ((57, 11644), 4.0),\n",
       " ((57, 12998), 4.0),\n",
       " ((57, 13452), 4.0),\n",
       " ((57, 15339), 4.0),\n",
       " ((57, 16747), 3.0),\n",
       " ((57, 18605), 4.0),\n",
       " ((58, 5), 3.0),\n",
       " ((58, 826), 4.0),\n",
       " ((58, 1014), 3.0),\n",
       " ((58, 3046), 5.0),\n",
       " ((58, 4298), 4.0),\n",
       " ((58, 4814), 5.0),\n",
       " ((58, 8854), 5.0),\n",
       " ((58, 10577), 2.0),\n",
       " ((58, 13430), 5.0),\n",
       " ((58, 16031), 2.0),\n",
       " ((58, 19436), 3.0),\n",
       " ((59, 5), 5.0),\n",
       " ((59, 2556), 5.0),\n",
       " ((59, 2721), 4.0),\n",
       " ((60, 5), 4.0),\n",
       " ((60, 1689), 4.0),\n",
       " ((60, 4844), 4.0),\n",
       " ((60, 4968), 5.0),\n",
       " ((60, 7825), 5.0),\n",
       " ((60, 8237), 4.0),\n",
       " ((60, 11347), 5.0),\n",
       " ((60, 12944), 4.0),\n",
       " ((60, 14059), 5.0),\n",
       " ((60, 19497), 4.0),\n",
       " ((60, 19566), 2.0),\n",
       " ((61, 5), 5.0),\n",
       " ((61, 3416), 5.0),\n",
       " ((61, 6478), 5.0),\n",
       " ((61, 6980), 3.0),\n",
       " ((61, 12985), 5.0),\n",
       " ((61, 15257), 3.0),\n",
       " ((61, 15780), 5.0),\n",
       " ((62, 5), 5.0),\n",
       " ((62, 799), 5.0),\n",
       " ((62, 1914), 4.0),\n",
       " ((62, 3623), 5.0),\n",
       " ((62, 14257), 4.0),\n",
       " ((63, 5), 2.0),\n",
       " ((63, 3297), 5.0),\n",
       " ((63, 3391), 2.0),\n",
       " ((63, 12814), 5.0),\n",
       " ((63, 17460), 5.0),\n",
       " ((63, 18176), 5.0),\n",
       " ((63, 19276), 2.0),\n",
       " ((63, 19597), 2.0),\n",
       " ((64, 5), 5.0),\n",
       " ((64, 5403), 3.0),\n",
       " ((64, 5913), 5.0),\n",
       " ((64, 10334), 3.0),\n",
       " ((64, 16401), 2.0),\n",
       " ((64, 18018), 5.0),\n",
       " ((64, 18932), 2.0),\n",
       " ((65, 5), 5.0),\n",
       " ((65, 16817), 5.0),\n",
       " ((66, 5), 5.0),\n",
       " ((66, 4987), 1.0),\n",
       " ((66, 5885), 4.0),\n",
       " ((66, 6175), 2.0),\n",
       " ((66, 7017), 3.0),\n",
       " ((66, 11294), 5.0),\n",
       " ((66, 14700), 4.0),\n",
       " ((66, 18057), 5.0),\n",
       " ((67, 5), 5.0),\n",
       " ((67, 2434), 5.0),\n",
       " ((67, 4298), 3.0),\n",
       " ((67, 10731), 3.0),\n",
       " ((67, 19195), 3.0),\n",
       " ((68, 5), 5.0),\n",
       " ((68, 9363), 5.0),\n",
       " ((68, 10865), 5.0),\n",
       " ((69, 5), 3.0),\n",
       " ((69, 344), 5.0),\n",
       " ((69, 448), 2.0),\n",
       " ((69, 2923), 1.0),\n",
       " ((69, 6742), 2.0),\n",
       " ((69, 8712), 1.0),\n",
       " ((69, 8947), 4.0),\n",
       " ((69, 9039), 2.0),\n",
       " ((69, 10968), 1.0),\n",
       " ((69, 12170), 2.0),\n",
       " ((69, 13663), 4.0),\n",
       " ((69, 14822), 5.0),\n",
       " ((69, 14929), 1.0),\n",
       " ((69, 16401), 4.0),\n",
       " ((69, 19014), 2.0),\n",
       " ((69, 19393), 4.0),\n",
       " ((70, 5), 5.0),\n",
       " ((70, 5954), 5.0),\n",
       " ((70, 8411), 5.0),\n",
       " ((70, 12533), 5.0),\n",
       " ((71, 5), 4.0),\n",
       " ((71, 1041), 5.0),\n",
       " ((71, 9249), 4.0),\n",
       " ((71, 17318), 5.0),\n",
       " ((72, 5), 5.0),\n",
       " ((72, 5465), 2.0),\n",
       " ((72, 7917), 4.0),\n",
       " ((73, 5), 3.0),\n",
       " ((73, 4072), 3.0),\n",
       " ((73, 4298), 3.0),\n",
       " ((73, 5913), 1.0),\n",
       " ((73, 13360), 1.0),\n",
       " ((73, 16401), 2.0),\n",
       " ((73, 17106), 4.0),\n",
       " ((73, 17958), 2.0),\n",
       " ((74, 5), 5.0),\n",
       " ((74, 5670), 5.0),\n",
       " ((74, 7552), 5.0),\n",
       " ((74, 8429), 5.0),\n",
       " ((74, 16609), 5.0),\n",
       " ((75, 5), 5.0),\n",
       " ((75, 4008), 5.0),\n",
       " ((75, 9419), 5.0),\n",
       " ((75, 10842), 5.0),\n",
       " ((75, 12759), 5.0),\n",
       " ((76, 5), 3.0),\n",
       " ((76, 1451), 5.0),\n",
       " ((76, 2291), 5.0),\n",
       " ((76, 13321), 1.0),\n",
       " ((76, 19856), 5.0),\n",
       " ((77, 6), 2.0),\n",
       " ((77, 7598), 5.0),\n",
       " ((77, 13279), 4.0),\n",
       " ((77, 16707), 4.0),\n",
       " ((78, 6), 5.0),\n",
       " ((78, 4526), 2.0),\n",
       " ((78, 6568), 5.0),\n",
       " ((78, 11614), 2.0),\n",
       " ((78, 13489), 2.0),\n",
       " ((78, 14371), 3.0),\n",
       " ((79, 6), 1.0),\n",
       " ((79, 7685), 2.0),\n",
       " ((79, 7988), 4.0),\n",
       " ((79, 10016), 5.0),\n",
       " ((79, 13194), 4.0),\n",
       " ((79, 16792), 5.0),\n",
       " ((80, 6), 3.0),\n",
       " ((80, 239), 5.0),\n",
       " ((80, 1888), 3.0),\n",
       " ((80, 3794), 5.0),\n",
       " ((80, 6675), 4.0),\n",
       " ((80, 9458), 5.0),\n",
       " ((80, 10678), 5.0),\n",
       " ((80, 15304), 5.0),\n",
       " ((80, 17383), 4.0),\n",
       " ((80, 19006), 4.0),\n",
       " ((81, 6), 5.0),\n",
       " ((81, 457), 2.0),\n",
       " ((81, 7381), 2.0),\n",
       " ((81, 8459), 4.0),\n",
       " ((81, 11227), 3.0),\n",
       " ((81, 11858), 5.0),\n",
       " ((81, 12168), 3.0),\n",
       " ((81, 17140), 3.0),\n",
       " ((82, 6), 4.0),\n",
       " ((82, 2765), 5.0),\n",
       " ((82, 4270), 4.0),\n",
       " ((82, 11878), 4.0),\n",
       " ((82, 12415), 5.0),\n",
       " ((83, 7), 3.0),\n",
       " ((83, 696), 3.0),\n",
       " ((83, 5858), 5.0),\n",
       " ((83, 16253), 5.0),\n",
       " ((83, 18179), 5.0),\n",
       " ((84, 7), 5.0),\n",
       " ((84, 4778), 4.0),\n",
       " ((84, 16449), 4.0),\n",
       " ((85, 7), 5.0),\n",
       " ((85, 335), 4.0),\n",
       " ((85, 4224), 5.0),\n",
       " ((85, 5635), 5.0),\n",
       " ((85, 7875), 5.0),\n",
       " ((85, 9720), 3.0),\n",
       " ((85, 12074), 5.0),\n",
       " ((85, 14400), 4.0),\n",
       " ((86, 7), 3.0),\n",
       " ((86, 2275), 3.0),\n",
       " ((86, 3392), 5.0),\n",
       " ((86, 4436), 3.0),\n",
       " ((86, 4606), 4.0),\n",
       " ((86, 5155), 5.0),\n",
       " ((86, 5699), 5.0),\n",
       " ((86, 8205), 5.0),\n",
       " ((86, 8390), 5.0),\n",
       " ((86, 9008), 5.0),\n",
       " ((86, 9428), 5.0),\n",
       " ((86, 16432), 5.0),\n",
       " ((86, 17852), 5.0),\n",
       " ((86, 18934), 5.0),\n",
       " ((86, 19315), 5.0),\n",
       " ((87, 7), 4.0),\n",
       " ((87, 5478), 4.0),\n",
       " ((87, 9737), 1.0),\n",
       " ((87, 14218), 5.0),\n",
       " ((87, 14976), 4.0),\n",
       " ((87, 15051), 4.0),\n",
       " ((87, 15840), 4.0),\n",
       " ((87, 19622), 2.0),\n",
       " ((88, 7), 3.0),\n",
       " ((88, 1604), 5.0),\n",
       " ((88, 1835), 5.0),\n",
       " ((88, 8910), 5.0),\n",
       " ((88, 9548), 4.0),\n",
       " ((88, 15619), 3.0),\n",
       " ((88, 17159), 3.0),\n",
       " ((88, 18879), 5.0),\n",
       " ((89, 7), 3.0),\n",
       " ((89, 10726), 5.0),\n",
       " ((89, 14328), 5.0),\n",
       " ((90, 7), 3.0),\n",
       " ((90, 1249), 4.0),\n",
       " ((90, 3587), 4.0),\n",
       " ((90, 6962), 3.0),\n",
       " ((90, 16792), 4.0),\n",
       " ((90, 17107), 4.0),\n",
       " ((90, 18860), 3.0),\n",
       " ((90, 19069), 4.0),\n",
       " ((91, 7), 3.0),\n",
       " ((91, 11), 2.0),\n",
       " ((91, 3379), 5.0),\n",
       " ((91, 4217), 1.0),\n",
       " ((91, 4964), 1.0),\n",
       " ((91, 6534), 2.0),\n",
       " ((91, 8926), 5.0),\n",
       " ((91, 9824), 5.0),\n",
       " ((91, 11643), 5.0),\n",
       " ((91, 14821), 5.0),\n",
       " ((91, 15635), 4.0),\n",
       " ((91, 18119), 5.0),\n",
       " ((91, 18313), 2.0),\n",
       " ((91, 19590), 4.0),\n",
       " ((92, 7), 5.0),\n",
       " ((92, 2536), 5.0),\n",
       " ((92, 8959), 5.0),\n",
       " ((92, 10776), 5.0),\n",
       " ((92, 17345), 4.0),\n",
       " ((92, 18969), 5.0),\n",
       " ((93, 7), 4.0),\n",
       " ((93, 2926), 4.0),\n",
       " ((93, 3989), 5.0),\n",
       " ((93, 9140), 3.0),\n",
       " ((93, 13554), 4.0),\n",
       " ((93, 14019), 3.0),\n",
       " ((93, 16881), 3.0),\n",
       " ((94, 7), 5.0),\n",
       " ((94, 11675), 1.0),\n",
       " ((94, 15840), 5.0),\n",
       " ((95, 7), 5.0),\n",
       " ((95, 1391), 5.0),\n",
       " ((95, 3164), 4.0),\n",
       " ((95, 3708), 5.0),\n",
       " ((95, 16055), 5.0),\n",
       " ((95, 17749), 5.0),\n",
       " ((95, 18119), 5.0),\n",
       " ((96, 8), 5.0),\n",
       " ((96, 1826), 5.0),\n",
       " ((96, 9048), 5.0),\n",
       " ((96, 18347), 3.0),\n",
       " ((97, 8), 4.0),\n",
       " ((97, 1605), 4.0),\n",
       " ((97, 2371), 4.0),\n",
       " ((97, 2630), 5.0),\n",
       " ((97, 8029), 5.0),\n",
       " ((97, 10949), 5.0),\n",
       " ((97, 19550), 4.0),\n",
       " ((98, 8), 4.0),\n",
       " ((98, 872), 5.0),\n",
       " ((98, 1605), 4.0),\n",
       " ((98, 2789), 5.0),\n",
       " ((98, 5955), 4.0),\n",
       " ((98, 11197), 3.0),\n",
       " ((98, 15516), 3.0),\n",
       " ((99, 8), 5.0),\n",
       " ((99, 5935), 4.0),\n",
       " ((99, 11712), 4.0),\n",
       " ((99, 11784), 4.0),\n",
       " ((99, 17746), 4.0),\n",
       " ((99, 18322), 5.0),\n",
       " ((99, 18815), 2.0),\n",
       " ((100, 8), 5.0),\n",
       " ((100, 1703), 5.0),\n",
       " ((100, 8346), 5.0),\n",
       " ((100, 9341), 5.0),\n",
       " ((100, 11798), 5.0),\n",
       " ((100, 13178), 5.0),\n",
       " ((101, 9), 5.0),\n",
       " ((101, 1332), 5.0),\n",
       " ((101, 7676), 5.0),\n",
       " ((101, 8360), 5.0),\n",
       " ((102, 9), 5.0),\n",
       " ((102, 44), 5.0),\n",
       " ((102, 1067), 5.0),\n",
       " ((102, 8501), 4.0),\n",
       " ((102, 19856), 5.0),\n",
       " ((103, 9), 5.0),\n",
       " ((103, 2178), 5.0),\n",
       " ((103, 3628), 5.0),\n",
       " ((103, 6693), 5.0),\n",
       " ((104, 9), 5.0),\n",
       " ((104, 3065), 5.0),\n",
       " ((104, 4104), 5.0),\n",
       " ((104, 5501), 5.0),\n",
       " ((104, 16491), 5.0),\n",
       " ((105, 9), 4.0),\n",
       " ((105, 4466), 4.0),\n",
       " ((105, 14715), 5.0),\n",
       " ((105, 16802), 5.0),\n",
       " ((105, 19343), 5.0),\n",
       " ((105, 19843), 4.0),\n",
       " ((106, 10), 4.0),\n",
       " ((106, 524), 2.0),\n",
       " ((106, 2205), 2.0),\n",
       " ((106, 2519), 4.0),\n",
       " ((106, 17291), 4.0),\n",
       " ((107, 10), 4.0),\n",
       " ((107, 10726), 3.0),\n",
       " ((107, 16075), 2.0),\n",
       " ((107, 18938), 3.0),\n",
       " ((107, 19700), 1.0),\n",
       " ((108, 10), 5.0),\n",
       " ((108, 2904), 5.0),\n",
       " ((108, 6163), 3.0),\n",
       " ((108, 11553), 5.0),\n",
       " ((108, 11977), 5.0),\n",
       " ((108, 17223), 5.0),\n",
       " ((109, 10), 3.0),\n",
       " ((109, 689), 2.0),\n",
       " ((109, 12157), 1.0),\n",
       " ((109, 18513), 2.0),\n",
       " ((110, 10), 2.0),\n",
       " ((110, 2083), 5.0),\n",
       " ((110, 2182), 5.0),\n",
       " ((110, 2985), 5.0),\n",
       " ((110, 11850), 5.0),\n",
       " ((111, 10), 4.0),\n",
       " ((111, 944), 5.0),\n",
       " ((111, 7884), 2.0),\n",
       " ((111, 16267), 5.0),\n",
       " ((111, 19263), 5.0),\n",
       " ((112, 10), 2.0),\n",
       " ((112, 612), 3.0),\n",
       " ((112, 8608), 5.0),\n",
       " ((112, 10140), 5.0),\n",
       " ((112, 16486), 5.0),\n",
       " ((112, 17414), 2.0),\n",
       " ((113, 10), 5.0),\n",
       " ((113, 4602), 5.0),\n",
       " ((113, 12613), 5.0),\n",
       " ((113, 17769), 5.0),\n",
       " ((114, 10), 5.0),\n",
       " ((114, 2638), 5.0),\n",
       " ((114, 7704), 3.0),\n",
       " ((114, 9823), 5.0),\n",
       " ((114, 11852), 4.0),\n",
       " ((114, 13729), 4.0),\n",
       " ((114, 14459), 5.0),\n",
       " ((114, 19849), 1.0),\n",
       " ((115, 11), 5.0),\n",
       " ((115, 1324), 4.0),\n",
       " ((115, 4527), 5.0),\n",
       " ((115, 4873), 3.0),\n",
       " ((115, 7765), 5.0),\n",
       " ((115, 9285), 5.0),\n",
       " ((115, 10582), 4.0),\n",
       " ((115, 10889), 3.0),\n",
       " ((115, 12566), 4.0),\n",
       " ((115, 12849), 5.0),\n",
       " ((115, 14623), 4.0),\n",
       " ((115, 15425), 2.0),\n",
       " ((116, 11), 3.0),\n",
       " ((116, 440), 5.0),\n",
       " ((116, 938), 5.0),\n",
       " ((116, 9695), 4.0),\n",
       " ((116, 11681), 5.0),\n",
       " ((117, 11), 5.0),\n",
       " ((117, 3248), 5.0),\n",
       " ((117, 6659), 5.0),\n",
       " ((117, 7303), 2.0),\n",
       " ((117, 15127), 4.0),\n",
       " ((118, 11), 3.0),\n",
       " ((118, 4767), 4.0),\n",
       " ((118, 8858), 5.0),\n",
       " ((118, 9087), 3.0),\n",
       " ((118, 10743), 3.0),\n",
       " ((118, 14129), 2.0),\n",
       " ((118, 19102), 4.0),\n",
       " ((119, 11), 2.0),\n",
       " ((119, 531), 5.0),\n",
       " ((119, 4119), 3.0),\n",
       " ((119, 4640), 5.0),\n",
       " ((119, 5175), 4.0),\n",
       " ((119, 8160), 5.0),\n",
       " ((119, 8590), 5.0),\n",
       " ((119, 9363), 5.0),\n",
       " ((119, 9775), 5.0),\n",
       " ((119, 10191), 4.0),\n",
       " ((119, 11377), 3.0),\n",
       " ((119, 12083), 3.0),\n",
       " ((119, 17125), 5.0),\n",
       " ((119, 18276), 4.0),\n",
       " ((119, 19567), 2.0),\n",
       " ((119, 19858), 2.0),\n",
       " ((120, 11), 2.0),\n",
       " ((120, 1586), 5.0),\n",
       " ((120, 2106), 4.0),\n",
       " ((120, 3667), 5.0),\n",
       " ((120, 9124), 5.0),\n",
       " ((120, 10820), 5.0),\n",
       " ((120, 13919), 5.0),\n",
       " ((120, 15335), 5.0),\n",
       " ((120, 18777), 4.0),\n",
       " ((121, 11), 5.0),\n",
       " ((121, 7033), 3.0),\n",
       " ((121, 8219), 5.0),\n",
       " ((121, 8293), 5.0),\n",
       " ((121, 8841), 5.0),\n",
       " ((121, 10616), 5.0),\n",
       " ((121, 11179), 5.0),\n",
       " ((121, 12219), 5.0),\n",
       " ((122, 11), 5.0),\n",
       " ((122, 4411), 4.0),\n",
       " ((122, 17320), 4.0),\n",
       " ((123, 11), 5.0),\n",
       " ((123, 1845), 4.0),\n",
       " ((123, 1999), 1.0),\n",
       " ((123, 4578), 4.0),\n",
       " ((123, 11261), 5.0),\n",
       " ((123, 11469), 5.0),\n",
       " ((123, 14968), 4.0),\n",
       " ((123, 15496), 5.0),\n",
       " ((124, 11), 5.0),\n",
       " ((124, 3926), 5.0),\n",
       " ((124, 5340), 5.0),\n",
       " ((124, 8849), 5.0),\n",
       " ((124, 10776), 5.0),\n",
       " ((124, 13864), 3.0),\n",
       " ((125, 11), 5.0),\n",
       " ((125, 1916), 5.0),\n",
       " ((125, 5775), 3.0),\n",
       " ((125, 7662), 4.0),\n",
       " ((125, 10315), 4.0),\n",
       " ((125, 10589), 3.0),\n",
       " ((125, 12119), 2.0),\n",
       " ((126, 11), 5.0),\n",
       " ((126, 683), 1.0),\n",
       " ((126, 7907), 4.0),\n",
       " ((126, 11944), 5.0),\n",
       " ((126, 17743), 5.0),\n",
       " ((127, 11), 4.0),\n",
       " ((127, 2737), 5.0),\n",
       " ((127, 3248), 5.0),\n",
       " ((127, 4591), 3.0),\n",
       " ((127, 10042), 4.0),\n",
       " ((127, 10582), 1.0),\n",
       " ((127, 11686), 4.0),\n",
       " ((127, 17989), 1.0),\n",
       " ((128, 11), 2.0),\n",
       " ((128, 571), 2.0),\n",
       " ((128, 6125), 3.0),\n",
       " ((128, 11736), 4.0),\n",
       " ((128, 12801), 3.0),\n",
       " ((129, 11), 5.0),\n",
       " ((129, 746), 5.0),\n",
       " ((129, 6563), 5.0),\n",
       " ((129, 7250), 5.0),\n",
       " ((129, 12160), 5.0),\n",
       " ((129, 13689), 4.0),\n",
       " ((129, 15473), 5.0),\n",
       " ((129, 15723), 4.0),\n",
       " ((130, 11), 5.0),\n",
       " ((130, 5089), 5.0),\n",
       " ((130, 5601), 5.0),\n",
       " ((130, 6458), 5.0),\n",
       " ((130, 9731), 5.0),\n",
       " ((130, 15887), 1.0),\n",
       " ((130, 15968), 4.0),\n",
       " ((130, 18781), 5.0),\n",
       " ((131, 11), 4.0),\n",
       " ((131, 504), 4.0),\n",
       " ((131, 6414), 5.0),\n",
       " ((131, 6439), 4.0),\n",
       " ((131, 9924), 5.0),\n",
       " ((131, 18746), 3.0),\n",
       " ((132, 11), 5.0),\n",
       " ((132, 2830), 5.0),\n",
       " ((132, 3161), 4.0),\n",
       " ((132, 8926), 4.0),\n",
       " ((132, 17737), 5.0),\n",
       " ((133, 11), 5.0),\n",
       " ((133, 780), 5.0),\n",
       " ((133, 3404), 5.0),\n",
       " ((133, 5105), 5.0),\n",
       " ((133, 5867), 5.0),\n",
       " ((133, 6949), 5.0),\n",
       " ((133, 7517), 4.0),\n",
       " ((133, 15251), 5.0),\n",
       " ((133, 17971), 5.0),\n",
       " ((133, 18989), 5.0),\n",
       " ((133, 19849), 5.0),\n",
       " ((134, 11), 5.0),\n",
       " ((134, 6601), 4.0),\n",
       " ((135, 11), 4.0),\n",
       " ((135, 2659), 2.0),\n",
       " ((135, 11686), 3.0),\n",
       " ((136, 11), 2.0),\n",
       " ((136, 4519), 5.0),\n",
       " ((136, 4562), 4.0),\n",
       " ((136, 5435), 5.0),\n",
       " ((136, 14064), 1.0),\n",
       " ((137, 11), 5.0),\n",
       " ((137, 272), 4.0),\n",
       " ((137, 4382), 5.0),\n",
       " ((137, 7679), 4.0),\n",
       " ((137, 7989), 2.0),\n",
       " ((138, 12), 5.0),\n",
       " ((138, 1591), 5.0),\n",
       " ((138, 3508), 5.0),\n",
       " ((138, 5814), 5.0),\n",
       " ((138, 9310), 5.0),\n",
       " ((138, 11045), 5.0),\n",
       " ((138, 12181), 4.0),\n",
       " ((138, 13023), 3.0),\n",
       " ((138, 14104), 5.0),\n",
       " ((138, 17397), 5.0),\n",
       " ((138, 17746), 5.0),\n",
       " ((139, 12), 5.0),\n",
       " ((139, 8386), 5.0),\n",
       " ((139, 17202), 5.0),\n",
       " ((140, 12), 5.0),\n",
       " ((140, 1602), 5.0),\n",
       " ((140, 5197), 5.0),\n",
       " ((140, 7748), 5.0),\n",
       " ((140, 12350), 4.0),\n",
       " ((140, 13505), 4.0),\n",
       " ((140, 16201), 5.0),\n",
       " ((141, 12), 5.0),\n",
       " ((141, 4274), 5.0),\n",
       " ((141, 6450), 5.0),\n",
       " ((141, 9015), 5.0),\n",
       " ((141, 14321), 5.0),\n",
       " ((141, 16379), 5.0),\n",
       " ((141, 19260), 5.0),\n",
       " ((141, 19459), 4.0),\n",
       " ((141, 19751), 4.0),\n",
       " ((142, 12), 5.0),\n",
       " ((142, 858), 5.0),\n",
       " ((142, 1011), 5.0),\n",
       " ((142, 13708), 5.0),\n",
       " ((143, 12), 5.0),\n",
       " ((143, 1190), 5.0),\n",
       " ((143, 2308), 5.0),\n",
       " ((143, 5310), 5.0),\n",
       " ((143, 19704), 5.0),\n",
       " ((144, 13), 4.0),\n",
       " ((144, 2401), 5.0),\n",
       " ((144, 4961), 5.0),\n",
       " ((144, 5555), 5.0),\n",
       " ((144, 9008), 5.0),\n",
       " ((144, 13717), 5.0),\n",
       " ((144, 18694), 3.0),\n",
       " ((145, 13), 1.0),\n",
       " ((145, 4725), 5.0),\n",
       " ((145, 4871), 4.0),\n",
       " ((145, 7608), 4.0),\n",
       " ((145, 8400), 5.0),\n",
       " ((145, 12864), 5.0),\n",
       " ((145, 13036), 1.0),\n",
       " ((145, 17698), 5.0),\n",
       " ((146, 13), 3.0),\n",
       " ((146, 1045), 5.0),\n",
       " ...]"
      ]
     },
     "execution_count": 141,
     "metadata": {},
     "output_type": "execute_result"
    }
   ],
   "source": [
    "# glance into the sparse array\n",
    "[((i, j), user_item_matrix[i,j]) for i, j in zip(*user_item_matrix.nonzero())]"
   ]
  },
  {
   "cell_type": "markdown",
   "metadata": {},
   "source": [
    "### k nearest neighbor (user similarity)"
   ]
  },
  {
   "cell_type": "code",
   "execution_count": 144,
   "metadata": {},
   "outputs": [],
   "source": [
    "from sklearn.neighbors import NearestNeighbors\n",
    "knn = NearestNeighbors(metric='cosine', algorithm='brute', n_neighbors=11)\n",
    "knn.fit(user_item_matrix)\n",
    "neighbors = np.asarray(knn.kneighbors(user_item_matrix, return_distance=False))"
   ]
  },
  {
   "cell_type": "code",
   "execution_count": 145,
   "metadata": {},
   "outputs": [],
   "source": [
    "# set k\n",
    "k = 10\n",
    "\n",
    "# grab k nearest neighbors\n",
    "unique_id = []\n",
    "k_neighbors = []\n",
    "for i in range(num_reviewers):\n",
    "    unique_id.append(i)\n",
    "    k_neighbors.append(list(neighbors[i][1:(k+1)]))\n",
    "neighbors_df = pd.DataFrame(data={'user_index': unique_id,\n",
    "                                  'neighbors': k_neighbors})"
   ]
  },
  {
   "cell_type": "code",
   "execution_count": 146,
   "metadata": {},
   "outputs": [
    {
     "data": {
      "text/plain": [
       "39239"
      ]
     },
     "execution_count": 146,
     "metadata": {},
     "output_type": "execute_result"
    }
   ],
   "source": [
    "# get original reviewerIDs, might want to do this at the end with a lookup to ensure no bugs with ordering\n",
    "neighbors_df['reviewerID'] = data['reviewerID'].unique()\n",
    "\n",
    "# check length is number of unique reviewers: 39239\n",
    "len(neighbors_df['reviewerID'].unique())"
   ]
  },
  {
   "cell_type": "code",
   "execution_count": 147,
   "metadata": {},
   "outputs": [
    {
     "name": "stdout",
     "output_type": "stream",
     "text": [
      "time elapsed: 268.6005599498749\n"
     ]
    }
   ],
   "source": [
    "# seems to take about 4 to 8 minutes when k = 10\n",
    "start = time.time()\n",
    "\n",
    "# calculate average of neighbors for each reviewer\n",
    "knn_user_dict = {}\n",
    "for index, row in neighbors_df.iterrows():\n",
    "    user = row['reviewerID']\n",
    "    user_id = reviewer_dict[user]\n",
    "    row = row['neighbors']\n",
    "    arr = np.empty((0, 1), int)\n",
    "    for i in row:\n",
    "        avg_rating = replaced_df.loc[replaced_df['user_index'] == i]['rating'].mean()\n",
    "        arr = np.append(arr, np.array([[avg_rating]]))\n",
    "    current_reviewer_avg = replaced_df.loc[replaced_df['user_index'] == user_id]['rating'].mean()\n",
    "    arr = np.append(arr, np.array([[current_reviewer_avg]]))  \n",
    "    knn_rating_avg = arr.mean().astype('float32')\n",
    "    knn_user_dict.update({user: knn_rating_avg})    \n",
    "end = time.time()\n",
    "print(\"time elapsed: {}\".format(end-start))"
   ]
  },
  {
   "cell_type": "code",
   "execution_count": 148,
   "metadata": {},
   "outputs": [
    {
     "data": {
      "text/plain": [
       "(39239,\n",
       " {'U829827806': 4.310606,\n",
       "  'U183746108': 4.3045454,\n",
       "  'U146313905': 4.3727274,\n",
       "  'U888802715': 4.3374457,\n",
       "  'U935282947': 4.2,\n",
       "  'U828134066': 4.1363635,\n",
       "  'U175386958': 4.151515,\n",
       "  'U629123347': 3.9132035,\n",
       "  'U660283338': 3.7818182,\n",
       "  'U257993407': 3.919697,\n",
       "  'U841844002': 4.4424243,\n",
       "  'U305767347': 4.287879,\n",
       "  'U050305204': 4.139394,\n",
       "  'U555306312': 4.2742424,\n",
       "  'U175050634': 4.287879,\n",
       "  'U536644276': 4.306061,\n",
       "  'U288552612': 4.1883116,\n",
       "  'U779423877': 4.0848484,\n",
       "  'U059921763': 4.4848485,\n",
       "  'U816299023': 3.9772727})"
      ]
     },
     "execution_count": 148,
     "metadata": {},
     "output_type": "execute_result"
    }
   ],
   "source": [
    "# check length is number of unique reviewers: 39239\n",
    "# print first 20 elements\n",
    "len(knn_user_dict), dict(list(knn_user_dict.items())[0:20])"
   ]
  },
  {
   "cell_type": "markdown",
   "metadata": {},
   "source": [
    "### user averages (baseline)"
   ]
  },
  {
   "cell_type": "code",
   "execution_count": 277,
   "metadata": {},
   "outputs": [
    {
     "data": {
      "text/plain": [
       "39239"
      ]
     },
     "execution_count": 277,
     "metadata": {},
     "output_type": "execute_result"
    }
   ],
   "source": [
    "# calculate global average\n",
    "global_average = data['rating'].mean()\n",
    "\n",
    "# calculate average ratings for each user\n",
    "baseline = data[['reviewerID', 'rating']]\n",
    "baseline = baseline.groupby(['reviewerID'], as_index=False).mean()\n",
    "#averages_df.astype({'rating': 'int32'}).dtypes\n",
    "reviewers = baseline['reviewerID']\n",
    "ratings = baseline['rating']\n",
    "\n",
    "# zip into dictionary\n",
    "baseline_user_dict = dict(zip(reviewers, ratings))\n",
    "len(baseline_user_dict)"
   ]
  },
  {
   "cell_type": "markdown",
   "metadata": {},
   "source": [
    "### item averages"
   ]
  },
  {
   "cell_type": "code",
   "execution_count": 279,
   "metadata": {},
   "outputs": [
    {
     "data": {
      "text/plain": [
       "19914"
      ]
     },
     "execution_count": 279,
     "metadata": {},
     "output_type": "execute_result"
    }
   ],
   "source": [
    "# calculate average ratings for each user\n",
    "items_data = data[['itemID', 'rating']]\n",
    "items_data = items_data.groupby(['itemID'], as_index=False).mean()\n",
    "items = items_data['itemID']\n",
    "ratings = items_data['rating']\n",
    "\n",
    "# zip into dictionary\n",
    "items_dict = dict(zip(items, ratings))\n",
    "len(items_dict)"
   ]
  },
  {
   "cell_type": "markdown",
   "metadata": {},
   "source": [
    "### factorization recommender"
   ]
  },
  {
   "cell_type": "code",
   "execution_count": 230,
   "metadata": {},
   "outputs": [
    {
     "data": {
      "text/html": [
       "<div style=\"max-height:1000px;max-width:1500px;overflow:auto;\"><table frame=\"box\" rules=\"cols\">\n",
       "    <tr>\n",
       "        <th style=\"padding-left: 1em; padding-right: 1em; text-align: center\">reviewerID</th>\n",
       "        <th style=\"padding-left: 1em; padding-right: 1em; text-align: center\">itemID</th>\n",
       "        <th style=\"padding-left: 1em; padding-right: 1em; text-align: center\">rating</th>\n",
       "    </tr>\n",
       "    <tr>\n",
       "        <td style=\"padding-left: 1em; padding-right: 1em; text-align: center; vertical-align: top\">U829827806</td>\n",
       "        <td style=\"padding-left: 1em; padding-right: 1em; text-align: center; vertical-align: top\">I999917660</td>\n",
       "        <td style=\"padding-left: 1em; padding-right: 1em; text-align: center; vertical-align: top\">5</td>\n",
       "    </tr>\n",
       "    <tr>\n",
       "        <td style=\"padding-left: 1em; padding-right: 1em; text-align: center; vertical-align: top\">U183746108</td>\n",
       "        <td style=\"padding-left: 1em; padding-right: 1em; text-align: center; vertical-align: top\">I999917660</td>\n",
       "        <td style=\"padding-left: 1em; padding-right: 1em; text-align: center; vertical-align: top\">5</td>\n",
       "    </tr>\n",
       "    <tr>\n",
       "        <td style=\"padding-left: 1em; padding-right: 1em; text-align: center; vertical-align: top\">U146313905</td>\n",
       "        <td style=\"padding-left: 1em; padding-right: 1em; text-align: center; vertical-align: top\">I999917660</td>\n",
       "        <td style=\"padding-left: 1em; padding-right: 1em; text-align: center; vertical-align: top\">5</td>\n",
       "    </tr>\n",
       "    <tr>\n",
       "        <td style=\"padding-left: 1em; padding-right: 1em; text-align: center; vertical-align: top\">U888802715</td>\n",
       "        <td style=\"padding-left: 1em; padding-right: 1em; text-align: center; vertical-align: top\">I999917660</td>\n",
       "        <td style=\"padding-left: 1em; padding-right: 1em; text-align: center; vertical-align: top\">3</td>\n",
       "    </tr>\n",
       "    <tr>\n",
       "        <td style=\"padding-left: 1em; padding-right: 1em; text-align: center; vertical-align: top\">U935282947</td>\n",
       "        <td style=\"padding-left: 1em; padding-right: 1em; text-align: center; vertical-align: top\">I999917660</td>\n",
       "        <td style=\"padding-left: 1em; padding-right: 1em; text-align: center; vertical-align: top\">5</td>\n",
       "    </tr>\n",
       "    <tr>\n",
       "        <td style=\"padding-left: 1em; padding-right: 1em; text-align: center; vertical-align: top\">U828134066</td>\n",
       "        <td style=\"padding-left: 1em; padding-right: 1em; text-align: center; vertical-align: top\">I999917660</td>\n",
       "        <td style=\"padding-left: 1em; padding-right: 1em; text-align: center; vertical-align: top\">5</td>\n",
       "    </tr>\n",
       "    <tr>\n",
       "        <td style=\"padding-left: 1em; padding-right: 1em; text-align: center; vertical-align: top\">U175386958</td>\n",
       "        <td style=\"padding-left: 1em; padding-right: 1em; text-align: center; vertical-align: top\">I999917660</td>\n",
       "        <td style=\"padding-left: 1em; padding-right: 1em; text-align: center; vertical-align: top\">5</td>\n",
       "    </tr>\n",
       "    <tr>\n",
       "        <td style=\"padding-left: 1em; padding-right: 1em; text-align: center; vertical-align: top\">U629123347</td>\n",
       "        <td style=\"padding-left: 1em; padding-right: 1em; text-align: center; vertical-align: top\">I999917660</td>\n",
       "        <td style=\"padding-left: 1em; padding-right: 1em; text-align: center; vertical-align: top\">4</td>\n",
       "    </tr>\n",
       "    <tr>\n",
       "        <td style=\"padding-left: 1em; padding-right: 1em; text-align: center; vertical-align: top\">U660283338</td>\n",
       "        <td style=\"padding-left: 1em; padding-right: 1em; text-align: center; vertical-align: top\">I999917660</td>\n",
       "        <td style=\"padding-left: 1em; padding-right: 1em; text-align: center; vertical-align: top\">5</td>\n",
       "    </tr>\n",
       "    <tr>\n",
       "        <td style=\"padding-left: 1em; padding-right: 1em; text-align: center; vertical-align: top\">U257993407</td>\n",
       "        <td style=\"padding-left: 1em; padding-right: 1em; text-align: center; vertical-align: top\">I999917660</td>\n",
       "        <td style=\"padding-left: 1em; padding-right: 1em; text-align: center; vertical-align: top\">5</td>\n",
       "    </tr>\n",
       "</table>\n",
       "[200000 rows x 3 columns]<br/>Note: Only the head of the SFrame is printed.<br/>You can use print_rows(num_rows=m, num_columns=n) to print more rows and columns.\n",
       "</div>"
      ],
      "text/plain": [
       "Columns:\n",
       "\treviewerID\tstr\n",
       "\titemID\tstr\n",
       "\trating\tint\n",
       "\n",
       "Rows: 200000\n",
       "\n",
       "Data:\n",
       "+------------+------------+--------+\n",
       "| reviewerID |   itemID   | rating |\n",
       "+------------+------------+--------+\n",
       "| U829827806 | I999917660 |   5    |\n",
       "| U183746108 | I999917660 |   5    |\n",
       "| U146313905 | I999917660 |   5    |\n",
       "| U888802715 | I999917660 |   3    |\n",
       "| U935282947 | I999917660 |   5    |\n",
       "| U828134066 | I999917660 |   5    |\n",
       "| U175386958 | I999917660 |   5    |\n",
       "| U629123347 | I999917660 |   4    |\n",
       "| U660283338 | I999917660 |   5    |\n",
       "| U257993407 | I999917660 |   5    |\n",
       "+------------+------------+--------+\n",
       "[200000 rows x 3 columns]\n",
       "Note: Only the head of the SFrame is printed.\n",
       "You can use print_rows(num_rows=m, num_columns=n) to print more rows and columns."
      ]
     },
     "execution_count": 230,
     "metadata": {},
     "output_type": "execute_result"
    }
   ],
   "source": [
    "sf = tc.SFrame(data[[\"reviewerID\",\"itemID\",\"rating\"]])\n",
    "sf"
   ]
  },
  {
   "cell_type": "code",
   "execution_count": 231,
   "metadata": {},
   "outputs": [],
   "source": [
    "train_data, test_data = sf.random_split(.9, seed=42)"
   ]
  },
  {
   "cell_type": "code",
   "execution_count": 232,
   "metadata": {
    "scrolled": false
   },
   "outputs": [
    {
     "data": {
      "text/html": [
       "<pre>Preparing data set.</pre>"
      ],
      "text/plain": [
       "Preparing data set."
      ]
     },
     "metadata": {},
     "output_type": "display_data"
    },
    {
     "data": {
      "text/html": [
       "<pre>    Data has 180158 observations with 39118 users and 19913 items.</pre>"
      ],
      "text/plain": [
       "    Data has 180158 observations with 39118 users and 19913 items."
      ]
     },
     "metadata": {},
     "output_type": "display_data"
    },
    {
     "data": {
      "text/html": [
       "<pre>    Data prepared in: 0.125972s</pre>"
      ],
      "text/plain": [
       "    Data prepared in: 0.125972s"
      ]
     },
     "metadata": {},
     "output_type": "display_data"
    },
    {
     "data": {
      "text/html": [
       "<pre>Training factorization_recommender for recommendations.</pre>"
      ],
      "text/plain": [
       "Training factorization_recommender for recommendations."
      ]
     },
     "metadata": {},
     "output_type": "display_data"
    },
    {
     "data": {
      "text/html": [
       "<pre>+--------------------------------+--------------------------------------------------+----------+</pre>"
      ],
      "text/plain": [
       "+--------------------------------+--------------------------------------------------+----------+"
      ]
     },
     "metadata": {},
     "output_type": "display_data"
    },
    {
     "data": {
      "text/html": [
       "<pre>| Parameter                      | Description                                      | Value    |</pre>"
      ],
      "text/plain": [
       "| Parameter                      | Description                                      | Value    |"
      ]
     },
     "metadata": {},
     "output_type": "display_data"
    },
    {
     "data": {
      "text/html": [
       "<pre>+--------------------------------+--------------------------------------------------+----------+</pre>"
      ],
      "text/plain": [
       "+--------------------------------+--------------------------------------------------+----------+"
      ]
     },
     "metadata": {},
     "output_type": "display_data"
    },
    {
     "data": {
      "text/html": [
       "<pre>| num_factors                    | Factor Dimension                                 | 4        |</pre>"
      ],
      "text/plain": [
       "| num_factors                    | Factor Dimension                                 | 4        |"
      ]
     },
     "metadata": {},
     "output_type": "display_data"
    },
    {
     "data": {
      "text/html": [
       "<pre>| regularization                 | L2 Regularization on Factors                     | 1e-08    |</pre>"
      ],
      "text/plain": [
       "| regularization                 | L2 Regularization on Factors                     | 1e-08    |"
      ]
     },
     "metadata": {},
     "output_type": "display_data"
    },
    {
     "data": {
      "text/html": [
       "<pre>| solver                         | Solver used for training                         | sgd      |</pre>"
      ],
      "text/plain": [
       "| solver                         | Solver used for training                         | sgd      |"
      ]
     },
     "metadata": {},
     "output_type": "display_data"
    },
    {
     "data": {
      "text/html": [
       "<pre>| linear_regularization          | L2 Regularization on Linear Coefficients         | 1e-10    |</pre>"
      ],
      "text/plain": [
       "| linear_regularization          | L2 Regularization on Linear Coefficients         | 1e-10    |"
      ]
     },
     "metadata": {},
     "output_type": "display_data"
    },
    {
     "data": {
      "text/html": [
       "<pre>| max_iterations                 | Maximum Number of Iterations                     | 5        |</pre>"
      ],
      "text/plain": [
       "| max_iterations                 | Maximum Number of Iterations                     | 5        |"
      ]
     },
     "metadata": {},
     "output_type": "display_data"
    },
    {
     "data": {
      "text/html": [
       "<pre>+--------------------------------+--------------------------------------------------+----------+</pre>"
      ],
      "text/plain": [
       "+--------------------------------+--------------------------------------------------+----------+"
      ]
     },
     "metadata": {},
     "output_type": "display_data"
    },
    {
     "data": {
      "text/html": [
       "<pre>  Optimizing model using SGD; tuning step size.</pre>"
      ],
      "text/plain": [
       "  Optimizing model using SGD; tuning step size."
      ]
     },
     "metadata": {},
     "output_type": "display_data"
    },
    {
     "data": {
      "text/html": [
       "<pre>  Using 22519 / 180158 points for tuning the step size.</pre>"
      ],
      "text/plain": [
       "  Using 22519 / 180158 points for tuning the step size."
      ]
     },
     "metadata": {},
     "output_type": "display_data"
    },
    {
     "data": {
      "text/html": [
       "<pre>+---------+-------------------+------------------------------------------+</pre>"
      ],
      "text/plain": [
       "+---------+-------------------+------------------------------------------+"
      ]
     },
     "metadata": {},
     "output_type": "display_data"
    },
    {
     "data": {
      "text/html": [
       "<pre>| Attempt | Initial Step Size | Estimated Objective Value                |</pre>"
      ],
      "text/plain": [
       "| Attempt | Initial Step Size | Estimated Objective Value                |"
      ]
     },
     "metadata": {},
     "output_type": "display_data"
    },
    {
     "data": {
      "text/html": [
       "<pre>+---------+-------------------+------------------------------------------+</pre>"
      ],
      "text/plain": [
       "+---------+-------------------+------------------------------------------+"
      ]
     },
     "metadata": {},
     "output_type": "display_data"
    },
    {
     "data": {
      "text/html": [
       "<pre>| 0       | 25                | Not Viable                               |</pre>"
      ],
      "text/plain": [
       "| 0       | 25                | Not Viable                               |"
      ]
     },
     "metadata": {},
     "output_type": "display_data"
    },
    {
     "data": {
      "text/html": [
       "<pre>| 1       | 6.25              | No Decrease (16.2526 >= 1.22765)         |</pre>"
      ],
      "text/plain": [
       "| 1       | 6.25              | No Decrease (16.2526 >= 1.22765)         |"
      ]
     },
     "metadata": {},
     "output_type": "display_data"
    },
    {
     "data": {
      "text/html": [
       "<pre>| 2       | 1.5625            | No Decrease (1.5103 >= 1.22765)          |</pre>"
      ],
      "text/plain": [
       "| 2       | 1.5625            | No Decrease (1.5103 >= 1.22765)          |"
      ]
     },
     "metadata": {},
     "output_type": "display_data"
    },
    {
     "data": {
      "text/html": [
       "<pre>| 3       | 0.390625          | 0.0471634                                |</pre>"
      ],
      "text/plain": [
       "| 3       | 0.390625          | 0.0471634                                |"
      ]
     },
     "metadata": {},
     "output_type": "display_data"
    },
    {
     "data": {
      "text/html": [
       "<pre>| 4       | 0.195312          | 0.0955491                                |</pre>"
      ],
      "text/plain": [
       "| 4       | 0.195312          | 0.0955491                                |"
      ]
     },
     "metadata": {},
     "output_type": "display_data"
    },
    {
     "data": {
      "text/html": [
       "<pre>+---------+-------------------+------------------------------------------+</pre>"
      ],
      "text/plain": [
       "+---------+-------------------+------------------------------------------+"
      ]
     },
     "metadata": {},
     "output_type": "display_data"
    },
    {
     "data": {
      "text/html": [
       "<pre>| Final   | 0.390625          | 0.0471634                                |</pre>"
      ],
      "text/plain": [
       "| Final   | 0.390625          | 0.0471634                                |"
      ]
     },
     "metadata": {},
     "output_type": "display_data"
    },
    {
     "data": {
      "text/html": [
       "<pre>+---------+-------------------+------------------------------------------+</pre>"
      ],
      "text/plain": [
       "+---------+-------------------+------------------------------------------+"
      ]
     },
     "metadata": {},
     "output_type": "display_data"
    },
    {
     "data": {
      "text/html": [
       "<pre>Starting Optimization.</pre>"
      ],
      "text/plain": [
       "Starting Optimization."
      ]
     },
     "metadata": {},
     "output_type": "display_data"
    },
    {
     "data": {
      "text/html": [
       "<pre>+---------+--------------+-------------------+-----------------------+-------------+</pre>"
      ],
      "text/plain": [
       "+---------+--------------+-------------------+-----------------------+-------------+"
      ]
     },
     "metadata": {},
     "output_type": "display_data"
    },
    {
     "data": {
      "text/html": [
       "<pre>| Iter.   | Elapsed Time | Approx. Objective | Approx. Training RMSE | Step Size   |</pre>"
      ],
      "text/plain": [
       "| Iter.   | Elapsed Time | Approx. Objective | Approx. Training RMSE | Step Size   |"
      ]
     },
     "metadata": {},
     "output_type": "display_data"
    },
    {
     "data": {
      "text/html": [
       "<pre>+---------+--------------+-------------------+-----------------------+-------------+</pre>"
      ],
      "text/plain": [
       "+---------+--------------+-------------------+-----------------------+-------------+"
      ]
     },
     "metadata": {},
     "output_type": "display_data"
    },
    {
     "data": {
      "text/html": [
       "<pre>| Initial | 96us         | 1.22685           | 1.10763               |             |</pre>"
      ],
      "text/plain": [
       "| Initial | 96us         | 1.22685           | 1.10763               |             |"
      ]
     },
     "metadata": {},
     "output_type": "display_data"
    },
    {
     "data": {
      "text/html": [
       "<pre>+---------+--------------+-------------------+-----------------------+-------------+</pre>"
      ],
      "text/plain": [
       "+---------+--------------+-------------------+-----------------------+-------------+"
      ]
     },
     "metadata": {},
     "output_type": "display_data"
    },
    {
     "data": {
      "text/html": [
       "<pre>| 1       | 45.159ms     | 2.34047           | 1.52938               | 0.390625    |</pre>"
      ],
      "text/plain": [
       "| 1       | 45.159ms     | 2.34047           | 1.52938               | 0.390625    |"
      ]
     },
     "metadata": {},
     "output_type": "display_data"
    },
    {
     "data": {
      "text/html": [
       "<pre>| 2       | 105.528ms    | DIVERGED          | DIVERGED              | 0.232267    |</pre>"
      ],
      "text/plain": [
       "| 2       | 105.528ms    | DIVERGED          | DIVERGED              | 0.232267    |"
      ]
     },
     "metadata": {},
     "output_type": "display_data"
    },
    {
     "data": {
      "text/html": [
       "<pre>| RESET   | 123.066ms    | 1.22685           | 1.10763               |             |</pre>"
      ],
      "text/plain": [
       "| RESET   | 123.066ms    | 1.22685           | 1.10763               |             |"
      ]
     },
     "metadata": {},
     "output_type": "display_data"
    },
    {
     "data": {
      "text/html": [
       "<pre>| 1       | 172.038ms    | 1.24268           | 1.1147                | 0.116134    |</pre>"
      ],
      "text/plain": [
       "| 1       | 172.038ms    | 1.24268           | 1.1147                | 0.116134    |"
      ]
     },
     "metadata": {},
     "output_type": "display_data"
    },
    {
     "data": {
      "text/html": [
       "<pre>| 2       | 221.792ms    | 0.895418          | 0.946241              | 0.0690534   |</pre>"
      ],
      "text/plain": [
       "| 2       | 221.792ms    | 0.895418          | 0.946241              | 0.0690534   |"
      ]
     },
     "metadata": {},
     "output_type": "display_data"
    },
    {
     "data": {
      "text/html": [
       "<pre>| 3       | 278.935ms    | 0.802099          | 0.89559               | 0.0509468   |</pre>"
      ],
      "text/plain": [
       "| 3       | 278.935ms    | 0.802099          | 0.89559               | 0.0509468   |"
      ]
     },
     "metadata": {},
     "output_type": "display_data"
    },
    {
     "data": {
      "text/html": [
       "<pre>| 4       | 335.185ms    | 0.745285          | 0.863295              | 0.0345267   |</pre>"
      ],
      "text/plain": [
       "| 4       | 335.185ms    | 0.745285          | 0.863295              | 0.0345267   |"
      ]
     },
     "metadata": {},
     "output_type": "display_data"
    },
    {
     "data": {
      "text/html": [
       "<pre>| 5       | 403.791ms    | 0.724095          | 0.850937              | 0.029206    |</pre>"
      ],
      "text/plain": [
       "| 5       | 403.791ms    | 0.724095          | 0.850937              | 0.029206    |"
      ]
     },
     "metadata": {},
     "output_type": "display_data"
    },
    {
     "data": {
      "text/html": [
       "<pre>+---------+--------------+-------------------+-----------------------+-------------+</pre>"
      ],
      "text/plain": [
       "+---------+--------------+-------------------+-----------------------+-------------+"
      ]
     },
     "metadata": {},
     "output_type": "display_data"
    },
    {
     "data": {
      "text/html": [
       "<pre>Optimization Complete: Maximum number of passes through the data reached.</pre>"
      ],
      "text/plain": [
       "Optimization Complete: Maximum number of passes through the data reached."
      ]
     },
     "metadata": {},
     "output_type": "display_data"
    },
    {
     "data": {
      "text/html": [
       "<pre>Computing final objective value and training RMSE.</pre>"
      ],
      "text/plain": [
       "Computing final objective value and training RMSE."
      ]
     },
     "metadata": {},
     "output_type": "display_data"
    },
    {
     "data": {
      "text/html": [
       "<pre>       Final objective value: 0.650706</pre>"
      ],
      "text/plain": [
       "       Final objective value: 0.650706"
      ]
     },
     "metadata": {},
     "output_type": "display_data"
    },
    {
     "data": {
      "text/html": [
       "<pre>       Final training RMSE: 0.806662</pre>"
      ],
      "text/plain": [
       "       Final training RMSE: 0.806662"
      ]
     },
     "metadata": {},
     "output_type": "display_data"
    }
   ],
   "source": [
    "model = tc.factorization_recommender.create(\n",
    "    train_data, user_id='reviewerID', item_id=\"itemID\", target='rating', num_factors=4, max_iterations = 5)\n",
    "\n",
    "#model.evaluate(test_data)"
   ]
  },
  {
   "cell_type": "code",
   "execution_count": 233,
   "metadata": {},
   "outputs": [
    {
     "name": "stdout",
     "output_type": "stream",
     "text": [
      "num pairs: 14000\n"
     ]
    }
   ],
   "source": [
    "# load rating pairs file\n",
    "pairs = pd.read_csv(\"pairs_Rating.txt\")\n",
    "print(\"num pairs: {}\".format(len(pairs))) "
   ]
  },
  {
   "cell_type": "code",
   "execution_count": 234,
   "metadata": {},
   "outputs": [
    {
     "data": {
      "text/html": [
       "<div style=\"max-height:1000px;max-width:1500px;overflow:auto;\"><table frame=\"box\" rules=\"cols\">\n",
       "    <tr>\n",
       "        <th style=\"padding-left: 1em; padding-right: 1em; text-align: center\">reviewerID</th>\n",
       "        <th style=\"padding-left: 1em; padding-right: 1em; text-align: center\">itemID</th>\n",
       "    </tr>\n",
       "    <tr>\n",
       "        <td style=\"padding-left: 1em; padding-right: 1em; text-align: center; vertical-align: top\">U566642233</td>\n",
       "        <td style=\"padding-left: 1em; padding-right: 1em; text-align: center; vertical-align: top\">I937291762</td>\n",
       "    </tr>\n",
       "    <tr>\n",
       "        <td style=\"padding-left: 1em; padding-right: 1em; text-align: center; vertical-align: top\">U150556394</td>\n",
       "        <td style=\"padding-left: 1em; padding-right: 1em; text-align: center; vertical-align: top\">I033937358</td>\n",
       "    </tr>\n",
       "    <tr>\n",
       "        <td style=\"padding-left: 1em; padding-right: 1em; text-align: center; vertical-align: top\">U835748092</td>\n",
       "        <td style=\"padding-left: 1em; padding-right: 1em; text-align: center; vertical-align: top\">I634015598</td>\n",
       "    </tr>\n",
       "    <tr>\n",
       "        <td style=\"padding-left: 1em; padding-right: 1em; text-align: center; vertical-align: top\">U636069453</td>\n",
       "        <td style=\"padding-left: 1em; padding-right: 1em; text-align: center; vertical-align: top\">I432257131</td>\n",
       "    </tr>\n",
       "    <tr>\n",
       "        <td style=\"padding-left: 1em; padding-right: 1em; text-align: center; vertical-align: top\">U336431363</td>\n",
       "        <td style=\"padding-left: 1em; padding-right: 1em; text-align: center; vertical-align: top\">I745492929</td>\n",
       "    </tr>\n",
       "    <tr>\n",
       "        <td style=\"padding-left: 1em; padding-right: 1em; text-align: center; vertical-align: top\">U758414122</td>\n",
       "        <td style=\"padding-left: 1em; padding-right: 1em; text-align: center; vertical-align: top\">I756853665</td>\n",
       "    </tr>\n",
       "    <tr>\n",
       "        <td style=\"padding-left: 1em; padding-right: 1em; text-align: center; vertical-align: top\">U130225570</td>\n",
       "        <td style=\"padding-left: 1em; padding-right: 1em; text-align: center; vertical-align: top\">I486717455</td>\n",
       "    </tr>\n",
       "    <tr>\n",
       "        <td style=\"padding-left: 1em; padding-right: 1em; text-align: center; vertical-align: top\">U648205745</td>\n",
       "        <td style=\"padding-left: 1em; padding-right: 1em; text-align: center; vertical-align: top\">I502225117</td>\n",
       "    </tr>\n",
       "    <tr>\n",
       "        <td style=\"padding-left: 1em; padding-right: 1em; text-align: center; vertical-align: top\">U776921293</td>\n",
       "        <td style=\"padding-left: 1em; padding-right: 1em; text-align: center; vertical-align: top\">I585421125</td>\n",
       "    </tr>\n",
       "    <tr>\n",
       "        <td style=\"padding-left: 1em; padding-right: 1em; text-align: center; vertical-align: top\">U096413293</td>\n",
       "        <td style=\"padding-left: 1em; padding-right: 1em; text-align: center; vertical-align: top\">I722344870</td>\n",
       "    </tr>\n",
       "</table>\n",
       "[14000 rows x 2 columns]<br/>Note: Only the head of the SFrame is printed.<br/>You can use print_rows(num_rows=m, num_columns=n) to print more rows and columns.\n",
       "</div>"
      ],
      "text/plain": [
       "Columns:\n",
       "\treviewerID\tstr\n",
       "\titemID\tstr\n",
       "\n",
       "Rows: 14000\n",
       "\n",
       "Data:\n",
       "+------------+------------+\n",
       "| reviewerID |   itemID   |\n",
       "+------------+------------+\n",
       "| U566642233 | I937291762 |\n",
       "| U150556394 | I033937358 |\n",
       "| U835748092 | I634015598 |\n",
       "| U636069453 | I432257131 |\n",
       "| U336431363 | I745492929 |\n",
       "| U758414122 | I756853665 |\n",
       "| U130225570 | I486717455 |\n",
       "| U648205745 | I502225117 |\n",
       "| U776921293 | I585421125 |\n",
       "| U096413293 | I722344870 |\n",
       "+------------+------------+\n",
       "[14000 rows x 2 columns]\n",
       "Note: Only the head of the SFrame is printed.\n",
       "You can use print_rows(num_rows=m, num_columns=n) to print more rows and columns."
      ]
     },
     "execution_count": 234,
     "metadata": {},
     "output_type": "execute_result"
    }
   ],
   "source": [
    "sf_pairs = tc.SFrame(pairs['reviewerID-itemID'].str.split(\"-\",expand=True))\n",
    "sf_pairs = sf_pairs.rename({'0':'reviewerID', '1':'itemID'})\n",
    "sf_pairs"
   ]
  },
  {
   "cell_type": "code",
   "execution_count": 235,
   "metadata": {
    "scrolled": false
   },
   "outputs": [
    {
     "data": {
      "text/plain": [
       "dtype: float\n",
       "Rows: 14000\n",
       "[4.131482676316376, 3.9367213256904234, 3.696948991850742, 4.152559801671624, 3.988561271274416, 5.054626344186199, 4.712955278243764, 4.238194791055487, 5.45466220816652, 2.681891242425219, 4.413942364875676, 3.0397275231307743, 5.139251768364896, 3.85066589626481, 4.446796511189116, 4.700912000043519, 5.172663266607482, 4.4361586593955975, 4.192518955344577, 0.875921176739122, 3.0446710536986314, 3.5254668358249104, 3.380551071813268, 3.159478927436477, 4.51830700957171, 5.363540492971373, 4.700590775685593, 4.355582550146063, 2.991192169753755, 4.979698714957148, 4.453606227628849, 4.333776077842368, 3.8580721284598907, 2.6881107141544147, 5.3395228837023625, 3.752446960269846, 4.037261406019549, 4.38537026083394, 5.113255009231817, 3.557326303557285, 5.096245495288993, 4.816317482540678, 3.3452598150322173, 4.146917394624235, 4.379326776292255, 4.961385695190763, 4.008317509826948, 5.214110198438273, 3.2787905943955264, 4.150680134242431, 4.439911672334513, 4.8227673991539195, 3.993689834094023, 4.9347289984923846, 4.04636378177133, 4.752555122655813, 5.635444253912687, 4.372813514211113, 4.0587961906977865, 4.159526379948889, 3.9506756121152433, 3.064106964227899, 4.535160682217703, 5.027233718016215, 3.535276108921745, 5.128432141397547, 3.625458636917794, 5.390634110582659, 3.0010185895198687, 4.447818201230892, 4.666760262139892, 3.0768616209813855, 3.575800362391358, 4.710178223844488, 4.929057363531327, 3.727287809573947, 5.321215843751413, 4.812579257182239, 3.753559660885368, 3.650275406797472, 2.807973784943779, 4.343851201343152, 4.557662719323129, 2.899008487259688, 5.324803971421054, 4.366370161960925, 4.67148578341263, 4.6757003382004525, 3.911914894612063, 2.946361370835713, 5.116493111024705, 3.953324603319099, 2.869288241282983, 4.018300290246198, 4.4106209222268005, 4.3282272077969095, 4.1496406552676595, 2.9338587812613026, 4.407204916018794, 4.020216013071699, ... ]"
      ]
     },
     "execution_count": 235,
     "metadata": {},
     "output_type": "execute_result"
    }
   ],
   "source": [
    "predicted_ratings = model.predict(sf_pairs)\n",
    "predicted_ratings"
   ]
  },
  {
   "cell_type": "code",
   "execution_count": 243,
   "metadata": {},
   "outputs": [
    {
     "data": {
      "text/html": [
       "<div style=\"max-height:1000px;max-width:1500px;overflow:auto;\"><table frame=\"box\" rules=\"cols\">\n",
       "    <tr>\n",
       "        <th style=\"padding-left: 1em; padding-right: 1em; text-align: center\">reviewerID</th>\n",
       "        <th style=\"padding-left: 1em; padding-right: 1em; text-align: center\">itemID</th>\n",
       "        <th style=\"padding-left: 1em; padding-right: 1em; text-align: center\">factorization_rating</th>\n",
       "    </tr>\n",
       "    <tr>\n",
       "        <td style=\"padding-left: 1em; padding-right: 1em; text-align: center; vertical-align: top\">U566642233</td>\n",
       "        <td style=\"padding-left: 1em; padding-right: 1em; text-align: center; vertical-align: top\">I937291762</td>\n",
       "        <td style=\"padding-left: 1em; padding-right: 1em; text-align: center; vertical-align: top\">4.131482676316376</td>\n",
       "    </tr>\n",
       "    <tr>\n",
       "        <td style=\"padding-left: 1em; padding-right: 1em; text-align: center; vertical-align: top\">U150556394</td>\n",
       "        <td style=\"padding-left: 1em; padding-right: 1em; text-align: center; vertical-align: top\">I033937358</td>\n",
       "        <td style=\"padding-left: 1em; padding-right: 1em; text-align: center; vertical-align: top\">3.9367213256904234</td>\n",
       "    </tr>\n",
       "    <tr>\n",
       "        <td style=\"padding-left: 1em; padding-right: 1em; text-align: center; vertical-align: top\">U835748092</td>\n",
       "        <td style=\"padding-left: 1em; padding-right: 1em; text-align: center; vertical-align: top\">I634015598</td>\n",
       "        <td style=\"padding-left: 1em; padding-right: 1em; text-align: center; vertical-align: top\">3.696948991850742</td>\n",
       "    </tr>\n",
       "    <tr>\n",
       "        <td style=\"padding-left: 1em; padding-right: 1em; text-align: center; vertical-align: top\">U636069453</td>\n",
       "        <td style=\"padding-left: 1em; padding-right: 1em; text-align: center; vertical-align: top\">I432257131</td>\n",
       "        <td style=\"padding-left: 1em; padding-right: 1em; text-align: center; vertical-align: top\">4.152559801671624</td>\n",
       "    </tr>\n",
       "    <tr>\n",
       "        <td style=\"padding-left: 1em; padding-right: 1em; text-align: center; vertical-align: top\">U336431363</td>\n",
       "        <td style=\"padding-left: 1em; padding-right: 1em; text-align: center; vertical-align: top\">I745492929</td>\n",
       "        <td style=\"padding-left: 1em; padding-right: 1em; text-align: center; vertical-align: top\">3.988561271274416</td>\n",
       "    </tr>\n",
       "    <tr>\n",
       "        <td style=\"padding-left: 1em; padding-right: 1em; text-align: center; vertical-align: top\">U758414122</td>\n",
       "        <td style=\"padding-left: 1em; padding-right: 1em; text-align: center; vertical-align: top\">I756853665</td>\n",
       "        <td style=\"padding-left: 1em; padding-right: 1em; text-align: center; vertical-align: top\">5.054626344186199</td>\n",
       "    </tr>\n",
       "    <tr>\n",
       "        <td style=\"padding-left: 1em; padding-right: 1em; text-align: center; vertical-align: top\">U130225570</td>\n",
       "        <td style=\"padding-left: 1em; padding-right: 1em; text-align: center; vertical-align: top\">I486717455</td>\n",
       "        <td style=\"padding-left: 1em; padding-right: 1em; text-align: center; vertical-align: top\">4.712955278243764</td>\n",
       "    </tr>\n",
       "    <tr>\n",
       "        <td style=\"padding-left: 1em; padding-right: 1em; text-align: center; vertical-align: top\">U648205745</td>\n",
       "        <td style=\"padding-left: 1em; padding-right: 1em; text-align: center; vertical-align: top\">I502225117</td>\n",
       "        <td style=\"padding-left: 1em; padding-right: 1em; text-align: center; vertical-align: top\">4.238194791055487</td>\n",
       "    </tr>\n",
       "    <tr>\n",
       "        <td style=\"padding-left: 1em; padding-right: 1em; text-align: center; vertical-align: top\">U776921293</td>\n",
       "        <td style=\"padding-left: 1em; padding-right: 1em; text-align: center; vertical-align: top\">I585421125</td>\n",
       "        <td style=\"padding-left: 1em; padding-right: 1em; text-align: center; vertical-align: top\">5.45466220816652</td>\n",
       "    </tr>\n",
       "    <tr>\n",
       "        <td style=\"padding-left: 1em; padding-right: 1em; text-align: center; vertical-align: top\">U096413293</td>\n",
       "        <td style=\"padding-left: 1em; padding-right: 1em; text-align: center; vertical-align: top\">I722344870</td>\n",
       "        <td style=\"padding-left: 1em; padding-right: 1em; text-align: center; vertical-align: top\">2.681891242425219</td>\n",
       "    </tr>\n",
       "</table>\n",
       "[14000 rows x 3 columns]<br/>Note: Only the head of the SFrame is printed.<br/>You can use print_rows(num_rows=m, num_columns=n) to print more rows and columns.\n",
       "</div>"
      ],
      "text/plain": [
       "Columns:\n",
       "\treviewerID\tstr\n",
       "\titemID\tstr\n",
       "\tfactorization_rating\tfloat\n",
       "\n",
       "Rows: 14000\n",
       "\n",
       "Data:\n",
       "+------------+------------+----------------------+\n",
       "| reviewerID |   itemID   | factorization_rating |\n",
       "+------------+------------+----------------------+\n",
       "| U566642233 | I937291762 |  4.131482676316376   |\n",
       "| U150556394 | I033937358 |  3.9367213256904234  |\n",
       "| U835748092 | I634015598 |  3.696948991850742   |\n",
       "| U636069453 | I432257131 |  4.152559801671624   |\n",
       "| U336431363 | I745492929 |  3.988561271274416   |\n",
       "| U758414122 | I756853665 |  5.054626344186199   |\n",
       "| U130225570 | I486717455 |  4.712955278243764   |\n",
       "| U648205745 | I502225117 |  4.238194791055487   |\n",
       "| U776921293 | I585421125 |   5.45466220816652   |\n",
       "| U096413293 | I722344870 |  2.681891242425219   |\n",
       "+------------+------------+----------------------+\n",
       "[14000 rows x 3 columns]\n",
       "Note: Only the head of the SFrame is printed.\n",
       "You can use print_rows(num_rows=m, num_columns=n) to print more rows and columns."
      ]
     },
     "execution_count": 243,
     "metadata": {},
     "output_type": "execute_result"
    }
   ],
   "source": [
    "sf_results = sf_pairs.add_column(predicted_ratings, \"factorization_rating\")\n",
    "sf_results"
   ]
  },
  {
   "cell_type": "markdown",
   "metadata": {},
   "source": [
    "### create ensemble prediction"
   ]
  },
  {
   "cell_type": "code",
   "execution_count": 281,
   "metadata": {},
   "outputs": [
    {
     "name": "stdout",
     "output_type": "stream",
     "text": [
      "-------------\n",
      "NaN counts: \n",
      "reviewerID               0\n",
      "itemID                   0\n",
      "factorization_rating     0\n",
      "knn_user_rating         55\n",
      "baseline_user_rating    55\n",
      "item_rating              1\n",
      "mean                     0\n",
      "dtype: int64\n",
      "-------------\n"
     ]
    },
    {
     "data": {
      "text/html": [
       "<div>\n",
       "<style scoped>\n",
       "    .dataframe tbody tr th:only-of-type {\n",
       "        vertical-align: middle;\n",
       "    }\n",
       "\n",
       "    .dataframe tbody tr th {\n",
       "        vertical-align: top;\n",
       "    }\n",
       "\n",
       "    .dataframe thead th {\n",
       "        text-align: right;\n",
       "    }\n",
       "</style>\n",
       "<table border=\"1\" class=\"dataframe\">\n",
       "  <thead>\n",
       "    <tr style=\"text-align: right;\">\n",
       "      <th></th>\n",
       "      <th>reviewerID</th>\n",
       "      <th>itemID</th>\n",
       "      <th>factorization_rating</th>\n",
       "      <th>knn_user_rating</th>\n",
       "      <th>baseline_user_rating</th>\n",
       "      <th>item_rating</th>\n",
       "      <th>mean</th>\n",
       "    </tr>\n",
       "  </thead>\n",
       "  <tbody>\n",
       "    <tr>\n",
       "      <th>0</th>\n",
       "      <td>U566642233</td>\n",
       "      <td>I937291762</td>\n",
       "      <td>4.131483</td>\n",
       "      <td>4.078030</td>\n",
       "      <td>3.375000</td>\n",
       "      <td>4.800000</td>\n",
       "      <td>4.096128</td>\n",
       "    </tr>\n",
       "    <tr>\n",
       "      <th>1</th>\n",
       "      <td>U150556394</td>\n",
       "      <td>I033937358</td>\n",
       "      <td>3.936721</td>\n",
       "      <td>3.856061</td>\n",
       "      <td>5.000000</td>\n",
       "      <td>3.789474</td>\n",
       "      <td>4.145564</td>\n",
       "    </tr>\n",
       "    <tr>\n",
       "      <th>2</th>\n",
       "      <td>U835748092</td>\n",
       "      <td>I634015598</td>\n",
       "      <td>3.696949</td>\n",
       "      <td>4.303030</td>\n",
       "      <td>5.000000</td>\n",
       "      <td>3.833333</td>\n",
       "      <td>4.208328</td>\n",
       "    </tr>\n",
       "    <tr>\n",
       "      <th>3</th>\n",
       "      <td>U636069453</td>\n",
       "      <td>I432257131</td>\n",
       "      <td>4.152560</td>\n",
       "      <td>4.319697</td>\n",
       "      <td>4.166667</td>\n",
       "      <td>4.400000</td>\n",
       "      <td>4.259731</td>\n",
       "    </tr>\n",
       "    <tr>\n",
       "      <th>4</th>\n",
       "      <td>U336431363</td>\n",
       "      <td>I745492929</td>\n",
       "      <td>3.988561</td>\n",
       "      <td>4.195455</td>\n",
       "      <td>4.400000</td>\n",
       "      <td>4.250000</td>\n",
       "      <td>4.208504</td>\n",
       "    </tr>\n",
       "    <tr>\n",
       "      <th>5</th>\n",
       "      <td>U758414122</td>\n",
       "      <td>I756853665</td>\n",
       "      <td>5.054626</td>\n",
       "      <td>4.026348</td>\n",
       "      <td>4.750000</td>\n",
       "      <td>4.771930</td>\n",
       "      <td>4.650726</td>\n",
       "    </tr>\n",
       "    <tr>\n",
       "      <th>6</th>\n",
       "      <td>U130225570</td>\n",
       "      <td>I486717455</td>\n",
       "      <td>4.712955</td>\n",
       "      <td>4.448485</td>\n",
       "      <td>4.600000</td>\n",
       "      <td>4.409091</td>\n",
       "      <td>4.542633</td>\n",
       "    </tr>\n",
       "    <tr>\n",
       "      <th>7</th>\n",
       "      <td>U648205745</td>\n",
       "      <td>I502225117</td>\n",
       "      <td>4.238195</td>\n",
       "      <td>4.062770</td>\n",
       "      <td>4.333333</td>\n",
       "      <td>4.447368</td>\n",
       "      <td>4.270417</td>\n",
       "    </tr>\n",
       "    <tr>\n",
       "      <th>8</th>\n",
       "      <td>U776921293</td>\n",
       "      <td>I585421125</td>\n",
       "      <td>5.454662</td>\n",
       "      <td>4.259091</td>\n",
       "      <td>4.750000</td>\n",
       "      <td>4.358696</td>\n",
       "      <td>4.705612</td>\n",
       "    </tr>\n",
       "    <tr>\n",
       "      <th>9</th>\n",
       "      <td>U096413293</td>\n",
       "      <td>I722344870</td>\n",
       "      <td>2.681891</td>\n",
       "      <td>3.914719</td>\n",
       "      <td>2.500000</td>\n",
       "      <td>3.628205</td>\n",
       "      <td>3.181204</td>\n",
       "    </tr>\n",
       "  </tbody>\n",
       "</table>\n",
       "</div>"
      ],
      "text/plain": [
       "   reviewerID      itemID  factorization_rating  knn_user_rating  \\\n",
       "0  U566642233  I937291762              4.131483         4.078030   \n",
       "1  U150556394  I033937358              3.936721         3.856061   \n",
       "2  U835748092  I634015598              3.696949         4.303030   \n",
       "3  U636069453  I432257131              4.152560         4.319697   \n",
       "4  U336431363  I745492929              3.988561         4.195455   \n",
       "5  U758414122  I756853665              5.054626         4.026348   \n",
       "6  U130225570  I486717455              4.712955         4.448485   \n",
       "7  U648205745  I502225117              4.238195         4.062770   \n",
       "8  U776921293  I585421125              5.454662         4.259091   \n",
       "9  U096413293  I722344870              2.681891         3.914719   \n",
       "\n",
       "   baseline_user_rating  item_rating      mean  \n",
       "0              3.375000     4.800000  4.096128  \n",
       "1              5.000000     3.789474  4.145564  \n",
       "2              5.000000     3.833333  4.208328  \n",
       "3              4.166667     4.400000  4.259731  \n",
       "4              4.400000     4.250000  4.208504  \n",
       "5              4.750000     4.771930  4.650726  \n",
       "6              4.600000     4.409091  4.542633  \n",
       "7              4.333333     4.447368  4.270417  \n",
       "8              4.750000     4.358696  4.705612  \n",
       "9              2.500000     3.628205  3.181204  "
      ]
     },
     "execution_count": 281,
     "metadata": {},
     "output_type": "execute_result"
    }
   ],
   "source": [
    "results = sf_results.to_dataframe()\n",
    "results['knn_user_rating'] = results['reviewerID'].map(knn_user_dict)\n",
    "results['baseline_user_rating'] = results['reviewerID'].map(baseline_user_dict)\n",
    "results['item_rating'] = results['itemID'].map(items_dict)\n",
    "\n",
    "## manual arithmetic keeps missing values to be replaced by global average\n",
    "#results['mean'] = (results['rating'] + results['user_rating'])/2\n",
    "# OR #\n",
    "## mean skips missing, factorization prediction remains\n",
    "results['mean'] = results[['factorization_rating', 'knn_user_rating','baseline_user_rating', 'item_rating']].mean(axis=1)\n",
    "print(\"-------------\\nNaN counts: \\n{}\\n-------------\".format(results.isna().sum()))\n",
    "results.head(10)"
   ]
  },
  {
   "cell_type": "code",
   "execution_count": 282,
   "metadata": {},
   "outputs": [
    {
     "data": {
      "text/html": [
       "<div>\n",
       "<style scoped>\n",
       "    .dataframe tbody tr th:only-of-type {\n",
       "        vertical-align: middle;\n",
       "    }\n",
       "\n",
       "    .dataframe tbody tr th {\n",
       "        vertical-align: top;\n",
       "    }\n",
       "\n",
       "    .dataframe thead th {\n",
       "        text-align: right;\n",
       "    }\n",
       "</style>\n",
       "<table border=\"1\" class=\"dataframe\">\n",
       "  <thead>\n",
       "    <tr style=\"text-align: right;\">\n",
       "      <th></th>\n",
       "      <th>reviewerID</th>\n",
       "      <th>itemID</th>\n",
       "      <th>factorization_rating</th>\n",
       "      <th>knn_user_rating</th>\n",
       "      <th>baseline_user_rating</th>\n",
       "      <th>item_rating</th>\n",
       "      <th>mean</th>\n",
       "    </tr>\n",
       "  </thead>\n",
       "  <tbody>\n",
       "    <tr>\n",
       "      <th>321</th>\n",
       "      <td>U076824669</td>\n",
       "      <td>I509057797</td>\n",
       "      <td>5.565190</td>\n",
       "      <td>4.609599</td>\n",
       "      <td>5.0</td>\n",
       "      <td>5.000000</td>\n",
       "      <td>5.043697</td>\n",
       "    </tr>\n",
       "    <tr>\n",
       "      <th>618</th>\n",
       "      <td>U503247965</td>\n",
       "      <td>I043564971</td>\n",
       "      <td>5.971319</td>\n",
       "      <td>4.503030</td>\n",
       "      <td>5.0</td>\n",
       "      <td>5.000000</td>\n",
       "      <td>5.118587</td>\n",
       "    </tr>\n",
       "    <tr>\n",
       "      <th>740</th>\n",
       "      <td>U067239511</td>\n",
       "      <td>I364012079</td>\n",
       "      <td>5.552518</td>\n",
       "      <td>4.643939</td>\n",
       "      <td>5.0</td>\n",
       "      <td>5.000000</td>\n",
       "      <td>5.049114</td>\n",
       "    </tr>\n",
       "    <tr>\n",
       "      <th>1476</th>\n",
       "      <td>U133647359</td>\n",
       "      <td>I822948414</td>\n",
       "      <td>5.879030</td>\n",
       "      <td>4.583333</td>\n",
       "      <td>5.0</td>\n",
       "      <td>4.750000</td>\n",
       "      <td>5.053091</td>\n",
       "    </tr>\n",
       "    <tr>\n",
       "      <th>1819</th>\n",
       "      <td>U125322926</td>\n",
       "      <td>I824137748</td>\n",
       "      <td>5.649469</td>\n",
       "      <td>4.619372</td>\n",
       "      <td>5.0</td>\n",
       "      <td>4.833333</td>\n",
       "      <td>5.025544</td>\n",
       "    </tr>\n",
       "    <tr>\n",
       "      <th>2122</th>\n",
       "      <td>U063514932</td>\n",
       "      <td>I760326476</td>\n",
       "      <td>5.512446</td>\n",
       "      <td>4.500000</td>\n",
       "      <td>5.0</td>\n",
       "      <td>5.000000</td>\n",
       "      <td>5.003111</td>\n",
       "    </tr>\n",
       "    <tr>\n",
       "      <th>4139</th>\n",
       "      <td>U336519206</td>\n",
       "      <td>I980018381</td>\n",
       "      <td>5.806393</td>\n",
       "      <td>4.228788</td>\n",
       "      <td>5.0</td>\n",
       "      <td>5.000000</td>\n",
       "      <td>5.008795</td>\n",
       "    </tr>\n",
       "    <tr>\n",
       "      <th>4563</th>\n",
       "      <td>U292638498</td>\n",
       "      <td>I447668153</td>\n",
       "      <td>5.778228</td>\n",
       "      <td>4.598918</td>\n",
       "      <td>5.0</td>\n",
       "      <td>4.812500</td>\n",
       "      <td>5.047412</td>\n",
       "    </tr>\n",
       "    <tr>\n",
       "      <th>4952</th>\n",
       "      <td>U754783285</td>\n",
       "      <td>I462392979</td>\n",
       "      <td>5.611358</td>\n",
       "      <td>4.449351</td>\n",
       "      <td>5.0</td>\n",
       "      <td>5.000000</td>\n",
       "      <td>5.015177</td>\n",
       "    </tr>\n",
       "    <tr>\n",
       "      <th>5107</th>\n",
       "      <td>U204629753</td>\n",
       "      <td>I329306834</td>\n",
       "      <td>5.540556</td>\n",
       "      <td>4.675757</td>\n",
       "      <td>5.0</td>\n",
       "      <td>5.000000</td>\n",
       "      <td>5.054078</td>\n",
       "    </tr>\n",
       "    <tr>\n",
       "      <th>5379</th>\n",
       "      <td>U425648350</td>\n",
       "      <td>I837467463</td>\n",
       "      <td>5.629336</td>\n",
       "      <td>4.638528</td>\n",
       "      <td>5.0</td>\n",
       "      <td>4.733333</td>\n",
       "      <td>5.000299</td>\n",
       "    </tr>\n",
       "    <tr>\n",
       "      <th>5852</th>\n",
       "      <td>U479946464</td>\n",
       "      <td>I059563745</td>\n",
       "      <td>5.571016</td>\n",
       "      <td>4.670346</td>\n",
       "      <td>5.0</td>\n",
       "      <td>4.857143</td>\n",
       "      <td>5.024626</td>\n",
       "    </tr>\n",
       "    <tr>\n",
       "      <th>6762</th>\n",
       "      <td>U897446633</td>\n",
       "      <td>I664534268</td>\n",
       "      <td>5.887424</td>\n",
       "      <td>4.312121</td>\n",
       "      <td>5.0</td>\n",
       "      <td>4.857143</td>\n",
       "      <td>5.014172</td>\n",
       "    </tr>\n",
       "    <tr>\n",
       "      <th>7425</th>\n",
       "      <td>U605818049</td>\n",
       "      <td>I808052842</td>\n",
       "      <td>5.749621</td>\n",
       "      <td>4.704762</td>\n",
       "      <td>5.0</td>\n",
       "      <td>4.714286</td>\n",
       "      <td>5.042167</td>\n",
       "    </tr>\n",
       "    <tr>\n",
       "      <th>7702</th>\n",
       "      <td>U120086980</td>\n",
       "      <td>I176990746</td>\n",
       "      <td>6.036047</td>\n",
       "      <td>4.100000</td>\n",
       "      <td>5.0</td>\n",
       "      <td>5.000000</td>\n",
       "      <td>5.034012</td>\n",
       "    </tr>\n",
       "    <tr>\n",
       "      <th>7953</th>\n",
       "      <td>U368558979</td>\n",
       "      <td>I412248491</td>\n",
       "      <td>5.882387</td>\n",
       "      <td>4.290909</td>\n",
       "      <td>5.0</td>\n",
       "      <td>5.000000</td>\n",
       "      <td>5.043324</td>\n",
       "    </tr>\n",
       "    <tr>\n",
       "      <th>9261</th>\n",
       "      <td>U772918036</td>\n",
       "      <td>I757612866</td>\n",
       "      <td>5.709376</td>\n",
       "      <td>4.690909</td>\n",
       "      <td>5.0</td>\n",
       "      <td>5.000000</td>\n",
       "      <td>5.100071</td>\n",
       "    </tr>\n",
       "    <tr>\n",
       "      <th>9767</th>\n",
       "      <td>U791988707</td>\n",
       "      <td>I278028233</td>\n",
       "      <td>5.703803</td>\n",
       "      <td>4.593939</td>\n",
       "      <td>5.0</td>\n",
       "      <td>4.800000</td>\n",
       "      <td>5.024436</td>\n",
       "    </tr>\n",
       "    <tr>\n",
       "      <th>10018</th>\n",
       "      <td>U712842063</td>\n",
       "      <td>I919835374</td>\n",
       "      <td>5.605664</td>\n",
       "      <td>4.403030</td>\n",
       "      <td>5.0</td>\n",
       "      <td>5.000000</td>\n",
       "      <td>5.002174</td>\n",
       "    </tr>\n",
       "    <tr>\n",
       "      <th>10552</th>\n",
       "      <td>U748221196</td>\n",
       "      <td>I599769000</td>\n",
       "      <td>5.616492</td>\n",
       "      <td>4.863636</td>\n",
       "      <td>5.0</td>\n",
       "      <td>4.833333</td>\n",
       "      <td>5.078366</td>\n",
       "    </tr>\n",
       "    <tr>\n",
       "      <th>11073</th>\n",
       "      <td>U700572602</td>\n",
       "      <td>I494226761</td>\n",
       "      <td>5.888302</td>\n",
       "      <td>4.440909</td>\n",
       "      <td>5.0</td>\n",
       "      <td>4.750000</td>\n",
       "      <td>5.019803</td>\n",
       "    </tr>\n",
       "    <tr>\n",
       "      <th>11142</th>\n",
       "      <td>U625113529</td>\n",
       "      <td>I672253601</td>\n",
       "      <td>5.620703</td>\n",
       "      <td>4.446104</td>\n",
       "      <td>5.0</td>\n",
       "      <td>5.000000</td>\n",
       "      <td>5.016702</td>\n",
       "    </tr>\n",
       "    <tr>\n",
       "      <th>11151</th>\n",
       "      <td>U741399756</td>\n",
       "      <td>I412248491</td>\n",
       "      <td>5.811875</td>\n",
       "      <td>4.245454</td>\n",
       "      <td>5.0</td>\n",
       "      <td>5.000000</td>\n",
       "      <td>5.014332</td>\n",
       "    </tr>\n",
       "    <tr>\n",
       "      <th>12138</th>\n",
       "      <td>U491045168</td>\n",
       "      <td>I389505178</td>\n",
       "      <td>5.687560</td>\n",
       "      <td>4.674242</td>\n",
       "      <td>5.0</td>\n",
       "      <td>4.750000</td>\n",
       "      <td>5.027951</td>\n",
       "    </tr>\n",
       "    <tr>\n",
       "      <th>12882</th>\n",
       "      <td>U230614765</td>\n",
       "      <td>I473166242</td>\n",
       "      <td>6.013166</td>\n",
       "      <td>4.532900</td>\n",
       "      <td>5.0</td>\n",
       "      <td>4.800000</td>\n",
       "      <td>5.086516</td>\n",
       "    </tr>\n",
       "    <tr>\n",
       "      <th>13373</th>\n",
       "      <td>U813258279</td>\n",
       "      <td>I800671161</td>\n",
       "      <td>5.502625</td>\n",
       "      <td>4.697727</td>\n",
       "      <td>5.0</td>\n",
       "      <td>4.833333</td>\n",
       "      <td>5.008421</td>\n",
       "    </tr>\n",
       "  </tbody>\n",
       "</table>\n",
       "</div>"
      ],
      "text/plain": [
       "       reviewerID      itemID  factorization_rating  knn_user_rating  \\\n",
       "321    U076824669  I509057797              5.565190         4.609599   \n",
       "618    U503247965  I043564971              5.971319         4.503030   \n",
       "740    U067239511  I364012079              5.552518         4.643939   \n",
       "1476   U133647359  I822948414              5.879030         4.583333   \n",
       "1819   U125322926  I824137748              5.649469         4.619372   \n",
       "2122   U063514932  I760326476              5.512446         4.500000   \n",
       "4139   U336519206  I980018381              5.806393         4.228788   \n",
       "4563   U292638498  I447668153              5.778228         4.598918   \n",
       "4952   U754783285  I462392979              5.611358         4.449351   \n",
       "5107   U204629753  I329306834              5.540556         4.675757   \n",
       "5379   U425648350  I837467463              5.629336         4.638528   \n",
       "5852   U479946464  I059563745              5.571016         4.670346   \n",
       "6762   U897446633  I664534268              5.887424         4.312121   \n",
       "7425   U605818049  I808052842              5.749621         4.704762   \n",
       "7702   U120086980  I176990746              6.036047         4.100000   \n",
       "7953   U368558979  I412248491              5.882387         4.290909   \n",
       "9261   U772918036  I757612866              5.709376         4.690909   \n",
       "9767   U791988707  I278028233              5.703803         4.593939   \n",
       "10018  U712842063  I919835374              5.605664         4.403030   \n",
       "10552  U748221196  I599769000              5.616492         4.863636   \n",
       "11073  U700572602  I494226761              5.888302         4.440909   \n",
       "11142  U625113529  I672253601              5.620703         4.446104   \n",
       "11151  U741399756  I412248491              5.811875         4.245454   \n",
       "12138  U491045168  I389505178              5.687560         4.674242   \n",
       "12882  U230614765  I473166242              6.013166         4.532900   \n",
       "13373  U813258279  I800671161              5.502625         4.697727   \n",
       "\n",
       "       baseline_user_rating  item_rating      mean  \n",
       "321                     5.0     5.000000  5.043697  \n",
       "618                     5.0     5.000000  5.118587  \n",
       "740                     5.0     5.000000  5.049114  \n",
       "1476                    5.0     4.750000  5.053091  \n",
       "1819                    5.0     4.833333  5.025544  \n",
       "2122                    5.0     5.000000  5.003111  \n",
       "4139                    5.0     5.000000  5.008795  \n",
       "4563                    5.0     4.812500  5.047412  \n",
       "4952                    5.0     5.000000  5.015177  \n",
       "5107                    5.0     5.000000  5.054078  \n",
       "5379                    5.0     4.733333  5.000299  \n",
       "5852                    5.0     4.857143  5.024626  \n",
       "6762                    5.0     4.857143  5.014172  \n",
       "7425                    5.0     4.714286  5.042167  \n",
       "7702                    5.0     5.000000  5.034012  \n",
       "7953                    5.0     5.000000  5.043324  \n",
       "9261                    5.0     5.000000  5.100071  \n",
       "9767                    5.0     4.800000  5.024436  \n",
       "10018                   5.0     5.000000  5.002174  \n",
       "10552                   5.0     4.833333  5.078366  \n",
       "11073                   5.0     4.750000  5.019803  \n",
       "11142                   5.0     5.000000  5.016702  \n",
       "11151                   5.0     5.000000  5.014332  \n",
       "12138                   5.0     4.750000  5.027951  \n",
       "12882                   5.0     4.800000  5.086516  \n",
       "13373                   5.0     4.833333  5.008421  "
      ]
     },
     "metadata": {},
     "output_type": "display_data"
    },
    {
     "name": "stdout",
     "output_type": "stream",
     "text": [
      "clip mean to possible value range (1 to 5)\n"
     ]
    },
    {
     "data": {
      "text/html": [
       "<div>\n",
       "<style scoped>\n",
       "    .dataframe tbody tr th:only-of-type {\n",
       "        vertical-align: middle;\n",
       "    }\n",
       "\n",
       "    .dataframe tbody tr th {\n",
       "        vertical-align: top;\n",
       "    }\n",
       "\n",
       "    .dataframe thead th {\n",
       "        text-align: right;\n",
       "    }\n",
       "</style>\n",
       "<table border=\"1\" class=\"dataframe\">\n",
       "  <thead>\n",
       "    <tr style=\"text-align: right;\">\n",
       "      <th></th>\n",
       "      <th>reviewerID</th>\n",
       "      <th>itemID</th>\n",
       "      <th>factorization_rating</th>\n",
       "      <th>knn_user_rating</th>\n",
       "      <th>baseline_user_rating</th>\n",
       "      <th>item_rating</th>\n",
       "      <th>mean</th>\n",
       "    </tr>\n",
       "  </thead>\n",
       "  <tbody>\n",
       "  </tbody>\n",
       "</table>\n",
       "</div>"
      ],
      "text/plain": [
       "Empty DataFrame\n",
       "Columns: [reviewerID, itemID, factorization_rating, knn_user_rating, baseline_user_rating, item_rating, mean]\n",
       "Index: []"
      ]
     },
     "metadata": {},
     "output_type": "display_data"
    }
   ],
   "source": [
    "display(results.loc[results['mean'] > 5])\n",
    "\n",
    "print(\"clip mean to possible value range (1 to 5)\")\n",
    "# ever so slightly better score\n",
    "results['mean'] = results['mean'].clip(1,5)\n",
    "\n",
    "display(results.loc[results['mean'] > 5])"
   ]
  },
  {
   "cell_type": "markdown",
   "metadata": {},
   "source": [
    "### format dataframe and select prediction column"
   ]
  },
  {
   "cell_type": "code",
   "execution_count": 286,
   "metadata": {},
   "outputs": [
    {
     "name": "stdout",
     "output_type": "stream",
     "text": [
      "-------------\n",
      "NaN counts: \n",
      "reviewerID-itemID    0\n",
      "prediction           0\n",
      "dtype: int64\n",
      "-------------\n"
     ]
    },
    {
     "data": {
      "text/html": [
       "<div>\n",
       "<style scoped>\n",
       "    .dataframe tbody tr th:only-of-type {\n",
       "        vertical-align: middle;\n",
       "    }\n",
       "\n",
       "    .dataframe tbody tr th {\n",
       "        vertical-align: top;\n",
       "    }\n",
       "\n",
       "    .dataframe thead th {\n",
       "        text-align: right;\n",
       "    }\n",
       "</style>\n",
       "<table border=\"1\" class=\"dataframe\">\n",
       "  <thead>\n",
       "    <tr style=\"text-align: right;\">\n",
       "      <th></th>\n",
       "      <th>reviewerID-itemID</th>\n",
       "      <th>prediction</th>\n",
       "    </tr>\n",
       "  </thead>\n",
       "  <tbody>\n",
       "    <tr>\n",
       "      <th>0</th>\n",
       "      <td>U566642233-I937291762</td>\n",
       "      <td>4.096128</td>\n",
       "    </tr>\n",
       "    <tr>\n",
       "      <th>1</th>\n",
       "      <td>U150556394-I033937358</td>\n",
       "      <td>4.145564</td>\n",
       "    </tr>\n",
       "    <tr>\n",
       "      <th>2</th>\n",
       "      <td>U835748092-I634015598</td>\n",
       "      <td>4.208328</td>\n",
       "    </tr>\n",
       "    <tr>\n",
       "      <th>3</th>\n",
       "      <td>U636069453-I432257131</td>\n",
       "      <td>4.259731</td>\n",
       "    </tr>\n",
       "    <tr>\n",
       "      <th>4</th>\n",
       "      <td>U336431363-I745492929</td>\n",
       "      <td>4.208504</td>\n",
       "    </tr>\n",
       "    <tr>\n",
       "      <th>...</th>\n",
       "      <td>...</td>\n",
       "      <td>...</td>\n",
       "    </tr>\n",
       "    <tr>\n",
       "      <th>13995</th>\n",
       "      <td>U859380606-I927637487</td>\n",
       "      <td>4.060896</td>\n",
       "    </tr>\n",
       "    <tr>\n",
       "      <th>13996</th>\n",
       "      <td>U154721087-I022684654</td>\n",
       "      <td>4.044774</td>\n",
       "    </tr>\n",
       "    <tr>\n",
       "      <th>13997</th>\n",
       "      <td>U603183833-I813224083</td>\n",
       "      <td>4.191277</td>\n",
       "    </tr>\n",
       "    <tr>\n",
       "      <th>13998</th>\n",
       "      <td>U901473480-I085879999</td>\n",
       "      <td>3.923761</td>\n",
       "    </tr>\n",
       "    <tr>\n",
       "      <th>13999</th>\n",
       "      <td>U566986230-I211388731</td>\n",
       "      <td>3.600172</td>\n",
       "    </tr>\n",
       "  </tbody>\n",
       "</table>\n",
       "<p>14000 rows × 2 columns</p>\n",
       "</div>"
      ],
      "text/plain": [
       "           reviewerID-itemID  prediction\n",
       "0      U566642233-I937291762    4.096128\n",
       "1      U150556394-I033937358    4.145564\n",
       "2      U835748092-I634015598    4.208328\n",
       "3      U636069453-I432257131    4.259731\n",
       "4      U336431363-I745492929    4.208504\n",
       "...                      ...         ...\n",
       "13995  U859380606-I927637487    4.060896\n",
       "13996  U154721087-I022684654    4.044774\n",
       "13997  U603183833-I813224083    4.191277\n",
       "13998  U901473480-I085879999    3.923761\n",
       "13999  U566986230-I211388731    3.600172\n",
       "\n",
       "[14000 rows x 2 columns]"
      ]
     },
     "execution_count": 286,
     "metadata": {},
     "output_type": "execute_result"
    }
   ],
   "source": [
    "prediction = results\n",
    "prediction['reviewerID-itemID'] = prediction['reviewerID'] + \"-\" + prediction['itemID']\n",
    "\n",
    "# select column to use as prediction\n",
    "prediction['prediction'] = prediction['mean']\n",
    "\n",
    "# remove extra columns\n",
    "prediction = prediction.drop([\n",
    "    'reviewerID', \n",
    "    'itemID', \n",
    "    'factorization_rating', \n",
    "    'knn_user_rating', \n",
    "    'baseline_user_rating',\n",
    "    'item_rating',\n",
    "    'mean'], axis=1)\n",
    "\n",
    "# just in case, attempt to fill empty predictions with global_average\n",
    "prediction[['prediction']] = prediction[['prediction']].fillna(value=global_average)\n",
    "print(\"-------------\\nNaN counts: \\n{}\\n-------------\".format(prediction.isna().sum()))\n",
    "\n",
    "prediction"
   ]
  },
  {
   "cell_type": "markdown",
   "metadata": {},
   "source": [
    "### output predictions file for submission"
   ]
  },
  {
   "cell_type": "code",
   "execution_count": 287,
   "metadata": {},
   "outputs": [
    {
     "name": "stdout",
     "output_type": "stream",
     "text": [
      "num rows: 14001\n"
     ]
    }
   ],
   "source": [
    "filename = 'predictions_turicreate.txt'\n",
    "\n",
    "s = prediction.to_csv(None, index=False, header=True, line_terminator=\"\\n\", sep=\",\")\n",
    "\n",
    "# remove empty last line\n",
    "open('predictions\\{}'.format(filename), 'w').write(s[:-1])\n",
    "count = len(open('predictions\\{}'.format(filename)).readlines(  ))\n",
    "print(\"num rows: {}\".format(count))"
   ]
  },
  {
   "cell_type": "markdown",
   "metadata": {},
   "source": [
    "# TODO: turicreate item similarity interactions with target"
   ]
  },
  {
   "cell_type": "code",
   "execution_count": null,
   "metadata": {},
   "outputs": [],
   "source": []
  }
 ],
 "metadata": {
  "kernelspec": {
   "display_name": "Python 3",
   "language": "python",
   "name": "python3"
  },
  "language_info": {
   "codemirror_mode": {
    "name": "ipython",
    "version": 3
   },
   "file_extension": ".py",
   "mimetype": "text/x-python",
   "name": "python",
   "nbconvert_exporter": "python",
   "pygments_lexer": "ipython3",
   "version": "3.6.9"
  }
 },
 "nbformat": 4,
 "nbformat_minor": 4
}
