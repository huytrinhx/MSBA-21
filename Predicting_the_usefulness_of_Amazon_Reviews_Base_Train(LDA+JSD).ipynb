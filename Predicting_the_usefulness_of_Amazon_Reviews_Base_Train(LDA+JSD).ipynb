{
  "nbformat": 4,
  "nbformat_minor": 0,
  "metadata": {
    "colab": {
      "name": "Predicting the usefulness of Amazon Reviews_Base_Train(LDA+JSD).ipynb",
      "provenance": [],
      "collapsed_sections": [
        "2JVkgHk25qvt"
      ],
      "mount_file_id": "1tRKee7DTS8AH4euM519VGPLxpS7klc_S",
      "authorship_tag": "ABX9TyMDf6O9cnOjk2/7VC8+NuQr",
      "include_colab_link": true
    },
    "kernelspec": {
      "name": "python3",
      "display_name": "Python 3"
    },
    "accelerator": "GPU"
  },
  "cells": [
    {
      "cell_type": "markdown",
      "metadata": {
        "id": "view-in-github",
        "colab_type": "text"
      },
      "source": [
        "<a href=\"https://colab.research.google.com/github/huytrinhx/lda-topic-modelling/blob/main/Predicting_the_usefulness_of_Amazon_Reviews_Base_Train(LDA%2BJSD).ipynb\" target=\"_parent\"><img src=\"https://colab.research.google.com/assets/colab-badge.svg\" alt=\"Open In Colab\"/></a>"
      ]
    },
    {
      "cell_type": "markdown",
      "metadata": {
        "id": "jojqGImw5h-3"
      },
      "source": [
        "#Set up"
      ]
    },
    {
      "cell_type": "markdown",
      "metadata": {
        "id": "RREOIchb6W-5"
      },
      "source": [
        "Mount google drive to save data and models to local google drive folder"
      ]
    },
    {
      "cell_type": "code",
      "metadata": {
        "colab": {
          "base_uri": "https://localhost:8080/"
        },
        "id": "6Z3cPpK72KHZ",
        "outputId": "3d22c415-52e7-466a-f0f8-f45f07f2b0ef"
      },
      "source": [
        "from google.colab import drive\n",
        "drive.mount('/content/gdrive')"
      ],
      "execution_count": 1,
      "outputs": [
        {
          "output_type": "stream",
          "text": [
            "Mounted at /content/gdrive\n"
          ],
          "name": "stdout"
        }
      ]
    },
    {
      "cell_type": "code",
      "metadata": {
        "id": "z-zDwLkU7GXy"
      },
      "source": [
        "# Establish the home drive where the saved dataset, saved models are\r\n",
        "home_dir = '/content/gdrive/MyDrive/Data/'\r\n",
        "data_dir = home_dir+'US_Tennis_Racquet_Reviews_Dataset.csv'"
      ],
      "execution_count": 2,
      "outputs": []
    },
    {
      "cell_type": "code",
      "metadata": {
        "colab": {
          "base_uri": "https://localhost:8080/"
        },
        "id": "RUcLkv4tMNVL",
        "outputId": "1ef0738b-1142-4ef8-f9ac-556da5e36281"
      },
      "source": [
        "import numpy as np #for matrix operations\n",
        "import tensorflow as tf #general tensorflows to work with amazon datasets\n",
        "import tensorflow_hub as hub \n",
        "import tensorflow_datasets as tfds\n",
        "import pandas as pd # for data tables manipulation\n",
        "import matplotlib.pyplot as plt # for plotting\n",
        "import seaborn as sns # for more fancy visualization\n",
        "\n",
        "!pip install nltk\n",
        "import nltk # library to clean and preprocess text\n",
        "nltk.download(\"stopwords\")\n",
        "from nltk.tokenize import RegexpTokenizer\n",
        "from nltk.corpus import stopwords\n",
        "from nltk.stem.snowball import SnowballStemmer\n",
        "!pip install stop_words\n",
        "from stop_words import get_stop_words\n",
        "\n",
        "import gensim # library to run LDA algorithms\n",
        "from gensim import corpora, models\n",
        "import operator # for list operations\n",
        "import pickle # for saving model and data\n",
        "import random # for random generators\n",
        "!pip install pyLDAvis\n",
        "import pyLDAvis.gensim # for visualize LDA output\n",
        "from scipy.spatial import distance # calculate Janson-Shannon Distance\n",
        "from sklearn.preprocessing import MinMaxScaler # Rescale useful votes count \n",
        "from sklearn.metrics import classification_report, confusion_matrix, accuracy_score # report classficiation metrics\n",
        "import warnings #ignore warnings\n",
        "warnings.filterwarnings('ignore')\n",
        "print(\"Version: \", tf.__version__)\n",
        "print(\"Eager mode: \", tf.executing_eagerly())\n",
        "print(\"Hub version: \", hub.__version__)\n",
        "print(\"GPU is\", \"available\" if tf.config.list_physical_devices('GPU') else \"NOT AVAILABLE\")"
      ],
      "execution_count": 3,
      "outputs": [
        {
          "output_type": "stream",
          "text": [
            "Requirement already satisfied: nltk in /usr/local/lib/python3.6/dist-packages (3.2.5)\n",
            "Requirement already satisfied: six in /usr/local/lib/python3.6/dist-packages (from nltk) (1.15.0)\n",
            "[nltk_data] Downloading package stopwords to /root/nltk_data...\n",
            "[nltk_data]   Unzipping corpora/stopwords.zip.\n",
            "Collecting stop_words\n",
            "  Downloading https://files.pythonhosted.org/packages/1c/cb/d58290804b7a4c5daa42abbbe2a93c477ae53e45541b1825e86f0dfaaf63/stop-words-2018.7.23.tar.gz\n",
            "Building wheels for collected packages: stop-words\n",
            "  Building wheel for stop-words (setup.py) ... \u001b[?25l\u001b[?25hdone\n",
            "  Created wheel for stop-words: filename=stop_words-2018.7.23-cp36-none-any.whl size=32919 sha256=40c7fd296d3cd6e5f3afe36244a692cd10544fd5fc02222bbaeb0f95ca2a4611\n",
            "  Stored in directory: /root/.cache/pip/wheels/75/37/6a/2b295e03bd07290f0da95c3adb9a74ba95fbc333aa8b0c7c78\n",
            "Successfully built stop-words\n",
            "Installing collected packages: stop-words\n",
            "Successfully installed stop-words-2018.7.23\n",
            "Collecting pyLDAvis\n",
            "\u001b[?25l  Downloading https://files.pythonhosted.org/packages/a5/3a/af82e070a8a96e13217c8f362f9a73e82d61ac8fff3a2561946a97f96266/pyLDAvis-2.1.2.tar.gz (1.6MB)\n",
            "\u001b[K     |████████████████████████████████| 1.6MB 24.0MB/s \n",
            "\u001b[?25hRequirement already satisfied: wheel>=0.23.0 in /usr/local/lib/python3.6/dist-packages (from pyLDAvis) (0.36.2)\n",
            "Requirement already satisfied: numpy>=1.9.2 in /usr/local/lib/python3.6/dist-packages (from pyLDAvis) (1.19.4)\n",
            "Requirement already satisfied: scipy>=0.18.0 in /usr/local/lib/python3.6/dist-packages (from pyLDAvis) (1.4.1)\n",
            "Requirement already satisfied: pandas>=0.17.0 in /usr/local/lib/python3.6/dist-packages (from pyLDAvis) (1.1.5)\n",
            "Requirement already satisfied: joblib>=0.8.4 in /usr/local/lib/python3.6/dist-packages (from pyLDAvis) (1.0.0)\n",
            "Requirement already satisfied: jinja2>=2.7.2 in /usr/local/lib/python3.6/dist-packages (from pyLDAvis) (2.11.2)\n",
            "Requirement already satisfied: numexpr in /usr/local/lib/python3.6/dist-packages (from pyLDAvis) (2.7.1)\n",
            "Requirement already satisfied: pytest in /usr/local/lib/python3.6/dist-packages (from pyLDAvis) (3.6.4)\n",
            "Requirement already satisfied: future in /usr/local/lib/python3.6/dist-packages (from pyLDAvis) (0.16.0)\n",
            "Collecting funcy\n",
            "  Downloading https://files.pythonhosted.org/packages/66/89/479de0afbbfb98d1c4b887936808764627300208bb771fcd823403645a36/funcy-1.15-py2.py3-none-any.whl\n",
            "Requirement already satisfied: pytz>=2017.2 in /usr/local/lib/python3.6/dist-packages (from pandas>=0.17.0->pyLDAvis) (2018.9)\n",
            "Requirement already satisfied: python-dateutil>=2.7.3 in /usr/local/lib/python3.6/dist-packages (from pandas>=0.17.0->pyLDAvis) (2.8.1)\n",
            "Requirement already satisfied: MarkupSafe>=0.23 in /usr/local/lib/python3.6/dist-packages (from jinja2>=2.7.2->pyLDAvis) (1.1.1)\n",
            "Requirement already satisfied: six>=1.10.0 in /usr/local/lib/python3.6/dist-packages (from pytest->pyLDAvis) (1.15.0)\n",
            "Requirement already satisfied: more-itertools>=4.0.0 in /usr/local/lib/python3.6/dist-packages (from pytest->pyLDAvis) (8.6.0)\n",
            "Requirement already satisfied: setuptools in /usr/local/lib/python3.6/dist-packages (from pytest->pyLDAvis) (51.0.0)\n",
            "Requirement already satisfied: py>=1.5.0 in /usr/local/lib/python3.6/dist-packages (from pytest->pyLDAvis) (1.10.0)\n",
            "Requirement already satisfied: attrs>=17.4.0 in /usr/local/lib/python3.6/dist-packages (from pytest->pyLDAvis) (20.3.0)\n",
            "Requirement already satisfied: pluggy<0.8,>=0.5 in /usr/local/lib/python3.6/dist-packages (from pytest->pyLDAvis) (0.7.1)\n",
            "Requirement already satisfied: atomicwrites>=1.0 in /usr/local/lib/python3.6/dist-packages (from pytest->pyLDAvis) (1.4.0)\n",
            "Building wheels for collected packages: pyLDAvis\n",
            "  Building wheel for pyLDAvis (setup.py) ... \u001b[?25l\u001b[?25hdone\n",
            "  Created wheel for pyLDAvis: filename=pyLDAvis-2.1.2-py2.py3-none-any.whl size=97712 sha256=2b47f77a5df8d7958cc1174fb176dd1abf359de5f2a9282c259c5e7d32e7793a\n",
            "  Stored in directory: /root/.cache/pip/wheels/98/71/24/513a99e58bb6b8465bae4d2d5e9dba8f0bef8179e3051ac414\n",
            "Successfully built pyLDAvis\n",
            "Installing collected packages: funcy, pyLDAvis\n",
            "Successfully installed funcy-1.15 pyLDAvis-2.1.2\n",
            "Version:  2.4.0\n",
            "Eager mode:  True\n",
            "Hub version:  0.10.0\n",
            "GPU is available\n"
          ],
          "name": "stdout"
        }
      ]
    },
    {
      "cell_type": "markdown",
      "metadata": {
        "id": "2JVkgHk25qvt"
      },
      "source": [
        "#Download the dataset (Amazon Reviews/Sports)\n",
        "\n",
        "* Change the dataset name if your scope is different\n",
        "* Only do this once and save to local drive because loading the dataset the first time is very time-consuming (take 2 hours to download and extract 832 MB)"
      ]
    },
    {
      "cell_type": "code",
      "metadata": {
        "id": "HDkNgl78NCMT"
      },
      "source": [
        "ds, info = tfds.load(name=\"amazon_us_reviews/Sports_v1_00\", \n",
        "                        shuffle_files=True,\n",
        "                        with_info=True)\n",
        "print(ds)\n",
        "print(info)"
      ],
      "execution_count": null,
      "outputs": []
    },
    {
      "cell_type": "markdown",
      "metadata": {
        "id": "IN_AT4Kz8Z_z"
      },
      "source": [
        "Filter data for only products related to tennis racqet (US market)"
      ]
    },
    {
      "cell_type": "code",
      "metadata": {
        "id": "FdWL_U1tJGho"
      },
      "source": [
        "ds_US = ds['train'].filter(lambda x: x['data']['marketplace'] == 'US')"
      ],
      "execution_count": null,
      "outputs": []
    },
    {
      "cell_type": "code",
      "metadata": {
        "id": "UDZ8WvEyOkkx"
      },
      "source": [
        "ds_Tennis = ds_US.filter(lambda x: tf.strings.regex_full_match(tf.strings.lower(x['data']['product_title']),\".*tennis.*\"))"
      ],
      "execution_count": null,
      "outputs": []
    },
    {
      "cell_type": "code",
      "metadata": {
        "id": "dAWef4DReLAW"
      },
      "source": [
        "ds_Racquet = ds_Tennis.filter(lambda x: tf.strings.regex_full_match(tf.strings.lower(x['data']['product_title']),\".*racquet.*\"))"
      ],
      "execution_count": null,
      "outputs": []
    },
    {
      "cell_type": "code",
      "metadata": {
        "id": "oioYne5ANqIF"
      },
      "source": [
        "tfds.as_dataframe(ds_Racquet.take(5))"
      ],
      "execution_count": null,
      "outputs": []
    },
    {
      "cell_type": "markdown",
      "metadata": {
        "id": "9Zn_c74h6Nh6"
      },
      "source": [
        "Convert dataset to pandas dataframe:"
      ]
    },
    {
      "cell_type": "code",
      "metadata": {
        "id": "N2G4t41Dej9C"
      },
      "source": [
        "tennis_racquet_df = tfds.as_dataframe(ds_Racquet)\n",
        "print(len(tennis_racquet_df))"
      ],
      "execution_count": null,
      "outputs": []
    },
    {
      "cell_type": "code",
      "metadata": {
        "id": "P22WSyVNf8Mg"
      },
      "source": [
        "tennis_racquet_df.to_csv(data_dir)"
      ],
      "execution_count": null,
      "outputs": []
    },
    {
      "cell_type": "markdown",
      "metadata": {
        "id": "P_bSiNCZ75-v"
      },
      "source": [
        "#Load data from local drive"
      ]
    },
    {
      "cell_type": "code",
      "metadata": {
        "colab": {
          "base_uri": "https://localhost:8080/",
          "height": 411
        },
        "id": "tbC5UbPN7-h6",
        "outputId": "0243757a-458e-45d4-d34a-423aaab0cbb4"
      },
      "source": [
        "data = pd.read_csv(data_dir)\n",
        "data.head(5)"
      ],
      "execution_count": 7,
      "outputs": [
        {
          "output_type": "execute_result",
          "data": {
            "text/html": [
              "<div>\n",
              "<style scoped>\n",
              "    .dataframe tbody tr th:only-of-type {\n",
              "        vertical-align: middle;\n",
              "    }\n",
              "\n",
              "    .dataframe tbody tr th {\n",
              "        vertical-align: top;\n",
              "    }\n",
              "\n",
              "    .dataframe thead th {\n",
              "        text-align: right;\n",
              "    }\n",
              "</style>\n",
              "<table border=\"1\" class=\"dataframe\">\n",
              "  <thead>\n",
              "    <tr style=\"text-align: right;\">\n",
              "      <th></th>\n",
              "      <th>Unnamed: 0</th>\n",
              "      <th>data/customer_id</th>\n",
              "      <th>data/helpful_votes</th>\n",
              "      <th>data/marketplace</th>\n",
              "      <th>data/product_category</th>\n",
              "      <th>data/product_id</th>\n",
              "      <th>data/product_parent</th>\n",
              "      <th>data/product_title</th>\n",
              "      <th>data/review_body</th>\n",
              "      <th>data/review_date</th>\n",
              "      <th>data/review_headline</th>\n",
              "      <th>data/review_id</th>\n",
              "      <th>data/star_rating</th>\n",
              "      <th>data/total_votes</th>\n",
              "      <th>data/verified_purchase</th>\n",
              "      <th>data/vine</th>\n",
              "    </tr>\n",
              "  </thead>\n",
              "  <tbody>\n",
              "    <tr>\n",
              "      <th>0</th>\n",
              "      <td>0</td>\n",
              "      <td>b'20515499'</td>\n",
              "      <td>1</td>\n",
              "      <td>b'US'</td>\n",
              "      <td>b'Sports'</td>\n",
              "      <td>b'B000OQ74FE'</td>\n",
              "      <td>b'447336068'</td>\n",
              "      <td>b'HEAD Liquidmetal 4 Tennis Racquet (4-3/8), S...</td>\n",
              "      <td>b\"Supposedly one of the best novice racquets. ...</td>\n",
              "      <td>b'2012-12-30'</td>\n",
              "      <td>b'highly rated'</td>\n",
              "      <td>b'R12VYI1R99EI1Q'</td>\n",
              "      <td>5</td>\n",
              "      <td>4</td>\n",
              "      <td>0</td>\n",
              "      <td>1</td>\n",
              "    </tr>\n",
              "    <tr>\n",
              "      <th>1</th>\n",
              "      <td>1</td>\n",
              "      <td>b'33855426'</td>\n",
              "      <td>1</td>\n",
              "      <td>b'US'</td>\n",
              "      <td>b'Sports'</td>\n",
              "      <td>b'B0034PBLA6'</td>\n",
              "      <td>b'16849618'</td>\n",
              "      <td>b'Wilson Energy Extra Large Tennis Racquet wit...</td>\n",
              "      <td>b'Wilson Energy Extra Large Tennis Racquet wit...</td>\n",
              "      <td>b'2012-10-02'</td>\n",
              "      <td>b'Wilson Energy Extra Large Tennis Racquet wit...</td>\n",
              "      <td>b'R31ZPNKKOSMF2L'</td>\n",
              "      <td>3</td>\n",
              "      <td>5</td>\n",
              "      <td>0</td>\n",
              "      <td>1</td>\n",
              "    </tr>\n",
              "    <tr>\n",
              "      <th>2</th>\n",
              "      <td>2</td>\n",
              "      <td>b'48169106'</td>\n",
              "      <td>0</td>\n",
              "      <td>b'US'</td>\n",
              "      <td>b'Sports'</td>\n",
              "      <td>b'B006A2V4KC'</td>\n",
              "      <td>b'81787317'</td>\n",
              "      <td>b'Head Youtek IG Prestige Pro Tennis Racquet (...</td>\n",
              "      <td>b\"I've been playing with Head Racquets for man...</td>\n",
              "      <td>b'2014-12-21'</td>\n",
              "      <td>b'Best of the Prestige frames'</td>\n",
              "      <td>b'R2NOC0IE7BEWWN'</td>\n",
              "      <td>5</td>\n",
              "      <td>0</td>\n",
              "      <td>0</td>\n",
              "      <td>1</td>\n",
              "    </tr>\n",
              "    <tr>\n",
              "      <th>3</th>\n",
              "      <td>3</td>\n",
              "      <td>b'31282127'</td>\n",
              "      <td>0</td>\n",
              "      <td>b'US'</td>\n",
              "      <td>b'Sports'</td>\n",
              "      <td>b'B000OQBP7C'</td>\n",
              "      <td>b'384056751'</td>\n",
              "      <td>b'Head Liquidmetal 8 Tennis Racquet'</td>\n",
              "      <td>b'I chose this racquet because its price and w...</td>\n",
              "      <td>b'2013-07-08'</td>\n",
              "      <td>b'Great!!!'</td>\n",
              "      <td>b'R2IDP12RDJ1SB5'</td>\n",
              "      <td>5</td>\n",
              "      <td>1</td>\n",
              "      <td>0</td>\n",
              "      <td>1</td>\n",
              "    </tr>\n",
              "    <tr>\n",
              "      <th>4</th>\n",
              "      <td>4</td>\n",
              "      <td>b'7692919'</td>\n",
              "      <td>1</td>\n",
              "      <td>b'US'</td>\n",
              "      <td>b'Sports'</td>\n",
              "      <td>b'B004IA8GL8'</td>\n",
              "      <td>b'586581984'</td>\n",
              "      <td>b\"Wilson unstrung'11 Blade Lite BLX Tennis Rac...</td>\n",
              "      <td>b'The racket is really nice for $60+. There is...</td>\n",
              "      <td>b'2013-07-14'</td>\n",
              "      <td>b'Good racket'</td>\n",
              "      <td>b'R2VG95KHXUZG1S'</td>\n",
              "      <td>4</td>\n",
              "      <td>1</td>\n",
              "      <td>0</td>\n",
              "      <td>1</td>\n",
              "    </tr>\n",
              "  </tbody>\n",
              "</table>\n",
              "</div>"
            ],
            "text/plain": [
              "   Unnamed: 0 data/customer_id  ...  data/verified_purchase data/vine\n",
              "0           0      b'20515499'  ...                       0         1\n",
              "1           1      b'33855426'  ...                       0         1\n",
              "2           2      b'48169106'  ...                       0         1\n",
              "3           3      b'31282127'  ...                       0         1\n",
              "4           4       b'7692919'  ...                       0         1\n",
              "\n",
              "[5 rows x 16 columns]"
            ]
          },
          "metadata": {
            "tags": []
          },
          "execution_count": 7
        }
      ]
    },
    {
      "cell_type": "markdown",
      "metadata": {
        "id": "NFEgz39ShPVV"
      },
      "source": [
        "# Data Exploration"
      ]
    },
    {
      "cell_type": "markdown",
      "metadata": {
        "id": "CCiV3f08hZUZ"
      },
      "source": [
        "* Number of products in the dataset\n",
        "* Number reviews for each"
      ]
    },
    {
      "cell_type": "code",
      "metadata": {
        "colab": {
          "base_uri": "https://localhost:8080/",
          "height": 289
        },
        "id": "2MiCdQH0hNEi",
        "outputId": "bbbd07a8-ae8b-4ecd-a5b3-70c98cfe5092"
      },
      "source": [
        "cols = ['data/helpful_votes','data/product_id','data/product_parent',\n",
        "        'data/product_title','data/review_body','data/review_headline','data/review_id',\n",
        "        'data/star_rating', 'data/total_votes']\n",
        "data = data[cols]\n",
        "data.head(5)"
      ],
      "execution_count": 8,
      "outputs": [
        {
          "output_type": "execute_result",
          "data": {
            "text/html": [
              "<div>\n",
              "<style scoped>\n",
              "    .dataframe tbody tr th:only-of-type {\n",
              "        vertical-align: middle;\n",
              "    }\n",
              "\n",
              "    .dataframe tbody tr th {\n",
              "        vertical-align: top;\n",
              "    }\n",
              "\n",
              "    .dataframe thead th {\n",
              "        text-align: right;\n",
              "    }\n",
              "</style>\n",
              "<table border=\"1\" class=\"dataframe\">\n",
              "  <thead>\n",
              "    <tr style=\"text-align: right;\">\n",
              "      <th></th>\n",
              "      <th>data/helpful_votes</th>\n",
              "      <th>data/product_id</th>\n",
              "      <th>data/product_parent</th>\n",
              "      <th>data/product_title</th>\n",
              "      <th>data/review_body</th>\n",
              "      <th>data/review_headline</th>\n",
              "      <th>data/review_id</th>\n",
              "      <th>data/star_rating</th>\n",
              "      <th>data/total_votes</th>\n",
              "    </tr>\n",
              "  </thead>\n",
              "  <tbody>\n",
              "    <tr>\n",
              "      <th>0</th>\n",
              "      <td>1</td>\n",
              "      <td>b'B000OQ74FE'</td>\n",
              "      <td>b'447336068'</td>\n",
              "      <td>b'HEAD Liquidmetal 4 Tennis Racquet (4-3/8), S...</td>\n",
              "      <td>b\"Supposedly one of the best novice racquets. ...</td>\n",
              "      <td>b'highly rated'</td>\n",
              "      <td>b'R12VYI1R99EI1Q'</td>\n",
              "      <td>5</td>\n",
              "      <td>4</td>\n",
              "    </tr>\n",
              "    <tr>\n",
              "      <th>1</th>\n",
              "      <td>1</td>\n",
              "      <td>b'B0034PBLA6'</td>\n",
              "      <td>b'16849618'</td>\n",
              "      <td>b'Wilson Energy Extra Large Tennis Racquet wit...</td>\n",
              "      <td>b'Wilson Energy Extra Large Tennis Racquet wit...</td>\n",
              "      <td>b'Wilson Energy Extra Large Tennis Racquet wit...</td>\n",
              "      <td>b'R31ZPNKKOSMF2L'</td>\n",
              "      <td>3</td>\n",
              "      <td>5</td>\n",
              "    </tr>\n",
              "    <tr>\n",
              "      <th>2</th>\n",
              "      <td>0</td>\n",
              "      <td>b'B006A2V4KC'</td>\n",
              "      <td>b'81787317'</td>\n",
              "      <td>b'Head Youtek IG Prestige Pro Tennis Racquet (...</td>\n",
              "      <td>b\"I've been playing with Head Racquets for man...</td>\n",
              "      <td>b'Best of the Prestige frames'</td>\n",
              "      <td>b'R2NOC0IE7BEWWN'</td>\n",
              "      <td>5</td>\n",
              "      <td>0</td>\n",
              "    </tr>\n",
              "    <tr>\n",
              "      <th>3</th>\n",
              "      <td>0</td>\n",
              "      <td>b'B000OQBP7C'</td>\n",
              "      <td>b'384056751'</td>\n",
              "      <td>b'Head Liquidmetal 8 Tennis Racquet'</td>\n",
              "      <td>b'I chose this racquet because its price and w...</td>\n",
              "      <td>b'Great!!!'</td>\n",
              "      <td>b'R2IDP12RDJ1SB5'</td>\n",
              "      <td>5</td>\n",
              "      <td>1</td>\n",
              "    </tr>\n",
              "    <tr>\n",
              "      <th>4</th>\n",
              "      <td>1</td>\n",
              "      <td>b'B004IA8GL8'</td>\n",
              "      <td>b'586581984'</td>\n",
              "      <td>b\"Wilson unstrung'11 Blade Lite BLX Tennis Rac...</td>\n",
              "      <td>b'The racket is really nice for $60+. There is...</td>\n",
              "      <td>b'Good racket'</td>\n",
              "      <td>b'R2VG95KHXUZG1S'</td>\n",
              "      <td>4</td>\n",
              "      <td>1</td>\n",
              "    </tr>\n",
              "  </tbody>\n",
              "</table>\n",
              "</div>"
            ],
            "text/plain": [
              "   data/helpful_votes data/product_id  ... data/star_rating data/total_votes\n",
              "0                   1   b'B000OQ74FE'  ...                5                4\n",
              "1                   1   b'B0034PBLA6'  ...                3                5\n",
              "2                   0   b'B006A2V4KC'  ...                5                0\n",
              "3                   0   b'B000OQBP7C'  ...                5                1\n",
              "4                   1   b'B004IA8GL8'  ...                4                1\n",
              "\n",
              "[5 rows x 9 columns]"
            ]
          },
          "metadata": {
            "tags": []
          },
          "execution_count": 8
        }
      ]
    },
    {
      "cell_type": "code",
      "metadata": {
        "id": "uEiP1nQmhpW2"
      },
      "source": [
        "float_cols = ['data/helpful_votes','data/total_votes']\n",
        "cat_cols = ['data/product_id','data/product_parent','data/product_title','data/star_rating']\n",
        "\n",
        "def visualize_columns(float_cols,cat_cols,final_data=final_data):\n",
        "    '''\n",
        "    This function visualizes all columns\n",
        "      - Box-and-whisker and histogram plots for continuous variables\n",
        "      - Lists of distinct values for categorical columns\n",
        "    '''\n",
        "    # Float columns\n",
        "    for i in float_cols:\n",
        "        print(i)\n",
        "        fig, axs = plt.subplots(1, 2, tight_layout=True)\n",
        "\n",
        "        sns.boxplot(data=final_data[i], ax = axs[0])\n",
        "\n",
        "        # Print the three highest values\n",
        "        highest_vals = sorted(final_data[i], reverse=True)[:3]\n",
        "        print(highest_vals)\n",
        "        smallest_val = round(min(final_data[i]),2)\n",
        "        print(smallest_val)\n",
        "        axs[0].text(smallest_val, -0.3, round(highest_vals[0],2))\n",
        "        axs[0].text(smallest_val, -0.2, round(highest_vals[1],2))\n",
        "        axs[0].text(smallest_val, -0.1, round(highest_vals[2],2))\n",
        "\n",
        "        #Draw the histogram\n",
        "        axs[1] = plt.hist(final_data[i],50)\n",
        "        plt.show()\n",
        "        \n",
        "    # Categorical columns \n",
        "    for i in cat_cols:\n",
        "        print(i)\n",
        "        print(str(len(set(final_data[i]))) + \" distinct values\")\n",
        "        print(final_data[i].value_counts())\n",
        "        print(\"\")\n",
        "        print(\"\")"
      ],
      "execution_count": 21,
      "outputs": []
    },
    {
      "cell_type": "code",
      "metadata": {
        "colab": {
          "base_uri": "https://localhost:8080/",
          "height": 1000
        },
        "id": "D0VRBwWJjcnS",
        "outputId": "f7e00e80-548f-4be4-95c9-4cd427433eb8"
      },
      "source": [
        "final_data = data\n",
        "visualize_columns(float_cols,cat_cols,final_data)"
      ],
      "execution_count": 22,
      "outputs": [
        {
          "output_type": "stream",
          "text": [
            "data/helpful_votes\n",
            "[595, 171, 101]\n",
            "0\n"
          ],
          "name": "stdout"
        },
        {
          "output_type": "display_data",
          "data": {
            "image/png": "[encoded data removed]",
            "text/plain": [
              "<Figure size 432x288 with 2 Axes>"
            ]
          },
          "metadata": {
            "tags": [],
            "needs_background": "light"
          }
        },
        {
          "output_type": "stream",
          "text": [
            "data/total_votes\n",
            "[598, 177, 105]\n",
            "0\n"
          ],
          "name": "stdout"
        },
        {
          "output_type": "display_data",
          "data": {
            "image/png": "[encoded data removed]",
            "text/plain": [
              "<Figure size 432x288 with 2 Axes>"
            ]
          },
          "metadata": {
            "tags": [],
            "needs_background": "light"
          }
        },
        {
          "output_type": "stream",
          "text": [
            "data/product_id\n",
            "2186 distinct values\n",
            "b'B00387ET9A'    133\n",
            "b'B0007R8MHE'     95\n",
            "b'B007WZZ3TE'     92\n",
            "b'B000KYHMM0'     51\n",
            "b'B0034PBLA6'     50\n",
            "                ... \n",
            "b'B0081RQTS6'      1\n",
            "b'B000G16FJ8'      1\n",
            "b'B002LH330Y'      1\n",
            "b'B004S7E7V4'      1\n",
            "b'B00AACXLPE'      1\n",
            "Name: data/product_id, Length: 2186, dtype: int64\n",
            "\n",
            "\n",
            "data/product_parent\n",
            "1602 distinct values\n",
            "b'453459277'    159\n",
            "b'245257838'    133\n",
            "b'384056751'    117\n",
            "b'33077627'     111\n",
            "b'547332048'    109\n",
            "               ... \n",
            "b'131186629'      1\n",
            "b'177938855'      1\n",
            "b'109228648'      1\n",
            "b'123057587'      1\n",
            "b'388071221'      1\n",
            "Name: data/product_parent, Length: 1602, dtype: int64\n",
            "\n",
            "\n",
            "data/product_title\n",
            "1601 distinct values\n",
            "b'Wilson US Open Junior Tennis Racquet'                                                                                                                                                                    159\n",
            "b'Wilson Advantage Triple Tennis Racquet Bag (Black\\\\Gray)'                                                                                                                                                133\n",
            "b'GAMMA X-2 Tennis Racquet/ Racquet Stringing Machine| Complete W/ Stringing Tools| Get The Best Stringing Consistency To Match Your Needs W/ Our Tennis Stringer Gamma Tennis Accessories & Equipment'    111\n",
            "b'HEAD Ti.S6 Tennis Racquet - Strung'                                                                                                                                                                      106\n",
            "b'Head Liquidmetal 8 Tennis Racquet'                                                                                                                                                                       101\n",
            "                                                                                                                                                                                                          ... \n",
            "b'Blackburne Double Strung Tennis Racquet'                                                                                                                                                                   1\n",
            "b'Prince O3 Pink LS 105 Tennis Racquet'                                                                                                                                                                      1\n",
            "b'Babolat 2014 AeroPro Lite GT Tennis Racquet - STRUNG with COVER (4-1/8)'                                                                                                                                   1\n",
            "b'Head Tour Pro Prestrung Tennis Racquet - NEW!'                                                                                                                                                             1\n",
            "b'Babolat Aero Storm 2008 Tennis Racquet - 1450'                                                                                                                                                             1\n",
            "Name: data/product_title, Length: 1601, dtype: int64\n",
            "\n",
            "\n",
            "data/star_rating\n",
            "5 distinct values\n",
            "5    3588\n",
            "4     972\n",
            "3     321\n",
            "1     236\n",
            "2     135\n",
            "Name: data/star_rating, dtype: int64\n",
            "\n",
            "\n"
          ],
          "name": "stdout"
        }
      ]
    },
    {
      "cell_type": "markdown",
      "metadata": {
        "id": "uhUWbivWB2cp"
      },
      "source": [
        "There are ~1600 distinct product title while 2186 product ids, implying there may be multiple product id under a same product parent.\r\n",
        "\r\n",
        "Since product parent and product title distinct counts are very similar (~1601 and ~1602), we'll go with product_parent as the grouping for our reviews aggregation in the next stage.\r\n",
        "\r\n",
        "Also note that majority of our reviews are not voted helpful (0 helpful vote), and there are a few reviews that get really high useful vote counts (perhaps comes from products that have a lot of reviews). Since this our variable of interest, we will have to transform this vote counts and potentially play with different type of transformation later\r\n"
      ]
    },
    {
      "cell_type": "code",
      "metadata": {
        "colab": {
          "base_uri": "https://localhost:8080/",
          "height": 450
        },
        "id": "a49_lBxAmtAx",
        "outputId": "91a1ed48-5547-47a4-8891-5eab28aadeb4"
      },
      "source": [
        "#Aggregating count of reviews and total helpful votes for each products\n",
        "products = final_data.groupby('data/product_parent', sort=False)\n",
        "combined = products['data/helpful_votes'].agg(['count', 'sum','min','max'])\n",
        "combined.sort_values(by='sum',ascending=False)"
      ],
      "execution_count": 24,
      "outputs": [
        {
          "output_type": "execute_result",
          "data": {
            "text/html": [
              "<div>\n",
              "<style scoped>\n",
              "    .dataframe tbody tr th:only-of-type {\n",
              "        vertical-align: middle;\n",
              "    }\n",
              "\n",
              "    .dataframe tbody tr th {\n",
              "        vertical-align: top;\n",
              "    }\n",
              "\n",
              "    .dataframe thead th {\n",
              "        text-align: right;\n",
              "    }\n",
              "</style>\n",
              "<table border=\"1\" class=\"dataframe\">\n",
              "  <thead>\n",
              "    <tr style=\"text-align: right;\">\n",
              "      <th></th>\n",
              "      <th>count</th>\n",
              "      <th>sum</th>\n",
              "      <th>min</th>\n",
              "      <th>max</th>\n",
              "    </tr>\n",
              "    <tr>\n",
              "      <th>data/product_parent</th>\n",
              "      <th></th>\n",
              "      <th></th>\n",
              "      <th></th>\n",
              "      <th></th>\n",
              "    </tr>\n",
              "  </thead>\n",
              "  <tbody>\n",
              "    <tr>\n",
              "      <th>b'453459277'</th>\n",
              "      <td>159</td>\n",
              "      <td>1016</td>\n",
              "      <td>0</td>\n",
              "      <td>595</td>\n",
              "    </tr>\n",
              "    <tr>\n",
              "      <th>b'384056751'</th>\n",
              "      <td>117</td>\n",
              "      <td>227</td>\n",
              "      <td>0</td>\n",
              "      <td>101</td>\n",
              "    </tr>\n",
              "    <tr>\n",
              "      <th>b'547332048'</th>\n",
              "      <td>109</td>\n",
              "      <td>201</td>\n",
              "      <td>0</td>\n",
              "      <td>89</td>\n",
              "    </tr>\n",
              "    <tr>\n",
              "      <th>b'33077627'</th>\n",
              "      <td>111</td>\n",
              "      <td>193</td>\n",
              "      <td>0</td>\n",
              "      <td>21</td>\n",
              "    </tr>\n",
              "    <tr>\n",
              "      <th>b'630149495'</th>\n",
              "      <td>9</td>\n",
              "      <td>190</td>\n",
              "      <td>3</td>\n",
              "      <td>62</td>\n",
              "    </tr>\n",
              "    <tr>\n",
              "      <th>...</th>\n",
              "      <td>...</td>\n",
              "      <td>...</td>\n",
              "      <td>...</td>\n",
              "      <td>...</td>\n",
              "    </tr>\n",
              "    <tr>\n",
              "      <th>b'981876364'</th>\n",
              "      <td>1</td>\n",
              "      <td>0</td>\n",
              "      <td>0</td>\n",
              "      <td>0</td>\n",
              "    </tr>\n",
              "    <tr>\n",
              "      <th>b'407107768'</th>\n",
              "      <td>1</td>\n",
              "      <td>0</td>\n",
              "      <td>0</td>\n",
              "      <td>0</td>\n",
              "    </tr>\n",
              "    <tr>\n",
              "      <th>b'201894283'</th>\n",
              "      <td>2</td>\n",
              "      <td>0</td>\n",
              "      <td>0</td>\n",
              "      <td>0</td>\n",
              "    </tr>\n",
              "    <tr>\n",
              "      <th>b'490148299'</th>\n",
              "      <td>1</td>\n",
              "      <td>0</td>\n",
              "      <td>0</td>\n",
              "      <td>0</td>\n",
              "    </tr>\n",
              "    <tr>\n",
              "      <th>b'882281519'</th>\n",
              "      <td>1</td>\n",
              "      <td>0</td>\n",
              "      <td>0</td>\n",
              "      <td>0</td>\n",
              "    </tr>\n",
              "  </tbody>\n",
              "</table>\n",
              "<p>1602 rows × 4 columns</p>\n",
              "</div>"
            ],
            "text/plain": [
              "                     count   sum  min  max\n",
              "data/product_parent                       \n",
              "b'453459277'           159  1016    0  595\n",
              "b'384056751'           117   227    0  101\n",
              "b'547332048'           109   201    0   89\n",
              "b'33077627'            111   193    0   21\n",
              "b'630149495'             9   190    3   62\n",
              "...                    ...   ...  ...  ...\n",
              "b'981876364'             1     0    0    0\n",
              "b'407107768'             1     0    0    0\n",
              "b'201894283'             2     0    0    0\n",
              "b'490148299'             1     0    0    0\n",
              "b'882281519'             1     0    0    0\n",
              "\n",
              "[1602 rows x 4 columns]"
            ]
          },
          "metadata": {
            "tags": []
          },
          "execution_count": 24
        }
      ]
    },
    {
      "cell_type": "markdown",
      "metadata": {
        "id": "cumBa_GPFFTk"
      },
      "source": [
        "Now we need to left join the orginal data frame with this aggregate table to have some perspective on each review"
      ]
    },
    {
      "cell_type": "code",
      "metadata": {
        "colab": {
          "base_uri": "https://localhost:8080/",
          "height": 394
        },
        "id": "6KtDBiSfsVfj",
        "outputId": "88de9532-90c7-4c86-e0f2-14d4065f9da3"
      },
      "source": [
        "selected_products = combined[combined['sum'] > 0]\n",
        "left = pd.DataFrame(selected_products)\n",
        "\n",
        "final_data = final_data.merge(selected_products, on='data/product_parent', how='left')\n",
        "final_data.head()"
      ],
      "execution_count": 25,
      "outputs": [
        {
          "output_type": "execute_result",
          "data": {
            "text/html": [
              "<div>\n",
              "<style scoped>\n",
              "    .dataframe tbody tr th:only-of-type {\n",
              "        vertical-align: middle;\n",
              "    }\n",
              "\n",
              "    .dataframe tbody tr th {\n",
              "        vertical-align: top;\n",
              "    }\n",
              "\n",
              "    .dataframe thead th {\n",
              "        text-align: right;\n",
              "    }\n",
              "</style>\n",
              "<table border=\"1\" class=\"dataframe\">\n",
              "  <thead>\n",
              "    <tr style=\"text-align: right;\">\n",
              "      <th></th>\n",
              "      <th>data/helpful_votes</th>\n",
              "      <th>data/product_id</th>\n",
              "      <th>data/product_parent</th>\n",
              "      <th>data/product_title</th>\n",
              "      <th>data/review_body</th>\n",
              "      <th>data/review_headline</th>\n",
              "      <th>data/review_id</th>\n",
              "      <th>data/star_rating</th>\n",
              "      <th>data/total_votes</th>\n",
              "      <th>count</th>\n",
              "      <th>sum</th>\n",
              "      <th>min</th>\n",
              "      <th>max</th>\n",
              "    </tr>\n",
              "  </thead>\n",
              "  <tbody>\n",
              "    <tr>\n",
              "      <th>0</th>\n",
              "      <td>1</td>\n",
              "      <td>b'B000OQ74FE'</td>\n",
              "      <td>b'447336068'</td>\n",
              "      <td>b'HEAD Liquidmetal 4 Tennis Racquet (4-3/8), S...</td>\n",
              "      <td>b\"Supposedly one of the best novice racquets. ...</td>\n",
              "      <td>b'highly rated'</td>\n",
              "      <td>b'R12VYI1R99EI1Q'</td>\n",
              "      <td>5</td>\n",
              "      <td>4</td>\n",
              "      <td>22.0</td>\n",
              "      <td>38.0</td>\n",
              "      <td>0.0</td>\n",
              "      <td>10.0</td>\n",
              "    </tr>\n",
              "    <tr>\n",
              "      <th>1</th>\n",
              "      <td>1</td>\n",
              "      <td>b'B0034PBLA6'</td>\n",
              "      <td>b'16849618'</td>\n",
              "      <td>b'Wilson Energy Extra Large Tennis Racquet wit...</td>\n",
              "      <td>b'Wilson Energy Extra Large Tennis Racquet wit...</td>\n",
              "      <td>b'Wilson Energy Extra Large Tennis Racquet wit...</td>\n",
              "      <td>b'R31ZPNKKOSMF2L'</td>\n",
              "      <td>3</td>\n",
              "      <td>5</td>\n",
              "      <td>86.0</td>\n",
              "      <td>114.0</td>\n",
              "      <td>0.0</td>\n",
              "      <td>24.0</td>\n",
              "    </tr>\n",
              "    <tr>\n",
              "      <th>2</th>\n",
              "      <td>0</td>\n",
              "      <td>b'B006A2V4KC'</td>\n",
              "      <td>b'81787317'</td>\n",
              "      <td>b'Head Youtek IG Prestige Pro Tennis Racquet (...</td>\n",
              "      <td>b\"I've been playing with Head Racquets for man...</td>\n",
              "      <td>b'Best of the Prestige frames'</td>\n",
              "      <td>b'R2NOC0IE7BEWWN'</td>\n",
              "      <td>5</td>\n",
              "      <td>0</td>\n",
              "      <td>5.0</td>\n",
              "      <td>8.0</td>\n",
              "      <td>0.0</td>\n",
              "      <td>6.0</td>\n",
              "    </tr>\n",
              "    <tr>\n",
              "      <th>3</th>\n",
              "      <td>0</td>\n",
              "      <td>b'B000OQBP7C'</td>\n",
              "      <td>b'384056751'</td>\n",
              "      <td>b'Head Liquidmetal 8 Tennis Racquet'</td>\n",
              "      <td>b'I chose this racquet because its price and w...</td>\n",
              "      <td>b'Great!!!'</td>\n",
              "      <td>b'R2IDP12RDJ1SB5'</td>\n",
              "      <td>5</td>\n",
              "      <td>1</td>\n",
              "      <td>117.0</td>\n",
              "      <td>227.0</td>\n",
              "      <td>0.0</td>\n",
              "      <td>101.0</td>\n",
              "    </tr>\n",
              "    <tr>\n",
              "      <th>4</th>\n",
              "      <td>1</td>\n",
              "      <td>b'B004IA8GL8'</td>\n",
              "      <td>b'586581984'</td>\n",
              "      <td>b\"Wilson unstrung'11 Blade Lite BLX Tennis Rac...</td>\n",
              "      <td>b'The racket is really nice for $60+. There is...</td>\n",
              "      <td>b'Good racket'</td>\n",
              "      <td>b'R2VG95KHXUZG1S'</td>\n",
              "      <td>4</td>\n",
              "      <td>1</td>\n",
              "      <td>6.0</td>\n",
              "      <td>6.0</td>\n",
              "      <td>0.0</td>\n",
              "      <td>2.0</td>\n",
              "    </tr>\n",
              "  </tbody>\n",
              "</table>\n",
              "</div>"
            ],
            "text/plain": [
              "   data/helpful_votes data/product_id data/product_parent  ...    sum  min    max\n",
              "0                   1   b'B000OQ74FE'        b'447336068'  ...   38.0  0.0   10.0\n",
              "1                   1   b'B0034PBLA6'         b'16849618'  ...  114.0  0.0   24.0\n",
              "2                   0   b'B006A2V4KC'         b'81787317'  ...    8.0  0.0    6.0\n",
              "3                   0   b'B000OQBP7C'        b'384056751'  ...  227.0  0.0  101.0\n",
              "4                   1   b'B004IA8GL8'        b'586581984'  ...    6.0  0.0    2.0\n",
              "\n",
              "[5 rows x 13 columns]"
            ]
          },
          "metadata": {
            "tags": []
          },
          "execution_count": 25
        }
      ]
    },
    {
      "cell_type": "markdown",
      "metadata": {
        "id": "vdVt8AkTFYdR"
      },
      "source": [
        "Our goal is to select useful reviews from all spectrum of usefulness to make the train corpus, which will then be fed into LDA model. So the following steps is to filter out non-useful reviews"
      ]
    },
    {
      "cell_type": "code",
      "metadata": {
        "colab": {
          "base_uri": "https://localhost:8080/",
          "height": 1000
        },
        "id": "FBDigdb72URp",
        "outputId": "e3b1544c-d585-432d-dbf1-a7bde507c433"
      },
      "source": [
        "#Remove reviews from products that does not have any helpful votes\n",
        "df = final_data[final_data['sum'] > 0]\n",
        "#Remove reviews that does not have any helpful votes\n",
        "df = df[df['data/helpful_votes'] > 0]\n",
        "\n",
        "print('Number of reviews removed: '+ str(len(final_data)-len(df)))\n",
        "\n",
        "float_cols = ['data/helpful_votes']\n",
        "cat_cols = ['count','sum']\n",
        "visualize_columns(float_cols,cat_cols,df)\n",
        "train_df = df"
      ],
      "execution_count": 40,
      "outputs": [
        {
          "output_type": "stream",
          "text": [
            "Number of reviews removed: 3170\n",
            "data/helpful_votes\n",
            "[595, 171, 101]\n",
            "1\n"
          ],
          "name": "stdout"
        },
        {
          "output_type": "display_data",
          "data": {
            "image/png": "[encoded data removed]",
            "text/plain": [
              "<Figure size 432x288 with 2 Axes>"
            ]
          },
          "metadata": {
            "tags": [],
            "needs_background": "light"
          }
        },
        {
          "output_type": "stream",
          "text": [
            "count\n",
            "43 distinct values\n",
            "1.0      301\n",
            "2.0      252\n",
            "3.0      182\n",
            "4.0      113\n",
            "7.0       92\n",
            "5.0       88\n",
            "6.0       86\n",
            "10.0      65\n",
            "9.0       56\n",
            "117.0     56\n",
            "111.0     56\n",
            "51.0      49\n",
            "62.0      45\n",
            "14.0      45\n",
            "8.0       41\n",
            "159.0     40\n",
            "26.0      35\n",
            "92.0      35\n",
            "86.0      35\n",
            "11.0      34\n",
            "109.0     34\n",
            "16.0      31\n",
            "13.0      29\n",
            "28.0      28\n",
            "22.0      27\n",
            "37.0      22\n",
            "18.0      21\n",
            "133.0     21\n",
            "15.0      19\n",
            "31.0      18\n",
            "21.0      15\n",
            "12.0      15\n",
            "52.0      15\n",
            "19.0      13\n",
            "39.0      13\n",
            "17.0      13\n",
            "38.0      10\n",
            "23.0       7\n",
            "30.0       6\n",
            "24.0       6\n",
            "27.0       5\n",
            "25.0       5\n",
            "20.0       3\n",
            "Name: count, dtype: int64\n",
            "\n",
            "\n",
            "sum\n",
            "54 distinct values\n",
            "1.0       265\n",
            "2.0       208\n",
            "3.0       130\n",
            "4.0       128\n",
            "5.0        89\n",
            "6.0        71\n",
            "7.0        61\n",
            "10.0       61\n",
            "9.0        58\n",
            "227.0      56\n",
            "193.0      56\n",
            "8.0        52\n",
            "95.0       45\n",
            "14.0       43\n",
            "1016.0     40\n",
            "15.0       39\n",
            "43.0       37\n",
            "22.0       35\n",
            "140.0      35\n",
            "114.0      35\n",
            "94.0       34\n",
            "201.0      34\n",
            "62.0       31\n",
            "31.0       29\n",
            "127.0      27\n",
            "13.0       26\n",
            "20.0       25\n",
            "11.0       24\n",
            "40.0       24\n",
            "24.0       21\n",
            "81.0       21\n",
            "12.0       18\n",
            "60.0       18\n",
            "52.0       18\n",
            "21.0       18\n",
            "18.0       17\n",
            "48.0       16\n",
            "54.0       15\n",
            "23.0       13\n",
            "46.0       13\n",
            "34.0       13\n",
            "29.0       11\n",
            "38.0       10\n",
            "16.0        9\n",
            "190.0       9\n",
            "17.0        8\n",
            "36.0        7\n",
            "19.0        6\n",
            "41.0        6\n",
            "103.0       6\n",
            "26.0        4\n",
            "28.0        3\n",
            "25.0        3\n",
            "32.0        1\n",
            "Name: sum, dtype: int64\n",
            "\n",
            "\n"
          ],
          "name": "stdout"
        }
      ]
    },
    {
      "cell_type": "markdown",
      "metadata": {
        "id": "_91NTCDoItkC"
      },
      "source": [
        "We've got quite many reviews that comes from products that have little reviews or little total useful votes. Maybe the products have a short lifespan or are not very popular. Therefore, we need to remove those reviews from our train dataset to have high-quality LDA model "
      ]
    },
    {
      "cell_type": "code",
      "metadata": {
        "colab": {
          "base_uri": "https://localhost:8080/",
          "height": 1000
        },
        "id": "hizQh_9qJQkJ",
        "outputId": "8f84a695-e1a4-42b5-9571-2a7231918e1f"
      },
      "source": [
        "#Remove reviews from products that have too few reviews\r\n",
        "df = train_df[train_df['count'] > 10]\r\n",
        "#Remove reviews from products that have too few helpful votes\r\n",
        "df = df[df['sum'] > 20]\r\n",
        "\r\n",
        "print('Number of reviews removed: '+ str(len(train_df)-len(df)))\r\n",
        "\r\n",
        "float_cols = ['data/helpful_votes']\r\n",
        "cat_cols = ['count','sum']\r\n",
        "visualize_columns(float_cols,cat_cols,df)\r\n",
        "train_df = df"
      ],
      "execution_count": 41,
      "outputs": [
        {
          "output_type": "stream",
          "text": [
            "Number of reviews removed: 1420\n",
            "data/helpful_votes\n",
            "[595, 171, 101]\n",
            "1\n"
          ],
          "name": "stdout"
        },
        {
          "output_type": "display_data",
          "data": {
            "image/png": "[encoded data removed]",
            "text/plain": [
              "<Figure size 432x288 with 2 Axes>"
            ]
          },
          "metadata": {
            "tags": [],
            "needs_background": "light"
          }
        },
        {
          "output_type": "stream",
          "text": [
            "count\n",
            "25 distinct values\n",
            "117.0    56\n",
            "111.0    56\n",
            "51.0     49\n",
            "62.0     45\n",
            "159.0    40\n",
            "86.0     35\n",
            "92.0     35\n",
            "26.0     35\n",
            "109.0    34\n",
            "28.0     28\n",
            "13.0     24\n",
            "16.0     22\n",
            "37.0     22\n",
            "14.0     22\n",
            "133.0    21\n",
            "18.0     21\n",
            "22.0     19\n",
            "31.0     18\n",
            "52.0     15\n",
            "11.0     14\n",
            "39.0     13\n",
            "21.0     12\n",
            "38.0     10\n",
            "12.0      9\n",
            "23.0      7\n",
            "Name: count, dtype: int64\n",
            "\n",
            "\n",
            "sum\n",
            "28 distinct values\n",
            "227.0     56\n",
            "193.0     56\n",
            "95.0      45\n",
            "1016.0    40\n",
            "43.0      37\n",
            "140.0     35\n",
            "114.0     35\n",
            "94.0      34\n",
            "201.0     34\n",
            "127.0     27\n",
            "31.0      25\n",
            "40.0      24\n",
            "62.0      22\n",
            "81.0      21\n",
            "60.0      18\n",
            "52.0      18\n",
            "22.0      17\n",
            "54.0      15\n",
            "24.0      15\n",
            "23.0      13\n",
            "46.0      13\n",
            "34.0      13\n",
            "38.0      10\n",
            "29.0       9\n",
            "48.0       9\n",
            "21.0       8\n",
            "36.0       7\n",
            "41.0       6\n",
            "Name: sum, dtype: int64\n",
            "\n",
            "\n"
          ],
          "name": "stdout"
        }
      ]
    },
    {
      "cell_type": "markdown",
      "metadata": {
        "id": "g6CsoSlQ_W6a"
      },
      "source": [
        "# Create Our Target Variable: Determine the right metrics for usefulness"
      ]
    },
    {
      "cell_type": "markdown",
      "metadata": {
        "id": "N00itOZtL2MZ"
      },
      "source": [
        "The next important task is how to measure the usefulness of a review in relation to its product. Absolute number does not make sense when we have products with various level of engagement and history. In the following, we attempt to (1) scale the absolute reviews by the total useful reviews a product have or (2) scale by max and min of the product it belongs to"
      ]
    },
    {
      "cell_type": "code",
      "metadata": {
        "colab": {
          "base_uri": "https://localhost:8080/",
          "height": 456
        },
        "id": "4mkxnApqwinP",
        "outputId": "d0a4ae2d-4c8a-4b37-d878-9569ae8a1ca0"
      },
      "source": [
        "#scale the absolute reviews by the total useful reviews a product have\r\n",
        "USEFULNESS_THRESHOLD = 0.10\r\n",
        "\r\n",
        "train_df['helpful_votes_scaled_1'] = train_df['data/helpful_votes'] / train_df['sum']\r\n",
        "train_df['helpful_1'] = np.where(train_df['helpful_votes_scaled_1'] >= USEFULNESS_THRESHOLD,True,False)\r\n",
        "float_cols = ['helpful_votes_scaled_1']\r\n",
        "cat_cols = ['helpful_1']\r\n",
        "visualize_columns(float_cols,cat_cols,train_df)"
      ],
      "execution_count": 45,
      "outputs": [
        {
          "output_type": "stream",
          "text": [
            "helpful_votes_scaled_1\n",
            "[0.6829268292682927, 0.5856299212598425, 0.5625]\n",
            "0.0\n"
          ],
          "name": "stdout"
        },
        {
          "output_type": "display_data",
          "data": {
            "image/png": "[encoded data removed]",
            "text/plain": [
              "<Figure size 432x288 with 2 Axes>"
            ]
          },
          "metadata": {
            "tags": [],
            "needs_background": "light"
          }
        },
        {
          "output_type": "stream",
          "text": [
            "helpful_1\n",
            "2 distinct values\n",
            "False    550\n",
            "True     112\n",
            "Name: helpful_1, dtype: int64\n",
            "\n",
            "\n"
          ],
          "name": "stdout"
        }
      ]
    },
    {
      "cell_type": "markdown",
      "metadata": {
        "id": "9yYR_5WrNkUO"
      },
      "source": [
        "The scaled target variable new distribution looks a little cleaner, more like a exponential distribution although still a lot of low values"
      ]
    },
    {
      "cell_type": "code",
      "metadata": {
        "id": "dfT61HkOOTll"
      },
      "source": [
        "def MinMaxScale(row):\r\n",
        "  x = row['data/helpful_votes']\r\n",
        "  min = row['min']\r\n",
        "  max = row['max']\r\n",
        "  if max - min != 0 :\r\n",
        "    return (x - min) /(max - min)\r\n",
        "  else:\r\n",
        "    return 0"
      ],
      "execution_count": 97,
      "outputs": []
    },
    {
      "cell_type": "code",
      "metadata": {
        "colab": {
          "base_uri": "https://localhost:8080/",
          "height": 484
        },
        "id": "4ipgfzi15OA5",
        "outputId": "f1a5c06a-91a6-4dfc-831f-753ed1759b69"
      },
      "source": [
        "#scale by max and min of the product it belongs to\r\n",
        "TOP_K_PERCENT = 20\r\n",
        "# #Scaled by max-min of dataset\r\n",
        "# scaler = MinMaxScaler()\r\n",
        "train_df['helpful_votes_scaled_2'] = train_df.apply(lambda row: MinMaxScale(row),axis=1)\r\n",
        "# Find the minimum value of the top K percent records\r\n",
        "USEFULNESS_THRESHOLD = np.min(train_df.nlargest(int(len(train_df)*TOP_K_PERCENT/100),'helpful_votes_scaled_2')['helpful_votes_scaled_2'])\r\n",
        "print(USEFULNESS_THRESHOLD)\r\n",
        "train_df['helpful_2'] = np.where(train_df['helpful_votes_scaled_2'] >= USEFULNESS_THRESHOLD,True,False)\r\n",
        "float_cols = ['helpful_votes_scaled_2']\r\n",
        "cat_cols = ['helpful_2']\r\n",
        "visualize_columns(float_cols,cat_cols,train_df)"
      ],
      "execution_count": 48,
      "outputs": [
        {
          "output_type": "stream",
          "text": [
            "0.3\n",
            "helpful_votes_scaled_2\n",
            "[1.0, 1.0, 1.0]\n",
            "0.0\n"
          ],
          "name": "stdout"
        },
        {
          "output_type": "display_data",
          "data": {
            "image/png": "[encoded data removed]",
            "text/plain": [
              "<Figure size 432x288 with 2 Axes>"
            ]
          },
          "metadata": {
            "tags": [],
            "needs_background": "light"
          }
        },
        {
          "output_type": "stream",
          "text": [
            "helpful_2\n",
            "2 distinct values\n",
            "False    526\n",
            "True     136\n",
            "Name: helpful_2, dtype: int64\n",
            "\n",
            "\n"
          ],
          "name": "stdout"
        }
      ]
    },
    {
      "cell_type": "markdown",
      "metadata": {
        "id": "9IH2mdjvQmR5"
      },
      "source": [
        "The distribution looks more spread out. Let's examine top 10 and bottom 10 lowest scaled helpful votes to decide which approach is more favorable"
      ]
    },
    {
      "cell_type": "code",
      "metadata": {
        "colab": {
          "base_uri": "https://localhost:8080/",
          "height": 719
        },
        "id": "lOGqB9jTRCC6",
        "outputId": "61b5cc27-7db1-473a-ff21-6a324b658841"
      },
      "source": [
        "train_df.nlargest(10,'helpful_votes_scaled_2')"
      ],
      "execution_count": 50,
      "outputs": [
        {
          "output_type": "execute_result",
          "data": {
            "text/html": [
              "<div>\n",
              "<style scoped>\n",
              "    .dataframe tbody tr th:only-of-type {\n",
              "        vertical-align: middle;\n",
              "    }\n",
              "\n",
              "    .dataframe tbody tr th {\n",
              "        vertical-align: top;\n",
              "    }\n",
              "\n",
              "    .dataframe thead th {\n",
              "        text-align: right;\n",
              "    }\n",
              "</style>\n",
              "<table border=\"1\" class=\"dataframe\">\n",
              "  <thead>\n",
              "    <tr style=\"text-align: right;\">\n",
              "      <th></th>\n",
              "      <th>data/helpful_votes</th>\n",
              "      <th>data/product_id</th>\n",
              "      <th>data/product_parent</th>\n",
              "      <th>data/product_title</th>\n",
              "      <th>data/review_body</th>\n",
              "      <th>data/review_headline</th>\n",
              "      <th>data/review_id</th>\n",
              "      <th>data/star_rating</th>\n",
              "      <th>data/total_votes</th>\n",
              "      <th>count</th>\n",
              "      <th>sum</th>\n",
              "      <th>min</th>\n",
              "      <th>max</th>\n",
              "      <th>helpful_votes_scaled</th>\n",
              "      <th>helpful</th>\n",
              "      <th>helpful_votes_scaled_1</th>\n",
              "      <th>helpful_1</th>\n",
              "      <th>helpful_votes_scaled_2</th>\n",
              "      <th>helpful_2</th>\n",
              "    </tr>\n",
              "  </thead>\n",
              "  <tbody>\n",
              "    <tr>\n",
              "      <th>137</th>\n",
              "      <td>10</td>\n",
              "      <td>b'B000OQ74FE'</td>\n",
              "      <td>b'447336068'</td>\n",
              "      <td>b'HEAD Liquidmetal 4 Tennis Racquet (4-3/8), S...</td>\n",
              "      <td>b\"I'm really impressed by the quality of this ...</td>\n",
              "      <td>b'Liquidmetal 4 makes you play like the BIG 4'</td>\n",
              "      <td>b'R2EYR2BSLOHCF5'</td>\n",
              "      <td>5</td>\n",
              "      <td>10</td>\n",
              "      <td>22.0</td>\n",
              "      <td>38.0</td>\n",
              "      <td>0.0</td>\n",
              "      <td>10.0</td>\n",
              "      <td>0.263158</td>\n",
              "      <td>True</td>\n",
              "      <td>0.263158</td>\n",
              "      <td>True</td>\n",
              "      <td>1.0</td>\n",
              "      <td>True</td>\n",
              "    </tr>\n",
              "    <tr>\n",
              "      <th>239</th>\n",
              "      <td>89</td>\n",
              "      <td>b'B000OQ8OU8'</td>\n",
              "      <td>b'547332048'</td>\n",
              "      <td>b'HEAD Ti.S6 Tennis Racquet - Strung'</td>\n",
              "      <td>b\"I was on my high school tennis team almost 4...</td>\n",
              "      <td>b'Outstanding for returning recreational players'</td>\n",
              "      <td>b'R3DF8ED26I7Y24'</td>\n",
              "      <td>5</td>\n",
              "      <td>92</td>\n",
              "      <td>109.0</td>\n",
              "      <td>201.0</td>\n",
              "      <td>0.0</td>\n",
              "      <td>89.0</td>\n",
              "      <td>0.442786</td>\n",
              "      <td>True</td>\n",
              "      <td>0.442786</td>\n",
              "      <td>True</td>\n",
              "      <td>1.0</td>\n",
              "      <td>True</td>\n",
              "    </tr>\n",
              "    <tr>\n",
              "      <th>328</th>\n",
              "      <td>11</td>\n",
              "      <td>b'B001PN0A1U'</td>\n",
              "      <td>b'351197271'</td>\n",
              "      <td>b'Prince O3 Red MP+ Prestrung Tennis Racquet'</td>\n",
              "      <td>b\"Just wanted to say how pleased I am with thi...</td>\n",
              "      <td>b'Terrific Stick'</td>\n",
              "      <td>b'R4VHJ9DMTMLMZ'</td>\n",
              "      <td>5</td>\n",
              "      <td>11</td>\n",
              "      <td>39.0</td>\n",
              "      <td>43.0</td>\n",
              "      <td>0.0</td>\n",
              "      <td>11.0</td>\n",
              "      <td>0.255814</td>\n",
              "      <td>True</td>\n",
              "      <td>0.255814</td>\n",
              "      <td>True</td>\n",
              "      <td>1.0</td>\n",
              "      <td>True</td>\n",
              "    </tr>\n",
              "    <tr>\n",
              "      <th>376</th>\n",
              "      <td>8</td>\n",
              "      <td>b'B000QX9SAE'</td>\n",
              "      <td>b'53048323'</td>\n",
              "      <td>b'Wilson Impact Tennis Racquet (Colors May Vary)'</td>\n",
              "      <td>b\"I have used a few different racquets lately,...</td>\n",
              "      <td>b\"It's a good racket!\"</td>\n",
              "      <td>b'R2OJBCIDIO6CZP'</td>\n",
              "      <td>3</td>\n",
              "      <td>8</td>\n",
              "      <td>26.0</td>\n",
              "      <td>29.0</td>\n",
              "      <td>0.0</td>\n",
              "      <td>8.0</td>\n",
              "      <td>0.275862</td>\n",
              "      <td>True</td>\n",
              "      <td>0.275862</td>\n",
              "      <td>True</td>\n",
              "      <td>1.0</td>\n",
              "      <td>True</td>\n",
              "    </tr>\n",
              "    <tr>\n",
              "      <th>379</th>\n",
              "      <td>5</td>\n",
              "      <td>b'B000V1O55Y'</td>\n",
              "      <td>b'179386855'</td>\n",
              "      <td>b'Head Intelligence I.S12 Tennis Racquet Racket'</td>\n",
              "      <td>b'The i.S12  is a true lightweight, I like to ...</td>\n",
              "      <td>b'Best Racquet in its range!'</td>\n",
              "      <td>b'R3CMGHQ2K5QQ9Z'</td>\n",
              "      <td>5</td>\n",
              "      <td>5</td>\n",
              "      <td>16.0</td>\n",
              "      <td>21.0</td>\n",
              "      <td>0.0</td>\n",
              "      <td>5.0</td>\n",
              "      <td>0.238095</td>\n",
              "      <td>True</td>\n",
              "      <td>0.238095</td>\n",
              "      <td>True</td>\n",
              "      <td>1.0</td>\n",
              "      <td>True</td>\n",
              "    </tr>\n",
              "    <tr>\n",
              "      <th>610</th>\n",
              "      <td>23</td>\n",
              "      <td>b'B000OQBPOK'</td>\n",
              "      <td>b'726880504'</td>\n",
              "      <td>b'HEAD Liquidmetal 4 Prestrung Tennis Racquets'</td>\n",
              "      <td>b'I first bought this racquet in 2004 when it ...</td>\n",
              "      <td>b'Great high school varsity racquet'</td>\n",
              "      <td>b'R1BOZ1PM7XYWOE'</td>\n",
              "      <td>5</td>\n",
              "      <td>28</td>\n",
              "      <td>22.0</td>\n",
              "      <td>52.0</td>\n",
              "      <td>0.0</td>\n",
              "      <td>23.0</td>\n",
              "      <td>0.442308</td>\n",
              "      <td>True</td>\n",
              "      <td>0.442308</td>\n",
              "      <td>True</td>\n",
              "      <td>1.0</td>\n",
              "      <td>True</td>\n",
              "    </tr>\n",
              "    <tr>\n",
              "      <th>666</th>\n",
              "      <td>10</td>\n",
              "      <td>b'B0030GGXWA'</td>\n",
              "      <td>b'525218499'</td>\n",
              "      <td>b'Head Micro Gel Radical OS Strung Tennis Racq...</td>\n",
              "      <td>b'After using a $20 walmart racquet for a whil...</td>\n",
              "      <td>b'A great upgrade!!!  Great for shoulder injury'</td>\n",
              "      <td>b'R1JQC2V587Z7I4'</td>\n",
              "      <td>5</td>\n",
              "      <td>10</td>\n",
              "      <td>28.0</td>\n",
              "      <td>43.0</td>\n",
              "      <td>0.0</td>\n",
              "      <td>10.0</td>\n",
              "      <td>0.232558</td>\n",
              "      <td>True</td>\n",
              "      <td>0.232558</td>\n",
              "      <td>True</td>\n",
              "      <td>1.0</td>\n",
              "      <td>True</td>\n",
              "    </tr>\n",
              "    <tr>\n",
              "      <th>840</th>\n",
              "      <td>16</td>\n",
              "      <td>b'B0038N9JF8'</td>\n",
              "      <td>b'966478416'</td>\n",
              "      <td>b'Babolat AeroPro Drive GT 2010 Tennis Racquet...</td>\n",
              "      <td>b\"I got this amazing babolat aeropro drive gt ...</td>\n",
              "      <td>b'Best racquet ever!'</td>\n",
              "      <td>b'R30XZFDTHUGUGI'</td>\n",
              "      <td>5</td>\n",
              "      <td>16</td>\n",
              "      <td>11.0</td>\n",
              "      <td>36.0</td>\n",
              "      <td>0.0</td>\n",
              "      <td>16.0</td>\n",
              "      <td>0.444444</td>\n",
              "      <td>True</td>\n",
              "      <td>0.444444</td>\n",
              "      <td>True</td>\n",
              "      <td>1.0</td>\n",
              "      <td>True</td>\n",
              "    </tr>\n",
              "    <tr>\n",
              "      <th>1004</th>\n",
              "      <td>14</td>\n",
              "      <td>b'B004UX3Z1E'</td>\n",
              "      <td>b'19173789'</td>\n",
              "      <td>b'Le Petit Tennis Racquet 17 Inches + TENNIS B...</td>\n",
              "      <td>b'I purchased this particular racquet for my 3...</td>\n",
              "      <td>b'Tennis Racquet for Toddlers'</td>\n",
              "      <td>b'R3HNVAQ5QNBZCV'</td>\n",
              "      <td>5</td>\n",
              "      <td>14</td>\n",
              "      <td>37.0</td>\n",
              "      <td>62.0</td>\n",
              "      <td>0.0</td>\n",
              "      <td>14.0</td>\n",
              "      <td>0.225806</td>\n",
              "      <td>True</td>\n",
              "      <td>0.225806</td>\n",
              "      <td>True</td>\n",
              "      <td>1.0</td>\n",
              "      <td>True</td>\n",
              "    </tr>\n",
              "    <tr>\n",
              "      <th>1173</th>\n",
              "      <td>31</td>\n",
              "      <td>b'B007WZZ3TE'</td>\n",
              "      <td>b'489292521'</td>\n",
              "      <td>b'DHS Table Tennis Racket 4002C Ping Pong Padd...</td>\n",
              "      <td>b\"Not forgiving, very sticky (when kept clean)...</td>\n",
              "      <td>b'Great Intermediate Paddle'</td>\n",
              "      <td>b'R2ESB7YQWZZFTP'</td>\n",
              "      <td>5</td>\n",
              "      <td>34</td>\n",
              "      <td>92.0</td>\n",
              "      <td>140.0</td>\n",
              "      <td>0.0</td>\n",
              "      <td>31.0</td>\n",
              "      <td>0.221429</td>\n",
              "      <td>True</td>\n",
              "      <td>0.221429</td>\n",
              "      <td>True</td>\n",
              "      <td>1.0</td>\n",
              "      <td>True</td>\n",
              "    </tr>\n",
              "  </tbody>\n",
              "</table>\n",
              "</div>"
            ],
            "text/plain": [
              "      data/helpful_votes data/product_id  ... helpful_votes_scaled_2 helpful_2\n",
              "137                   10   b'B000OQ74FE'  ...                    1.0      True\n",
              "239                   89   b'B000OQ8OU8'  ...                    1.0      True\n",
              "328                   11   b'B001PN0A1U'  ...                    1.0      True\n",
              "376                    8   b'B000QX9SAE'  ...                    1.0      True\n",
              "379                    5   b'B000V1O55Y'  ...                    1.0      True\n",
              "610                   23   b'B000OQBPOK'  ...                    1.0      True\n",
              "666                   10   b'B0030GGXWA'  ...                    1.0      True\n",
              "840                   16   b'B0038N9JF8'  ...                    1.0      True\n",
              "1004                  14   b'B004UX3Z1E'  ...                    1.0      True\n",
              "1173                  31   b'B007WZZ3TE'  ...                    1.0      True\n",
              "\n",
              "[10 rows x 19 columns]"
            ]
          },
          "metadata": {
            "tags": []
          },
          "execution_count": 50
        }
      ]
    },
    {
      "cell_type": "code",
      "metadata": {
        "colab": {
          "base_uri": "https://localhost:8080/",
          "height": 719
        },
        "id": "c4hPiCDPRTuM",
        "outputId": "5796df93-200d-47c3-8036-b9b7931d49fe"
      },
      "source": [
        "train_df.nsmallest(10,'helpful_votes_scaled_2')"
      ],
      "execution_count": 51,
      "outputs": [
        {
          "output_type": "execute_result",
          "data": {
            "text/html": [
              "<div>\n",
              "<style scoped>\n",
              "    .dataframe tbody tr th:only-of-type {\n",
              "        vertical-align: middle;\n",
              "    }\n",
              "\n",
              "    .dataframe tbody tr th {\n",
              "        vertical-align: top;\n",
              "    }\n",
              "\n",
              "    .dataframe thead th {\n",
              "        text-align: right;\n",
              "    }\n",
              "</style>\n",
              "<table border=\"1\" class=\"dataframe\">\n",
              "  <thead>\n",
              "    <tr style=\"text-align: right;\">\n",
              "      <th></th>\n",
              "      <th>data/helpful_votes</th>\n",
              "      <th>data/product_id</th>\n",
              "      <th>data/product_parent</th>\n",
              "      <th>data/product_title</th>\n",
              "      <th>data/review_body</th>\n",
              "      <th>data/review_headline</th>\n",
              "      <th>data/review_id</th>\n",
              "      <th>data/star_rating</th>\n",
              "      <th>data/total_votes</th>\n",
              "      <th>count</th>\n",
              "      <th>sum</th>\n",
              "      <th>min</th>\n",
              "      <th>max</th>\n",
              "      <th>helpful_votes_scaled</th>\n",
              "      <th>helpful</th>\n",
              "      <th>helpful_votes_scaled_1</th>\n",
              "      <th>helpful_1</th>\n",
              "      <th>helpful_votes_scaled_2</th>\n",
              "      <th>helpful_2</th>\n",
              "    </tr>\n",
              "  </thead>\n",
              "  <tbody>\n",
              "    <tr>\n",
              "      <th>1340</th>\n",
              "      <td>1</td>\n",
              "      <td>b'B006A2X7GG'</td>\n",
              "      <td>b'282976541'</td>\n",
              "      <td>b'Head You Tek IG Radical MP Tennis Racquet Un...</td>\n",
              "      <td>b'Certainly a step up from the LiquidMetal 4 I...</td>\n",
              "      <td>b'Nice racquet.'</td>\n",
              "      <td>b'RG305CR3KBYQV'</td>\n",
              "      <td>5</td>\n",
              "      <td>1</td>\n",
              "      <td>13.0</td>\n",
              "      <td>31.0</td>\n",
              "      <td>1.0</td>\n",
              "      <td>8.0</td>\n",
              "      <td>0.032258</td>\n",
              "      <td>False</td>\n",
              "      <td>0.032258</td>\n",
              "      <td>False</td>\n",
              "      <td>0.000000</td>\n",
              "      <td>False</td>\n",
              "    </tr>\n",
              "    <tr>\n",
              "      <th>2062</th>\n",
              "      <td>1</td>\n",
              "      <td>b'B006A2X2PC'</td>\n",
              "      <td>b'282976541'</td>\n",
              "      <td>b'Head You Tek IG Radical MP Tennis Racquet Un...</td>\n",
              "      <td>b'This product was exactly as described and ca...</td>\n",
              "      <td>b'Exactly as described.'</td>\n",
              "      <td>b'RGAK1V8ZPZFHH'</td>\n",
              "      <td>5</td>\n",
              "      <td>1</td>\n",
              "      <td>13.0</td>\n",
              "      <td>31.0</td>\n",
              "      <td>1.0</td>\n",
              "      <td>8.0</td>\n",
              "      <td>0.032258</td>\n",
              "      <td>False</td>\n",
              "      <td>0.032258</td>\n",
              "      <td>False</td>\n",
              "      <td>0.000000</td>\n",
              "      <td>False</td>\n",
              "    </tr>\n",
              "    <tr>\n",
              "      <th>2093</th>\n",
              "      <td>1</td>\n",
              "      <td>b'B006A2X4OQ'</td>\n",
              "      <td>b'282976541'</td>\n",
              "      <td>b'Head You Tek IG Radical MP Tennis Racquet Un...</td>\n",
              "      <td>b'My instructor recommended this raquet. It is...</td>\n",
              "      <td>b'Excellent Raquet'</td>\n",
              "      <td>b'R1XSNVCB0FH527'</td>\n",
              "      <td>5</td>\n",
              "      <td>1</td>\n",
              "      <td>13.0</td>\n",
              "      <td>31.0</td>\n",
              "      <td>1.0</td>\n",
              "      <td>8.0</td>\n",
              "      <td>0.032258</td>\n",
              "      <td>False</td>\n",
              "      <td>0.032258</td>\n",
              "      <td>False</td>\n",
              "      <td>0.000000</td>\n",
              "      <td>False</td>\n",
              "    </tr>\n",
              "    <tr>\n",
              "      <th>2192</th>\n",
              "      <td>1</td>\n",
              "      <td>b'B006A2X4OQ'</td>\n",
              "      <td>b'282976541'</td>\n",
              "      <td>b'Head You Tek IG Radical MP Tennis Racquet Un...</td>\n",
              "      <td>b'This racquet its great! Very light, high pre...</td>\n",
              "      <td>b'Love it'</td>\n",
              "      <td>b'R31F7EZ0J75KPK'</td>\n",
              "      <td>5</td>\n",
              "      <td>1</td>\n",
              "      <td>13.0</td>\n",
              "      <td>31.0</td>\n",
              "      <td>1.0</td>\n",
              "      <td>8.0</td>\n",
              "      <td>0.032258</td>\n",
              "      <td>False</td>\n",
              "      <td>0.032258</td>\n",
              "      <td>False</td>\n",
              "      <td>0.000000</td>\n",
              "      <td>False</td>\n",
              "    </tr>\n",
              "    <tr>\n",
              "      <th>2241</th>\n",
              "      <td>1</td>\n",
              "      <td>b'B006A2XB3U'</td>\n",
              "      <td>b'282976541'</td>\n",
              "      <td>b'Head You Tek IG Radical MP Tennis Racquet Un...</td>\n",
              "      <td>b'so so'</td>\n",
              "      <td>b'Four Stars'</td>\n",
              "      <td>b'RZJCSAS39OKEY'</td>\n",
              "      <td>4</td>\n",
              "      <td>2</td>\n",
              "      <td>13.0</td>\n",
              "      <td>31.0</td>\n",
              "      <td>1.0</td>\n",
              "      <td>8.0</td>\n",
              "      <td>0.032258</td>\n",
              "      <td>False</td>\n",
              "      <td>0.032258</td>\n",
              "      <td>False</td>\n",
              "      <td>0.000000</td>\n",
              "      <td>False</td>\n",
              "    </tr>\n",
              "    <tr>\n",
              "      <th>2548</th>\n",
              "      <td>1</td>\n",
              "      <td>b'B006A2XB3U'</td>\n",
              "      <td>b'282976541'</td>\n",
              "      <td>b'Head You Tek IG Radical MP Tennis Racquet Un...</td>\n",
              "      <td>b'Great racket! Easy to use. Long swing type o...</td>\n",
              "      <td>b'Five Stars'</td>\n",
              "      <td>b'R2YAUA0LMPFETS'</td>\n",
              "      <td>5</td>\n",
              "      <td>1</td>\n",
              "      <td>13.0</td>\n",
              "      <td>31.0</td>\n",
              "      <td>1.0</td>\n",
              "      <td>8.0</td>\n",
              "      <td>0.032258</td>\n",
              "      <td>False</td>\n",
              "      <td>0.032258</td>\n",
              "      <td>False</td>\n",
              "      <td>0.000000</td>\n",
              "      <td>False</td>\n",
              "    </tr>\n",
              "    <tr>\n",
              "      <th>3850</th>\n",
              "      <td>1</td>\n",
              "      <td>b'B006A2X4OQ'</td>\n",
              "      <td>b'282976541'</td>\n",
              "      <td>b'Head You Tek IG Radical MP Tennis Racquet Un...</td>\n",
              "      <td>b'Great product!'</td>\n",
              "      <td>b'Five Stars'</td>\n",
              "      <td>b'R31VAIDNB59POW'</td>\n",
              "      <td>5</td>\n",
              "      <td>2</td>\n",
              "      <td>13.0</td>\n",
              "      <td>31.0</td>\n",
              "      <td>1.0</td>\n",
              "      <td>8.0</td>\n",
              "      <td>0.032258</td>\n",
              "      <td>False</td>\n",
              "      <td>0.032258</td>\n",
              "      <td>False</td>\n",
              "      <td>0.000000</td>\n",
              "      <td>False</td>\n",
              "    </tr>\n",
              "    <tr>\n",
              "      <th>4064</th>\n",
              "      <td>1</td>\n",
              "      <td>b'B006A2X2PC'</td>\n",
              "      <td>b'282976541'</td>\n",
              "      <td>b'Head You Tek IG Radical MP Tennis Racquet Un...</td>\n",
              "      <td>b'The racket is great! But the strings with it...</td>\n",
              "      <td>b'The racket is great! But the strings with it...</td>\n",
              "      <td>b'R1P9DNACDU2DD4'</td>\n",
              "      <td>5</td>\n",
              "      <td>1</td>\n",
              "      <td>13.0</td>\n",
              "      <td>31.0</td>\n",
              "      <td>1.0</td>\n",
              "      <td>8.0</td>\n",
              "      <td>0.032258</td>\n",
              "      <td>False</td>\n",
              "      <td>0.032258</td>\n",
              "      <td>False</td>\n",
              "      <td>0.000000</td>\n",
              "      <td>False</td>\n",
              "    </tr>\n",
              "    <tr>\n",
              "      <th>166</th>\n",
              "      <td>1</td>\n",
              "      <td>b'B00SC49H3W'</td>\n",
              "      <td>b'453459277'</td>\n",
              "      <td>b'Wilson US Open Junior Tennis Racquet'</td>\n",
              "      <td>b\"I bought this for my 9 year old daughter and...</td>\n",
              "      <td>b'... my 9 year old daughter and racquet size ...</td>\n",
              "      <td>b'R2G4CI8BM1E8YL'</td>\n",
              "      <td>5</td>\n",
              "      <td>1</td>\n",
              "      <td>159.0</td>\n",
              "      <td>1016.0</td>\n",
              "      <td>0.0</td>\n",
              "      <td>595.0</td>\n",
              "      <td>0.000984</td>\n",
              "      <td>False</td>\n",
              "      <td>0.000984</td>\n",
              "      <td>False</td>\n",
              "      <td>0.001681</td>\n",
              "      <td>False</td>\n",
              "    </tr>\n",
              "    <tr>\n",
              "      <th>269</th>\n",
              "      <td>1</td>\n",
              "      <td>b'B00BCP4WHY'</td>\n",
              "      <td>b'453459277'</td>\n",
              "      <td>b'Wilson US Open Junior Tennis Racquet'</td>\n",
              "      <td>b'perfect racquet for my son 4 years, is light...</td>\n",
              "      <td>b'Perfect racquet'</td>\n",
              "      <td>b'R1O87796UWJCFD'</td>\n",
              "      <td>5</td>\n",
              "      <td>2</td>\n",
              "      <td>159.0</td>\n",
              "      <td>1016.0</td>\n",
              "      <td>0.0</td>\n",
              "      <td>595.0</td>\n",
              "      <td>0.000984</td>\n",
              "      <td>False</td>\n",
              "      <td>0.000984</td>\n",
              "      <td>False</td>\n",
              "      <td>0.001681</td>\n",
              "      <td>False</td>\n",
              "    </tr>\n",
              "  </tbody>\n",
              "</table>\n",
              "</div>"
            ],
            "text/plain": [
              "      data/helpful_votes data/product_id  ... helpful_votes_scaled_2 helpful_2\n",
              "1340                   1   b'B006A2X7GG'  ...               0.000000     False\n",
              "2062                   1   b'B006A2X2PC'  ...               0.000000     False\n",
              "2093                   1   b'B006A2X4OQ'  ...               0.000000     False\n",
              "2192                   1   b'B006A2X4OQ'  ...               0.000000     False\n",
              "2241                   1   b'B006A2XB3U'  ...               0.000000     False\n",
              "2548                   1   b'B006A2XB3U'  ...               0.000000     False\n",
              "3850                   1   b'B006A2X4OQ'  ...               0.000000     False\n",
              "4064                   1   b'B006A2X2PC'  ...               0.000000     False\n",
              "166                    1   b'B00SC49H3W'  ...               0.001681     False\n",
              "269                    1   b'B00BCP4WHY'  ...               0.001681     False\n",
              "\n",
              "[10 rows x 19 columns]"
            ]
          },
          "metadata": {
            "tags": []
          },
          "execution_count": 51
        }
      ]
    },
    {
      "cell_type": "markdown",
      "metadata": {
        "id": "dmcF9r9RRqY1"
      },
      "source": [
        "The results looks as expected. Let's go with the 2nd scaling approach."
      ]
    },
    {
      "cell_type": "markdown",
      "metadata": {
        "id": "5HVGEi2pUvWM"
      },
      "source": [
        "#Text Preprocessing"
      ]
    },
    {
      "cell_type": "markdown",
      "metadata": {
        "id": "K2GM-Wxi8ows"
      },
      "source": [
        "Tokenization"
      ]
    },
    {
      "cell_type": "code",
      "metadata": {
        "id": "MVSlUaeX5ziW"
      },
      "source": [
        "tokenizer = RegexpTokenizer(r'\\w+')"
      ],
      "execution_count": 52,
      "outputs": []
    },
    {
      "cell_type": "markdown",
      "metadata": {
        "id": "D9yF46I3-CpA"
      },
      "source": [
        "Stopping"
      ]
    },
    {
      "cell_type": "code",
      "metadata": {
        "colab": {
          "base_uri": "https://localhost:8080/"
        },
        "id": "tRdIL1Vb6QkY",
        "outputId": "67a19975-9a45-4f66-9e65-053aadf6c5d0"
      },
      "source": [
        "nltk_stpwd = stopwords.words('english')\r\n",
        "stop_words_stpwd = get_stop_words('en')\r\n",
        "custom_stpwd = ['b','br',] # These get added after inspecting the listing of stemmed tokens\r\n",
        "merged_stopwords = list(set(nltk_stpwd + stop_words_stpwd + custom_stpwd))\r\n",
        "\r\n",
        "print(len(set(merged_stopwords)))\r\n",
        "print(merged_stopwords[:10])"
      ],
      "execution_count": 53,
      "outputs": [
        {
          "output_type": "stream",
          "text": [
            "213\n",
            "['only', 'does', 's', \"i'm\", 'itself', 'herself', \"didn't\", \"let's\", 'myself', 'so']\n"
          ],
          "name": "stdout"
        }
      ]
    },
    {
      "cell_type": "markdown",
      "metadata": {
        "id": "9bjnCidg-FiK"
      },
      "source": [
        "Stemming"
      ]
    },
    {
      "cell_type": "code",
      "metadata": {
        "id": "OhQxop6Z6vLA"
      },
      "source": [
        "sb_stemmer = SnowballStemmer('english')"
      ],
      "execution_count": 54,
      "outputs": []
    },
    {
      "cell_type": "markdown",
      "metadata": {
        "id": "OBUtC1U4-5vk"
      },
      "source": [
        "# Transform Reviews Text to Term Frequency - IDF Vector"
      ]
    },
    {
      "cell_type": "code",
      "metadata": {
        "id": "gJV8-MJU2pVs"
      },
      "source": [
        "def tokenize_stop_stem_text(document):\r\n",
        "  tokens = tokenizer.tokenize(document.lower())\r\n",
        "  stopped_tokens = [token for token in tokens if not token in merged_stopwords]\r\n",
        "  stemmed_tokens = [sb_stemmer.stem(token) for token in stopped_tokens]\r\n",
        "  return stemmed_tokens"
      ],
      "execution_count": 55,
      "outputs": []
    },
    {
      "cell_type": "code",
      "metadata": {
        "colab": {
          "base_uri": "https://localhost:8080/"
        },
        "id": "k_GE0iXs69T8",
        "outputId": "9ec14f6f-a6cb-44c1-ab28-7543e98a212a"
      },
      "source": [
        "num_reviews = train_df.shape[0]\r\n",
        "# Stripping leading and trailing characters\r\n",
        "train_df['data/review_body'] = train_df['data/review_body'].str.strip(\"b\\'\\\"\")\r\n",
        "# Removing any digits\r\n",
        "train_df['data/review_body'] = train_df['data/review_body'].str.replace(r'\\d+','')\r\n",
        "# Load reviews into list\r\n",
        "doc_set = [train_df['data/review_body'].iloc[i] for i in range(num_reviews)]\r\n",
        "texts = []\r\n",
        "\r\n",
        "for doc in doc_set:\r\n",
        "  # putting our three steps together\r\n",
        "  results = tokenize_stop_stem_text(doc)\r\n",
        "  #print(stemmed_tokens) #Uncomment to inspect the results of tokenizations\r\n",
        "  # add tokens to list\r\n",
        "  texts.append(results)\r\n",
        "\r\n",
        "print(texts[0])"
      ],
      "execution_count": 56,
      "outputs": [
        {
          "output_type": "stream",
          "text": [
            "['suppos', 'one', 'best', 'novic', 'racquet', 'bought', 'daughter', 'birthday', 'degre', 'outsid', 'ask', 'next', 'summer']\n"
          ],
          "name": "stdout"
        }
      ]
    },
    {
      "cell_type": "code",
      "metadata": {
        "colab": {
          "base_uri": "https://localhost:8080/"
        },
        "id": "8FfUPMH1Hi63",
        "outputId": "b5b37a4e-fa42-490c-b1ce-c7e07efd77b6"
      },
      "source": [
        "# Gensim's Dictionary encapsulates the mapping between normalized words and their integer ids.\r\n",
        "texts_dict = corpora.Dictionary(texts)\r\n",
        "# Examine each token’s unique id\r\n",
        "print(texts_dict)"
      ],
      "execution_count": 57,
      "outputs": [
        {
          "output_type": "stream",
          "text": [
            "Dictionary(2767 unique tokens: ['ask', 'best', 'birthday', 'bought', 'daughter']...)\n"
          ],
          "name": "stdout"
        }
      ]
    },
    {
      "cell_type": "code",
      "metadata": {
        "colab": {
          "base_uri": "https://localhost:8080/"
        },
        "id": "aVSJwyX3t9xg",
        "outputId": "b91b3d2b-4f06-4e3b-e111-e24f5e01e050"
      },
      "source": [
        "LOWER_BOUND = 5\r\n",
        "UPPER_BOUND = 0.25\r\n",
        "texts_dict.filter_extremes(no_below=LOWER_BOUND, no_above=UPPER_BOUND) # inplace filter\r\n",
        "print(texts_dict)\r\n",
        "print(\"top terms:\")\r\n",
        "print(sorted(texts_dict.token2id.items(), key=operator.itemgetter(1), reverse = False)[:10])"
      ],
      "execution_count": 58,
      "outputs": [
        {
          "output_type": "stream",
          "text": [
            "Dictionary(741 unique tokens: ['ask', 'best', 'bought', 'daughter', 'next']...)\n",
            "top terms:\n",
            "[('ask', 0), ('best', 1), ('bought', 2), ('daughter', 3), ('next', 4), ('summer', 5), ('suppos', 6), ('came', 7), ('cover', 8), ('extra', 9)]\n"
          ],
          "name": "stdout"
        }
      ]
    },
    {
      "cell_type": "code",
      "metadata": {
        "id": "-co_hTpsuYgw"
      },
      "source": [
        "texts_dict.save(home_dir+'tennis_racquet_review.dict') # lets save to disk for later use"
      ],
      "execution_count": 59,
      "outputs": []
    },
    {
      "cell_type": "code",
      "metadata": {
        "id": "Jp0aIdhlIJap"
      },
      "source": [
        "corpus = [texts_dict.doc2bow(text) for text in texts]\r\n",
        "len(corpus)\r\n",
        "pickle.dump(corpus, open(home_dir+'tennis_racquet_review.pkl', 'wb'))"
      ],
      "execution_count": 60,
      "outputs": []
    },
    {
      "cell_type": "markdown",
      "metadata": {
        "id": "WVxuGo8OBg10"
      },
      "source": [
        "#Train LDA Model"
      ]
    },
    {
      "cell_type": "code",
      "metadata": {
        "id": "o8QsOEecIwnD"
      },
      "source": [
        "def train_LDA(corpus,dictionary,NUM_TOPICS=1,new_train=True):\r\n",
        "  MDL = 'model{0}.gensim'.format(NUM_TOPICS)\r\n",
        "  if new_train:\r\n",
        "    ldamodel = gensim.models.ldamodel.LdaModel(corpus, num_topics = NUM_TOPICS, \r\n",
        "                                              id2word=dictionary, passes=15,iterations=5000, # to make sure enough random starts\r\n",
        "                                              random_state=random.seed(12345), # to make sure results are the same every run\r\n",
        "                                              minimum_probability=0.0001) #to make sure no topics are filtered out\r\n",
        "    ldamodel.save(home_dir+MDL)\r\n",
        "  else:\r\n",
        "    ldamodel = gensim.models.ldamodel.LdaModel.load(home_dir+MDL)\r\n",
        "\r\n",
        "  #Print top 10 words from each topics\r\n",
        "  topics = ldamodel.print_topics(num_words=10)\r\n",
        "  for topic in topics:\r\n",
        "      print(topic)\r\n",
        "  return ldamodel\r\n",
        "  "
      ],
      "execution_count": 63,
      "outputs": []
    },
    {
      "cell_type": "code",
      "metadata": {
        "colab": {
          "base_uri": "https://localhost:8080/",
          "height": 929
        },
        "id": "VYC8bx-1JwX8",
        "outputId": "66f347f9-083a-45ac-dd5b-2e37389662ff"
      },
      "source": [
        "k=4\r\n",
        "mdl = train_LDA(corpus,texts_dict,k,True)\r\n",
        "#Visualize LDA results\r\n",
        "lda_display = pyLDAvis.gensim.prepare(mdl, corpus, texts_dict, sort_topics=False)\r\n",
        "pyLDAvis.display(lda_display)"
      ],
      "execution_count": 66,
      "outputs": [
        {
          "output_type": "stream",
          "text": [
            "(0, '0.018*\"ball\" + 0.015*\"year\" + 0.015*\"like\" + 0.014*\"feel\" + 0.014*\"love\" + 0.014*\"light\" + 0.013*\"power\" + 0.013*\"player\" + 0.012*\"old\" + 0.011*\"size\"')\n",
            "(1, '0.083*\"string\" + 0.027*\"machin\" + 0.016*\"clamp\" + 0.015*\"get\" + 0.014*\"job\" + 0.013*\"time\" + 0.012*\"tension\" + 0.012*\"stringer\" + 0.011*\"first\" + 0.009*\"klipperm\"')\n",
            "(2, '0.014*\"control\" + 0.014*\"power\" + 0.012*\"paddl\" + 0.012*\"head\" + 0.011*\"spin\" + 0.011*\"string\" + 0.011*\"much\" + 0.010*\"weight\" + 0.009*\"like\" + 0.008*\"game\"')\n",
            "(3, '0.037*\"grip\" + 0.022*\"bag\" + 0.018*\"fit\" + 0.013*\"raquet\" + 0.013*\"product\" + 0.012*\"like\" + 0.012*\"two\" + 0.012*\"qualiti\" + 0.010*\"look\" + 0.008*\"replac\"')\n"
          ],
          "name": "stdout"
        },
        {
          "output_type": "execute_result",
          "data": {
            "text/html": [
              "\n",
              "<link rel=\"stylesheet\" type=\"text/css\" href=\"https://cdn.rawgit.com/bmabey/pyLDAvis/files/ldavis.v1.0.0.css\">\n",
              "\n",
              "\n",
              "<div id=\"ldavis_el561398017377989044166198725\"></div>\n",
              "<script type=\"text/javascript\">\n",
              "\n",
              "var ldavis_el561398017377989044166198725_data = {\"mdsDat\": {\"x\": [0.02471045270493171, -0.15349919228433967, -0.003836010758843218, 0.13262475033825116], \"y\": [0.06246583753181492, -0.05724216117477408, 0.07062393451978558, -0.07584761087682648], \"topics\": [1, 2, 3, 4], \"cluster\": [1, 1, 1, 1], \"Freq\": [37.3615698932741, 29.18649513155828, 22.71579061512248, 10.73614436004514]}, \"tinfo\": {\"Term\": [\"string\", \"grip\", \"machin\", \"bag\", \"fit\", \"clamp\", \"job\", \"paddl\", \"size\", \"stringer\", \"raquet\", \"ball\", \"control\", \"product\", \"klipperm\", \"light\", \"perfect\", \"qualiti\", \"power\", \"two\", \"tension\", \"look\", \"hit\", \"replac\", \"expect\", \"like\", \"head\", \"son\", \"leather\", \"youtub\", \"accuraci\", \"kid\", \"court\", \"competit\", \"stabl\", \"adult\", \"ounc\", \"pump\", \"inflat\", \"grandson\", \"restring\", \"yr\", \"yellow\", \"respons\", \"alot\", \"toy\", \"recreat\", \"net\", \"smaller\", \"suit\", \"child\", \"daughter\", \"larg\", \"sister\", \"older\", \"cover\", \"overs\", \"saw\", \"teach\", \"intermedi\", \"light\", \"size\", \"old\", \"ball\", \"age\", \"love\", \"perfect\", \"year\", \"fun\", \"son\", \"feel\", \"price\", \"player\", \"wilson\", \"hit\", \"recommend\", \"power\", \"like\", \"shot\", \"realli\", \"nice\", \"bought\", \"game\", \"head\", \"well\", \"better\", \"beginn\", \"control\", \"purchas\", \"high\", \"make\", \"get\", \"also\", \"much\", \"string\", \"machin\", \"klipperm\", \"piec\", \"pull\", \"stringer\", \"save\", \"youtub\", \"system\", \"mount\", \"follow\", \"lifetim\", \"user\", \"hybrid\", \"float\", \"clamp\", \"tool\", \"lost\", \"gamma\", \"minut\", \"sens\", \"pattern\", \"job\", \"manual\", \"cut\", \"home\", \"custom\", \"video\", \"min\", \"busi\", \"fix\", \"string\", \"drop\", \"break\", \"main\", \"tension\", \"instruct\", \"took\", \"done\", \"watch\", \"hour\", \"time\", \"get\", \"strung\", \"first\", \"set\", \"read\", \"easi\", \"buy\", \"money\", \"also\", \"work\", \"know\", \"review\", \"well\", \"take\", \"weight\", \"product\", \"littl\", \"much\", \"qualiti\", \"purchas\", \"paddl\", \"smell\", \"backhand\", \"effort\", \"silver\", \"signific\", \"advanc\", \"must\", \"regret\", \"poor\", \"near\", \"girl\", \"sell\", \"produc\", \"amount\", \"pleas\", \"topspin\", \"skill\", \"deliv\", \"cross\", \"measur\", \"hammer\", \"slice\", \"toward\", \"stiff\", \"wonder\", \"proper\", \"stick\", \"within\", \"fish\", \"chang\", \"radic\", \"princ\", \"friend\", \"control\", \"spin\", \"serv\", \"stroke\", \"power\", \"head\", \"day\", \"improv\", \"need\", \"weight\", \"much\", \"swing\", \"return\", \"want\", \"game\", \"beginn\", \"lot\", \"tri\", \"come\", \"like\", \"got\", \"top\", \"time\", \"feel\", \"get\", \"string\", \"also\", \"first\", \"player\", \"ball\", \"work\", \"purchas\", \"year\", \"xc\", \"pocket\", \"raquet\", \"tacki\", \"separ\", \"carri\", \"appear\", \"leather\", \"key\", \"phone\", \"bag\", \"la\", \"shoe\", \"deliveri\", \"fit\", \"materi\", \"bare\", \"cloth\", \"instal\", \"larger\", \"excit\", \"buck\", \"describ\", \"logo\", \"synthet\", \"grip\", \"replac\", \"precis\", \"switch\", \"pong\", \"wrap\", \"room\", \"gift\", \"expect\", \"sticki\", \"disappoint\", \"product\", \"two\", \"qualiti\", \"excel\", \"star\", \"look\", \"small\", \"sweet\", \"like\", \"spot\", \"size\", \"hit\", \"need\", \"perfect\", \"nice\", \"made\", \"buy\", \"much\", \"littl\", \"ball\", \"also\", \"get\"], \"Freq\": [545.0, 113.0, 146.0, 49.0, 49.0, 97.0, 87.0, 51.0, 95.0, 66.0, 28.0, 157.0, 117.0, 88.0, 49.0, 116.0, 91.0, 77.0, 156.0, 77.0, 87.0, 90.0, 107.0, 28.0, 33.0, 179.0, 131.0, 53.0, 16.0, 35.0, 12.533157664970828, 25.502911282935063, 31.528545572043562, 8.721586695104588, 7.787031203176372, 6.829707386499742, 6.817716417811694, 5.9180356315012, 5.914131447610046, 5.898762590441607, 5.885765433767794, 5.881526514890441, 5.864755260907788, 9.122525439959219, 4.961764009040666, 4.960316002601555, 10.698679854022885, 18.192039011203764, 12.353238403100214, 7.357855737850936, 10.635706050019913, 15.35790768562075, 21.7979391283773, 4.870883063682446, 13.023124017991139, 31.49986306706507, 9.644290030246614, 4.757360707314655, 7.881346354986594, 26.59250063217941, 94.13439491767481, 76.40146159746998, 83.73484836647201, 120.1210363297878, 19.3787792411106, 95.71676810494178, 67.386658159408, 102.74691987772651, 21.384876155408836, 39.38193600320654, 96.96681766704866, 72.28191143718631, 85.7942776066755, 48.28533138846877, 66.9721071228516, 72.35885923704676, 88.60534711948901, 99.27882428461031, 47.56718365153937, 57.56424548990626, 42.019923731829614, 56.30760910475344, 55.100399275192984, 66.12512290393585, 51.45525267070402, 48.687451224305505, 41.69749620545579, 56.26554989170091, 50.90443435275202, 43.17316983963408, 45.7844009792656, 58.42053248587921, 48.12839937754607, 46.431711812859845, 54.65578871959165, 142.23197240244886, 47.652550111378936, 18.09171213948394, 15.934723977194874, 61.74235832019765, 18.410191700101354, 32.87179651517801, 8.173075415215463, 10.794083107147284, 11.66238432181819, 7.156855400476796, 8.033933937813988, 12.443152733489809, 7.09521523460659, 87.16105348632445, 17.769664642127196, 6.132782578809091, 33.14528958616801, 15.73484020476989, 5.2200197168897535, 12.196693692382246, 76.70446323797265, 25.041148220698847, 12.59529257993969, 10.099699909235422, 9.929660273173045, 26.411377208482712, 8.228097733851222, 4.922415808370171, 13.009761907887455, 440.3115603797089, 29.99443337406921, 22.664339711366722, 23.88669327448605, 65.89918431960514, 23.08235466870358, 27.779861265759816, 21.237021257159256, 19.45479533941128, 42.3707099108713, 71.58799981768101, 82.09136610086745, 38.422264305731375, 59.40126635717578, 24.97851165985177, 20.857144432929676, 39.258284306027214, 38.74143787280035, 23.316958592461944, 40.60127354058764, 32.07144348930303, 24.28144662272355, 28.40401101077457, 30.974690222347874, 26.797029157826998, 30.060624239386026, 28.208487086022018, 27.96181984297899, 29.130489528476264, 26.30998782309984, 25.559744541621413, 49.250472524319534, 21.388189017763686, 20.508196336783698, 9.717236677574348, 7.9284833517295885, 6.988117541063319, 6.898728077785118, 9.447275685406845, 6.010616842144914, 5.940795053619208, 10.073032311444646, 5.853066050344281, 6.662989055362699, 4.961905895697194, 9.933740792424713, 21.28152025693762, 4.886020992689594, 7.336166933698475, 8.028775521744363, 10.451065473851381, 8.775937671989016, 6.068530870594862, 6.113895718171967, 5.986751165780692, 11.064801970606114, 8.068920265030025, 8.653656825416219, 15.916671887428196, 8.038502933381318, 5.065553709250389, 11.472594164369815, 13.110620836969366, 19.511908760308643, 20.73252385627336, 57.262503105089834, 47.48726944840607, 28.285061797950025, 18.39976997791245, 57.06713308209642, 48.73332724780754, 20.707750545367702, 26.440634593732348, 31.88085521188298, 40.63770169314019, 43.950724025272486, 30.284427330466237, 19.365412108425247, 30.702462001589662, 32.40146512524177, 25.586381695295124, 28.116884158582693, 26.087330373273875, 24.01967715716092, 36.18974072176744, 20.510069478419688, 17.149497127558725, 31.05038600369306, 29.4233801942927, 31.740253844077426, 45.133527124113556, 26.605116106040402, 24.23754609972237, 24.439733509473346, 23.840156497382026, 22.11948588984171, 21.959574380145046, 21.568926930243208, 10.898746482726516, 9.092421834134816, 26.179304068931486, 10.602544360652182, 8.14410002601145, 13.040050544516655, 8.10531179398557, 14.322228499922659, 6.276895185351015, 6.27623143730986, 42.90448009097147, 9.046179201031352, 4.2651952225308385, 7.343519596779325, 36.037951900717786, 4.618813829519586, 5.192162669739501, 5.052754611035286, 4.416083478295766, 6.2178931814207115, 4.7897936837857555, 3.595230013941258, 5.284652950526412, 3.5160573179072805, 5.887476580134304, 71.49709362774517, 16.376471247561952, 3.6259194713619665, 3.6112721111721866, 3.6448855245928713, 11.299147929843981, 6.632372378029177, 6.02894426359809, 16.083860476496007, 7.350480289664208, 10.118253549157465, 25.985635519604696, 22.8217273088162, 22.599619708803015, 12.246723021421047, 10.732642623685752, 19.984127846567656, 12.01598487338922, 11.045536003163132, 22.841756453003132, 10.91290400962631, 15.67092531465086, 15.591839006153833, 13.915229689033497, 14.2842872760427, 12.853611196039196, 11.680377270080402, 12.833678696484633, 12.88410348929246, 11.765137347890763, 12.373150611908342, 11.79081290913658, 11.35049358188473], \"Total\": [545.0, 113.0, 146.0, 49.0, 49.0, 97.0, 87.0, 51.0, 95.0, 66.0, 28.0, 157.0, 117.0, 88.0, 49.0, 116.0, 91.0, 77.0, 156.0, 77.0, 87.0, 90.0, 107.0, 28.0, 33.0, 179.0, 131.0, 53.0, 16.0, 35.0, 13.280677728631929, 27.45252502893342, 34.183580693237765, 9.487395083382328, 8.540495137433158, 7.590178316107249, 7.5914745260312, 6.64151195183286, 6.642029623577044, 6.640525934789228, 6.644064630494499, 6.640330098517472, 6.638721031270501, 10.46762643042321, 5.694185991841867, 5.694034209654466, 12.28515169861355, 20.917200362962305, 14.20430350677856, 8.523922439149576, 12.345438997303058, 17.92314740104872, 25.457396251060025, 5.697660883358641, 15.259851321723106, 37.099812383052864, 11.398705628837035, 5.695909339578664, 9.53791088159908, 32.32853824650563, 116.27594620078662, 95.84402857095074, 107.61282744385473, 157.0671128619125, 23.79476302662942, 128.2977352138356, 91.57994950197023, 146.4150116371951, 26.805722726803264, 53.59729577119586, 147.57693700276545, 107.17608014867145, 130.26540271165993, 72.25457746009968, 107.70472867685632, 119.38586351450076, 156.2531002767924, 179.55394073501884, 75.11017387852701, 98.56515106537495, 66.89478113905488, 102.39605288448016, 100.8372038392699, 131.33501110882648, 93.27026646029167, 89.10459317903782, 71.36975907869044, 117.59132492903268, 105.64155917465148, 80.60006762944398, 96.76809800480902, 183.60264601270882, 127.12560193331068, 132.39702885590106, 545.5338413032079, 146.40014089510976, 49.106974180350775, 19.01475161566766, 17.003188878930708, 66.04358495380566, 19.973757248319203, 35.992989164617065, 8.977873024502868, 11.973057642044484, 12.964658662114005, 7.972886676031931, 8.971939872647777, 13.942669227755058, 7.968756720909602, 97.92985287958363, 19.966475783803613, 6.970527077952159, 37.701952191086704, 17.936918908131712, 5.970459068598658, 13.961739262692024, 87.80503457069567, 28.932522938071532, 14.854236311806451, 11.937396944443524, 11.8556748872046, 31.88101819476317, 9.947409498389668, 5.953579949500744, 15.830794045289531, 545.5338413032079, 36.76263302182502, 27.72665350709992, 29.74615470285285, 87.26841975292189, 28.79298602015712, 35.653470210395, 26.66649775296529, 24.833712960656367, 60.27849223611716, 147.35594492995529, 183.60264601270882, 66.61280542732389, 121.18431614304701, 39.438497891616876, 30.505316006023374, 85.27347879133066, 88.65993475282764, 37.32354877463243, 127.12560193331068, 84.35373505324486, 42.86970867701463, 67.7782871158344, 93.27026646029167, 60.55627563361822, 116.78342265628694, 88.36657822817963, 92.12668078629298, 132.39702885590106, 77.89950351230767, 105.64155917465148, 51.91580862242715, 23.05659103316565, 22.16327667252033, 10.602544302834758, 8.667834038312794, 7.7029252380832745, 7.704175068478229, 10.590346845198637, 6.738839123204227, 6.741724404695095, 11.560993359937877, 6.743119053517947, 7.711696668853418, 5.774683176280133, 11.597507868247675, 24.885436244622685, 5.781141175335016, 8.68949257659327, 9.565554425756858, 12.459797844681667, 10.521868861792777, 7.64362900401611, 7.730211531255017, 7.636007248822246, 14.29717649479346, 10.540716504723287, 11.39687830610993, 21.114549740736337, 10.66521865485439, 6.722556847209174, 15.261219119260845, 18.2845215549256, 29.90901985899375, 33.833568995166296, 117.59132492903268, 93.96087635410278, 53.4445651764933, 32.271029116917276, 156.2531002767924, 131.33501110882648, 39.71478819485604, 57.32475465628971, 80.16610831114683, 116.78342265628694, 132.39702885590106, 75.58529392778907, 40.505046367614085, 90.83094838099521, 100.8372038392699, 71.36975907869044, 85.85192311326307, 74.40389259724132, 68.14618750012804, 179.55394073501884, 53.15180197213148, 36.48711484204715, 147.35594492995529, 147.57693700276545, 183.60264601270882, 545.5338413032079, 127.12560193331068, 121.18431614304701, 130.26540271165993, 157.0671128619125, 84.35373505324486, 105.64155917465148, 146.4150116371951, 11.646842673772532, 9.866134917246793, 28.69962383556922, 11.671879208142105, 8.982446857276784, 14.386768666546107, 8.982316270034833, 16.174578314985187, 7.203716359977821, 7.203052412296641, 49.4307371214892, 10.834760366453672, 5.437544936878642, 10.011010676919105, 49.87500795019986, 6.415264360778301, 7.293059867318825, 7.299003704243868, 6.444394391265282, 9.138570884702672, 7.32710581167879, 5.524206657705763, 8.250172824354504, 5.529722481816384, 9.264342795479028, 113.32308313101966, 28.634159371342484, 6.45849531701589, 6.433323281086359, 6.540834537485546, 20.549392230491613, 12.02542095540576, 11.026287789426476, 33.3333395678015, 13.86781890344446, 22.22476057641007, 88.36657822817963, 77.87373505209635, 77.89950351230767, 33.63118668075896, 27.13508405068335, 90.59431377522236, 39.30636461867035, 35.458712173273156, 179.55394073501884, 36.410544020288384, 95.84402857095074, 107.70472867685632, 80.16610831114683, 91.57994950197023, 66.89478113905488, 49.70864995677361, 88.65993475282764, 132.39702885590106, 92.12668078629298, 157.0671128619125, 127.12560193331068, 183.60264601270882], \"Category\": [\"Default\", \"Default\", \"Default\", \"Default\", \"Default\", \"Default\", \"Default\", \"Default\", \"Default\", \"Default\", \"Default\", \"Default\", \"Default\", \"Default\", \"Default\", \"Default\", \"Default\", \"Default\", \"Default\", \"Default\", \"Default\", \"Default\", \"Default\", \"Default\", \"Default\", \"Default\", \"Default\", \"Default\", \"Default\", \"Default\", \"Topic1\", \"Topic1\", \"Topic1\", \"Topic1\", \"Topic1\", \"Topic1\", \"Topic1\", \"Topic1\", \"Topic1\", \"Topic1\", \"Topic1\", \"Topic1\", \"Topic1\", \"Topic1\", \"Topic1\", \"Topic1\", \"Topic1\", \"Topic1\", \"Topic1\", \"Topic1\", \"Topic1\", \"Topic1\", \"Topic1\", \"Topic1\", \"Topic1\", \"Topic1\", \"Topic1\", \"Topic1\", \"Topic1\", \"Topic1\", \"Topic1\", \"Topic1\", \"Topic1\", \"Topic1\", \"Topic1\", \"Topic1\", \"Topic1\", \"Topic1\", \"Topic1\", \"Topic1\", \"Topic1\", \"Topic1\", \"Topic1\", \"Topic1\", \"Topic1\", \"Topic1\", \"Topic1\", \"Topic1\", \"Topic1\", \"Topic1\", \"Topic1\", \"Topic1\", \"Topic1\", \"Topic1\", \"Topic1\", \"Topic1\", \"Topic1\", \"Topic1\", \"Topic1\", \"Topic1\", \"Topic1\", \"Topic1\", \"Topic1\", \"Topic1\", \"Topic1\", \"Topic2\", \"Topic2\", \"Topic2\", \"Topic2\", \"Topic2\", \"Topic2\", \"Topic2\", \"Topic2\", \"Topic2\", \"Topic2\", \"Topic2\", \"Topic2\", \"Topic2\", \"Topic2\", \"Topic2\", \"Topic2\", \"Topic2\", \"Topic2\", \"Topic2\", \"Topic2\", \"Topic2\", \"Topic2\", \"Topic2\", \"Topic2\", \"Topic2\", \"Topic2\", \"Topic2\", \"Topic2\", \"Topic2\", \"Topic2\", \"Topic2\", \"Topic2\", \"Topic2\", \"Topic2\", \"Topic2\", \"Topic2\", \"Topic2\", \"Topic2\", \"Topic2\", \"Topic2\", \"Topic2\", \"Topic2\", \"Topic2\", \"Topic2\", \"Topic2\", \"Topic2\", \"Topic2\", \"Topic2\", \"Topic2\", \"Topic2\", \"Topic2\", \"Topic2\", \"Topic2\", \"Topic2\", \"Topic2\", \"Topic2\", \"Topic2\", \"Topic2\", \"Topic2\", \"Topic2\", \"Topic2\", \"Topic3\", \"Topic3\", \"Topic3\", \"Topic3\", \"Topic3\", \"Topic3\", \"Topic3\", \"Topic3\", \"Topic3\", \"Topic3\", \"Topic3\", \"Topic3\", \"Topic3\", \"Topic3\", \"Topic3\", \"Topic3\", \"Topic3\", \"Topic3\", \"Topic3\", \"Topic3\", \"Topic3\", \"Topic3\", \"Topic3\", \"Topic3\", \"Topic3\", \"Topic3\", \"Topic3\", \"Topic3\", \"Topic3\", \"Topic3\", \"Topic3\", \"Topic3\", \"Topic3\", \"Topic3\", \"Topic3\", \"Topic3\", \"Topic3\", \"Topic3\", \"Topic3\", \"Topic3\", \"Topic3\", \"Topic3\", \"Topic3\", \"Topic3\", \"Topic3\", \"Topic3\", \"Topic3\", \"Topic3\", \"Topic3\", \"Topic3\", \"Topic3\", \"Topic3\", \"Topic3\", \"Topic3\", \"Topic3\", \"Topic3\", \"Topic3\", \"Topic3\", \"Topic3\", \"Topic3\", \"Topic3\", \"Topic3\", \"Topic3\", \"Topic3\", \"Topic3\", \"Topic3\", \"Topic3\", \"Topic4\", \"Topic4\", \"Topic4\", \"Topic4\", \"Topic4\", \"Topic4\", \"Topic4\", \"Topic4\", \"Topic4\", \"Topic4\", \"Topic4\", \"Topic4\", \"Topic4\", \"Topic4\", \"Topic4\", \"Topic4\", \"Topic4\", \"Topic4\", \"Topic4\", \"Topic4\", \"Topic4\", \"Topic4\", \"Topic4\", \"Topic4\", \"Topic4\", \"Topic4\", \"Topic4\", \"Topic4\", \"Topic4\", \"Topic4\", \"Topic4\", \"Topic4\", \"Topic4\", \"Topic4\", \"Topic4\", \"Topic4\", \"Topic4\", \"Topic4\", \"Topic4\", \"Topic4\", \"Topic4\", \"Topic4\", \"Topic4\", \"Topic4\", \"Topic4\", \"Topic4\", \"Topic4\", \"Topic4\", \"Topic4\", \"Topic4\", \"Topic4\", \"Topic4\", \"Topic4\", \"Topic4\", \"Topic4\", \"Topic4\", \"Topic4\", \"Topic4\"], \"logprob\": [30.0, 29.0, 28.0, 27.0, 26.0, 25.0, 24.0, 23.0, 22.0, 21.0, 20.0, 19.0, 18.0, 17.0, 16.0, 15.0, 14.0, 13.0, 12.0, 11.0, 10.0, 9.0, 8.0, 7.0, 6.0, 5.0, 4.0, 3.0, 2.0, 1.0, -6.298299789428711, -5.587900161743164, -5.375800132751465, -6.660900115966797, -6.774199962615967, -6.905399799346924, -6.907199859619141, -7.048699855804443, -7.049300193786621, -7.0518999099731445, -7.054100036621094, -7.054900169372559, -7.057700157165527, -6.615900039672852, -7.224899768829346, -7.225200176239014, -6.456600189208984, -5.9257001876831055, -6.31279993057251, -6.830900192260742, -6.462500095367432, -6.09499979019165, -5.744900226593018, -7.2434000968933105, -6.260000228881836, -5.376699924468994, -6.560299873352051, -7.267000198364258, -6.762199878692627, -5.54610013961792, -4.2820000648498535, -4.490699768066406, -4.39900016784668, -4.0381999015808105, -5.862500190734863, -4.2652997970581055, -4.616199970245361, -4.194399833679199, -5.763999938964844, -5.15339994430542, -4.252299785614014, -4.54610013961792, -4.37470006942749, -4.9496002197265625, -4.622399806976318, -4.545000076293945, -4.34250020980835, -4.228700160980225, -4.9644999504089355, -4.773799896240234, -5.088500022888184, -4.795899868011475, -4.817500114440918, -4.6350998878479, -4.886000156402588, -4.941299915313721, -5.096199989318848, -4.796599864959717, -4.896699905395508, -5.061500072479248, -5.002699851989746, -4.758999824523926, -4.9527997970581055, -4.988699913024902, -4.8256001472473145, -3.622299909591675, -4.715799808502197, -5.684299945831299, -5.811200141906738, -4.4567999839782715, -5.666800022125244, -5.087100028991699, -6.478899955749512, -6.200699806213379, -6.1234002113342285, -6.611700057983398, -6.496099948883057, -6.058599948883057, -6.620299816131592, -4.111999988555908, -5.702300071716309, -6.76609992980957, -5.078800201416016, -5.82390022277832, -6.927199840545654, -6.07859992980957, -4.239799976348877, -5.3592000007629395, -6.04640007019043, -6.267199993133545, -6.284200191497803, -5.3059000968933105, -6.4721999168396, -6.985899925231934, -6.013999938964844, -2.492300033569336, -5.178699970245361, -5.459000110626221, -5.406400203704834, -4.391600131988525, -5.440700054168701, -5.25540018081665, -5.52400016784668, -5.611599922180176, -4.8333001136779785, -4.308800220489502, -4.171899795532227, -4.931099891662598, -4.4953999519348145, -5.361700057983398, -5.541999816894531, -4.909599781036377, -4.922800064086914, -5.430600166320801, -4.875899791717529, -5.111800193786621, -5.389999866485596, -5.2332000732421875, -5.146599769592285, -5.291500091552734, -5.176499843597412, -5.240099906921387, -5.248899936676025, -5.208000183105469, -5.309800148010254, -5.338699817657471, -4.432199954986572, -5.266300201416016, -5.308300018310547, -6.055200099945068, -6.258600234985352, -6.384900093078613, -6.397799968719482, -6.083399772644043, -6.535600185394287, -6.547299861907959, -6.019199848175049, -6.562099933624268, -6.432499885559082, -6.72730016708374, -6.033199787139893, -5.271299839019775, -6.742700099945068, -6.336299896240234, -6.246099948883057, -5.982399940490723, -6.157100200653076, -6.526000022888184, -6.518499851226807, -6.5395002365112305, -5.925300121307373, -6.241099834442139, -6.17110013961792, -5.561699867248535, -6.244900226593018, -6.706600189208984, -5.889100074768066, -5.75570011138916, -5.358099937438965, -5.297399997711182, -4.281499862670898, -4.468599796295166, -4.986800193786621, -5.416800022125244, -4.284900188446045, -4.442699909210205, -5.298600196838379, -5.054200172424316, -4.867099761962891, -4.6244001388549805, -4.546000003814697, -4.918499946594238, -5.365600109100342, -4.904799938201904, -4.850900173187256, -5.086999893188477, -4.992700099945068, -5.067599773406982, -5.150199890136719, -4.740300178527832, -5.308199882507324, -5.487100124359131, -4.893499851226807, -4.947299957275391, -4.871500015258789, -4.519499778747559, -5.047999858856201, -5.141200065612793, -5.132900238037109, -5.157700061798096, -5.232600212097168, -5.2399001121521, -5.257800102233887, -5.190999984741211, -5.372200012207031, -4.314700126647949, -5.218599796295166, -5.482399940490723, -5.011600017547607, -5.487100124359131, -4.917799949645996, -5.742800235748291, -5.7428998947143555, -3.82069993019104, -5.377299785614014, -6.129199981689453, -5.5858001708984375, -3.9951000213623047, -6.049499988555908, -5.932499885559082, -5.959700107574463, -6.094399929046631, -5.752200126647949, -6.013199806213379, -6.300000190734863, -5.91480016708374, -6.322299957275391, -5.80679988861084, -3.309999942779541, -4.78380012512207, -6.291500091552734, -6.295599937438965, -6.286300182342529, -5.154900074005127, -5.687699794769287, -5.783100128173828, -4.801799774169922, -5.58489990234375, -5.2652997970581055, -4.3221001625061035, -4.451900005340576, -4.461699962615967, -5.074399948120117, -5.206399917602539, -4.584700107574463, -5.093400001525879, -5.177599906921387, -4.451099872589111, -5.189700126647949, -4.8277997970581055, -4.832900047302246, -4.946700096130371, -4.920499801635742, -5.026000022888184, -5.121699810028076, -5.027599811553955, -5.02370023727417, -5.114500045776367, -5.0640997886657715, -5.112299919128418, -5.150400161743164], \"loglift\": [30.0, 29.0, 28.0, 27.0, 26.0, 25.0, 24.0, 23.0, 22.0, 21.0, 20.0, 19.0, 18.0, 17.0, 16.0, 15.0, 14.0, 13.0, 12.0, 11.0, 10.0, 9.0, 8.0, 7.0, 6.0, 5.0, 4.0, 3.0, 2.0, 1.0, 0.9266, 0.9109, 0.9037, 0.9004, 0.8922, 0.879, 0.877, 0.8692, 0.8685, 0.8661, 0.8633, 0.8632, 0.8606, 0.847, 0.8468, 0.8466, 0.8463, 0.8449, 0.8449, 0.8374, 0.8355, 0.8301, 0.8293, 0.8277, 0.826, 0.8209, 0.8174, 0.8045, 0.7938, 0.7892, 0.7733, 0.7578, 0.7336, 0.7164, 0.7792, 0.6916, 0.6778, 0.6304, 0.7586, 0.6763, 0.5645, 0.5906, 0.5669, 0.5815, 0.5094, 0.4838, 0.4172, 0.392, 0.5277, 0.4467, 0.5196, 0.3865, 0.3802, 0.2983, 0.3897, 0.3801, 0.4471, 0.2474, 0.2544, 0.3602, 0.2362, -0.1606, 0.0132, -0.0633, -1.3162, 1.2026, 1.2014, 1.1817, 1.1666, 1.1641, 1.1499, 1.1408, 1.1375, 1.1278, 1.1256, 1.1235, 1.121, 1.1177, 1.1154, 1.115, 1.1149, 1.1034, 1.1027, 1.1005, 1.0971, 1.0963, 1.0963, 1.087, 1.0665, 1.0643, 1.0542, 1.0432, 1.0417, 1.0413, 1.0352, 1.0172, 1.028, 1.0299, 1.0121, 0.9506, 1.0104, 0.9819, 1.0038, 0.9874, 0.8789, 0.5095, 0.4265, 0.6812, 0.5185, 0.7747, 0.8513, 0.4558, 0.4036, 0.761, 0.0901, 0.2644, 0.663, 0.3618, 0.1291, 0.4162, -0.1256, 0.0896, 0.0391, -0.2826, 0.146, -0.1876, 1.4294, 1.407, 1.4045, 1.3949, 1.393, 1.3847, 1.3717, 1.3679, 1.3677, 1.3556, 1.3443, 1.3406, 1.3359, 1.3304, 1.3273, 1.3257, 1.3139, 1.3128, 1.307, 1.3063, 1.3007, 1.2514, 1.2475, 1.2388, 1.2258, 1.2149, 1.2068, 1.1995, 1.1994, 1.1991, 1.1968, 1.1495, 1.055, 0.9924, 0.7625, 0.7997, 0.8458, 0.9203, 0.4749, 0.4907, 0.8309, 0.7083, 0.56, 0.4265, 0.3794, 0.5675, 0.7442, 0.3975, 0.3468, 0.4563, 0.3659, 0.4341, 0.4393, -0.1196, 0.5299, 0.7271, -0.0751, -0.1305, -0.2731, -1.01, -0.082, -0.1273, -0.1913, -0.4032, 0.1435, -0.0887, -0.4331, 2.1652, 2.1499, 2.1396, 2.1355, 2.1336, 2.1333, 2.1288, 2.1099, 2.0938, 2.0938, 2.09, 2.0511, 1.9887, 1.9217, 1.9066, 1.903, 1.8918, 1.8637, 1.8536, 1.8465, 1.8065, 1.802, 1.7861, 1.7788, 1.7782, 1.771, 1.6728, 1.6543, 1.6541, 1.6468, 1.6335, 1.6365, 1.6278, 1.5028, 1.5967, 1.4447, 1.0076, 1.0042, 0.9941, 1.2214, 1.304, 0.7201, 1.0464, 1.0652, 0.1697, 1.0266, 0.4206, 0.2989, 0.4804, 0.3735, 0.5821, 0.7833, 0.2988, -0.0983, 0.1735, -0.3096, -0.1463, -0.552]}, \"token.table\": {\"Topic\": [1, 1, 3, 1, 2, 3, 1, 1, 2, 3, 4, 2, 3, 4, 2, 3, 4, 1, 4, 1, 2, 3, 4, 3, 4, 1, 2, 3, 4, 1, 2, 3, 4, 1, 2, 3, 4, 1, 2, 4, 1, 2, 4, 1, 2, 1, 2, 3, 4, 2, 4, 1, 3, 4, 1, 3, 2, 3, 1, 3, 4, 1, 2, 3, 4, 1, 1, 2, 3, 4, 1, 2, 3, 1, 2, 3, 3, 4, 2, 4, 2, 3, 4, 1, 4, 1, 2, 3, 4, 3, 4, 3, 4, 3, 4, 1, 3, 4, 1, 2, 3, 4, 1, 2, 3, 4, 1, 2, 3, 4, 3, 1, 2, 3, 4, 3, 4, 1, 2, 3, 4, 1, 2, 3, 4, 1, 2, 3, 4, 1, 3, 1, 4, 2, 3, 4, 2, 1, 2, 1, 2, 3, 1, 2, 3, 1, 2, 3, 4, 2, 3, 4, 1, 2, 3, 4, 1, 2, 4, 3, 1, 2, 3, 4, 1, 1, 2, 3, 4, 3, 4, 1, 2, 3, 4, 1, 2, 3, 4, 1, 2, 3, 4, 1, 2, 3, 1, 2, 3, 2, 3, 4, 1, 2, 3, 4, 1, 2, 4, 1, 2, 3, 1, 3, 1, 2, 3, 4, 4, 1, 4, 1, 2, 1, 2, 3, 4, 3, 4, 1, 3, 4, 3, 4, 1, 4, 2, 1, 3, 4, 1, 2, 3, 4, 1, 2, 3, 4, 2, 3, 4, 1, 2, 3, 4, 2, 1, 2, 3, 4, 1, 2, 3, 4, 1, 2, 3, 1, 2, 3, 4, 1, 2, 3, 4, 1, 2, 3, 4, 2, 3, 2, 4, 3, 4, 2, 3, 1, 2, 1, 2, 3, 4, 2, 3, 1, 2, 3, 4, 1, 3, 1, 2, 3, 1, 2, 3, 4, 1, 2, 3, 1, 2, 3, 4, 1, 2, 3, 4, 1, 2, 1, 1, 3, 3, 4, 2, 3, 1, 2, 3, 4, 4, 2, 1, 2, 3, 4, 2, 3, 4, 4, 2, 4, 3, 1, 2, 3, 4, 3, 4, 1, 2, 3, 4, 1, 2, 3, 3, 1, 2, 3, 4, 3, 4, 2, 3, 1, 1, 2, 3, 4, 1, 2, 3, 4, 1, 2, 3, 1, 3, 4, 1, 2, 3, 4, 1, 2, 3, 4, 1, 2, 3, 4, 1, 4, 3, 1, 2, 3, 4, 1, 2, 1, 1, 2, 3, 4, 1, 2, 3, 4, 2, 3, 4, 1, 2, 1, 2, 3, 2, 4, 1, 2, 3, 4, 1, 2, 3, 1, 4, 1, 2, 3, 4, 3, 3, 1, 1, 2, 3, 4, 2, 3, 2, 3, 1, 2, 3, 4, 1, 3, 4, 3, 4, 1, 2, 4, 1, 2, 3, 4, 1, 3, 4, 1, 1, 2, 3, 4, 1, 2, 3, 4, 3, 4, 1, 3, 4, 1, 2, 3, 4, 1, 2, 3, 4, 1, 3, 4, 1, 2, 3, 4, 1, 4, 1, 3, 4, 1, 2, 3, 4, 1, 4, 2, 4, 2, 3, 4, 1, 2, 3, 1, 2, 1, 2, 3, 1, 2, 3, 4, 1, 2, 3, 4, 2, 3, 1, 2, 3, 4, 3, 3, 4, 1, 1, 2, 3, 4, 1, 2, 3, 4, 2, 2, 3, 1, 2, 3, 4, 1, 2, 3, 1, 2, 3, 4, 1, 2, 3, 4, 1, 2, 3, 4, 2, 3, 1, 3, 4, 1, 2, 3, 4, 1, 2, 3, 4, 4, 1, 2, 3, 4, 1, 2, 3, 1], \"Freq\": [0.9788657074309685, 0.9222444728531843, 0.9085982519582955, 0.7984950292943259, 0.04202605417338557, 0.12607816252015672, 0.878088634119708, 0.377579333116397, 0.3225156803702558, 0.21238837487797332, 0.09439483327909926, 0.08622542113016, 0.8622542113016001, 0.8906388685831674, 0.045119682201137434, 0.9475133262238862, 0.045119682201137434, 0.12138196493516579, 0.8699040820353547, 0.7640046207858897, 0.006366705173215748, 0.15280092415717794, 0.07640046207858897, 0.2742333172064399, 0.6855832930160998, 0.5884845422231549, 0.014011536719598929, 0.3642999547095721, 0.04203461015879678, 0.5499155346744508, 0.20200978824775742, 0.1795642562202288, 0.06733659608258581, 0.54689608068367, 0.21485203169715608, 0.14649002161169733, 0.08789401296701839, 0.10819913767205246, 0.8295267221524021, 0.03606637922401748, 0.18102146823292561, 0.18102146823292561, 0.7240858729317025, 0.16796616632046035, 0.8398308316023018, 0.3609296588048687, 0.43988302166843374, 0.056395259188260737, 0.1466276738894779, 0.06950831164230253, 0.9036080513499328, 0.06552556464757932, 0.7207812111233725, 0.13105112929515864, 0.8910173224624108, 0.08100157476931007, 0.8883910007194314, 0.10211390812867029, 0.13700499965749693, 0.13700499965749693, 0.6850249982874848, 0.2788123693634996, 0.24946369890418388, 0.352184045511789, 0.11739468183726301, 0.9486270910931046, 0.47622560621539434, 0.017008057364835513, 0.48472963489781207, 0.017008057364835513, 0.9361219436654943, 0.029253810739546696, 0.05850762147909339, 0.8355837404223843, 0.026954314207173685, 0.10781725682869474, 0.8025812396521661, 0.08025812396521662, 0.8434779205013995, 0.08434779205013995, 0.8751712122465248, 0.06732086248050191, 0.06732086248050191, 0.8369065803209497, 0.11158754404279328, 0.22661583780435982, 0.2517953753381776, 0.5287702882101729, 0.025179537533817756, 0.836334167777945, 0.10454177097224313, 0.1997800286649481, 0.6992301003273182, 0.24241916412902303, 0.6060479103225576, 0.26996916251905784, 0.26996916251905784, 0.44994860419842975, 0.11250071260919153, 0.7875049882643407, 0.037500237536397175, 0.07500047507279435, 0.10880613468641662, 0.8160460101481246, 0.05440306734320831, 0.027201533671604154, 0.3049013640410234, 0.4573520460615351, 0.12899673094043299, 0.10554277986035426, 0.9431698387080865, 0.3865459795814326, 0.08920291836494598, 0.1486715306082433, 0.35681167345978393, 0.27295907161763217, 0.6823976790440804, 0.29999994388979695, 0.0899999831669391, 0.14999997194489847, 0.47999991022367516, 0.6572842746978975, 0.08131351851932753, 0.19650766975504153, 0.060985138889495645, 0.2970681450024052, 0.48686168208727515, 0.19804543000160343, 0.016503785833466955, 0.14875292581797112, 0.7437646290898555, 0.2606515875241661, 0.7218043962207678, 0.8211843299084649, 0.06316802537757422, 0.06316802537757422, 0.8784306316733657, 0.07713276732246346, 0.9255932078695616, 0.20689511062223645, 0.17733866624763125, 0.6206853318667094, 0.7834148033994968, 0.1865273341427373, 0.03730546682854746, 0.5454336088857402, 0.04958487353506729, 0.31734319062443067, 0.07933579765610767, 0.8752862406897244, 0.026523825475446194, 0.07957147642633858, 0.3158995867411698, 0.44661665711682624, 0.17428942716754195, 0.05991199058884254, 0.36276941763081416, 0.09069235440770354, 0.5441541264462212, 0.8897959464129208, 0.26339652618627063, 0.28221056377100423, 0.39509478927940594, 0.05644211275420085, 0.90354289086749, 0.24708117028220553, 0.017648655020157538, 0.10589193012094522, 0.6265272532155926, 0.7849674541827559, 0.13082790903045932, 0.5025316512541447, 0.0456846955685586, 0.37309168047656194, 0.08375527520902411, 0.5334983116601217, 0.2605456870898269, 0.12406937480467949, 0.07444162488280769, 0.622071108883421, 0.046423217080852314, 0.1949775117395797, 0.14855429465872738, 0.08377035669116022, 0.8377035669116021, 0.08377035669116022, 0.19907598141298466, 0.6967659349454464, 0.09953799070649233, 0.8606673373640772, 0.0717222781136731, 0.0717222781136731, 0.47100070749343437, 0.03488894129580995, 0.45355623684552937, 0.03488894129580995, 0.9033383378330552, 0.3103472380136752, 0.6206944760273504, 0.13892272226297467, 0.7988056530121044, 0.06946136113148733, 0.8351754042859767, 0.1546621119048105, 0.022777737173939754, 0.8769428811966805, 0.09111094869575902, 0.011388868586969877, 0.8329034209806774, 0.9470895654442519, 0.03642652174785584, 0.020363706310378437, 0.9774579028981649, 0.1866119515827115, 0.5598358547481345, 0.13995896368703362, 0.11663246973919468, 0.09229553457372036, 0.8306598111634833, 0.8641889289476703, 0.03928131495216683, 0.11784394485650049, 0.21885260017492014, 0.6565578005247604, 0.061825413962942985, 0.8655557954812018, 0.8779756046255341, 0.808421716368403, 0.10320277230234931, 0.07740207922676198, 0.5513663448139058, 0.11695649738476789, 0.2004968526596021, 0.12809521142141245, 0.379911657527202, 0.3039293260217616, 0.18452851937035525, 0.13025542543789784, 0.18084090174296116, 0.18084090174296116, 0.7233636069718447, 0.4636052556698878, 0.0993439833578331, 0.22076440746185133, 0.22076440746185133, 0.8607670457199793, 0.3610868443692542, 0.26790314259654346, 0.3261429562044877, 0.04659185088635538, 0.7482595062180597, 0.04676621913862873, 0.15588739712876243, 0.04676621913862873, 0.006830594519143685, 0.9699444217184033, 0.020491783557431056, 0.20117223076257248, 0.34199279229637325, 0.22128945383882972, 0.241406676915087, 0.10085337180446656, 0.8068269744357325, 0.0672355812029777, 0.03361779060148885, 0.4753632751747789, 0.22734765334445947, 0.19634570061566953, 0.09300585818636978, 0.8640795015875774, 0.10368954019050929, 0.15587822165424836, 0.7793911082712418, 0.8553613543579679, 0.09504015048421866, 0.8042294831930943, 0.10052868539913679, 0.11150186998355101, 0.8920149598684081, 0.16075641778409883, 0.6162329348390455, 0.16075641778409883, 0.053585472594699604, 0.9187293946846541, 0.08352085406224127, 0.34743982094995285, 0.21903814799018764, 0.33233374177821573, 0.09818951461629101, 0.094425613685483, 0.8498305231693469, 0.0864977574907433, 0.0864977574907433, 0.864977574907433, 0.23700788775046616, 0.19958558968460308, 0.39917117936920615, 0.1746373909740277, 0.8605358120426223, 0.04780754511347901, 0.09561509022695802, 0.6278516692160807, 0.0747442463352477, 0.10464194486934678, 0.19433504047164402, 0.7805760892568839, 0.07434057992922705, 0.12080344238499395, 0.027877717473460142, 0.8519086933366052, 0.13106287589793927, 0.9220870037825944, 0.877292591423844, 0.0877292591423844, 0.9438358238117176, 0.038523911175988475, 0.8594917706324668, 0.07162431421937224, 0.7316011896092885, 0.09827478666393429, 0.010919420740437143, 0.15287189036612, 0.8329801945848876, 0.9466334540582938, 0.6601906431776011, 0.0767663538578606, 0.18423924925886545, 0.0767663538578606, 0.04018414586628285, 0.8438670631919398, 0.12055243759884854, 0.9122113244435043, 0.30577137955990064, 0.6115427591198013, 0.8899800169555224, 0.5695886983512146, 0.02559949206072875, 0.3647927618653847, 0.04479911110627531, 0.3096696524236373, 0.6193393048472746, 0.6717916899006173, 0.12129572178761147, 0.1866088027501715, 0.01866088027501715, 0.20060837928782135, 0.13373891952521424, 0.6686945976260712, 0.8658483673247751, 0.20369692208201737, 0.31686187879424926, 0.181063930739571, 0.29422888745180287, 0.7896899272123534, 0.1754866504916341, 0.9409999567684744, 0.05881249729802965, 0.9034087484167183, 0.4827645521180207, 0.24611526186408897, 0.2082513754234599, 0.06626180127110087, 0.2824151503934056, 0.33376335955584296, 0.08985936603426542, 0.295252202684015, 0.16407320207904708, 0.054691067359682356, 0.7109838756758706, 0.03484366226294012, 0.03484366226294012, 0.9059352188364431, 0.16390585821214682, 0.6884046044910166, 0.09834351492728809, 0.06556234328485873, 0.5884432720194438, 0.24349376773218365, 0.08116458924406121, 0.09131016289956886, 0.6030864784192376, 0.19265262505058978, 0.11726681524818508, 0.08376201089156077, 0.8953898388769114, 0.08139907626153739, 0.8903610681756535, 0.17461661560087838, 0.1396932924807027, 0.10476996936052703, 0.5587731699228108, 0.8597937708057974, 0.09553264120064416, 0.9030616548282188, 0.22219453641203515, 0.04937656364711892, 0.4690773546476298, 0.2715711000591541, 0.3688496871759907, 0.41311164963710956, 0.13278588738335664, 0.07376993743519814, 0.08315717210302499, 0.33262868841209997, 0.582100204721175, 0.050065693077558066, 0.9011824753960452, 0.8778229606389518, 0.1296731501433239, 0.9077120510032672, 0.8374565410384034, 0.8906259204327056, 0.3929305052936702, 0.018710976442555722, 0.5239073403915602, 0.05613292932766716, 0.15213561166779052, 0.6338983819491272, 0.20284748222372068, 0.1839065261268513, 0.7356261045074052, 0.6390612286110359, 0.03994132678818974, 0.2662755119212649, 0.06656887798031623, 0.9087456756547485, 0.9229526043806454, 0.8775531051003186, 0.7929549825186997, 0.010433618191035523, 0.020867236382071046, 0.16693789105656837, 0.11508151841842663, 0.8055706289289865, 0.12936256607684937, 0.7761753964610962, 0.5342646211047738, 0.10176468973424262, 0.07632351730068196, 0.30529406920272784, 0.8448143898272361, 0.07040119915226968, 0.07040119915226968, 0.9108024672768253, 0.04337154606080121, 0.7276486516500575, 0.07463063093846745, 0.18657657734616862, 0.2873536417247459, 0.12771272965544261, 0.5002081911504836, 0.0744990922990082, 0.521826863927465, 0.1647874307139363, 0.3021102896422166, 0.936713840505083, 0.1842632951002075, 0.1105579770601245, 0.3316739311803735, 0.4053792492204565, 0.14208212047316807, 0.04736070682438936, 0.7577713091902297, 0.04736070682438936, 0.4326563565457097, 0.5047657493033281, 0.06994388020349092, 0.7693826822384001, 0.13988776040698184, 0.10081867674535518, 0.8065494139628414, 0.08248800824619969, 0.009165334249577743, 0.015141516026112942, 0.9387739936190024, 0.045424548078338824, 0.015141516026112942, 0.27888791421535347, 0.5577758284307069, 0.15493773011964082, 0.3152547001328669, 0.5704608859547114, 0.07506064288877783, 0.03002425715551113, 0.8212181715602733, 0.11731688165146761, 0.47943083541577897, 0.197412696935909, 0.310219952327857, 0.4895132118603416, 0.07938052084221756, 0.39690260421108775, 0.03969026042110878, 0.31088131477550607, 0.6217626295510121, 0.32382221450872817, 0.6476444290174563, 0.8910796552998681, 0.0856760065939011, 0.942436072532912, 0.28073060673107736, 0.4458662577493582, 0.28073060673107736, 0.8387580990543664, 0.1048447623817958, 0.1260478880119942, 0.7562873280719652, 0.11458898910181291, 0.2646652635462953, 0.4886127942393145, 0.2103749530752604, 0.03393144404439684, 0.1963343247849996, 0.7853372991399984, 0.02804776068357137, 0.02804776068357137, 0.9015111226890237, 0.10016790252100263, 0.24666241874593353, 0.19184854791350386, 0.4659179020756522, 0.08222080624864452, 0.8648811451504211, 0.7857509565519888, 0.1309584927586648, 0.8781120407605381, 0.33600392569953963, 0.2822432975876133, 0.3494440827275212, 0.04032047108394476, 0.24398470148233276, 0.3210325019504378, 0.14125430085819266, 0.2953499017944028, 0.891668927072185, 0.8155322970290455, 0.15683313404404722, 0.4073501450717166, 0.2422081943669666, 0.3412933647898166, 0.011009463380316664, 0.08053568160220609, 0.7650889752209579, 0.12080352240330915, 0.35107722540955, 0.25688577468991464, 0.35107722540955, 0.04281429578165244, 0.5467980518926945, 0.3323674433073241, 0.032164591287805556, 0.08577224343414815, 0.6643177731750834, 0.027679907215628477, 0.2491191649406563, 0.055359814431256954, 0.1875254567884249, 0.7501018271536996, 0.18974042220979964, 0.7589616888391986, 0.09487021110489982, 0.2963709903802098, 0.37935486768666854, 0.26080647153458464, 0.059274198076041965, 0.04866323970964841, 0.3406426779675389, 0.09732647941929683, 0.5352956368061326, 0.944461972064828, 0.7034797788031866, 0.13659801530158963, 0.15025781683174858, 0.013659801530158963, 0.9037885417594864, 0.9168452180804332, 0.055566376853359585, 0.9035695381076864], \"Term\": [\"accuraci\", \"adult\", \"advanc\", \"age\", \"age\", \"age\", \"alot\", \"also\", \"also\", \"also\", \"also\", \"amount\", \"amount\", \"appear\", \"backhand\", \"backhand\", \"backhand\", \"bag\", \"bag\", \"ball\", \"ball\", \"ball\", \"ball\", \"bare\", \"bare\", \"beginn\", \"beginn\", \"beginn\", \"beginn\", \"better\", \"better\", \"better\", \"better\", \"bought\", \"bought\", \"bought\", \"bought\", \"break\", \"break\", \"break\", \"buck\", \"buck\", \"buck\", \"busi\", \"busi\", \"buy\", \"buy\", \"buy\", \"buy\", \"carri\", \"carri\", \"chang\", \"chang\", \"chang\", \"child\", \"child\", \"clamp\", \"clamp\", \"cloth\", \"cloth\", \"cloth\", \"come\", \"come\", \"come\", \"come\", \"competit\", \"control\", \"control\", \"control\", \"control\", \"court\", \"court\", \"court\", \"cover\", \"cover\", \"cover\", \"cross\", \"cross\", \"custom\", \"custom\", \"cut\", \"cut\", \"cut\", \"daughter\", \"daughter\", \"day\", \"day\", \"day\", \"day\", \"deliv\", \"deliv\", \"deliveri\", \"deliveri\", \"describ\", \"describ\", \"disappoint\", \"disappoint\", \"disappoint\", \"done\", \"done\", \"done\", \"done\", \"drop\", \"drop\", \"drop\", \"drop\", \"easi\", \"easi\", \"easi\", \"easi\", \"effort\", \"excel\", \"excel\", \"excel\", \"excel\", \"excit\", \"excit\", \"expect\", \"expect\", \"expect\", \"expect\", \"feel\", \"feel\", \"feel\", \"feel\", \"first\", \"first\", \"first\", \"first\", \"fish\", \"fish\", \"fit\", \"fit\", \"fix\", \"fix\", \"fix\", \"float\", \"follow\", \"follow\", \"friend\", \"friend\", \"friend\", \"fun\", \"fun\", \"fun\", \"game\", \"game\", \"game\", \"game\", \"gamma\", \"gamma\", \"gamma\", \"get\", \"get\", \"get\", \"get\", \"gift\", \"gift\", \"gift\", \"girl\", \"got\", \"got\", \"got\", \"got\", \"grandson\", \"grip\", \"grip\", \"grip\", \"grip\", \"hammer\", \"hammer\", \"head\", \"head\", \"head\", \"head\", \"high\", \"high\", \"high\", \"high\", \"hit\", \"hit\", \"hit\", \"hit\", \"home\", \"home\", \"home\", \"hour\", \"hour\", \"hour\", \"hybrid\", \"hybrid\", \"hybrid\", \"improv\", \"improv\", \"improv\", \"improv\", \"inflat\", \"instal\", \"instal\", \"instruct\", \"instruct\", \"instruct\", \"intermedi\", \"intermedi\", \"job\", \"job\", \"job\", \"job\", \"key\", \"kid\", \"kid\", \"klipperm\", \"klipperm\", \"know\", \"know\", \"know\", \"know\", \"la\", \"la\", \"larg\", \"larg\", \"larg\", \"larger\", \"larger\", \"leather\", \"leather\", \"lifetim\", \"light\", \"light\", \"light\", \"like\", \"like\", \"like\", \"like\", \"littl\", \"littl\", \"littl\", \"littl\", \"logo\", \"logo\", \"logo\", \"look\", \"look\", \"look\", \"look\", \"lost\", \"lot\", \"lot\", \"lot\", \"lot\", \"love\", \"love\", \"love\", \"love\", \"machin\", \"machin\", \"machin\", \"made\", \"made\", \"made\", \"made\", \"main\", \"main\", \"main\", \"main\", \"make\", \"make\", \"make\", \"make\", \"manual\", \"manual\", \"materi\", \"materi\", \"measur\", \"measur\", \"min\", \"min\", \"minut\", \"minut\", \"money\", \"money\", \"money\", \"money\", \"mount\", \"mount\", \"much\", \"much\", \"much\", \"much\", \"must\", \"must\", \"near\", \"near\", \"near\", \"need\", \"need\", \"need\", \"need\", \"net\", \"net\", \"net\", \"nice\", \"nice\", \"nice\", \"nice\", \"old\", \"old\", \"old\", \"old\", \"older\", \"older\", \"ounc\", \"overs\", \"overs\", \"paddl\", \"paddl\", \"pattern\", \"pattern\", \"perfect\", \"perfect\", \"perfect\", \"perfect\", \"phone\", \"piec\", \"player\", \"player\", \"player\", \"player\", \"pleas\", \"pleas\", \"pleas\", \"pocket\", \"pong\", \"pong\", \"poor\", \"power\", \"power\", \"power\", \"power\", \"precis\", \"precis\", \"price\", \"price\", \"price\", \"price\", \"princ\", \"princ\", \"princ\", \"produc\", \"product\", \"product\", \"product\", \"product\", \"proper\", \"proper\", \"pull\", \"pull\", \"pump\", \"purchas\", \"purchas\", \"purchas\", \"purchas\", \"qualiti\", \"qualiti\", \"qualiti\", \"qualiti\", \"radic\", \"radic\", \"radic\", \"raquet\", \"raquet\", \"raquet\", \"read\", \"read\", \"read\", \"read\", \"realli\", \"realli\", \"realli\", \"realli\", \"recommend\", \"recommend\", \"recommend\", \"recommend\", \"recreat\", \"recreat\", \"regret\", \"replac\", \"replac\", \"replac\", \"replac\", \"respons\", \"respons\", \"restring\", \"return\", \"return\", \"return\", \"return\", \"review\", \"review\", \"review\", \"review\", \"room\", \"room\", \"room\", \"save\", \"save\", \"saw\", \"sell\", \"sell\", \"sens\", \"separ\", \"serv\", \"serv\", \"serv\", \"serv\", \"set\", \"set\", \"set\", \"shoe\", \"shoe\", \"shot\", \"shot\", \"shot\", \"shot\", \"signific\", \"silver\", \"sister\", \"size\", \"size\", \"size\", \"size\", \"skill\", \"skill\", \"slice\", \"slice\", \"small\", \"small\", \"small\", \"small\", \"smaller\", \"smaller\", \"smaller\", \"smell\", \"smell\", \"son\", \"son\", \"son\", \"spin\", \"spin\", \"spin\", \"spin\", \"spot\", \"spot\", \"spot\", \"stabl\", \"star\", \"star\", \"star\", \"star\", \"stick\", \"stick\", \"stick\", \"stick\", \"sticki\", \"sticki\", \"stiff\", \"stiff\", \"stiff\", \"string\", \"string\", \"string\", \"string\", \"stringer\", \"stringer\", \"stringer\", \"stringer\", \"stroke\", \"stroke\", \"stroke\", \"strung\", \"strung\", \"strung\", \"strung\", \"suit\", \"suit\", \"sweet\", \"sweet\", \"sweet\", \"swing\", \"swing\", \"swing\", \"swing\", \"switch\", \"switch\", \"synthet\", \"synthet\", \"system\", \"tacki\", \"tacki\", \"take\", \"take\", \"take\", \"teach\", \"teach\", \"tension\", \"tension\", \"tension\", \"time\", \"time\", \"time\", \"time\", \"took\", \"took\", \"took\", \"took\", \"tool\", \"tool\", \"top\", \"top\", \"top\", \"top\", \"topspin\", \"toward\", \"toward\", \"toy\", \"tri\", \"tri\", \"tri\", \"tri\", \"two\", \"two\", \"two\", \"two\", \"user\", \"video\", \"video\", \"want\", \"want\", \"want\", \"want\", \"watch\", \"watch\", \"watch\", \"weight\", \"weight\", \"weight\", \"weight\", \"well\", \"well\", \"well\", \"well\", \"wilson\", \"wilson\", \"wilson\", \"wilson\", \"within\", \"within\", \"wonder\", \"wonder\", \"wonder\", \"work\", \"work\", \"work\", \"work\", \"wrap\", \"wrap\", \"wrap\", \"wrap\", \"xc\", \"year\", \"year\", \"year\", \"year\", \"yellow\", \"youtub\", \"youtub\", \"yr\"]}, \"R\": 30, \"lambda.step\": 0.01, \"plot.opts\": {\"xlab\": \"PC1\", \"ylab\": \"PC2\"}, \"topic.order\": [1, 2, 3, 4]};\n",
              "\n",
              "function LDAvis_load_lib(url, callback){\n",
              "  var s = document.createElement('script');\n",
              "  s.src = url;\n",
              "  s.async = true;\n",
              "  s.onreadystatechange = s.onload = callback;\n",
              "  s.onerror = function(){console.warn(\"failed to load library \" + url);};\n",
              "  document.getElementsByTagName(\"head\")[0].appendChild(s);\n",
              "}\n",
              "\n",
              "if(typeof(LDAvis) !== \"undefined\"){\n",
              "   // already loaded: just create the visualization\n",
              "   !function(LDAvis){\n",
              "       new LDAvis(\"#\" + \"ldavis_el561398017377989044166198725\", ldavis_el561398017377989044166198725_data);\n",
              "   }(LDAvis);\n",
              "}else if(typeof define === \"function\" && define.amd){\n",
              "   // require.js is available: use it to load d3/LDAvis\n",
              "   require.config({paths: {d3: \"https://cdnjs.cloudflare.com/ajax/libs/d3/3.5.5/d3.min\"}});\n",
              "   require([\"d3\"], function(d3){\n",
              "      window.d3 = d3;\n",
              "      LDAvis_load_lib(\"https://cdn.rawgit.com/bmabey/pyLDAvis/files/ldavis.v1.0.0.js\", function(){\n",
              "        new LDAvis(\"#\" + \"ldavis_el561398017377989044166198725\", ldavis_el561398017377989044166198725_data);\n",
              "      });\n",
              "    });\n",
              "}else{\n",
              "    // require.js not available: dynamically load d3 & LDAvis\n",
              "    LDAvis_load_lib(\"https://cdnjs.cloudflare.com/ajax/libs/d3/3.5.5/d3.min.js\", function(){\n",
              "         LDAvis_load_lib(\"https://cdn.rawgit.com/bmabey/pyLDAvis/files/ldavis.v1.0.0.js\", function(){\n",
              "                 new LDAvis(\"#\" + \"ldavis_el561398017377989044166198725\", ldavis_el561398017377989044166198725_data);\n",
              "            })\n",
              "         });\n",
              "}\n",
              "</script>"
            ],
            "text/plain": [
              "<IPython.core.display.HTML object>"
            ]
          },
          "metadata": {
            "tags": []
          },
          "execution_count": 66
        }
      ]
    },
    {
      "cell_type": "markdown",
      "metadata": {
        "id": "YnvGkSOb_AYQ"
      },
      "source": [
        "# Training the LDA models with different values of K (Number of topics as assumptions)"
      ]
    },
    {
      "cell_type": "code",
      "metadata": {
        "colab": {
          "base_uri": "https://localhost:8080/",
          "height": 912
        },
        "id": "YJq5dq1rVx2X",
        "outputId": "96a23c10-4dd6-426a-b17e-6e3bf413a0ae"
      },
      "source": [
        "k=3\r\n",
        "mdl = train_LDA(corpus,texts_dict,k,True)\r\n",
        "#Visualize LDA results\r\n",
        "lda_display = pyLDAvis.gensim.prepare(mdl, corpus, texts_dict, sort_topics=False)\r\n",
        "pyLDAvis.display(lda_display)"
      ],
      "execution_count": 67,
      "outputs": [
        {
          "output_type": "stream",
          "text": [
            "(0, '0.070*\"string\" + 0.021*\"machin\" + 0.015*\"get\" + 0.014*\"clamp\" + 0.013*\"time\" + 0.012*\"job\" + 0.011*\"first\" + 0.010*\"tension\" + 0.009*\"stringer\" + 0.008*\"hour\"')\n",
            "(1, '0.020*\"ball\" + 0.018*\"love\" + 0.017*\"like\" + 0.017*\"old\" + 0.016*\"year\" + 0.016*\"perfect\" + 0.014*\"player\" + 0.012*\"size\" + 0.011*\"light\" + 0.011*\"price\"')\n",
            "(2, '0.019*\"power\" + 0.014*\"grip\" + 0.014*\"feel\" + 0.013*\"head\" + 0.011*\"control\" + 0.011*\"spin\" + 0.011*\"game\" + 0.010*\"string\" + 0.010*\"like\" + 0.010*\"much\"')\n"
          ],
          "name": "stdout"
        },
        {
          "output_type": "execute_result",
          "data": {
            "text/html": [
              "\n",
              "<link rel=\"stylesheet\" type=\"text/css\" href=\"https://cdn.rawgit.com/bmabey/pyLDAvis/files/ldavis.v1.0.0.css\">\n",
              "\n",
              "\n",
              "<div id=\"ldavis_el561398017377995044166198725\"></div>\n",
              "<script type=\"text/javascript\">\n",
              "\n",
              "var ldavis_el561398017377995044166198725_data = {\"mdsDat\": {\"x\": [-0.13910313146618705, 0.08727326971516104, 0.05182986175102611], \"y\": [-0.012568413001806307, -0.06770581194825548, 0.08027422495006177], \"topics\": [1, 2, 3], \"cluster\": [1, 1, 1], \"Freq\": [36.4659974954529, 26.474947089850858, 37.05905541469623]}, \"tinfo\": {\"Term\": [\"string\", \"machin\", \"ball\", \"clamp\", \"perfect\", \"job\", \"love\", \"old\", \"power\", \"bag\", \"stringer\", \"paddl\", \"grip\", \"light\", \"size\", \"player\", \"fit\", \"tension\", \"klipperm\", \"year\", \"control\", \"game\", \"like\", \"head\", \"raquet\", \"shot\", \"hit\", \"sweet\", \"spin\", \"youtub\", \"machin\", \"clamp\", \"stringer\", \"klipperm\", \"job\", \"youtub\", \"video\", \"manual\", \"knot\", \"watch\", \"tool\", \"piec\", \"pull\", \"save\", \"gamma\", \"cross\", \"finish\", \"tie\", \"mount\", \"custom\", \"grommet\", \"ratchet\", \"seller\", \"rather\", \"system\", \"onlin\", \"hybrid\", \"mechan\", \"tip\", \"lifetim\", \"string\", \"built\", \"break\", \"took\", \"hour\", \"instruct\", \"tension\", \"drop\", \"x\", \"figur\", \"set\", \"done\", \"read\", \"time\", \"first\", \"get\", \"money\", \"buy\", \"product\", \"strung\", \"easi\", \"review\", \"also\", \"came\", \"work\", \"two\", \"purchas\", \"weight\", \"go\", \"much\", \"want\", \"well\", \"need\", \"realli\", \"bag\", \"raquet\", \"smell\", \"la\", \"paddl\", \"pocket\", \"xc\", \"phone\", \"key\", \"cloth\", \"bat\", \"skill\", \"grandson\", \"fish\", \"respons\", \"pong\", \"husband\", \"shoe\", \"toddler\", \"saw\", \"kid\", \"perfect\", \"pump\", \"yrs\", \"beat\", \"fit\", \"inflat\", \"separ\", \"child\", \"carri\", \"old\", \"expect\", \"love\", \"son\", \"ball\", \"sport\", \"size\", \"year\", \"right\", \"school\", \"player\", \"like\", \"price\", \"bought\", \"light\", \"age\", \"beginn\", \"recommend\", \"look\", \"qualiti\", \"high\", \"hit\", \"small\", \"control\", \"buy\", \"feel\", \"get\", \"first\", \"head\", \"much\", \"realli\", \"sweet\", \"sticki\", \"spot\", \"dampen\", \"stiff\", \"elbow\", \"basic\", \"larger\", \"total\", \"defens\", \"impact\", \"signific\", \"fair\", \"volley\", \"net\", \"ounc\", \"girl\", \"switch\", \"alot\", \"wrist\", \"pain\", \"balanc\", \"harder\", \"unless\", \"luxilon\", \"proper\", \"express\", \"effort\", \"notic\", \"shock\", \"pace\", \"shot\", \"power\", \"grip\", \"spin\", \"swing\", \"princ\", \"inch\", \"wilson\", \"improv\", \"game\", \"prefer\", \"quit\", \"head\", \"stroke\", \"control\", \"feel\", \"cover\", \"replac\", \"serv\", \"hit\", \"lot\", \"nice\", \"light\", \"even\", \"much\", \"provid\", \"player\", \"weight\", \"like\", \"tri\", \"better\", \"ball\", \"littl\", \"make\", \"also\", \"string\", \"recommend\", \"get\", \"well\"], \"Freq\": [528.0, 139.0, 157.0, 93.0, 90.0, 84.0, 127.0, 105.0, 160.0, 50.0, 63.0, 50.0, 121.0, 117.0, 96.0, 130.0, 51.0, 84.0, 46.0, 144.0, 119.0, 103.0, 180.0, 133.0, 29.0, 77.0, 109.0, 37.0, 96.0, 34.0, 139.20320954951313, 93.20225310989477, 62.574197521908005, 46.31148696692749, 82.9003196402075, 33.852364272730284, 30.009010543074602, 27.13937711430429, 25.235907821007878, 23.21031664943238, 18.520598070754588, 17.5513061782866, 15.645032742457367, 18.397180186235875, 34.91562513374146, 11.787915333633146, 12.67008758085664, 10.860465707131121, 10.855725297211615, 10.820757128857162, 10.819756865976874, 9.901901092116121, 9.846107791240879, 9.813195116653581, 7.977581117788821, 14.137384193551943, 12.335596422059885, 13.209042691788238, 7.902228496938667, 7.0238002677407705, 462.2268406196602, 10.488745723934679, 23.934098198599052, 30.490808991728336, 50.22778556390569, 24.373836057655055, 69.7495074223186, 30.37320223196151, 24.860544465431687, 17.143548860297873, 31.942397915895654, 22.121982635448294, 23.815649112196194, 84.6726306246221, 71.40152053723583, 97.0120531296188, 27.35458847302129, 49.362468365572866, 47.489418831635795, 39.29951411096857, 42.02435716522542, 36.01300951387923, 49.87852659207373, 36.43406444427649, 38.23130458097071, 36.077859374486366, 38.766299672836766, 36.77085264639044, 31.98536276791148, 35.859309677116265, 32.90301879887509, 32.749260123119164, 32.25054701238452, 31.988701106564577, 50.021801693912266, 28.489004255062305, 21.244355631096678, 10.45651803116604, 46.8511316748746, 9.535805179742285, 11.265901814731974, 6.767207756615416, 6.766116195975124, 6.759424063645925, 6.754420421617155, 7.56544548070814, 5.835493300447883, 5.815747406887932, 9.116173184036077, 5.791335681775428, 10.710596475734551, 4.915709006273232, 4.892913825136773, 4.868149675450911, 23.529843041343995, 78.47665842476296, 5.556653516596806, 4.720723225574484, 9.41083553844544, 42.88950624876564, 5.390448513975021, 7.700043001617521, 10.004899711383084, 12.186897954807998, 80.6553280265237, 25.59461486663409, 88.26902981807166, 37.556673812768494, 98.92819254099958, 17.476155649776345, 56.84037968821982, 79.18050032293885, 31.93588970335294, 18.966840772920364, 66.02562302990826, 84.13726032808079, 52.476578805439416, 50.07564902106978, 54.94106417411337, 16.385358315020564, 36.514225532161305, 49.52904581483909, 40.79683049122704, 36.316526026039625, 36.96533797935092, 41.6934930354022, 22.336988721285614, 38.02441035753651, 31.81806635555798, 40.6298520656181, 42.722240037859166, 35.291371843156675, 35.75010160744064, 32.410231820028635, 30.787484721829173, 36.86404941884273, 14.1075262832641, 36.617233932855825, 12.093267226453307, 13.81863650678106, 34.659795939425614, 10.011558383277562, 9.090628199537441, 7.227682692723559, 7.204295410858845, 9.000962659068803, 7.198416528769925, 15.308132165844949, 17.975635574277973, 19.71637791096753, 7.142492404037813, 6.214033049774415, 6.196111979541496, 5.289349492505762, 11.374084508767625, 7.882949090246287, 27.900894297383523, 7.804697487473574, 5.177961514190096, 12.945863273792614, 10.302241250269255, 6.848088028443258, 9.341623104910907, 16.936831129574827, 5.887069014452107, 10.873277240817757, 63.34261932047332, 128.18488229535086, 95.93072301841939, 76.70091229417483, 61.78615696305339, 25.21151345381071, 16.522541462152784, 55.819777722186885, 44.81804785187217, 73.52220578414087, 19.23000270058686, 22.73716184938429, 89.83879754399229, 25.746444516605138, 77.16964928471216, 93.49611051684992, 28.880291505602997, 23.608440184625284, 37.11462575284691, 63.048492681144474, 51.94730332975046, 42.886004237229706, 61.10207916520756, 42.5135827217723, 64.99443412410851, 24.098765072212373, 55.73247569373579, 51.9527038445602, 65.46543706491566, 39.33986759663823, 43.39979587229861, 57.75944374176478, 42.74494253862715, 42.80947176686656, 46.77094765045644, 65.59013986143138, 39.87716846575651, 41.18668945106343, 38.867822948137594], \"Total\": [528.0, 139.0, 157.0, 93.0, 90.0, 84.0, 127.0, 105.0, 160.0, 50.0, 63.0, 50.0, 121.0, 117.0, 96.0, 130.0, 51.0, 84.0, 46.0, 144.0, 119.0, 103.0, 180.0, 133.0, 29.0, 77.0, 109.0, 37.0, 96.0, 34.0, 139.92078391842847, 93.9206723357177, 63.2510970327005, 46.959031074654256, 84.35764919433868, 34.50048208401701, 30.66667454932331, 27.791602539570206, 25.875336986714156, 23.95644357411922, 19.16701960111335, 18.20878351589526, 16.292033848705575, 19.170328869504434, 36.386903297643684, 12.458912647823517, 13.41580750338487, 11.499978723592122, 11.499959030475281, 11.498853726240636, 11.501043855621303, 10.541570622012678, 10.540952435170999, 10.540516761945298, 8.624884876279907, 15.35049148225016, 13.432440367836978, 14.389112885313029, 8.624784166245204, 7.666553091137404, 528.3875449399164, 11.512778970022909, 26.910315695942405, 34.59211979953452, 58.56053861109164, 27.69172476708678, 84.83188452572914, 35.590942890694755, 28.694656323477354, 19.121604210223563, 38.528478898189604, 25.877161483331648, 29.575688144621015, 144.56017254261454, 117.87291398431586, 180.92098261854142, 36.20231699601153, 87.15823466528113, 88.75311821032331, 65.98602186823389, 84.9337794720641, 66.82596876984542, 126.96291812291702, 69.10357365162676, 83.35329547248875, 78.06319669406629, 105.65711766782312, 116.6902596591662, 70.04461484100923, 133.2639756212534, 90.36525047279233, 93.47045534498884, 80.74148493749775, 98.77951403724563, 50.810801623052065, 29.600826714291234, 22.209845259707166, 11.111670797070962, 50.05606998557918, 10.188547682419118, 12.043290179846641, 7.41940934374017, 7.419490921788928, 7.419997187559567, 7.419923835660135, 8.348777416924055, 6.496931622911855, 6.49845592491069, 10.205477136168184, 6.498745936656278, 12.065225203681866, 5.5737499666231045, 5.57459861497466, 5.576234354943338, 26.95532144997347, 90.00356248124756, 6.51786615936002, 5.580986996845962, 11.189482385030935, 51.318427254539536, 6.530572718058611, 9.334125922593447, 12.138420174791761, 14.885256271902541, 105.66192502657371, 33.595869624461955, 127.09771264495528, 53.50238022369018, 157.30188861105356, 24.358022946342732, 96.90602839824841, 144.87858081272196, 50.842285637725894, 27.170541235469294, 130.6984630574035, 180.17702678683423, 106.32849100282299, 101.6531248701665, 117.891627593698, 23.568285250850415, 71.36952561729748, 119.28033178713011, 91.51268092875073, 77.58991736155608, 79.74192311182752, 109.8407645872283, 39.85633335545009, 119.09546849012074, 87.15823466528113, 150.22862023784066, 180.92098261854142, 117.87291398431586, 133.99662892082011, 133.2639756212534, 98.77951403724563, 37.67840918521114, 14.848015750977716, 38.5843804099056, 12.863101909131172, 14.835886207846748, 37.52701886146795, 10.872484318449917, 9.883024885960547, 7.903908321135088, 7.9025172393456415, 9.874335750472033, 7.901612589395176, 16.80358578869616, 19.735383649539333, 21.70708216366305, 7.897671155752272, 6.910113574270781, 6.908096608534448, 5.921518314694106, 12.810497736298247, 8.88607186997135, 31.551493770787552, 8.869707521646742, 5.916969450800607, 14.81168493533562, 11.841375301637916, 7.891856771659861, 10.850862485455721, 19.741246383052577, 6.886622255252558, 12.789455629696521, 77.43391098915554, 160.51949203624355, 121.2982252713007, 96.24173235805148, 77.44732713362637, 30.53825541657133, 19.725964022879964, 74.1917504666343, 58.75135658501099, 103.08681233058405, 23.62174739609454, 28.48574303043553, 133.99662892082011, 33.20820620445847, 119.09546849012074, 150.22862023784066, 38.14314133978196, 30.497203054686427, 54.309497310230114, 109.8407645872283, 86.8120450944813, 68.7591679286538, 117.891627593698, 72.25785013738813, 133.2639756212534, 32.44349983891064, 130.6984630574035, 116.6902596591662, 180.17702678683423, 74.77168622660456, 89.83937630019021, 157.30188861105356, 92.6551167718772, 97.28127128050073, 126.96291812291702, 528.3875449399164, 119.28033178713011, 180.92098261854142, 93.47045534498884], \"Category\": [\"Default\", \"Default\", \"Default\", \"Default\", \"Default\", \"Default\", \"Default\", \"Default\", \"Default\", \"Default\", \"Default\", \"Default\", \"Default\", \"Default\", \"Default\", \"Default\", \"Default\", \"Default\", \"Default\", \"Default\", \"Default\", \"Default\", \"Default\", \"Default\", \"Default\", \"Default\", \"Default\", \"Default\", \"Default\", \"Default\", \"Topic1\", \"Topic1\", \"Topic1\", \"Topic1\", \"Topic1\", \"Topic1\", \"Topic1\", \"Topic1\", \"Topic1\", \"Topic1\", \"Topic1\", \"Topic1\", \"Topic1\", \"Topic1\", \"Topic1\", \"Topic1\", \"Topic1\", \"Topic1\", \"Topic1\", \"Topic1\", \"Topic1\", \"Topic1\", \"Topic1\", \"Topic1\", \"Topic1\", \"Topic1\", \"Topic1\", \"Topic1\", \"Topic1\", \"Topic1\", \"Topic1\", \"Topic1\", \"Topic1\", \"Topic1\", \"Topic1\", \"Topic1\", \"Topic1\", \"Topic1\", \"Topic1\", \"Topic1\", \"Topic1\", \"Topic1\", \"Topic1\", \"Topic1\", \"Topic1\", \"Topic1\", \"Topic1\", \"Topic1\", \"Topic1\", \"Topic1\", \"Topic1\", \"Topic1\", \"Topic1\", \"Topic1\", \"Topic1\", \"Topic1\", \"Topic1\", \"Topic1\", \"Topic1\", \"Topic1\", \"Topic1\", \"Topic1\", \"Topic1\", \"Topic1\", \"Topic2\", \"Topic2\", \"Topic2\", \"Topic2\", \"Topic2\", \"Topic2\", \"Topic2\", \"Topic2\", \"Topic2\", \"Topic2\", \"Topic2\", \"Topic2\", \"Topic2\", \"Topic2\", \"Topic2\", \"Topic2\", \"Topic2\", \"Topic2\", \"Topic2\", \"Topic2\", \"Topic2\", \"Topic2\", \"Topic2\", \"Topic2\", \"Topic2\", \"Topic2\", \"Topic2\", \"Topic2\", \"Topic2\", \"Topic2\", \"Topic2\", \"Topic2\", \"Topic2\", \"Topic2\", \"Topic2\", \"Topic2\", \"Topic2\", \"Topic2\", \"Topic2\", \"Topic2\", \"Topic2\", \"Topic2\", \"Topic2\", \"Topic2\", \"Topic2\", \"Topic2\", \"Topic2\", \"Topic2\", \"Topic2\", \"Topic2\", \"Topic2\", \"Topic2\", \"Topic2\", \"Topic2\", \"Topic2\", \"Topic2\", \"Topic2\", \"Topic2\", \"Topic2\", \"Topic2\", \"Topic2\", \"Topic3\", \"Topic3\", \"Topic3\", \"Topic3\", \"Topic3\", \"Topic3\", \"Topic3\", \"Topic3\", \"Topic3\", \"Topic3\", \"Topic3\", \"Topic3\", \"Topic3\", \"Topic3\", \"Topic3\", \"Topic3\", \"Topic3\", \"Topic3\", \"Topic3\", \"Topic3\", \"Topic3\", \"Topic3\", \"Topic3\", \"Topic3\", \"Topic3\", \"Topic3\", \"Topic3\", \"Topic3\", \"Topic3\", \"Topic3\", \"Topic3\", \"Topic3\", \"Topic3\", \"Topic3\", \"Topic3\", \"Topic3\", \"Topic3\", \"Topic3\", \"Topic3\", \"Topic3\", \"Topic3\", \"Topic3\", \"Topic3\", \"Topic3\", \"Topic3\", \"Topic3\", \"Topic3\", \"Topic3\", \"Topic3\", \"Topic3\", \"Topic3\", \"Topic3\", \"Topic3\", \"Topic3\", \"Topic3\", \"Topic3\", \"Topic3\", \"Topic3\", \"Topic3\", \"Topic3\", \"Topic3\", \"Topic3\", \"Topic3\", \"Topic3\", \"Topic3\", \"Topic3\", \"Topic3\", \"Topic3\", \"Topic3\", \"Topic3\"], \"logprob\": [30.0, 29.0, 28.0, 27.0, 26.0, 25.0, 24.0, 23.0, 22.0, 21.0, 20.0, 19.0, 18.0, 17.0, 16.0, 15.0, 14.0, 13.0, 12.0, 11.0, 10.0, 9.0, 8.0, 7.0, 6.0, 5.0, 4.0, 3.0, 2.0, 1.0, -3.866499900817871, -4.267600059509277, -4.666100025177002, -4.9670000076293945, -4.384799957275391, -5.280399799346924, -5.400899887084961, -5.501399993896484, -5.57420015335083, -5.657800197601318, -5.883500099182129, -5.937300205230713, -6.052299976348877, -5.890200138092041, -5.249499797821045, -6.335299968719482, -6.263199806213379, -6.417300224304199, -6.417699813842773, -6.421000003814697, -6.421000003814697, -6.509699821472168, -6.5152997970581055, -6.518700122833252, -6.725800037384033, -6.153600215911865, -6.289899826049805, -6.221499919891357, -6.735300064086914, -6.853099822998047, -2.6663999557495117, -6.452099800109863, -5.627099990844727, -5.385000228881836, -4.885799884796143, -5.60890007019043, -4.557499885559082, -5.388899803161621, -5.589099884033203, -5.9608001708984375, -5.338500022888184, -5.7058000564575195, -5.6321001052856445, -4.36359977722168, -4.53410005569458, -4.22760009765625, -5.493500232696533, -4.903200149536133, -4.94189977645874, -5.131199836730957, -5.064199924468994, -5.218500137329102, -4.8927998542785645, -5.206900119781494, -5.15880012512207, -5.216700077056885, -5.144899845123291, -5.197700023651123, -5.337100028991699, -5.222799777984619, -5.308899879455566, -5.313499927520752, -5.32889986038208, -5.336999893188477, -4.569799900054932, -5.132699966430664, -5.42609977722168, -6.135000228881836, -4.635300159454346, -6.227200031280518, -6.060500144958496, -6.570099830627441, -6.570300102233887, -6.571300029754639, -6.572000026702881, -6.458600044250488, -6.718299865722656, -6.721700191497803, -6.272200107574463, -6.725900173187256, -6.111000061035156, -6.889800071716309, -6.894400119781494, -6.899499893188477, -5.323999881744385, -4.1194000244140625, -6.767199993133545, -6.930300235748291, -6.2403998374938965, -4.723599910736084, -6.797599792480469, -6.440999984741211, -6.179200172424316, -5.981900215148926, -4.092100143432617, -5.2399001121521, -4.001800060272217, -4.856400012969971, -3.8877999782562256, -5.621399879455566, -4.441999912261963, -4.110499858856201, -5.018499851226807, -5.5395002365112305, -4.292200088500977, -4.049799919128418, -4.521900177001953, -4.568699836730957, -4.47599983215332, -5.685800075531006, -4.884500026702881, -4.579699993133545, -4.773600101470947, -4.889999866485596, -4.872300148010254, -4.7519001960754395, -5.375999927520752, -4.843999862670898, -5.022200107574463, -4.777699947357178, -4.727499961853027, -4.918600082397461, -4.905700206756592, -5.003799915313721, -5.055099964141846, -5.211299896240234, -6.171800136566162, -5.2179999351501465, -6.325900077819824, -6.192500114440918, -5.2729997634887695, -6.514800071716309, -6.611299991607666, -6.84060001373291, -6.843900203704834, -6.621200084686279, -6.844699859619141, -6.090199947357178, -5.929500102996826, -5.837100028991699, -6.852499961853027, -6.991700172424316, -6.99459981918335, -7.152900218963623, -6.387199878692627, -6.753799915313721, -5.4899001121521, -6.763800144195557, -7.174099922180176, -6.257800102233887, -6.486199855804443, -6.894599914550781, -6.584099769592285, -5.989099979400635, -7.04580020904541, -6.432199954986572, -4.670000076293945, -3.965100049972534, -4.254899978637695, -4.478600025177002, -4.694900035858154, -5.59119987487793, -6.013800144195557, -4.79640007019043, -5.015900135040283, -4.520999908447266, -5.862100124359131, -5.694499969482422, -4.320499897003174, -5.570300102233887, -4.472499847412109, -4.280600070953369, -5.455399990081787, -5.656899929046631, -5.204500198364258, -4.674600124359131, -4.868299961090088, -5.059999942779541, -4.705999851226807, -5.068699836730957, -4.644199848175049, -5.63640022277832, -4.797999858856201, -4.868199825286865, -4.63700008392334, -5.146299839019775, -5.048099994659424, -4.76230001449585, -5.063300132751465, -5.061800003051758, -4.973299980163574, -4.6350998878479, -5.132699966430664, -5.100399971008301, -5.158400058746338], \"loglift\": [30.0, 29.0, 28.0, 27.0, 26.0, 25.0, 24.0, 23.0, 22.0, 21.0, 20.0, 19.0, 18.0, 17.0, 16.0, 15.0, 14.0, 13.0, 12.0, 11.0, 10.0, 9.0, 8.0, 7.0, 6.0, 5.0, 4.0, 3.0, 2.0, 1.0, 1.0036, 1.0011, 0.998, 0.9949, 0.9914, 0.9898, 0.9871, 0.985, 0.9838, 0.9771, 0.9745, 0.972, 0.9683, 0.9676, 0.9675, 0.9534, 0.9516, 0.9516, 0.9511, 0.948, 0.9477, 0.9462, 0.9406, 0.9373, 0.9308, 0.9265, 0.9236, 0.9232, 0.9213, 0.9212, 0.875, 0.9156, 0.8916, 0.8826, 0.8553, 0.8812, 0.813, 0.8503, 0.8654, 0.8996, 0.8213, 0.852, 0.7922, 0.4739, 0.5075, 0.3856, 0.7286, 0.4403, 0.3834, 0.4906, 0.3052, 0.3906, 0.0745, 0.3687, 0.2294, 0.237, 0.0061, -0.146, 0.2249, -0.3039, -0.0015, -0.04, 0.0911, -0.1187, 1.3133, 1.2907, 1.2845, 1.2682, 1.2628, 1.2628, 1.2622, 1.237, 1.2368, 1.2357, 1.235, 1.2304, 1.2216, 1.218, 1.2161, 1.2137, 1.2099, 1.2033, 1.1985, 1.1932, 1.1931, 1.1919, 1.1694, 1.1616, 1.1559, 1.1495, 1.1371, 1.1365, 1.1357, 1.129, 1.0589, 1.057, 0.9644, 0.9751, 0.8652, 0.9969, 0.7955, 0.7248, 0.864, 0.9695, 0.6461, 0.5675, 0.6228, 0.6209, 0.5655, 0.9655, 0.6588, 0.4501, 0.5211, 0.5698, 0.5602, 0.3603, 0.7499, 0.1873, 0.3213, 0.0213, -0.1144, 0.123, 0.0077, -0.0849, 0.1632, 0.9708, 0.9415, 0.9403, 0.9309, 0.9216, 0.9132, 0.9102, 0.9091, 0.9032, 0.9002, 0.9, 0.8995, 0.8994, 0.8993, 0.8965, 0.8922, 0.8865, 0.8839, 0.8798, 0.8737, 0.8729, 0.8697, 0.8647, 0.8592, 0.858, 0.8534, 0.8508, 0.8429, 0.8394, 0.8358, 0.8303, 0.7918, 0.7677, 0.758, 0.7657, 0.7667, 0.801, 0.8154, 0.7081, 0.722, 0.6547, 0.787, 0.7673, 0.5929, 0.7382, 0.5587, 0.5184, 0.7145, 0.7366, 0.612, 0.4375, 0.4791, 0.5206, 0.3354, 0.4622, 0.2746, 0.6953, 0.1403, 0.1835, -0.0198, 0.3505, 0.2651, -0.0092, 0.219, 0.1718, -0.006, -1.0937, -0.103, -0.4873, 0.1152]}, \"token.table\": {\"Topic\": [2, 3, 3, 1, 2, 3, 2, 1, 2, 3, 1, 2, 3, 3, 2, 2, 3, 1, 2, 3, 1, 2, 3, 1, 2, 3, 1, 3, 1, 3, 1, 2, 3, 1, 2, 3, 1, 2, 3, 2, 3, 1, 2, 1, 2, 3, 1, 2, 3, 1, 1, 3, 3, 1, 2, 3, 1, 2, 3, 1, 2, 3, 1, 3, 2, 3, 1, 2, 3, 1, 2, 3, 1, 3, 1, 3, 1, 2, 3, 1, 2, 1, 1, 2, 3, 2, 1, 2, 3, 1, 2, 3, 1, 2, 1, 2, 3, 3, 1, 2, 3, 2, 1, 2, 3, 1, 2, 3, 1, 2, 3, 1, 2, 3, 1, 2, 3, 1, 2, 3, 1, 2, 1, 3, 2, 3, 1, 2, 3, 1, 3, 2, 3, 1, 2, 1, 3, 2, 1, 2, 3, 1, 1, 2, 3, 1, 1, 2, 3, 1, 2, 3, 1, 2, 3, 1, 2, 3, 1, 2, 3, 1, 2, 3, 1, 3, 1, 1, 2, 3, 1, 1, 3, 1, 2, 3, 1, 1, 2, 3, 1, 2, 3, 2, 3, 1, 2, 3, 1, 3, 1, 2, 3, 1, 3, 3, 1, 2, 3, 2, 3, 1, 3, 1, 2, 3, 2, 1, 1, 2, 3, 2, 2, 1, 2, 3, 1, 2, 3, 1, 2, 3, 1, 2, 3, 1, 2, 3, 1, 3, 1, 3, 1, 2, 3, 1, 2, 3, 1, 2, 3, 1, 2, 3, 2, 3, 1, 1, 1, 2, 3, 1, 2, 3, 1, 2, 3, 1, 2, 3, 1, 2, 1, 2, 3, 1, 2, 3, 1, 2, 1, 2, 3, 1, 2, 3, 2, 3, 1, 3, 2, 3, 2, 1, 2, 3, 3, 1, 2, 3, 2, 1, 2, 3, 2, 3, 1, 2, 3, 1, 2, 3, 1, 2, 3, 2, 3, 3, 1, 3, 1, 2, 3, 1, 2, 3, 1, 2, 3, 3, 1, 2, 3, 3, 1, 1, 3, 1, 1, 2, 3, 1, 2, 1, 2, 3, 1, 3, 1, 2, 3, 1, 2, 3, 3, 1, 2, 3, 1, 2, 3, 1, 1, 2, 3, 1, 2, 3, 1, 2, 3, 1, 2, 3, 2, 3, 1, 2, 3, 2, 1, 2, 3, 1, 1, 2], \"Freq\": [0.6788784092564677, 0.2970093040497046, 0.8443780352063793, 0.39381577502490406, 0.2362894650149424, 0.3701868285234098, 0.984042731128961, 0.06338844095716735, 0.06338844095716735, 0.8874381734003428, 0.006357202757257489, 0.6293630729684914, 0.3687177599209343, 0.9197529936217644, 0.9434059102275442, 0.8043267499165127, 0.08936963887961251, 0.12610424298264797, 0.5184285544842194, 0.3643011463943163, 0.28940539294399525, 0.2337505096855346, 0.47863199602276135, 0.2164222696360674, 0.4918687946274259, 0.2951212767764555, 0.8918512986311332, 0.11148141232889165, 0.8686000162113857, 0.08686000162113858, 0.5621958749873442, 0.36714832652234725, 0.06884031122294011, 0.5209571386494065, 0.20259444280810254, 0.27494960095385346, 0.1343611398733663, 0.8061668392401976, 0.06718056993668314, 0.8238304372398736, 0.16476608744797472, 0.9901973408747887, 0.9433965839955117, 0.03358650039931461, 0.31907175379348873, 0.6465401326868061, 0.07865109937526579, 0.15730219875053159, 0.7602939606275694, 0.9631659149722278, 0.9566170908755678, 0.9329009507015972, 0.8857937019292889, 0.8501705263991548, 0.07728822967265044, 0.07728822967265044, 0.8429110769033178, 0.02809703589677726, 0.1404851794838863, 0.4945028969753357, 0.14128654199295307, 0.36499023348179543, 0.09215857277155433, 0.829427154943989, 0.0532949341748423, 0.9326613480597403, 0.3598224961103141, 0.04151798032042086, 0.5950910512593656, 0.17859338267080477, 0.773904658240154, 0.059531127556934925, 0.12671289266057906, 0.8869902486240534, 0.05951110748473126, 0.892666612270969, 0.10650433968353658, 0.2729173704390625, 0.6190564744105564, 0.8890467459268284, 0.10459373481492099, 0.9690061516401484, 0.6023436394339691, 0.29692996310125236, 0.09332084554610788, 0.9232962521142989, 0.019486177840953647, 0.8379056471610068, 0.13640324488667552, 0.019401123720717037, 0.26191517022968, 0.7178415776665305, 0.9618845471322783, 0.02748241563235081, 0.5361456620237209, 0.23767281924762887, 0.22661826951518102, 0.8682925302907449, 0.45685168049871067, 0.24270245526494005, 0.2998089153272789, 0.9235128747300659, 0.024732431107628114, 0.1813711614559395, 0.7914377954440996, 0.9564349234807578, 0.11274328917379464, 0.9019463133903571, 0.05970299450389365, 0.26866347526752143, 0.6716586881688036, 0.3009709204823562, 0.46399683574363243, 0.23826864538186532, 0.045520440601351866, 0.3823717010513557, 0.5735575515770336, 0.8538172835474872, 0.051229037012849234, 0.10245807402569847, 0.08288282921522563, 0.911711121367482, 0.8933596332006167, 0.0744466361000514, 0.10127263496708586, 0.9114537147037727, 0.10212530141866984, 0.13616706855822644, 0.7659397606400238, 0.15208382193743877, 0.861808324312153, 0.7656296340095551, 0.15312592680191103, 0.866684910451132, 0.1083356138063915, 0.9839060333318322, 0.011854289558214846, 0.9434609562555022, 0.0741968521396345, 0.8903622256756141, 0.0741968521396345, 0.9795772814577538, 0.9661709918149625, 0.8999546677207176, 0.9106523664414791, 0.9130570044694604, 0.016964733126705187, 0.4665301609843927, 0.5174243603645082, 0.17205301115705396, 0.4662081592642752, 0.36075631371640343, 0.3021959388269704, 0.237439666221191, 0.4640866203414188, 0.21854894640854697, 0.44802534013752127, 0.3387508669332478, 0.32253588738206074, 0.08063397184551518, 0.598995219423827, 0.055075735466257755, 0.6923806744329546, 0.2517747907028926, 0.13502852705357532, 0.8776854258482397, 0.9934192484301312, 0.28782518599355905, 0.2672662441368763, 0.44201724991868, 0.971516484576839, 0.9034608390117714, 0.06949698761629011, 0.7458086178013035, 0.19335778980033796, 0.05524508280009656, 0.9565251468157083, 0.27014052246433656, 0.24012490885718804, 0.4877537211161632, 0.39632662224098686, 0.2477041389006168, 0.35917100140589436, 0.09213582852456952, 0.9213582852456951, 0.08726109085883278, 0.29087030286277593, 0.6253711511549683, 0.10131072583729848, 0.8611411696170371, 0.11356976505001239, 0.7665959140875835, 0.12303391213751341, 0.912022915760597, 0.06514449398289979, 0.886337233084407, 0.07818941078915403, 0.07818941078915403, 0.8600835186806944, 0.9389470650320808, 0.059932791385026433, 0.11253566419818122, 0.9002853135854497, 0.11110671316019877, 0.8666323626495503, 0.011110671316019878, 0.9434713298176451, 0.9885339119050428, 0.0688607944536207, 0.5049791593265518, 0.42846716548919545, 0.9814941551734142, 0.9232550492791087, 0.024919092063266958, 0.17443364444286868, 0.7974109460245427, 0.1270016121032604, 0.042333870701086795, 0.8043435433206492, 0.23512042505461925, 0.4890504841136081, 0.2727396930633583, 0.13098325184055645, 0.03274581296013911, 0.8186453240034779, 0.5295588588630928, 0.28168024407611325, 0.191542565971757, 0.08444965002179085, 0.8444965002179085, 0.24658252160592478, 0.7397475648177744, 0.9820750526657679, 0.9205466717636822, 0.15342444529394703, 0.3691185304014505, 0.27447275337543753, 0.3596539526988492, 0.38664817569279014, 0.46397781083134815, 0.14177099775402305, 0.10531584157010251, 0.07021056104673501, 0.8074214520374526, 0.9459195268516485, 0.03378284024470173, 0.9486252436727235, 0.948720088952684, 0.8114773148351891, 0.16905777392399776, 0.03381155478479955, 0.3239538107864565, 0.31383025419937977, 0.3644480371347636, 0.2515083547347819, 0.41918059122463647, 0.3353444729797092, 0.1967393530889055, 0.032789892181484245, 0.786957412355622, 0.09798659941689572, 0.8818793947520615, 0.5387127289390626, 0.2693563644695313, 0.19453515211688374, 0.19668667280724728, 0.6293973529831912, 0.17701800552652255, 0.9389510280459425, 0.8966624574463041, 0.18402283401969335, 0.6992867692748348, 0.11041370041181602, 0.9486808769418166, 0.8570700745139759, 0.10713375931424698, 0.31302075773030147, 0.6812804727071268, 0.8305544603657746, 0.15572896131858274, 0.14520906809390932, 0.8712544085634559, 0.8970621269237316, 0.025828477142012057, 0.15497086285207234, 0.8135970299733798, 0.8858951158140506, 0.020638550903982256, 0.5881987007634943, 0.3921324671756629, 0.9582241327673873, 0.100360461267896, 0.551982536973428, 0.326171499120662, 0.9455266236410007, 0.04502507731623813, 0.13083530061155088, 0.7102487747484191, 0.16821681507199399, 0.11429553199516729, 0.09351452617786414, 0.800068723966171, 0.16421694029977033, 0.6979219962740238, 0.12316270522482774, 0.05183444644575785, 0.9589372592465202, 0.9428869308060994, 0.0674041298234747, 0.9436578175286459, 0.8743582327485303, 0.0018925502873344813, 0.12490831896407577, 0.9960301552940547, 0.21079127119670177, 0.7829390073020351, 0.5910342659825484, 0.01515472476878329, 0.37886811921958224, 0.9819947497815961, 0.0645600072339886, 0.1420320159147749, 0.8005440897014586, 0.8685460467630749, 0.9275486125039812, 0.8251614400805786, 0.1768203085886954, 0.9565235088160277, 0.587990443736798, 0.21444357359812632, 0.20060850433373106, 0.9275594433202838, 0.8969255627784295, 0.8672495404691472, 0.028908318015638236, 0.08672495404691472, 0.9912860943125634, 0.8856378029185848, 0.33435115966536455, 0.13374046386614583, 0.5215878090779686, 0.46116481933331355, 0.34587361449998516, 0.1921520080555473, 0.8450271784525548, 0.9782606181100252, 0.050670410961245346, 0.9120673973024163, 0.36518462381660555, 0.25452261659945236, 0.3762508245383208, 0.9600757278032499, 0.31707873568943246, 0.23995147565686778, 0.44562416907704017, 0.35305273605655124, 0.23536849070436747, 0.4172441426122878, 0.040435762482099236, 0.20217881241049618, 0.7548008996658524, 0.45589079333452537, 0.2639367750884094, 0.2759339012287917, 0.07806097940804621, 0.8586707734885083, 0.8712423567012906, 0.10454908280415487, 0.03484969426805162, 0.9133716646973687, 0.20016761509754846, 0.5452841928519424, 0.2553862675382515, 0.9854934756332328, 0.1791797760082831, 0.8958988800414155], \"Term\": [\"age\", \"age\", \"alot\", \"also\", \"also\", \"also\", \"bag\", \"balanc\", \"balanc\", \"balanc\", \"ball\", \"ball\", \"ball\", \"basic\", \"bat\", \"beat\", \"beat\", \"beginn\", \"beginn\", \"beginn\", \"better\", \"better\", \"better\", \"bought\", \"bought\", \"bought\", \"break\", \"break\", \"built\", \"built\", \"buy\", \"buy\", \"buy\", \"came\", \"came\", \"came\", \"carri\", \"carri\", \"carri\", \"child\", \"child\", \"clamp\", \"cloth\", \"control\", \"control\", \"control\", \"cover\", \"cover\", \"cover\", \"cross\", \"custom\", \"dampen\", \"defens\", \"done\", \"done\", \"done\", \"drop\", \"drop\", \"drop\", \"easi\", \"easi\", \"easi\", \"effort\", \"effort\", \"elbow\", \"elbow\", \"even\", \"even\", \"even\", \"expect\", \"expect\", \"expect\", \"express\", \"express\", \"fair\", \"fair\", \"feel\", \"feel\", \"feel\", \"figur\", \"figur\", \"finish\", \"first\", \"first\", \"first\", \"fish\", \"fit\", \"fit\", \"fit\", \"game\", \"game\", \"game\", \"gamma\", \"gamma\", \"get\", \"get\", \"get\", \"girl\", \"go\", \"go\", \"go\", \"grandson\", \"grip\", \"grip\", \"grip\", \"grommet\", \"harder\", \"harder\", \"head\", \"head\", \"head\", \"high\", \"high\", \"high\", \"hit\", \"hit\", \"hit\", \"hour\", \"hour\", \"hour\", \"husband\", \"husband\", \"hybrid\", \"hybrid\", \"impact\", \"impact\", \"improv\", \"improv\", \"improv\", \"inch\", \"inch\", \"inflat\", \"inflat\", \"instruct\", \"instruct\", \"job\", \"job\", \"key\", \"kid\", \"kid\", \"kid\", \"klipperm\", \"knot\", \"la\", \"larger\", \"lifetim\", \"light\", \"light\", \"light\", \"like\", \"like\", \"like\", \"littl\", \"littl\", \"littl\", \"look\", \"look\", \"look\", \"lot\", \"lot\", \"lot\", \"love\", \"love\", \"love\", \"luxilon\", \"luxilon\", \"machin\", \"make\", \"make\", \"make\", \"manual\", \"mechan\", \"mechan\", \"money\", \"money\", \"money\", \"mount\", \"much\", \"much\", \"much\", \"need\", \"need\", \"need\", \"net\", \"net\", \"nice\", \"nice\", \"nice\", \"notic\", \"notic\", \"old\", \"old\", \"old\", \"onlin\", \"onlin\", \"ounc\", \"pace\", \"pace\", \"pace\", \"paddl\", \"paddl\", \"pain\", \"pain\", \"perfect\", \"perfect\", \"perfect\", \"phone\", \"piec\", \"player\", \"player\", \"player\", \"pocket\", \"pong\", \"power\", \"power\", \"power\", \"prefer\", \"prefer\", \"prefer\", \"price\", \"price\", \"price\", \"princ\", \"princ\", \"princ\", \"product\", \"product\", \"product\", \"proper\", \"proper\", \"provid\", \"provid\", \"pull\", \"pump\", \"pump\", \"purchas\", \"purchas\", \"purchas\", \"qualiti\", \"qualiti\", \"qualiti\", \"quit\", \"quit\", \"quit\", \"raquet\", \"raquet\", \"ratchet\", \"rather\", \"read\", \"read\", \"read\", \"realli\", \"realli\", \"realli\", \"recommend\", \"recommend\", \"recommend\", \"replac\", \"replac\", \"replac\", \"respons\", \"respons\", \"review\", \"review\", \"review\", \"right\", \"right\", \"right\", \"save\", \"saw\", \"school\", \"school\", \"school\", \"seller\", \"separ\", \"separ\", \"serv\", \"serv\", \"set\", \"set\", \"shock\", \"shock\", \"shoe\", \"shot\", \"shot\", \"shot\", \"signific\", \"size\", \"size\", \"size\", \"skill\", \"small\", \"small\", \"small\", \"smell\", \"smell\", \"son\", \"son\", \"son\", \"spin\", \"spin\", \"spin\", \"sport\", \"sport\", \"sport\", \"spot\", \"spot\", \"sticki\", \"stiff\", \"stiff\", \"string\", \"string\", \"string\", \"stringer\", \"stroke\", \"stroke\", \"strung\", \"strung\", \"strung\", \"sweet\", \"swing\", \"swing\", \"swing\", \"switch\", \"system\", \"tension\", \"tension\", \"tie\", \"time\", \"time\", \"time\", \"tip\", \"toddler\", \"took\", \"took\", \"took\", \"tool\", \"total\", \"tri\", \"tri\", \"tri\", \"two\", \"two\", \"two\", \"unless\", \"video\", \"volley\", \"volley\", \"want\", \"want\", \"want\", \"watch\", \"weight\", \"weight\", \"weight\", \"well\", \"well\", \"well\", \"wilson\", \"wilson\", \"wilson\", \"work\", \"work\", \"work\", \"wrist\", \"wrist\", \"x\", \"x\", \"x\", \"xc\", \"year\", \"year\", \"year\", \"youtub\", \"yrs\", \"yrs\"]}, \"R\": 30, \"lambda.step\": 0.01, \"plot.opts\": {\"xlab\": \"PC1\", \"ylab\": \"PC2\"}, \"topic.order\": [1, 2, 3]};\n",
              "\n",
              "function LDAvis_load_lib(url, callback){\n",
              "  var s = document.createElement('script');\n",
              "  s.src = url;\n",
              "  s.async = true;\n",
              "  s.onreadystatechange = s.onload = callback;\n",
              "  s.onerror = function(){console.warn(\"failed to load library \" + url);};\n",
              "  document.getElementsByTagName(\"head\")[0].appendChild(s);\n",
              "}\n",
              "\n",
              "if(typeof(LDAvis) !== \"undefined\"){\n",
              "   // already loaded: just create the visualization\n",
              "   !function(LDAvis){\n",
              "       new LDAvis(\"#\" + \"ldavis_el561398017377995044166198725\", ldavis_el561398017377995044166198725_data);\n",
              "   }(LDAvis);\n",
              "}else if(typeof define === \"function\" && define.amd){\n",
              "   // require.js is available: use it to load d3/LDAvis\n",
              "   require.config({paths: {d3: \"https://cdnjs.cloudflare.com/ajax/libs/d3/3.5.5/d3.min\"}});\n",
              "   require([\"d3\"], function(d3){\n",
              "      window.d3 = d3;\n",
              "      LDAvis_load_lib(\"https://cdn.rawgit.com/bmabey/pyLDAvis/files/ldavis.v1.0.0.js\", function(){\n",
              "        new LDAvis(\"#\" + \"ldavis_el561398017377995044166198725\", ldavis_el561398017377995044166198725_data);\n",
              "      });\n",
              "    });\n",
              "}else{\n",
              "    // require.js not available: dynamically load d3 & LDAvis\n",
              "    LDAvis_load_lib(\"https://cdnjs.cloudflare.com/ajax/libs/d3/3.5.5/d3.min.js\", function(){\n",
              "         LDAvis_load_lib(\"https://cdn.rawgit.com/bmabey/pyLDAvis/files/ldavis.v1.0.0.js\", function(){\n",
              "                 new LDAvis(\"#\" + \"ldavis_el561398017377995044166198725\", ldavis_el561398017377995044166198725_data);\n",
              "            })\n",
              "         });\n",
              "}\n",
              "</script>"
            ],
            "text/plain": [
              "<IPython.core.display.HTML object>"
            ]
          },
          "metadata": {
            "tags": []
          },
          "execution_count": 67
        }
      ]
    },
    {
      "cell_type": "code",
      "metadata": {
        "colab": {
          "base_uri": "https://localhost:8080/",
          "height": 963
        },
        "id": "zfsXClUXV6ij",
        "outputId": "54f7731c-4a04-4a7b-d1f9-55b54c731450"
      },
      "source": [
        "k=6\r\n",
        "mdl = train_LDA(corpus,texts_dict,k,True)\r\n",
        "#Visualize LDA results\r\n",
        "lda_display = pyLDAvis.gensim.prepare(mdl, corpus, texts_dict, sort_topics=False)\r\n",
        "pyLDAvis.display(lda_display)"
      ],
      "execution_count": 68,
      "outputs": [
        {
          "output_type": "stream",
          "text": [
            "(0, '0.058*\"string\" + 0.025*\"machin\" + 0.013*\"get\" + 0.011*\"clamp\" + 0.010*\"time\" + 0.010*\"first\" + 0.009*\"gamma\" + 0.009*\"also\" + 0.009*\"go\" + 0.009*\"review\"')\n",
            "(1, '0.018*\"bag\" + 0.017*\"fit\" + 0.016*\"ball\" + 0.016*\"perfect\" + 0.015*\"like\" + 0.013*\"light\" + 0.012*\"look\" + 0.011*\"get\" + 0.011*\"nice\" + 0.011*\"size\"')\n",
            "(2, '0.018*\"player\" + 0.017*\"feel\" + 0.016*\"power\" + 0.015*\"head\" + 0.011*\"much\" + 0.010*\"like\" + 0.010*\"swing\" + 0.010*\"weight\" + 0.010*\"recommend\" + 0.010*\"price\"')\n",
            "(3, '0.021*\"buy\" + 0.021*\"product\" + 0.015*\"purchas\" + 0.014*\"string\" + 0.013*\"grip\" + 0.012*\"year\" + 0.012*\"excel\" + 0.012*\"like\" + 0.011*\"clamp\" + 0.010*\"get\"')\n",
            "(4, '0.079*\"string\" + 0.015*\"machin\" + 0.014*\"tension\" + 0.014*\"get\" + 0.013*\"job\" + 0.012*\"time\" + 0.012*\"clamp\" + 0.011*\"first\" + 0.009*\"stringer\" + 0.009*\"easi\"')\n",
            "(5, '0.025*\"ball\" + 0.019*\"love\" + 0.018*\"year\" + 0.017*\"power\" + 0.015*\"old\" + 0.014*\"grip\" + 0.014*\"feel\" + 0.013*\"serv\" + 0.012*\"like\" + 0.012*\"size\"')\n"
          ],
          "name": "stdout"
        },
        {
          "output_type": "execute_result",
          "data": {
            "text/html": [
              "\n",
              "<link rel=\"stylesheet\" type=\"text/css\" href=\"https://cdn.rawgit.com/bmabey/pyLDAvis/files/ldavis.v1.0.0.css\">\n",
              "\n",
              "\n",
              "<div id=\"ldavis_el561398017377997444166198725\"></div>\n",
              "<script type=\"text/javascript\">\n",
              "\n",
              "var ldavis_el561398017377997444166198725_data = {\"mdsDat\": {\"x\": [-0.1456318654116746, 0.09609852122045093, 0.07001234799888112, -0.05524420645152304, -0.10300514247663489, 0.1377703451205004], \"y\": [0.06447086331585884, 0.0105059057087074, 0.02011323163604005, -0.13940348828946036, 0.028387790324675154, 0.015925697304179195], \"topics\": [1, 2, 3, 4, 5, 6], \"cluster\": [1, 1, 1, 1, 1, 1], \"Freq\": [13.137569103693187, 14.157967454703638, 19.3289287551294, 7.847239387874418, 23.448442047818947, 22.079853250780413]}, \"tinfo\": {\"Term\": [\"string\", \"machin\", \"ball\", \"bag\", \"clamp\", \"product\", \"fit\", \"buy\", \"serv\", \"perfect\", \"tension\", \"job\", \"grip\", \"player\", \"stringer\", \"power\", \"excel\", \"size\", \"light\", \"year\", \"old\", \"purchas\", \"love\", \"raquet\", \"control\", \"cover\", \"gamma\", \"money\", \"enough\", \"nice\", \"custom\", \"either\", \"lifetim\", \"beat\", \"saw\", \"mind\", \"user\", \"easier\", \"seller\", \"shoe\", \"servic\", \"damag\", \"w\", \"success\", \"gamma\", \"smell\", \"call\", \"famili\", \"direct\", \"advertis\", \"season\", \"mess\", \"pong\", \"equip\", \"yellow\", \"electr\", \"busi\", \"pictur\", \"fish\", \"abil\", \"main\", \"worri\", \"machin\", \"string\", \"problem\", \"took\", \"review\", \"includ\", \"stringer\", \"go\", \"clamp\", \"day\", \"sinc\", \"paddl\", \"job\", \"manual\", \"get\", \"want\", \"first\", \"time\", \"came\", \"also\", \"well\", \"tension\", \"weight\", \"like\", \"make\", \"product\", \"thing\", \"hour\", \"strung\", \"bag\", \"xc\", \"pocket\", \"fit\", \"cloth\", \"grandson\", \"key\", \"la\", \"carri\", \"enough\", \"cover\", \"separ\", \"bare\", \"disappoint\", \"yrs\", \"materi\", \"phone\", \"bat\", \"room\", \"small\", \"option\", \"plan\", \"girl\", \"natur\", \"extra\", \"sound\", \"ship\", \"color\", \"describ\", \"overs\", \"receiv\", \"perfect\", \"begin\", \"forc\", \"nice\", \"hope\", \"happi\", \"look\", \"ball\", \"light\", \"size\", \"son\", \"two\", \"like\", \"qualiti\", \"game\", \"price\", \"purchas\", \"also\", \"get\", \"come\", \"control\", \"hit\", \"need\", \"player\", \"love\", \"head\", \"much\", \"grip\", \"power\", \"impact\", \"ounc\", \"pace\", \"pleasant\", \"level\", \"older\", \"dampen\", \"n\", \"ton\", \"full\", \"standard\", \"creat\", \"earli\", \"spare\", \"stuff\", \"twice\", \"shock\", \"intermedi\", \"recreat\", \"stiff\", \"rang\", \"design\", \"sale\", \"clear\", \"entir\", \"mp\", \"paid\", \"model\", \"sq\", \"coach\", \"vibrat\", \"player\", \"surpris\", \"higher\", \"swing\", \"provid\", \"feel\", \"head\", \"still\", \"power\", \"beginn\", \"high\", \"want\", \"price\", \"weight\", \"much\", \"shot\", \"spin\", \"recommend\", \"light\", \"control\", \"son\", \"hit\", \"wilson\", \"year\", \"better\", \"like\", \"review\", \"time\", \"bought\", \"game\", \"also\", \"string\", \"own\", \"whole\", \"wrap\", \"vs\", \"pain\", \"excel\", \"box\", \"wast\", \"excess\", \"deliveri\", \"told\", \"float\", \"fact\", \"valu\", \"logo\", \"cheaper\", \"weak\", \"express\", \"rather\", \"avail\", \"restr\", \"finger\", \"gut\", \"build\", \"perform\", \"decad\", \"eas\", \"lightweight\", \"second\", \"case\", \"money\", \"buy\", \"product\", \"store\", \"alreadi\", \"purchas\", \"extrem\", \"pleas\", \"clamp\", \"grip\", \"star\", \"last\", \"strung\", \"easi\", \"well\", \"year\", \"like\", \"realli\", \"recommend\", \"time\", \"machin\", \"price\", \"get\", \"string\", \"old\", \"first\", \"got\", \"power\", \"featur\", \"chanc\", \"tie\", \"knot\", \"watch\", \"sticki\", \"done\", \"video\", \"mechan\", \"cross\", \"system\", \"step\", \"youtub\", \"mount\", \"updat\", \"lose\", \"restring\", \"hole\", \"tension\", \"klipperm\", \"concern\", \"charg\", \"tool\", \"adapt\", \"piec\", \"length\", \"pound\", \"follow\", \"inform\", \"figur\", \"string\", \"job\", \"stringer\", \"minut\", \"set\", \"hour\", \"clamp\", \"instruct\", \"machin\", \"lbs\", \"easi\", \"first\", \"strung\", \"get\", \"time\", \"work\", \"littl\", \"x\", \"drop\", \"start\", \"come\", \"need\", \"take\", \"realli\", \"better\", \"much\", \"spin\", \"also\", \"lot\", \"raquet\", \"serv\", \"deliv\", \"volley\", \"slice\", \"switch\", \"pump\", \"inflat\", \"hammer\", \"toy\", \"precis\", \"liquidmet\", \"mid\", \"synthet\", \"stabil\", \"excit\", \"leather\", \"center\", \"bounc\", \"skill\", \"amaz\", \"forehand\", \"often\", \"favor\", \"near\", \"topspin\", \"replac\", \"thick\", \"competit\", \"us\", \"ball\", \"stroke\", \"kid\", \"love\", \"old\", \"year\", \"size\", \"grip\", \"spot\", \"power\", \"game\", \"bought\", \"elbow\", \"control\", \"sweet\", \"start\", \"feel\", \"prefer\", \"wilson\", \"light\", \"perfect\", \"shot\", \"head\", \"hit\", \"like\", \"swing\", \"realli\", \"right\", \"player\", \"much\", \"weight\", \"recommend\", \"spin\", \"back\", \"make\", \"also\"], \"Freq\": [528.0, 138.0, 159.0, 50.0, 93.0, 86.0, 50.0, 86.0, 54.0, 91.0, 84.0, 84.0, 118.0, 134.0, 63.0, 159.0, 34.0, 98.0, 118.0, 148.0, 108.0, 104.0, 130.0, 31.0, 118.0, 36.0, 35.0, 35.0, 32.0, 66.0, 10.397083644043828, 9.41168186978093, 6.6745687660497985, 9.81433645288268, 4.506116034668578, 5.872549731807436, 6.488421935851668, 7.463986226707531, 7.221630465232977, 3.8824290699184103, 10.502882193973605, 3.6995084991636933, 4.822849808979458, 3.6350192908840175, 22.235421364058972, 13.935940209757435, 9.308664703024812, 4.620594274026864, 6.802726044215322, 5.593031879626337, 3.8881391056515784, 3.7784393115932446, 3.834615888231869, 4.342351361926671, 3.7636052680003953, 3.6981643870985246, 2.944704085808567, 11.723694081517067, 3.4559807188267526, 3.894241301908429, 14.131499450362535, 6.301398741240017, 60.13870773281299, 139.1631165511345, 14.636451588448638, 14.217425558619942, 22.045774096754, 12.166852208436117, 20.61771848165087, 22.147896490423364, 26.855755127467685, 14.32706984773929, 18.47589835880724, 16.72450611300835, 21.983403280492368, 10.76163450491133, 32.076983686812014, 21.524953682342606, 23.54279641152136, 24.530739698367327, 16.99846175668071, 22.15603647102305, 19.05349223714082, 18.243001866180606, 19.92165642349579, 21.537002995730298, 16.542436525011638, 15.919019554135527, 13.12812746399449, 13.747871625641684, 12.655032371692851, 47.079275432912475, 11.030911240519794, 9.169829805127772, 44.48926453387854, 6.337482860443109, 5.5451898941651105, 6.072045205895889, 8.87119395790617, 11.418403637813329, 24.230057685388783, 25.585102790461875, 6.481746480504486, 5.01207704503963, 15.147369303597706, 3.7826741411049056, 4.338193651175274, 4.697868893090996, 4.701753928676861, 6.8971077334559725, 22.10541423351962, 4.6750976249379335, 5.617527002401226, 3.600083480229758, 3.5042876704645742, 15.07622370646893, 3.4998462557011907, 11.314739766810577, 12.1982049747778, 4.336854553803125, 5.8474507726567735, 12.825710512112192, 42.46485950887004, 7.177410420874631, 6.666040545376934, 29.19893073004941, 10.252754693862933, 20.46140544177285, 31.158631050968506, 42.48427957688796, 34.05708341663465, 29.04542418199845, 18.540845839913633, 22.16748342565414, 37.70324206628915, 21.57315143318616, 24.76522772473087, 25.12700464315076, 24.602431958904628, 26.87515703640667, 29.61583697974452, 18.207621904114433, 22.66615547188381, 21.82442441330798, 19.38448499952614, 22.698707411056482, 21.32747651130427, 21.46185876503298, 18.71159262789208, 17.21495969283772, 17.309693843361952, 9.185235157170425, 7.166182124262615, 10.972941919895836, 5.8675925969400184, 33.84229278993633, 11.981972714274267, 9.557986149381483, 5.849179886837041, 4.337469262192896, 12.109723740197685, 6.144409056568364, 4.774505722956224, 6.057147608476644, 4.0053703527323155, 5.984646203108941, 8.058432616199164, 4.60450588034552, 22.216988005305296, 8.329235573100705, 9.604092406060033, 8.93621606670465, 12.618976401988936, 4.43247759881175, 4.802876373360052, 4.172161543929011, 3.521438091190097, 5.786548603455493, 15.277043095066437, 7.455860273700128, 6.81137766642793, 14.400104177699463, 65.03375938373196, 10.030431447068867, 8.872203901879422, 35.38531474742871, 16.337280994962928, 59.849701459950154, 51.39086739338979, 24.874778932460018, 54.90759858705864, 27.402083334225175, 29.427871293211346, 30.74243431539138, 34.15993245491902, 35.371506753723814, 38.4968177663558, 26.61357499756004, 30.211145001735147, 34.52181613586959, 34.039114151465014, 33.70927184439932, 20.594105549746992, 30.00511502814222, 24.028914566784362, 33.4804550699729, 26.207498186020207, 35.73553746935888, 22.059857239090977, 26.950757930855914, 23.272992569994358, 23.048079196546325, 22.813932589076654, 28.879376155730252, 9.65719801311805, 6.366460900989902, 12.619203214877974, 6.549268707749003, 4.4910158604375, 17.67325749719688, 8.194195768278778, 3.346126975259244, 2.840709218472811, 5.101501224282735, 2.788601749687663, 3.6480089598543586, 3.652138359217808, 9.732939320961547, 2.5962608048273776, 3.936845001314062, 2.5650444049190053, 3.4460672364449927, 4.624406155730998, 3.7305792873019787, 7.248395045939518, 2.8721686908281803, 3.642940591120603, 2.8285076147214867, 7.886735612559359, 2.7526256947153676, 2.338686145839918, 8.955484677698628, 10.305046227719545, 7.341323691632241, 13.45977339331596, 30.289187314241676, 29.960122866104978, 10.222692149782688, 5.300102909023561, 21.03952999698724, 7.478287268518061, 7.218912473965279, 16.160717120979992, 18.427833008861967, 7.556049126489853, 9.59970963008128, 12.013400702533902, 13.633749956572368, 14.089001492107863, 17.871797872369168, 16.895765535066154, 12.898260380156081, 13.928652979683786, 14.228556731081063, 13.700678680347075, 12.46498166085744, 14.6629456866969, 19.920971572270417, 12.256149275071238, 11.745565853931415, 9.491439597678967, 10.149536506351389, 5.022272307788058, 6.626146054121725, 9.796459026536963, 21.982956550777697, 19.512682448812125, 11.579127959018566, 20.819182849948348, 24.603564133589693, 11.237608404090349, 9.580639528721004, 6.607878828655871, 9.525079165573294, 25.950253028141933, 8.664194721484463, 8.718192906796236, 5.660846101478783, 4.966849842428925, 12.461605105929545, 60.058352045936715, 33.340967148204, 5.3954187454176905, 4.047789706555962, 13.35313770689906, 4.043041442630162, 12.563183504385824, 9.341938954520305, 4.665978772095952, 8.569661555894395, 3.897951811444301, 12.977464304739405, 337.1363686770244, 54.94047823806658, 39.804187711861026, 11.454380740777559, 23.626421399385535, 33.57684305795566, 49.58317802575841, 16.776326349659183, 64.20080958000264, 17.315268742190106, 36.83379965028094, 45.854075335776194, 28.993974834991658, 59.15227297066317, 50.04463878719145, 31.78213072005437, 33.26035917013045, 15.976558006337262, 17.788482178687136, 23.7758329065697, 23.727764823992686, 25.64996640547607, 22.014323568332408, 27.536161231536383, 26.174712793172844, 28.320209226960532, 24.919536256336716, 25.707509111562818, 22.753626967232034, 30.387264694156382, 52.15570716159401, 8.939970863491993, 17.575051905600652, 7.0015276148500565, 6.040606968009326, 6.026652156703183, 6.021338181058505, 6.85487904403546, 5.016814432721178, 5.852444134395442, 9.615914565749877, 10.29158638146278, 7.675592487328136, 6.127917237921459, 6.031749091881782, 13.2930066417636, 8.069035756412035, 5.046568196140288, 6.448010204868323, 16.370300123830923, 13.670092653777509, 9.263684609186166, 4.859687448216964, 8.199165344539368, 4.077372354164103, 20.61830987993531, 4.583806514873474, 6.291783727351885, 8.682575871357738, 99.31714725413423, 21.02955421739703, 17.75376386915699, 74.58170442545065, 59.303161910374655, 71.13599811215434, 49.47371702759418, 56.85462293929429, 21.510146499545694, 67.48188794951007, 44.809227711727466, 45.141398066510384, 20.642410278298417, 47.903439099671324, 20.1870978195942, 31.054404897595717, 55.028809160680964, 14.355344251271873, 32.19381577982765, 42.47119843316466, 35.53528266685757, 31.545743261049832, 43.83293750600687, 38.73937747072573, 50.12695726580628, 30.785915996886395, 34.24651044236999, 23.859902526055503, 37.0865097858355, 37.047995650429115, 34.70525617185946, 32.448594098351414, 26.790050072438877, 23.112672046783015, 25.558535279244836, 26.478753103992076], \"Total\": [528.0, 138.0, 159.0, 50.0, 93.0, 86.0, 50.0, 86.0, 54.0, 91.0, 84.0, 84.0, 118.0, 134.0, 63.0, 159.0, 34.0, 98.0, 118.0, 148.0, 108.0, 104.0, 130.0, 31.0, 118.0, 36.0, 35.0, 35.0, 32.0, 66.0, 11.23657766246013, 10.297494005634865, 7.495914670245934, 11.23957040992403, 5.616561011933703, 7.529805330326148, 8.478473642478887, 10.425438302035435, 10.24457487275375, 5.598030961761151, 15.193136724843733, 5.67997084575914, 7.5125564569355285, 5.684309706517898, 35.905028592822646, 22.608291243404096, 15.270908879580542, 7.6139090802894085, 11.399359595415332, 9.388725181779032, 6.669941884145427, 6.583933000825378, 6.704626367136156, 7.653503716121953, 6.657013734090584, 6.579288992059028, 5.570989758323698, 22.553525180464522, 6.656949740159365, 7.515230556137221, 28.363256679604053, 12.501667181404928, 138.67393239007748, 528.2528541157501, 35.16329088037446, 34.22057735747459, 67.46581050379756, 30.902725921442435, 63.27518862276076, 70.21765231254814, 93.13532345651875, 39.108446640734826, 57.58606148103216, 52.01318163200965, 84.63862607962729, 27.564931818709322, 180.4449030603789, 91.10288579136923, 119.23650515332977, 145.24151438998052, 68.0947516202207, 126.5021329360999, 92.66629280166968, 84.9125570544369, 117.5971580210955, 180.78758382137107, 96.93053762620426, 86.70284335521087, 44.9180610494039, 58.49362603714677, 64.85085607580706, 50.27440233351004, 11.90497980050467, 10.074761633141568, 50.586766934774275, 7.346120189098923, 6.43212934251279, 7.337509872607875, 11.08493791929719, 14.70720083926762, 32.153746447949935, 36.35452032219942, 9.212609735539179, 7.333355704276307, 22.30302060720033, 5.582133765153836, 6.467462908711531, 7.368277579632578, 7.483214254100554, 12.183731898998555, 39.200827459419, 8.438476629220801, 10.165866039077118, 6.576047466703107, 6.5298405422084995, 28.15119869746262, 6.559413755099314, 21.39787241714857, 23.105667343171987, 8.376108117516443, 11.332036737832787, 25.159197075396033, 91.67125079209104, 14.112150866690376, 13.046754207381028, 66.6846840358133, 21.445059040568665, 49.160048791104714, 91.45382629918075, 159.62946659293945, 118.43153637401443, 98.00029206340888, 54.749527309038676, 78.19434817214791, 180.78758382137107, 78.12353531558061, 102.30989981589946, 107.19591991695711, 104.02450346091129, 126.5021329360999, 180.4449030603789, 67.71596783423391, 118.92101157388802, 110.24434169357049, 80.4567718452292, 134.01435998161338, 130.72172790072764, 134.26340811940986, 134.00085935612736, 118.99545866447856, 159.9004542284473, 9.995606899654376, 7.9854762675512445, 12.934513239438354, 6.97291538137182, 44.48347319832855, 15.781011984283015, 12.766968465303314, 7.873237164708899, 5.950139754937714, 16.78500618940876, 8.861064408055272, 6.918211370225224, 8.8643406667469, 5.877126027766373, 8.803364617762846, 11.867944650347651, 6.865836638545439, 33.26724891353869, 12.707220466126483, 14.747678455299765, 13.752033004162525, 19.47743736128102, 6.936955941579788, 7.859551460787937, 6.918765052004577, 5.889238458000202, 9.749599894340834, 25.764356242971523, 12.646194534862417, 11.676211748441265, 26.172203467126497, 134.01435998161338, 17.83722612468222, 15.757250448221411, 77.9786534294496, 32.12523943750579, 151.78077040061365, 134.26340811940986, 55.373007389654425, 159.9004542284473, 72.92268217657366, 81.49722210431173, 91.10288579136923, 107.19591991695711, 117.5971580210955, 134.00085935612736, 77.12693839977764, 95.66643539199504, 120.7680517578587, 118.43153637401443, 118.92101157388802, 54.749527309038676, 110.24434169357049, 73.95710900183303, 148.31242492049313, 90.26186133449033, 180.78758382137107, 67.46581050379756, 145.24151438998052, 103.75059678772931, 102.30989981589946, 126.5021329360999, 528.2528541157501, 12.92524876632034, 9.260713522727361, 20.576521171527638, 11.245326372894434, 8.427622857219532, 34.02016918597207, 16.0220020525225, 6.628804890341782, 5.6348003550518015, 10.119742747869148, 5.638284352606384, 7.389922910273198, 7.439768925230956, 20.305051964269055, 5.545370529507015, 8.531576137744118, 5.565629375076879, 7.479874046334459, 10.170014467238625, 8.324702070160203, 16.215972110062697, 6.477524277795866, 8.336973715469574, 6.530032329672533, 18.971895887827227, 6.650481176233221, 5.700141120296688, 22.910687567366175, 26.572349506525413, 19.085075193464412, 35.9724195746261, 86.5192571752184, 86.70284335521087, 28.352872274771112, 15.039261304853776, 104.02450346091129, 24.6126205333347, 24.27321220445239, 93.13532345651875, 118.99545866447856, 27.24482836217814, 42.04432052237827, 64.85085607580706, 84.37670761759497, 92.66629280166968, 148.31242492049313, 180.78758382137107, 99.56301073478406, 120.7680517578587, 145.24151438998052, 138.67393239007748, 107.19591991695711, 180.4449030603789, 528.2528541157501, 108.98267889791398, 119.23650515332977, 52.683226965301714, 159.9004542284473, 5.822752664414987, 7.749966598466398, 11.624437209641298, 26.117157726605093, 24.105872455077503, 14.444555882814225, 26.077919837581295, 30.918682540506346, 14.547292466548372, 12.550256041331401, 8.692547395424887, 12.548575169704886, 34.66205756153224, 11.578918841538611, 11.726227517718925, 7.680536769435548, 6.828422725130405, 17.355613021859767, 84.9125570544369, 47.14435857566046, 7.671234175822719, 5.755506474711365, 19.201448290768983, 5.853655034699091, 18.24535244394275, 13.575062798552416, 6.804917911321196, 12.508739919201613, 5.858208702946211, 19.517430152706567, 528.2528541157501, 84.63862607962729, 63.27518862276076, 17.365638062653982, 38.29365102737148, 58.49362603714677, 93.13532345651875, 27.81047624767431, 138.67393239007748, 30.085759081255954, 84.37670761759497, 119.23650515332977, 64.85085607580706, 180.4449030603789, 145.24151438998052, 83.72898723519342, 92.75506287093965, 28.672112856004095, 35.559711602912195, 67.77175633410015, 67.71596783423391, 80.4567718452292, 59.806557772911425, 99.56301073478406, 90.26186133449033, 134.00085935612736, 95.66643539199504, 126.5021329360999, 85.94108693807966, 31.329844441283754, 54.87802681269589, 9.770023782554503, 19.5225829309714, 7.8107305083619405, 6.8315786059186605, 6.831555167753519, 6.830952564965265, 7.811284692371766, 5.850018488577474, 6.830451456011449, 11.759890291270167, 12.673750297811164, 9.71104482984155, 7.80035050770827, 7.743673693636993, 17.390835362113688, 10.725334216328129, 6.7632250190775745, 8.724302081899134, 22.358148066068004, 18.693614844457134, 12.694924626975064, 6.761206842130052, 11.543160331668865, 5.876678611902554, 30.014312518592693, 6.783532985932229, 9.691567406053753, 13.525362885763926, 159.62946659293945, 33.30399914457396, 28.183860880412333, 130.72172790072764, 108.98267889791398, 148.31242492049313, 98.00029206340888, 118.99545866447856, 37.47509111325084, 159.9004542284473, 102.30989981589946, 103.75059678772931, 37.44849054778555, 118.92101157388802, 36.40676696734389, 67.77175633410015, 151.78077040061365, 23.176700757152272, 73.95710900183303, 118.43153637401443, 91.67125079209104, 77.12693839977764, 134.26340811940986, 110.24434169357049, 180.78758382137107, 77.9786534294496, 99.56301073478406, 51.9335525772588, 134.01435998161338, 134.00085935612736, 117.5971580210955, 120.7680517578587, 95.66643539199504, 53.06786051244465, 96.93053762620426, 126.5021329360999], \"Category\": [\"Default\", \"Default\", \"Default\", \"Default\", \"Default\", \"Default\", \"Default\", \"Default\", \"Default\", \"Default\", \"Default\", \"Default\", \"Default\", \"Default\", \"Default\", \"Default\", \"Default\", \"Default\", \"Default\", \"Default\", \"Default\", \"Default\", \"Default\", \"Default\", \"Default\", \"Default\", \"Default\", \"Default\", \"Default\", \"Default\", \"Topic1\", \"Topic1\", \"Topic1\", \"Topic1\", \"Topic1\", \"Topic1\", \"Topic1\", \"Topic1\", \"Topic1\", \"Topic1\", \"Topic1\", \"Topic1\", \"Topic1\", \"Topic1\", \"Topic1\", \"Topic1\", \"Topic1\", \"Topic1\", \"Topic1\", \"Topic1\", \"Topic1\", \"Topic1\", \"Topic1\", \"Topic1\", \"Topic1\", \"Topic1\", \"Topic1\", \"Topic1\", \"Topic1\", \"Topic1\", \"Topic1\", \"Topic1\", \"Topic1\", \"Topic1\", \"Topic1\", \"Topic1\", \"Topic1\", \"Topic1\", \"Topic1\", \"Topic1\", \"Topic1\", \"Topic1\", \"Topic1\", \"Topic1\", \"Topic1\", \"Topic1\", \"Topic1\", \"Topic1\", \"Topic1\", \"Topic1\", \"Topic1\", \"Topic1\", \"Topic1\", \"Topic1\", \"Topic1\", \"Topic1\", \"Topic1\", \"Topic1\", \"Topic1\", \"Topic1\", \"Topic1\", \"Topic2\", \"Topic2\", \"Topic2\", \"Topic2\", \"Topic2\", \"Topic2\", \"Topic2\", \"Topic2\", \"Topic2\", \"Topic2\", \"Topic2\", \"Topic2\", \"Topic2\", \"Topic2\", \"Topic2\", \"Topic2\", \"Topic2\", \"Topic2\", \"Topic2\", \"Topic2\", \"Topic2\", \"Topic2\", \"Topic2\", \"Topic2\", \"Topic2\", \"Topic2\", \"Topic2\", \"Topic2\", \"Topic2\", \"Topic2\", \"Topic2\", \"Topic2\", \"Topic2\", \"Topic2\", \"Topic2\", \"Topic2\", \"Topic2\", \"Topic2\", \"Topic2\", \"Topic2\", \"Topic2\", \"Topic2\", \"Topic2\", \"Topic2\", \"Topic2\", \"Topic2\", \"Topic2\", \"Topic2\", \"Topic2\", \"Topic2\", \"Topic2\", \"Topic2\", \"Topic2\", \"Topic2\", \"Topic2\", \"Topic2\", \"Topic2\", \"Topic2\", \"Topic2\", \"Topic2\", \"Topic3\", \"Topic3\", \"Topic3\", \"Topic3\", \"Topic3\", \"Topic3\", \"Topic3\", \"Topic3\", \"Topic3\", \"Topic3\", \"Topic3\", \"Topic3\", \"Topic3\", \"Topic3\", \"Topic3\", \"Topic3\", \"Topic3\", \"Topic3\", \"Topic3\", \"Topic3\", \"Topic3\", \"Topic3\", \"Topic3\", \"Topic3\", \"Topic3\", \"Topic3\", \"Topic3\", \"Topic3\", \"Topic3\", \"Topic3\", \"Topic3\", \"Topic3\", \"Topic3\", \"Topic3\", \"Topic3\", \"Topic3\", \"Topic3\", \"Topic3\", \"Topic3\", \"Topic3\", \"Topic3\", \"Topic3\", \"Topic3\", \"Topic3\", \"Topic3\", \"Topic3\", \"Topic3\", \"Topic3\", \"Topic3\", \"Topic3\", \"Topic3\", \"Topic3\", \"Topic3\", \"Topic3\", \"Topic3\", \"Topic3\", \"Topic3\", \"Topic3\", \"Topic3\", \"Topic3\", \"Topic3\", \"Topic3\", \"Topic3\", \"Topic4\", \"Topic4\", \"Topic4\", \"Topic4\", \"Topic4\", \"Topic4\", \"Topic4\", \"Topic4\", \"Topic4\", \"Topic4\", \"Topic4\", \"Topic4\", \"Topic4\", \"Topic4\", \"Topic4\", \"Topic4\", \"Topic4\", \"Topic4\", \"Topic4\", \"Topic4\", \"Topic4\", \"Topic4\", \"Topic4\", \"Topic4\", \"Topic4\", \"Topic4\", \"Topic4\", \"Topic4\", \"Topic4\", \"Topic4\", \"Topic4\", \"Topic4\", \"Topic4\", \"Topic4\", \"Topic4\", \"Topic4\", \"Topic4\", \"Topic4\", \"Topic4\", \"Topic4\", \"Topic4\", \"Topic4\", \"Topic4\", \"Topic4\", \"Topic4\", \"Topic4\", \"Topic4\", \"Topic4\", \"Topic4\", \"Topic4\", \"Topic4\", \"Topic4\", \"Topic4\", \"Topic4\", \"Topic4\", \"Topic4\", \"Topic4\", \"Topic4\", \"Topic5\", \"Topic5\", \"Topic5\", \"Topic5\", \"Topic5\", \"Topic5\", \"Topic5\", \"Topic5\", \"Topic5\", \"Topic5\", \"Topic5\", \"Topic5\", \"Topic5\", \"Topic5\", \"Topic5\", \"Topic5\", \"Topic5\", \"Topic5\", \"Topic5\", \"Topic5\", \"Topic5\", \"Topic5\", \"Topic5\", \"Topic5\", \"Topic5\", \"Topic5\", \"Topic5\", \"Topic5\", \"Topic5\", \"Topic5\", \"Topic5\", \"Topic5\", \"Topic5\", \"Topic5\", \"Topic5\", \"Topic5\", \"Topic5\", \"Topic5\", \"Topic5\", \"Topic5\", \"Topic5\", \"Topic5\", \"Topic5\", \"Topic5\", \"Topic5\", \"Topic5\", \"Topic5\", \"Topic5\", \"Topic5\", \"Topic5\", \"Topic5\", \"Topic5\", \"Topic5\", \"Topic5\", \"Topic5\", \"Topic5\", \"Topic5\", \"Topic5\", \"Topic5\", \"Topic6\", \"Topic6\", \"Topic6\", \"Topic6\", \"Topic6\", \"Topic6\", \"Topic6\", \"Topic6\", \"Topic6\", \"Topic6\", \"Topic6\", \"Topic6\", \"Topic6\", \"Topic6\", \"Topic6\", \"Topic6\", \"Topic6\", \"Topic6\", \"Topic6\", \"Topic6\", \"Topic6\", \"Topic6\", \"Topic6\", \"Topic6\", \"Topic6\", \"Topic6\", \"Topic6\", \"Topic6\", \"Topic6\", \"Topic6\", \"Topic6\", \"Topic6\", \"Topic6\", \"Topic6\", \"Topic6\", \"Topic6\", \"Topic6\", \"Topic6\", \"Topic6\", \"Topic6\", \"Topic6\", \"Topic6\", \"Topic6\", \"Topic6\", \"Topic6\", \"Topic6\", \"Topic6\", \"Topic6\", \"Topic6\", \"Topic6\", \"Topic6\", \"Topic6\", \"Topic6\", \"Topic6\", \"Topic6\", \"Topic6\", \"Topic6\", \"Topic6\", \"Topic6\", \"Topic6\", \"Topic6\", \"Topic6\", \"Topic6\", \"Topic6\", \"Topic6\", \"Topic6\"], \"logprob\": [30.0, 29.0, 28.0, 27.0, 26.0, 25.0, 24.0, 23.0, 22.0, 21.0, 20.0, 19.0, 18.0, 17.0, 16.0, 15.0, 14.0, 13.0, 12.0, 11.0, 10.0, 9.0, 8.0, 7.0, 6.0, 5.0, 4.0, 3.0, 2.0, 1.0, -5.440000057220459, -5.539599895477295, -5.883200168609619, -5.497700214385986, -6.276100158691406, -6.011199951171875, -5.911499977111816, -5.771399974822998, -5.8043999671936035, -6.425099849700928, -5.429900169372559, -6.473299980163574, -6.208099842071533, -6.490900039672852, -4.679800033569336, -5.146999835968018, -5.550600051879883, -6.250999927520752, -5.864200115203857, -6.059999942779541, -6.423600196838379, -6.452199935913086, -6.437399864196777, -6.3130998611450195, -6.456099987030029, -6.473700046539307, -6.701499938964844, -5.319900035858154, -6.541399955749512, -6.421999931335449, -5.1331000328063965, -5.940700054168701, -3.6849000453948975, -2.845900058746338, -5.0980000495910645, -5.126999855041504, -4.688399791717529, -5.282800197601318, -4.75540018081665, -4.683800220489502, -4.491000175476074, -5.1194000244140625, -4.864999771118164, -4.964600086212158, -4.691199779510498, -5.4054999351501465, -4.313399791717529, -4.712299823760986, -4.622700214385986, -4.581600189208984, -4.948400020599365, -4.6834001541137695, -4.8343000411987305, -4.877699851989746, -4.789700031280518, -4.711699962615967, -4.975599765777588, -5.013999938964844, -5.2067999839782715, -5.160600185394287, -5.243500232696533, -4.004499912261963, -5.455599784851074, -5.640399932861328, -4.061100006103516, -6.009799957275391, -6.143400192260742, -6.052599906921387, -5.673500061035156, -5.42110013961792, -4.668700218200684, -4.614299774169922, -5.987299919128418, -6.244500160217285, -5.138500213623047, -6.525899887084961, -6.388899803161621, -6.309199810028076, -6.3084001541137695, -5.92519998550415, -4.760499954223633, -6.3140997886657715, -6.13040018081665, -6.575399875640869, -6.60230016708374, -5.143199920654297, -6.603600025177002, -5.430200099945068, -5.355000019073486, -6.389200210571289, -6.0903000831604, -5.304900169372559, -4.107600212097168, -5.88539981842041, -5.9593000411987305, -4.4822001457214355, -5.528800010681152, -4.837800025939941, -4.417200088500977, -4.1072001457214355, -4.3282999992370605, -4.487500190734863, -4.936299800872803, -4.757699966430664, -4.226600170135498, -4.784900188446045, -4.646900177001953, -4.632400035858154, -4.653500080108643, -4.565100193023682, -4.4679999351501465, -4.954500198364258, -4.735400199890137, -4.7733001708984375, -4.8917999267578125, -4.734000205993652, -4.796299934387207, -4.789999961853027, -4.927199840545654, -5.010499954223633, -5.005000114440918, -5.949999809265137, -6.198299884796143, -5.772200107574463, -6.398200035095215, -4.645899772644043, -5.684199810028076, -5.910299777984619, -6.401299953460693, -6.700300216674805, -5.673600196838379, -6.352099895477295, -6.604400157928467, -6.366399765014648, -6.78000020980835, -6.378399848937988, -6.080900192260742, -6.640600204467773, -5.066800117492676, -6.047900199890137, -5.9054999351501465, -5.977499961853027, -5.632400035858154, -6.678699970245361, -6.598400115966797, -6.739200115203857, -6.90880012512207, -6.412099838256836, -5.441299915313721, -6.158599853515625, -6.249000072479248, -5.500400066375732, -3.9927000999450684, -5.861999988555908, -5.9847002029418945, -4.60129976272583, -5.374199867248535, -4.075799942016602, -4.2281999588012695, -4.953800201416016, -4.1620001792907715, -4.85699987411499, -4.785699844360352, -4.742000102996826, -4.636600017547607, -4.6016998291015625, -4.517099857330322, -4.886199951171875, -4.759399890899658, -4.625999927520752, -4.640100002288818, -4.649899959564209, -5.142600059509277, -4.766300201416016, -4.988399982452393, -4.656700134277344, -4.901599884033203, -4.5914998054504395, -5.07390022277832, -4.873600006103516, -5.020299911499023, -5.030099868774414, -5.040299892425537, -4.804500102996826, -4.998499870300293, -5.415200233459473, -4.730999946594238, -5.3867998123168945, -5.764100074768066, -4.394100189208984, -5.162799835205078, -6.0584001541137695, -6.222099781036377, -5.63670015335083, -6.240699768066406, -5.9720001220703125, -5.970900058746338, -4.990699768066406, -6.312099933624268, -5.8958001136779785, -6.32420015335083, -6.0289998054504395, -5.734899997711182, -5.9496002197265625, -5.285399913787842, -6.211100101470947, -5.973400115966797, -6.226399898529053, -5.201000213623047, -6.253600120544434, -6.416600227355957, -5.07390022277832, -4.933599948883057, -5.27269983291626, -4.666500091552734, -3.8554000854492188, -3.866300106048584, -4.9415998458862305, -5.598499774932861, -4.219799995422363, -5.254199981689453, -5.2895002365112305, -4.48360013961792, -4.35230016708374, -5.243899822235107, -5.004499912261963, -4.780200004577637, -4.65369987487793, -4.620800018310547, -4.382999897003174, -4.4390997886657715, -4.709099769592285, -4.632299900054932, -4.610899925231934, -4.648799896240234, -4.743299961090088, -4.580900192260742, -4.274400234222412, -4.760200023651123, -4.802700042724609, -5.0157999992370605, -4.948800086975098, -6.747000217437744, -6.469799995422363, -6.078800201416016, -5.270599842071533, -5.389800071716309, -5.911600112915039, -5.324999809265137, -5.1579999923706055, -5.9415998458862305, -6.101099967956543, -6.472599983215332, -6.106900215148926, -5.104700088500977, -6.201600074768066, -6.195400238037109, -6.627299785614014, -6.7581000328063965, -5.838200092315674, -4.265500068664551, -4.854100227355957, -6.675300121307373, -6.962699890136719, -5.769100189208984, -6.963799953460693, -5.830100059509277, -6.126299858093262, -6.820499897003174, -6.212600231170654, -7.000400066375732, -5.797599792480469, -2.5404000282287598, -4.354599952697754, -4.6768999099731445, -5.922500133514404, -5.198500156402588, -4.8470001220703125, -4.457200050354004, -5.540900230407715, -4.198800086975098, -5.509300231933594, -4.75439977645874, -4.535399913787842, -4.993800163269043, -4.280700206756592, -4.44789981842041, -4.901899814605713, -4.856500148773193, -5.589700222015381, -5.4822998046875, -5.192200183868408, -5.194200038909912, -5.116300106048584, -5.269100189208984, -5.045300006866455, -5.0960001945495605, -5.017300128936768, -5.145199775695801, -5.114099979400635, -5.236100196838379, -4.88670015335083, -4.346499919891357, -6.110199928283691, -5.434199810028076, -6.354599952697754, -6.502200126647949, -6.504499912261963, -6.50540018081665, -6.375699996948242, -6.687900066375732, -6.53380012512207, -6.037300109863281, -5.969399929046631, -6.262700080871582, -6.487800121307373, -6.503699779510498, -5.713500022888184, -6.212699890136719, -6.682000160217285, -6.4369001388549805, -5.505199909210205, -5.685500144958496, -6.0746002197265625, -6.719699859619141, -6.196700096130371, -6.895199775695801, -5.274499893188477, -6.778200149536133, -6.46150016784668, -6.139400005340576, -3.702399969100952, -5.254799842834473, -5.424099922180176, -3.988800048828125, -4.2179999351501465, -4.036099910736084, -4.3993000984191895, -4.260200023651123, -5.2322001457214355, -4.088799953460693, -4.498300075531006, -4.490900039672852, -5.273399829864502, -4.43149995803833, -5.2957000732421875, -4.864999771118164, -4.292799949645996, -5.636600017547607, -4.82889986038208, -4.5518999099731445, -4.730199813842773, -4.849299907684326, -4.520299911499023, -4.643799781799316, -4.386099815368652, -4.873600006103516, -4.767099857330322, -5.128499984741211, -4.687399864196777, -4.688499927520752, -4.753799915313721, -4.821000099182129, -5.012700080871582, -5.160299777984619, -5.059700012207031, -5.024400234222412], \"loglift\": [30.0, 29.0, 28.0, 27.0, 26.0, 25.0, 24.0, 23.0, 22.0, 21.0, 20.0, 19.0, 18.0, 17.0, 16.0, 15.0, 14.0, 13.0, 12.0, 11.0, 10.0, 9.0, 8.0, 7.0, 6.0, 5.0, 4.0, 3.0, 2.0, 1.0, 1.952, 1.9397, 1.9136, 1.8941, 1.8094, 1.7811, 1.7622, 1.6955, 1.68, 1.6637, 1.6605, 1.6009, 1.5865, 1.5826, 1.5505, 1.5458, 1.5347, 1.5302, 1.5135, 1.5117, 1.49, 1.4744, 1.471, 1.4629, 1.4594, 1.4536, 1.3921, 1.3754, 1.3741, 1.3723, 1.333, 1.3446, 1.1942, 0.6958, 1.1532, 1.1513, 0.9112, 1.0976, 0.9084, 0.8758, 0.7861, 1.0255, 0.8929, 0.8951, 0.6816, 1.0891, 0.3024, 0.5869, 0.4074, 0.2512, 0.6419, 0.2875, 0.4479, 0.4919, 0.2542, -0.0979, 0.2616, 0.3347, 0.7996, 0.5817, 0.3957, 1.8892, 1.8786, 1.8608, 1.8265, 1.8072, 1.8065, 1.7656, 1.7321, 1.7018, 1.672, 1.6036, 1.6033, 1.5743, 1.568, 1.5658, 1.5556, 1.5048, 1.4902, 1.3859, 1.382, 1.3643, 1.3617, 1.3524, 1.3325, 1.3304, 1.3267, 1.3177, 1.3161, 1.2967, 1.2933, 1.2811, 1.1854, 1.2788, 1.2834, 1.129, 1.2169, 1.0784, 0.8781, 0.6312, 0.7086, 0.7388, 0.8721, 0.6943, 0.3873, 0.6681, 0.5363, 0.5042, 0.5131, 0.4058, 0.1478, 0.6414, 0.2973, 0.3352, 0.5316, 0.1793, 0.1418, 0.1214, -0.0138, 0.0216, -0.2684, 1.559, 1.5353, 1.4791, 1.471, 1.3702, 1.3682, 1.3541, 1.3464, 1.3274, 1.3171, 1.2774, 1.2727, 1.2628, 1.2601, 1.2576, 1.2564, 1.244, 1.2399, 1.2212, 1.2147, 1.2125, 1.2095, 1.1957, 1.1511, 1.1378, 1.1293, 1.1219, 1.1209, 1.1152, 1.1046, 1.0461, 0.9205, 1.0679, 1.0692, 0.8534, 0.9674, 0.713, 0.6832, 0.8433, 0.5747, 0.6648, 0.6249, 0.5572, 0.5, 0.4422, 0.3963, 0.5795, 0.4909, 0.3913, 0.3967, 0.3829, 0.6658, 0.3422, 0.5193, 0.1552, 0.4069, 0.0224, 0.5257, -0.0408, 0.1489, 0.1531, -0.0693, -1.2629, 2.2535, 2.1703, 2.0561, 2.0044, 1.9156, 1.8901, 1.8745, 1.8614, 1.8601, 1.8601, 1.841, 1.8391, 1.8335, 1.8097, 1.7861, 1.7716, 1.7704, 1.77, 1.7569, 1.7423, 1.7398, 1.7317, 1.7171, 1.7083, 1.6672, 1.6629, 1.6541, 1.6057, 1.5978, 1.5896, 1.562, 1.4954, 1.4824, 1.5249, 1.5021, 0.9468, 1.3538, 1.3323, 0.7935, 0.6798, 1.2625, 1.068, 0.8589, 0.7223, 0.6614, 0.4289, 0.1747, 0.5013, 0.3851, 0.2219, 0.2303, 0.3933, 0.0349, -0.7328, 0.3598, 0.2274, 0.8311, -0.2121, 1.3025, 1.2937, 1.2793, 1.278, 1.239, 1.2293, 1.2252, 1.2219, 1.1922, 1.1804, 1.1762, 1.1747, 1.1609, 1.1604, 1.154, 1.1453, 1.1321, 1.1191, 1.1041, 1.1039, 1.0984, 1.0984, 1.0871, 1.0803, 1.0772, 1.0766, 1.073, 1.0722, 1.043, 1.0423, 1.0013, 1.0182, 0.9868, 1.0342, 0.9674, 0.8953, 0.82, 0.9449, 0.6803, 0.8979, 0.6215, 0.4947, 0.6454, 0.3351, 0.3849, 0.4817, 0.4248, 0.8656, 0.7577, 0.4029, 0.4017, 0.3072, 0.4509, 0.1651, 0.2124, -0.1039, 0.1052, -0.1431, 0.1214, 1.48, 1.4596, 1.4217, 1.4054, 1.4011, 1.3875, 1.3851, 1.3844, 1.3799, 1.3569, 1.356, 1.3092, 1.3023, 1.2753, 1.2692, 1.2607, 1.2418, 1.2259, 1.2177, 1.2082, 1.1988, 1.1975, 1.1954, 1.1803, 1.1684, 1.145, 1.135, 1.1185, 1.0785, 1.0673, 1.036, 1.0508, 1.0484, 0.9493, 0.902, 0.7758, 0.827, 0.7719, 0.9554, 0.6478, 0.6849, 0.6783, 0.9149, 0.6012, 0.9208, 0.7301, 0.4959, 1.0315, 0.6788, 0.485, 0.5628, 0.6165, 0.3911, 0.4647, 0.2277, 0.5811, 0.4433, 0.7327, 0.2258, 0.2249, 0.2901, 0.1963, 0.2377, 0.6793, 0.1775, -0.0534]}, \"token.table\": {\"Topic\": [1, 2, 3, 4, 3, 5, 1, 2, 3, 2, 3, 4, 5, 1, 2, 3, 4, 5, 6, 2, 5, 6, 1, 4, 1, 2, 3, 4, 5, 6, 1, 2, 1, 2, 3, 4, 5, 6, 2, 4, 2, 3, 4, 1, 5, 2, 5, 1, 2, 3, 4, 5, 6, 1, 2, 3, 4, 5, 6, 1, 2, 3, 4, 5, 6, 2, 6, 3, 4, 5, 1, 2, 3, 4, 1, 4, 1, 2, 3, 4, 5, 6, 1, 3, 5, 1, 2, 3, 4, 5, 6, 1, 2, 4, 5, 3, 4, 5, 6, 1, 5, 6, 5, 4, 5, 3, 4, 5, 1, 4, 5, 1, 3, 6, 2, 2, 3, 6, 1, 2, 4, 5, 6, 1, 2, 3, 4, 5, 6, 2, 5, 6, 2, 4, 5, 1, 2, 3, 4, 5, 6, 1, 2, 3, 5, 2, 3, 6, 1, 5, 1, 1, 6, 2, 3, 4, 1, 2, 3, 4, 5, 6, 3, 4, 6, 6, 2, 4, 5, 1, 2, 5, 1, 2, 3, 4, 1, 5, 6, 1, 2, 5, 6, 4, 5, 6, 1, 3, 4, 5, 6, 1, 3, 5, 3, 4, 6, 1, 2, 3, 4, 5, 6, 1, 3, 6, 1, 2, 3, 5, 6, 1, 4, 5, 1, 2, 4, 5, 3, 5, 1, 3, 2, 3, 4, 5, 6, 4, 6, 2, 6, 1, 4, 6, 2, 3, 4, 5, 2, 3, 4, 5, 1, 4, 6, 1, 3, 5, 2, 6, 5, 1, 2, 3, 4, 5, 6, 3, 5, 6, 1, 4, 1, 2, 3, 4, 5, 6, 1, 3, 4, 5, 2, 3, 5, 6, 1, 4, 3, 4, 5, 1, 2, 5, 3, 6, 1, 3, 5, 1, 2, 3, 4, 5, 6, 1, 4, 5, 1, 2, 3, 4, 5, 6, 2, 6, 1, 2, 3, 4, 5, 6, 1, 2, 3, 4, 5, 6, 2, 2, 3, 4, 5, 6, 1, 4, 6, 1, 2, 3, 5, 6, 1, 2, 3, 4, 5, 6, 1, 2, 3, 4, 5, 6, 1, 3, 5, 1, 2, 3, 4, 5, 6, 1, 3, 4, 5, 1, 2, 3, 5, 1, 2, 4, 5, 6, 3, 1, 2, 3, 4, 5, 6, 3, 5, 1, 2, 4, 5, 6, 1, 2, 3, 6, 1, 3, 4, 5, 2, 4, 1, 3, 6, 1, 3, 4, 5, 1, 4, 5, 2, 6, 1, 2, 3, 4, 5, 6, 1, 3, 4, 5, 6, 1, 2, 4, 6, 2, 3, 5, 1, 2, 3, 5, 1, 2, 3, 4, 5, 6, 2, 3, 4, 1, 2, 3, 4, 5, 6, 3, 6, 1, 2, 3, 4, 5, 6, 1, 4, 2, 3, 4, 5, 6, 4, 5, 1, 2, 3, 4, 5, 6, 1, 2, 3, 4, 5, 6, 1, 4, 5, 1, 2, 4, 5, 6, 1, 2, 3, 4, 5, 6, 1, 4, 5, 1, 2, 1, 4, 5, 6, 1, 4, 6, 1, 5, 6, 1, 5, 1, 3, 4, 5, 3, 5, 1, 3, 4, 5, 1, 5, 1, 3, 6, 1, 2, 3, 4, 5, 6, 3, 4, 1, 2, 5, 2, 6, 1, 2, 3, 4, 5, 6, 1, 2, 3, 4, 5, 6, 5, 6, 1, 2, 3, 4, 5, 6, 1, 2, 3, 5, 2, 5, 3, 2, 3, 4, 4, 6, 2, 3, 5, 1, 2, 3, 5, 6, 1, 3, 2, 3, 4, 1, 2, 3, 4, 5, 6, 2, 3, 4, 5, 6, 1, 2, 4, 1, 2, 6, 1, 4, 5, 1, 2, 1, 2, 3, 4, 5, 6, 1, 2, 3, 4, 5, 3, 2, 1, 3, 5, 6, 2, 3, 4, 5, 6, 6, 1, 2, 4, 5, 6, 1, 2, 3, 4, 5, 6, 1, 2, 3, 4, 6, 1, 2, 3, 4, 5, 6, 1, 2, 3, 4, 5, 6, 6, 1, 2, 3, 4, 5, 6, 1, 2, 3, 4, 5, 6, 1, 3, 5, 6, 1, 4, 1, 2, 3, 4, 5, 6, 1, 2, 6, 1, 2, 3, 4, 5, 6, 2, 3, 5, 1, 2, 4, 5, 6, 3, 4, 5, 3, 5, 1, 2, 3, 4, 5, 6, 1, 2, 3, 4, 5, 6, 2, 5, 3, 6, 1, 1, 3, 5, 1, 3, 4, 5, 6, 1, 2, 1, 2, 3, 6, 1, 2, 3, 1, 2, 3, 4, 5, 1, 2, 4, 5, 6, 2, 3, 5, 1, 4, 1, 2, 3, 5, 6, 1, 2, 3, 4, 5, 6, 1, 2, 3, 4, 6, 1, 6, 6, 1, 2, 3, 4, 5, 6, 1, 2, 5, 1, 2, 3, 4, 5, 6, 2, 6, 2, 3, 1, 2, 3, 5, 6, 2, 3, 5, 6, 1, 3, 4, 5, 1, 3, 6, 3, 4, 5, 1, 2, 3, 4, 5, 1, 2, 3, 5, 6, 1, 5, 2, 4, 5, 2, 3, 5, 1, 2, 3, 4, 5, 6, 1, 2, 3, 4, 5, 6, 1, 2, 3, 4, 5, 6, 1, 4, 5, 2, 3, 6, 1, 2, 3, 4, 5, 6, 1, 3, 4, 1, 6, 3, 5, 6, 2, 3, 5, 6, 2, 3, 5, 6, 6, 1, 6, 1, 5, 1, 2, 3, 4, 5, 6, 1, 2, 3, 4, 5, 1, 5, 6, 1, 2, 3, 4, 5, 6, 1, 5, 1, 2, 3, 4, 5, 6, 4, 6, 3, 5, 1, 2, 3, 4, 5, 6, 1, 4, 5, 3, 6, 6, 2, 3, 5, 1, 2, 3, 4, 5, 6, 3, 5, 1, 2, 5, 6, 1, 5, 1, 2, 3, 4, 2, 3, 4, 5, 1, 5, 2, 6, 3, 4, 5, 1, 2, 5, 1, 2, 3, 4, 5, 6, 3, 4, 1, 2, 4, 5, 1, 4, 1, 2, 3, 4, 5, 6, 1, 2, 3, 4, 5, 6, 4, 5, 2, 3, 5, 6, 1, 2, 3, 4, 5, 6, 1, 3, 5, 3, 4, 5, 6, 1, 4, 5, 2, 1, 2, 3, 4, 5, 6, 1, 6, 1, 4, 5, 2, 6], \"Freq\": [0.5322524665239244, 0.1330631166309811, 0.1330631166309811, 0.1330631166309811, 0.17083343553254077, 0.6833337421301631, 0.639064397331, 0.21302146577699999, 0.10651073288849999, 0.2659705100481922, 0.2659705100481922, 0.3324631375602403, 0.06649262751204806, 0.1739101111529311, 0.2134351364149609, 0.18181511620533705, 0.01581001010481192, 0.20553013136255494, 0.20553013136255494, 0.08945284708241617, 0.17890569416483235, 0.7156227766593294, 0.48049767622771183, 0.48049767622771183, 0.09421898587427464, 0.1319065802239845, 0.09421898587427464, 0.037687594349709856, 0.20728176892340422, 0.43340733502166334, 0.039781676303825786, 0.9348693931399059, 0.012529015116614202, 0.2631093174488982, 0.07517409069968521, 0.006264507558307101, 0.018793522674921303, 0.620186248272403, 0.6818161018814818, 0.2727264407525927, 0.6681620798522727, 0.2672648319409091, 0.13363241597045455, 0.8897137199452441, 0.0889713719945244, 0.49602644317830064, 0.42516552272425767, 0.027426308801385503, 0.19198416160969853, 0.3702551688187043, 0.013713154400692752, 0.09599208080484926, 0.30168939681524054, 0.022157752681261977, 0.0997098870656789, 0.28805078485640573, 0.0886310107250479, 0.28805078485640573, 0.2104986504719888, 0.057830992647452666, 0.07710799019660355, 0.22168547181523524, 0.08674648897117901, 0.11566198529490533, 0.433732444855895, 0.1478584546838556, 0.7392922734192781, 0.18724251751844465, 0.4993133800491857, 0.31207086253074107, 0.15313859863388268, 0.15313859863388268, 0.15313859863388268, 0.4594157959016481, 0.5385039517471121, 0.3590026344980747, 0.10402308449982692, 0.17337180749971154, 0.1849299279996923, 0.3467436149994231, 0.12713932549978846, 0.057790602499903844, 0.5893558838553694, 0.19645196128512316, 0.1309679741900821, 0.24965213317485482, 0.19091045478077132, 0.05874167839408349, 0.11748335678816697, 0.2937083919704174, 0.08811251759112523, 0.06799390386578806, 0.7479329425236687, 0.06799390386578806, 0.06799390386578806, 0.20958785645077152, 0.3667787487888502, 0.10479392822538576, 0.2619848205634644, 0.09323718774913431, 0.18647437549826862, 0.7458975019930745, 0.9032296992589871, 0.1737466553801678, 0.6949866215206713, 0.23442327275869934, 0.4688465455173987, 0.23442327275869934, 0.2899007486950453, 0.17179303626373055, 0.536853238324158, 0.2544674476626552, 0.6361686191566381, 0.1272337238313276, 0.8167576687492178, 0.25693264773144336, 0.5995095113733678, 0.08564421591048113, 0.21639712568083702, 0.5193531016340088, 0.1298382754085022, 0.0432794251361674, 0.0865588502723348, 0.05907026256778677, 0.26581618155504044, 0.08860539385168015, 0.05907026256778677, 0.3544215754067206, 0.1772107877033603, 0.10318248412278067, 0.20636496824556133, 0.6190949047366839, 0.13035712078138362, 0.13035712078138362, 0.6517856039069181, 0.00840894293418182, 0.19340568748618184, 0.28590405976218186, 0.07568048640763637, 0.042044714670909096, 0.4036292608407273, 0.05501379147007272, 0.7151792891109454, 0.16504137441021818, 0.08252068720510909, 0.1445460316959707, 0.7227301584798534, 0.1445460316959707, 0.15935929860024026, 0.7967964930012013, 0.8899506860891135, 0.7042289667712883, 0.17605724169282208, 0.07832713010278766, 0.7832713010278766, 0.07832713010278766, 0.3579789330067073, 0.10227969514477352, 0.07670977135858013, 0.02556992378619338, 0.30683908543432054, 0.12784961893096689, 0.1503650598356241, 0.4510951795068723, 0.3007301196712482, 0.9211850656976426, 0.29645022356242123, 0.4940837059373687, 0.09881674118747374, 0.23877437730507825, 0.4775487546101565, 0.11938718865253913, 0.10268291269034076, 0.10268291269034076, 0.667438932487215, 0.10268291269034076, 0.6140695835944421, 0.08772422622777744, 0.26317267868333233, 0.04483697601378528, 0.6725546402067791, 0.13451092804135584, 0.13451092804135584, 0.1150398505204642, 0.8052789536432493, 0.07669323368030946, 0.3093388417441255, 0.05624342577165919, 0.028121712885829594, 0.5061908319449326, 0.11248685154331838, 0.2256230976662108, 0.6768692929986324, 0.1128115488331054, 0.17543425309932517, 0.35086850619865034, 0.35086850619865034, 0.047406447975292705, 0.05925805996911589, 0.023703223987646353, 0.16592256791352447, 0.43850964377145757, 0.27258707585793307, 0.6714346003691124, 0.09591922862415891, 0.09591922862415891, 0.8739990521067682, 0.02670334599264998, 0.34714349790444976, 0.08011003797794994, 0.5607702658456496, 0.607968430149194, 0.1519921075372985, 0.1519921075372985, 0.0622011498174116, 0.7464137978089392, 0.0933017247261174, 0.0622011498174116, 0.5781378569635166, 0.2890689284817583, 0.52263644839867, 0.261318224199335, 0.058788655314056554, 0.3527319318843393, 0.529097897826509, 0.029394327657028277, 0.058788655314056554, 0.5324057306325666, 0.35493715375504437, 0.12913767283630556, 0.7748260370178335, 0.2673841815531784, 0.4010762723297676, 0.2673841815531784, 0.5328369907513747, 0.14208986420036657, 0.07104493210018328, 0.21313479630054988, 0.2031478116370473, 0.24377737396445676, 0.2844069362918662, 0.24377737396445676, 0.26882555360251503, 0.5376511072050301, 0.13441277680125752, 0.6566928954988188, 0.13133857909976376, 0.13133857909976376, 0.1479025894857788, 0.7395129474288941, 0.8587003927810405, 0.026353799558681303, 0.09882674834505488, 0.3953069933802195, 0.019765349669010977, 0.10541519823472521, 0.3623647439318679, 0.051236253552639235, 0.66607129618431, 0.25618126776319616, 0.46313990829546103, 0.46313990829546103, 0.20128063942445884, 0.03354677323740981, 0.12580039964028678, 0.10064031971222942, 0.3857878922302128, 0.1593471728776966, 0.450656849923608, 0.150218949974536, 0.150218949974536, 0.150218949974536, 0.8697926882090105, 0.019768015641113874, 0.03953603128222775, 0.059304046923341625, 0.4059582266858983, 0.5412776355811977, 0.0799441035995116, 0.1598882071990232, 0.7194969323956043, 0.22994224864777402, 0.5365319135114727, 0.22994224864777402, 0.2139768061598875, 0.7489188215596063, 0.17873094392380873, 0.7149237756952349, 0.05957698130793625, 0.029322675570969382, 0.2443556297580782, 0.22480717937743194, 0.009774225190323128, 0.04887112595161564, 0.43984013356454077, 0.612727544364016, 0.05570250403309236, 0.306363772182008, 0.17733945075352137, 0.1662557350814263, 0.1163790145569984, 0.08312786754071315, 0.32696961232680505, 0.13300458806514104, 0.608268115498472, 0.304134057749236, 0.3133115288741792, 0.08544859878386704, 0.2278629300903121, 0.028482866261289014, 0.12817289817580058, 0.21362149695966762, 0.11388824006456033, 0.07592549337637355, 0.13286961340865372, 0.1708323600968405, 0.24675785347321405, 0.24675785347321405, 0.9328170626705753, 0.14286259484854344, 0.10924786664888617, 0.15126627689845776, 0.10924786664888617, 0.47900987684511626, 0.4797904055494198, 0.4797904055494198, 0.896139402886693, 0.24410065276768694, 0.4068344212794782, 0.26444237383166086, 0.040683442127947826, 0.040683442127947826, 0.014896091407282465, 0.15640895977646588, 0.37985033088570286, 0.044688274221847395, 0.06703241133277109, 0.32771401096021424, 0.08589249816442093, 0.13497392568694716, 0.3558403495383153, 0.04908142752252624, 0.18405535320947342, 0.18405535320947342, 0.1269256972574012, 0.5711656376583053, 0.317314243143503, 0.04535380159371574, 0.19955672701234925, 0.27212280956229445, 0.036283041274972595, 0.09977836350617462, 0.3537596524309828, 0.057618247119273665, 0.057618247119273665, 0.11523649423854733, 0.6914189654312839, 0.3730463033403643, 0.46630787917545535, 0.09326157583509108, 0.04663078791754554, 0.23934231724853589, 0.017095879803466846, 0.08547939901733424, 0.5812599133178729, 0.10257527882080109, 0.900395552801421, 0.3883152583531013, 0.1617980243137922, 0.03235960486275844, 0.19415762917655066, 0.19415762917655066, 0.8783548038048058, 0.1707006442937207, 0.6828025771748828, 0.28766138086790266, 0.03595767260848783, 0.03595767260848783, 0.6112804343442931, 0.03595767260848783, 0.030059594125110615, 0.24047675300088492, 0.6613110707524336, 0.06011918825022123, 0.25992860492917963, 0.04725974635075993, 0.04725974635075993, 0.649821512322949, 0.8177161058956776, 0.13628601764927958, 0.21288779509162192, 0.14192519672774795, 0.6386633852748658, 0.23332590223592617, 0.021211445657811467, 0.042422891315622935, 0.6999777067077785, 0.11486701697803633, 0.03828900565934545, 0.8423581245055998, 0.8119125308164667, 0.18042500684810373, 0.04756885056414436, 0.09513770112828872, 0.1427065516924331, 0.2378442528207218, 0.33298195394901053, 0.16649097697450527, 0.1329532683286054, 0.09971495124645406, 0.03323831708215135, 0.565051390396573, 0.16619158541075676, 0.05750155062582685, 0.05750155062582685, 0.05750155062582685, 0.747520158135749, 0.14732896854173455, 0.14732896854173455, 0.6629803584378056, 0.0899210361152802, 0.06744077708646015, 0.7643288069798817, 0.06744077708646015, 0.9338420070049085, 0.2870856955923109, 0.2870856955923109, 0.04221848464592807, 0.025331090787556843, 0.3546352710257958, 0.08729550320649417, 0.48012526763571794, 0.39282976442922374, 0.1216897727984313, 0.21019142574274496, 0.19912871912470576, 0.09403300625333327, 0.10509571287137248, 0.2765676654509802, 0.0850348068929129, 0.8503480689291291, 0.06468649596355146, 0.11859190926651102, 0.15093515724828674, 0.04312433064236764, 0.35577572779953304, 0.25874598385420583, 0.36066120187243833, 0.5409918028086576, 0.33896886827443434, 0.1858861535698511, 0.08747583697404758, 0.207755112813363, 0.17495167394809516, 0.13019923346757067, 0.781195400805424, 0.06981526780459485, 0.10472290170689227, 0.19780992544635206, 0.08145114577202732, 0.2676251932509469, 0.2676251932509469, 0.007649837682373793, 0.16064659132984965, 0.15299675364747586, 0.030599350729495173, 0.07649837682373793, 0.5737378261780345, 0.43266963708237044, 0.10095624865255311, 0.46151427955452845, 0.4935963510166082, 0.07051376443094404, 0.07051376443094404, 0.28205505772377615, 0.07051376443094404, 0.17538332517619515, 0.15474999280252513, 0.17538332517619515, 0.061899997121010054, 0.17538332517619515, 0.26823332085771023, 0.3990577619544083, 0.108833935078475, 0.47161371867339164, 0.15462013684732878, 0.6184805473893151, 0.06874131404861138, 0.06874131404861138, 0.7561544545347251, 0.13748262809722275, 0.6075395966967693, 0.15188489917419232, 0.15188489917419232, 0.07890324304185685, 0.07890324304185685, 0.7890324304185685, 0.7968333491750595, 0.13280555819584325, 0.23033993830622781, 0.057584984576556954, 0.057584984576556954, 0.6334348303421266, 0.5821996815500475, 0.388133121033365, 0.16679445172023472, 0.19459352700694052, 0.36138797872717526, 0.2779907528670579, 0.17272769827396417, 0.7772746422328388, 0.16980124121847295, 0.6792049648738918, 0.16980124121847295, 0.06716374837627832, 0.14179013546103203, 0.28358027092206406, 0.01492527741695074, 0.20895388383731037, 0.2761176322135887, 0.762075354073478, 0.12701255901224634, 0.15314309645634677, 0.6125723858253871, 0.15314309645634677, 0.25989416362600865, 0.6930511030026897, 0.09943227669374075, 0.23615165714763428, 0.16157744962732873, 0.03728710376015278, 0.32315489925465746, 0.14914841504061113, 0.02999189437451471, 0.4348824684304633, 0.07497973593628678, 0.1349635246853162, 0.14995947187257355, 0.17995136624708827, 0.23631491230955323, 0.7089447369286597, 0.00917577004082197, 0.13763655061232957, 0.14681232065315153, 0.11010924048986366, 0.0642303902857538, 0.5413704324084964, 0.06336729235082914, 0.06336729235082914, 0.7604075082099496, 0.06336729235082914, 0.5925240087394417, 0.35551440524366495, 0.876591422410746, 0.529472339245829, 0.3529815594972194, 0.08824538987430484, 0.773679499775452, 0.23210384993263564, 0.07731253441767881, 0.8504378785944668, 0.07731253441767881, 0.32684022523894135, 0.01922589560229067, 0.07690358240916267, 0.24993664282977868, 0.32684022523894135, 0.30770493481905375, 0.6154098696381075, 0.11865742178333821, 0.23731484356667643, 0.47462968713335285, 0.03272563616268259, 0.4581589062775563, 0.03272563616268259, 0.010908545387560864, 0.06545127232536518, 0.3927076339521911, 0.05270954499816865, 0.2635477249908433, 0.4216763599853492, 0.15812863499450594, 0.1054190899963373, 0.27143385660828084, 0.6785846415207022, 0.13571692830414042, 0.5320675993655393, 0.22169483306897472, 0.22169483306897472, 0.16442543432456225, 0.10961695621637484, 0.7125102154064364, 0.3934736090977577, 0.5902104136466365, 0.00746188692120157, 0.1716233991876361, 0.48502264987810206, 0.00746188692120157, 0.05223320844841099, 0.2760898160844581, 0.04119767880645694, 0.3707791092581124, 0.20598839403228467, 0.2883837516451985, 0.04119767880645694, 0.860472223143426, 0.8933213834453342, 0.596602969496804, 0.298301484748402, 0.7347627208965456, 0.2939050883586182, 0.10631614576724319, 0.34396400101166913, 0.06253890927484893, 0.06253890927484893, 0.41901069214148784, 0.878419243389751, 0.0862935592497049, 0.04314677962485245, 0.0862935592497049, 0.1725871184994098, 0.6040549147479343, 0.09328713264223894, 0.23321783160559734, 0.31717625098361235, 0.11194455917068671, 0.12127327243491061, 0.12127327243491061, 0.42658123356627825, 0.0568774978088371, 0.25594874013976693, 0.1706324934265113, 0.1137549956176742, 0.18453835400126348, 0.18453835400126348, 0.023067294250157935, 0.34600941375236904, 0.24220658962665834, 0.023067294250157935, 0.12451269064566264, 0.06225634532283132, 0.4980507625826506, 0.09338451798424699, 0.12451269064566264, 0.09338451798424699, 0.8782773252452608, 0.11535743599592545, 0.24032799165817803, 0.16342303432756106, 0.20187551299286954, 0.1441967949949068, 0.1345836753285797, 0.0640011998919719, 0.28160527952467634, 0.2304043196110988, 0.1152021598055494, 0.21760407963270442, 0.08960167984876065, 0.21814956371119434, 0.654448691133583, 0.07271652123706478, 0.9575534298047328, 0.49164138518257255, 0.49164138518257255, 0.030131672172825304, 0.06026334434565061, 0.16070225158840162, 0.13057057941557632, 0.28122894027970285, 0.34149228462535347, 0.2782282748937771, 0.5167096533741574, 0.19873448206698363, 0.0828033561396694, 0.09936402736760327, 0.2898117464888429, 0.11592469859553715, 0.1490460410514049, 0.26497073964694207, 0.2360862478145454, 0.6295633275054544, 0.0786954159381818, 0.033317438118249054, 0.033317438118249054, 0.06663487623649811, 0.13326975247299622, 0.6996662004832301, 0.4316731647346756, 0.4316731647346756, 0.12333518992419303, 0.1464467037636283, 0.7322335188181416, 0.32609109467026487, 0.0741116124250602, 0.32609109467026487, 0.02964464497002408, 0.20751251479016855, 0.02964464497002408, 0.019255374423160304, 0.17329836980844274, 0.03851074884632061, 0.05776612326948091, 0.2503198675010839, 0.4621289861558473, 0.5745366081615245, 0.4103832915439461, 0.5766217968928111, 0.28831089844640556, 0.8902244610850529, 0.59970537517097, 0.1499263437927425, 0.1499263437927425, 0.03763310428211959, 0.11289931284635878, 0.37633104282119595, 0.22579862569271755, 0.18816552141059797, 0.6832884806783978, 0.19522528019382793, 0.21709375056718905, 0.6512812517015671, 0.036444459033233775, 0.9475559348640781, 0.7240111241816748, 0.06581919310742498, 0.19745757932227495, 0.18279792634545475, 0.10445595791168844, 0.05222797895584422, 0.05222797895584422, 0.6267357474701306, 0.18693447283078204, 0.5140698002846507, 0.04673361820769551, 0.18693447283078204, 0.04673361820769551, 0.1456486736643147, 0.7282433683215735, 0.1456486736643147, 0.71453695546221, 0.1786342388655525, 0.012965638475322689, 0.15558766170387228, 0.35007223883371263, 0.07779383085193614, 0.41490043121032605, 0.3125756396090551, 0.13892250649291338, 0.27784501298582676, 0.034730626623228344, 0.017365313311614172, 0.2083837597393701, 0.020408102444286036, 0.2959174854421475, 0.1632648195542883, 0.010204051222143018, 0.4999985098850078, 0.22924469845553921, 0.6877340953666177, 0.8962029854321569, 0.025509665606809135, 0.5612126433498009, 0.05101933121361827, 0.10203866242723654, 0.05101933121361827, 0.2295869904612822, 0.6192418458022324, 0.08846312082889034, 0.265389362486671, 0.05479499362736463, 0.347034959639976, 0.3835649553915524, 0.01826499787578821, 0.03652999575157642, 0.1826499787578821, 0.45735794569564825, 0.30490529713043213, 0.17015119214315272, 0.6806047685726109, 0.02090597388524995, 0.1254358433114997, 0.31358960827874927, 0.2613246735656244, 0.28223064745087434, 0.2935283056886419, 0.1067375657049607, 0.026684391426240173, 0.5870566113772838, 0.1581503427364253, 0.5535261995774886, 0.1581503427364253, 0.07907517136821265, 0.12819936732481504, 0.12819936732481504, 0.7691962039488902, 0.6771195562629719, 0.112853259377162, 0.112853259377162, 0.07340842722196933, 0.22022528166590802, 0.07340842722196933, 0.2936337088878773, 0.36704213610984665, 0.11804327396447754, 0.05902163698223877, 0.014755409245559693, 0.3541298218934326, 0.4574176866123505, 0.159380644651072, 0.79690322325536, 0.06923023512199328, 0.06923023512199328, 0.8307628214639193, 0.1356145651033824, 0.6780728255169121, 0.2034218476550736, 0.12641538413728706, 0.01805934059104101, 0.4514835147760253, 0.1444747247283281, 0.10835604354624606, 0.1625340653193691, 0.10580938576263588, 0.10580938576263588, 0.21161877152527175, 0.3526979525421196, 0.07053959050842391, 0.14107918101684783, 0.26313156458505854, 0.0037860656774828566, 0.05489795232350142, 0.03786065677482857, 0.6379520666558613, 0.0037860656774828566, 0.33188364123573827, 0.031607965831975074, 0.6321593166395015, 0.09007927207110723, 0.2702378162133217, 0.6305549044977506, 0.2004599597699022, 0.04625999071613127, 0.10793997833763964, 0.1850399628645251, 0.4471799102559357, 0.030839993810754182, 0.1135929321821189, 0.6815575930927135, 0.1135929321821189, 0.7036914254361283, 0.17592285635903207, 0.5606252861347383, 0.056062528613473835, 0.336375171680843, 0.3296090534697505, 0.08240226336743763, 0.02746742112247921, 0.5493484224495843, 0.03847206726536025, 0.4488407847625363, 0.10259217937429402, 0.3975446950753893, 0.8782743120018838, 0.10297553121442202, 0.8238042497153761, 0.11504107536144421, 0.8052875275301095, 0.16720574419230938, 0.06688229767692375, 0.20064689303077127, 0.08360287209615469, 0.36785263722308065, 0.1337645953538475, 0.2119827811622763, 0.011776821175682017, 0.04710728470272807, 0.023553642351364035, 0.706609270540921, 0.1474158085578432, 0.1474158085578432, 0.737079042789216, 0.2894158762930957, 0.1335765582891211, 0.22262759714853514, 0.06678827914456055, 0.11131379857426757, 0.1558393180039746, 0.08602567005743735, 0.8602567005743734, 0.1721270953762833, 0.06885083815051332, 0.18589726300638595, 0.09639117341071865, 0.3442541907525666, 0.1308165924859753, 0.5320767475328206, 0.3547178316885471, 0.6722531175306607, 0.1680632793826652, 0.4091105726754218, 0.05844436752506025, 0.029222183762530125, 0.05844436752506025, 0.3798883889128916, 0.029222183762530125, 0.20831761955805092, 0.10415880977902546, 0.6770322635636654, 0.17016414645759462, 0.6806565858303785, 0.854698153478115, 0.08426058845587106, 0.6740847076469685, 0.16852117691174212, 0.11509783264880152, 0.2813502575859593, 0.23019566529760305, 0.07673188843253435, 0.23019566529760305, 0.07673188843253435, 0.17055783686423434, 0.7675102658890545, 0.14787033936849805, 0.07393516968424903, 0.07393516968424903, 0.6654165271582413, 0.707674547684948, 0.11794575794749133, 0.14774648226850745, 0.24624413711417906, 0.09849765484567162, 0.4924882742283581, 0.07641695138554508, 0.5349186596988156, 0.22925085415663524, 0.15283390277109016, 0.1940574276455487, 0.8085726151897863, 0.0512227302880891, 0.9220091451856038, 0.1778516633203968, 0.6224808216213888, 0.1778516633203968, 0.6655524026556955, 0.1331104805311391, 0.1331104805311391, 0.24148521541217965, 0.054883003502768105, 0.3402746217171622, 0.04390640280221448, 0.13171920840664345, 0.19757881260996518, 0.30171351142255143, 0.45257026713382714, 0.08296733518884661, 0.041483667594423304, 0.041483667594423304, 0.8296733518884661, 0.35934839803672225, 0.5390225970550834, 0.1700721372570266, 0.07653246176566197, 0.29762624019979655, 0.01700721372570266, 0.1445613166684726, 0.29762624019979655, 0.2050367984469284, 0.09712269400117661, 0.18345397755777806, 0.1510797462240525, 0.1618711566686277, 0.19424538800235322, 0.6478982408077933, 0.21596608026926445, 0.20282025896426298, 0.32451241434282074, 0.04056405179285259, 0.432683219123761, 0.0716597703868804, 0.09554636051584053, 0.13137624570928072, 0.1074896555803206, 0.38218544206336214, 0.20303601609616112, 0.47993598877151716, 0.3199573258476781, 0.15997866292383905, 0.14579724021333557, 0.6317880409244542, 0.14579724021333557, 0.09719816014222371, 0.3836480434924258, 0.0348770948629478, 0.5580335178071648, 0.9239830881135719, 0.04719766401063524, 0.05394018744072599, 0.2225032731929947, 0.12136542174163348, 0.0674252343009075, 0.47871916353644317, 0.6008700236738269, 0.30043501183691346, 0.17309993757147202, 0.05769997919049068, 0.7500997294763788, 0.7165718645027428, 0.1791429661256857], \"Term\": [\"abil\", \"abil\", \"abil\", \"abil\", \"adapt\", \"adapt\", \"advertis\", \"advertis\", \"advertis\", \"alreadi\", \"alreadi\", \"alreadi\", \"alreadi\", \"also\", \"also\", \"also\", \"also\", \"also\", \"also\", \"amaz\", \"amaz\", \"amaz\", \"avail\", \"avail\", \"back\", \"back\", \"back\", \"back\", \"back\", \"back\", \"bag\", \"bag\", \"ball\", \"ball\", \"ball\", \"ball\", \"ball\", \"ball\", \"bare\", \"bare\", \"bat\", \"bat\", \"bat\", \"beat\", \"beat\", \"begin\", \"begin\", \"beginn\", \"beginn\", \"beginn\", \"beginn\", \"beginn\", \"beginn\", \"better\", \"better\", \"better\", \"better\", \"better\", \"better\", \"bought\", \"bought\", \"bought\", \"bought\", \"bought\", \"bought\", \"bounc\", \"bounc\", \"box\", \"box\", \"box\", \"build\", \"build\", \"build\", \"build\", \"busi\", \"busi\", \"buy\", \"buy\", \"buy\", \"buy\", \"buy\", \"buy\", \"call\", \"call\", \"call\", \"came\", \"came\", \"came\", \"came\", \"came\", \"came\", \"carri\", \"carri\", \"carri\", \"carri\", \"case\", \"case\", \"case\", \"case\", \"center\", \"center\", \"center\", \"chanc\", \"charg\", \"charg\", \"cheaper\", \"cheaper\", \"cheaper\", \"clamp\", \"clamp\", \"clamp\", \"clear\", \"clear\", \"clear\", \"cloth\", \"coach\", \"coach\", \"coach\", \"color\", \"color\", \"color\", \"color\", \"color\", \"come\", \"come\", \"come\", \"come\", \"come\", \"come\", \"competit\", \"competit\", \"competit\", \"concern\", \"concern\", \"concern\", \"control\", \"control\", \"control\", \"control\", \"control\", \"control\", \"cover\", \"cover\", \"cover\", \"cover\", \"creat\", \"creat\", \"creat\", \"cross\", \"cross\", \"custom\", \"damag\", \"damag\", \"dampen\", \"dampen\", \"dampen\", \"day\", \"day\", \"day\", \"day\", \"day\", \"day\", \"decad\", \"decad\", \"decad\", \"deliv\", \"deliveri\", \"deliveri\", \"deliveri\", \"describ\", \"describ\", \"describ\", \"design\", \"design\", \"design\", \"design\", \"direct\", \"direct\", \"direct\", \"disappoint\", \"disappoint\", \"disappoint\", \"disappoint\", \"done\", \"done\", \"done\", \"drop\", \"drop\", \"drop\", \"drop\", \"drop\", \"earli\", \"earli\", \"earli\", \"eas\", \"eas\", \"eas\", \"easi\", \"easi\", \"easi\", \"easi\", \"easi\", \"easi\", \"easier\", \"easier\", \"easier\", \"either\", \"elbow\", \"elbow\", \"elbow\", \"elbow\", \"electr\", \"electr\", \"electr\", \"enough\", \"enough\", \"enough\", \"enough\", \"entir\", \"entir\", \"equip\", \"equip\", \"excel\", \"excel\", \"excel\", \"excel\", \"excel\", \"excess\", \"excess\", \"excit\", \"excit\", \"express\", \"express\", \"express\", \"extra\", \"extra\", \"extra\", \"extra\", \"extrem\", \"extrem\", \"extrem\", \"extrem\", \"fact\", \"fact\", \"fact\", \"famili\", \"famili\", \"famili\", \"favor\", \"favor\", \"featur\", \"feel\", \"feel\", \"feel\", \"feel\", \"feel\", \"feel\", \"figur\", \"figur\", \"figur\", \"finger\", \"finger\", \"first\", \"first\", \"first\", \"first\", \"first\", \"first\", \"fish\", \"fish\", \"fish\", \"fish\", \"fit\", \"fit\", \"fit\", \"fit\", \"float\", \"float\", \"follow\", \"follow\", \"follow\", \"forc\", \"forc\", \"forc\", \"forehand\", \"forehand\", \"full\", \"full\", \"full\", \"game\", \"game\", \"game\", \"game\", \"game\", \"game\", \"gamma\", \"gamma\", \"gamma\", \"get\", \"get\", \"get\", \"get\", \"get\", \"get\", \"girl\", \"girl\", \"go\", \"go\", \"go\", \"go\", \"go\", \"go\", \"got\", \"got\", \"got\", \"got\", \"got\", \"got\", \"grandson\", \"grip\", \"grip\", \"grip\", \"grip\", \"grip\", \"gut\", \"gut\", \"hammer\", \"happi\", \"happi\", \"happi\", \"happi\", \"happi\", \"head\", \"head\", \"head\", \"head\", \"head\", \"head\", \"high\", \"high\", \"high\", \"high\", \"high\", \"high\", \"higher\", \"higher\", \"higher\", \"hit\", \"hit\", \"hit\", \"hit\", \"hit\", \"hit\", \"hole\", \"hole\", \"hole\", \"hole\", \"hope\", \"hope\", \"hope\", \"hope\", \"hour\", \"hour\", \"hour\", \"hour\", \"hour\", \"impact\", \"includ\", \"includ\", \"includ\", \"includ\", \"includ\", \"inflat\", \"inform\", \"inform\", \"instruct\", \"instruct\", \"instruct\", \"instruct\", \"instruct\", \"intermedi\", \"intermedi\", \"intermedi\", \"intermedi\", \"job\", \"job\", \"job\", \"job\", \"key\", \"key\", \"kid\", \"kid\", \"kid\", \"klipperm\", \"klipperm\", \"klipperm\", \"klipperm\", \"knot\", \"knot\", \"knot\", \"la\", \"la\", \"last\", \"last\", \"last\", \"last\", \"last\", \"last\", \"lbs\", \"lbs\", \"lbs\", \"lbs\", \"lbs\", \"leather\", \"leather\", \"leather\", \"leather\", \"length\", \"length\", \"length\", \"level\", \"level\", \"level\", \"level\", \"lifetim\", \"light\", \"light\", \"light\", \"light\", \"light\", \"lightweight\", \"lightweight\", \"lightweight\", \"like\", \"like\", \"like\", \"like\", \"like\", \"like\", \"liquidmet\", \"liquidmet\", \"littl\", \"littl\", \"littl\", \"littl\", \"littl\", \"littl\", \"logo\", \"logo\", \"look\", \"look\", \"look\", \"look\", \"look\", \"lose\", \"lose\", \"lot\", \"lot\", \"lot\", \"lot\", \"lot\", \"lot\", \"love\", \"love\", \"love\", \"love\", \"love\", \"love\", \"machin\", \"machin\", \"machin\", \"main\", \"main\", \"main\", \"main\", \"main\", \"make\", \"make\", \"make\", \"make\", \"make\", \"make\", \"manual\", \"manual\", \"manual\", \"materi\", \"materi\", \"mechan\", \"mechan\", \"mechan\", \"mechan\", \"mess\", \"mess\", \"mess\", \"mid\", \"mid\", \"mid\", \"mind\", \"mind\", \"minut\", \"minut\", \"minut\", \"minut\", \"model\", \"model\", \"money\", \"money\", \"money\", \"money\", \"mount\", \"mount\", \"mp\", \"mp\", \"mp\", \"much\", \"much\", \"much\", \"much\", \"much\", \"much\", \"n\", \"n\", \"natur\", \"natur\", \"natur\", \"near\", \"near\", \"need\", \"need\", \"need\", \"need\", \"need\", \"need\", \"nice\", \"nice\", \"nice\", \"nice\", \"nice\", \"nice\", \"often\", \"often\", \"old\", \"old\", \"old\", \"old\", \"old\", \"old\", \"older\", \"older\", \"older\", \"older\", \"option\", \"option\", \"ounc\", \"overs\", \"overs\", \"overs\", \"own\", \"own\", \"pace\", \"pace\", \"pace\", \"paddl\", \"paddl\", \"paddl\", \"paddl\", \"paddl\", \"paid\", \"paid\", \"pain\", \"pain\", \"pain\", \"perfect\", \"perfect\", \"perfect\", \"perfect\", \"perfect\", \"perfect\", \"perform\", \"perform\", \"perform\", \"perform\", \"perform\", \"phone\", \"phone\", \"phone\", \"pictur\", \"pictur\", \"pictur\", \"piec\", \"piec\", \"piec\", \"plan\", \"plan\", \"player\", \"player\", \"player\", \"player\", \"player\", \"player\", \"pleas\", \"pleas\", \"pleas\", \"pleas\", \"pleas\", \"pleasant\", \"pocket\", \"pong\", \"pong\", \"pound\", \"pound\", \"power\", \"power\", \"power\", \"power\", \"power\", \"precis\", \"prefer\", \"prefer\", \"prefer\", \"prefer\", \"prefer\", \"price\", \"price\", \"price\", \"price\", \"price\", \"price\", \"problem\", \"problem\", \"problem\", \"problem\", \"problem\", \"product\", \"product\", \"product\", \"product\", \"product\", \"product\", \"provid\", \"provid\", \"provid\", \"provid\", \"provid\", \"provid\", \"pump\", \"purchas\", \"purchas\", \"purchas\", \"purchas\", \"purchas\", \"purchas\", \"qualiti\", \"qualiti\", \"qualiti\", \"qualiti\", \"qualiti\", \"qualiti\", \"rang\", \"rang\", \"rang\", \"raquet\", \"rather\", \"rather\", \"realli\", \"realli\", \"realli\", \"realli\", \"realli\", \"realli\", \"receiv\", \"receiv\", \"receiv\", \"recommend\", \"recommend\", \"recommend\", \"recommend\", \"recommend\", \"recommend\", \"recreat\", \"recreat\", \"recreat\", \"replac\", \"replac\", \"replac\", \"replac\", \"replac\", \"restr\", \"restr\", \"restr\", \"restring\", \"restring\", \"review\", \"review\", \"review\", \"review\", \"review\", \"review\", \"right\", \"right\", \"right\", \"right\", \"right\", \"right\", \"room\", \"room\", \"sale\", \"sale\", \"saw\", \"season\", \"season\", \"season\", \"second\", \"second\", \"second\", \"second\", \"second\", \"seller\", \"seller\", \"separ\", \"separ\", \"serv\", \"serv\", \"servic\", \"servic\", \"servic\", \"set\", \"set\", \"set\", \"set\", \"set\", \"ship\", \"ship\", \"ship\", \"ship\", \"ship\", \"shock\", \"shock\", \"shock\", \"shoe\", \"shoe\", \"shot\", \"shot\", \"shot\", \"shot\", \"shot\", \"sinc\", \"sinc\", \"sinc\", \"sinc\", \"sinc\", \"sinc\", \"size\", \"size\", \"size\", \"size\", \"size\", \"skill\", \"skill\", \"slice\", \"small\", \"small\", \"small\", \"small\", \"small\", \"small\", \"smell\", \"smell\", \"smell\", \"son\", \"son\", \"son\", \"son\", \"son\", \"son\", \"sound\", \"sound\", \"spare\", \"spare\", \"spin\", \"spin\", \"spin\", \"spin\", \"spin\", \"spot\", \"spot\", \"spot\", \"spot\", \"sq\", \"sq\", \"sq\", \"sq\", \"stabil\", \"stabil\", \"stabil\", \"standard\", \"standard\", \"standard\", \"star\", \"star\", \"star\", \"star\", \"star\", \"start\", \"start\", \"start\", \"start\", \"start\", \"step\", \"step\", \"sticki\", \"sticki\", \"sticki\", \"stiff\", \"stiff\", \"stiff\", \"still\", \"still\", \"still\", \"still\", \"still\", \"still\", \"store\", \"store\", \"store\", \"store\", \"store\", \"store\", \"string\", \"string\", \"string\", \"string\", \"string\", \"string\", \"stringer\", \"stringer\", \"stringer\", \"stroke\", \"stroke\", \"stroke\", \"strung\", \"strung\", \"strung\", \"strung\", \"strung\", \"strung\", \"stuff\", \"stuff\", \"stuff\", \"success\", \"success\", \"surpris\", \"surpris\", \"surpris\", \"sweet\", \"sweet\", \"sweet\", \"sweet\", \"swing\", \"swing\", \"swing\", \"swing\", \"switch\", \"synthet\", \"synthet\", \"system\", \"system\", \"take\", \"take\", \"take\", \"take\", \"take\", \"take\", \"tension\", \"tension\", \"tension\", \"tension\", \"tension\", \"thick\", \"thick\", \"thick\", \"thing\", \"thing\", \"thing\", \"thing\", \"thing\", \"thing\", \"tie\", \"tie\", \"time\", \"time\", \"time\", \"time\", \"time\", \"time\", \"told\", \"told\", \"ton\", \"ton\", \"took\", \"took\", \"took\", \"took\", \"took\", \"took\", \"tool\", \"tool\", \"tool\", \"topspin\", \"topspin\", \"toy\", \"twice\", \"twice\", \"twice\", \"two\", \"two\", \"two\", \"two\", \"two\", \"two\", \"updat\", \"updat\", \"us\", \"us\", \"us\", \"us\", \"user\", \"user\", \"valu\", \"valu\", \"valu\", \"valu\", \"vibrat\", \"vibrat\", \"vibrat\", \"vibrat\", \"video\", \"video\", \"volley\", \"volley\", \"vs\", \"vs\", \"vs\", \"w\", \"w\", \"w\", \"want\", \"want\", \"want\", \"want\", \"want\", \"want\", \"wast\", \"wast\", \"watch\", \"watch\", \"watch\", \"watch\", \"weak\", \"weak\", \"weight\", \"weight\", \"weight\", \"weight\", \"weight\", \"weight\", \"well\", \"well\", \"well\", \"well\", \"well\", \"well\", \"whole\", \"whole\", \"wilson\", \"wilson\", \"wilson\", \"wilson\", \"work\", \"work\", \"work\", \"work\", \"work\", \"work\", \"worri\", \"worri\", \"worri\", \"wrap\", \"wrap\", \"wrap\", \"wrap\", \"x\", \"x\", \"x\", \"xc\", \"year\", \"year\", \"year\", \"year\", \"year\", \"year\", \"yellow\", \"yellow\", \"youtub\", \"youtub\", \"youtub\", \"yrs\", \"yrs\"]}, \"R\": 30, \"lambda.step\": 0.01, \"plot.opts\": {\"xlab\": \"PC1\", \"ylab\": \"PC2\"}, \"topic.order\": [1, 2, 3, 4, 5, 6]};\n",
              "\n",
              "function LDAvis_load_lib(url, callback){\n",
              "  var s = document.createElement('script');\n",
              "  s.src = url;\n",
              "  s.async = true;\n",
              "  s.onreadystatechange = s.onload = callback;\n",
              "  s.onerror = function(){console.warn(\"failed to load library \" + url);};\n",
              "  document.getElementsByTagName(\"head\")[0].appendChild(s);\n",
              "}\n",
              "\n",
              "if(typeof(LDAvis) !== \"undefined\"){\n",
              "   // already loaded: just create the visualization\n",
              "   !function(LDAvis){\n",
              "       new LDAvis(\"#\" + \"ldavis_el561398017377997444166198725\", ldavis_el561398017377997444166198725_data);\n",
              "   }(LDAvis);\n",
              "}else if(typeof define === \"function\" && define.amd){\n",
              "   // require.js is available: use it to load d3/LDAvis\n",
              "   require.config({paths: {d3: \"https://cdnjs.cloudflare.com/ajax/libs/d3/3.5.5/d3.min\"}});\n",
              "   require([\"d3\"], function(d3){\n",
              "      window.d3 = d3;\n",
              "      LDAvis_load_lib(\"https://cdn.rawgit.com/bmabey/pyLDAvis/files/ldavis.v1.0.0.js\", function(){\n",
              "        new LDAvis(\"#\" + \"ldavis_el561398017377997444166198725\", ldavis_el561398017377997444166198725_data);\n",
              "      });\n",
              "    });\n",
              "}else{\n",
              "    // require.js not available: dynamically load d3 & LDAvis\n",
              "    LDAvis_load_lib(\"https://cdnjs.cloudflare.com/ajax/libs/d3/3.5.5/d3.min.js\", function(){\n",
              "         LDAvis_load_lib(\"https://cdn.rawgit.com/bmabey/pyLDAvis/files/ldavis.v1.0.0.js\", function(){\n",
              "                 new LDAvis(\"#\" + \"ldavis_el561398017377997444166198725\", ldavis_el561398017377997444166198725_data);\n",
              "            })\n",
              "         });\n",
              "}\n",
              "</script>"
            ],
            "text/plain": [
              "<IPython.core.display.HTML object>"
            ]
          },
          "metadata": {
            "tags": []
          },
          "execution_count": 68
        }
      ]
    },
    {
      "cell_type": "markdown",
      "metadata": {
        "id": "qSHSwvLxWcDd"
      },
      "source": [
        "K = 3 seems to yield enough distance between topics and within topics.\r\n",
        "It seems most good review going into our model touched on these 3 topics:\r\n",
        "\r\n",
        "1 . String Tension ('0.070*\"string\" + 0.021*\"machin\" + 0.015*\"get\" + 0.014*\"clamp\" + 0.013*\"time\" + 0.012*\"job\" + 0.011*\"first\" + 0.010*\"tension\")\r\n",
        "\r\n",
        "2 . User Subjectivity and Experience ('0.020*\"ball\" + 0.018*\"love\" + 0.017*\"like\" + 0.017*\"old\" + 0.016*\"year\" + 0.016*\"perfect\" + 0.014*\"player\" + 0.012*\"size\" + 0.011*\"light\")\r\n",
        "\r\n",
        "3 . Power and Control (0.019*\"power\" + 0.014*\"grip\" + 0.014*\"feel\" + 0.013*\"head\" + 0.011*\"control\" + 0.011*\"spin\")"
      ]
    },
    {
      "cell_type": "markdown",
      "metadata": {
        "id": "iMefxxaHplUd"
      },
      "source": [
        "#Explore topics distribution prediction of sample reviews (1,2 from highly useful and 1,2 from not useful)"
      ]
    },
    {
      "cell_type": "code",
      "metadata": {
        "colab": {
          "base_uri": "https://localhost:8080/",
          "height": 1000
        },
        "id": "xuM-8EhKz0Ji",
        "outputId": "1377ab11-b987-498c-c44f-982a87c952ad"
      },
      "source": [
        "train_df.nlargest(20,'helpful_votes_scaled_2')"
      ],
      "execution_count": 70,
      "outputs": [
        {
          "output_type": "execute_result",
          "data": {
            "text/html": [
              "<div>\n",
              "<style scoped>\n",
              "    .dataframe tbody tr th:only-of-type {\n",
              "        vertical-align: middle;\n",
              "    }\n",
              "\n",
              "    .dataframe tbody tr th {\n",
              "        vertical-align: top;\n",
              "    }\n",
              "\n",
              "    .dataframe thead th {\n",
              "        text-align: right;\n",
              "    }\n",
              "</style>\n",
              "<table border=\"1\" class=\"dataframe\">\n",
              "  <thead>\n",
              "    <tr style=\"text-align: right;\">\n",
              "      <th></th>\n",
              "      <th>data/helpful_votes</th>\n",
              "      <th>data/product_id</th>\n",
              "      <th>data/product_parent</th>\n",
              "      <th>data/product_title</th>\n",
              "      <th>data/review_body</th>\n",
              "      <th>data/review_headline</th>\n",
              "      <th>data/review_id</th>\n",
              "      <th>data/star_rating</th>\n",
              "      <th>data/total_votes</th>\n",
              "      <th>count</th>\n",
              "      <th>sum</th>\n",
              "      <th>min</th>\n",
              "      <th>max</th>\n",
              "      <th>helpful_votes_scaled</th>\n",
              "      <th>helpful</th>\n",
              "      <th>helpful_votes_scaled_1</th>\n",
              "      <th>helpful_1</th>\n",
              "      <th>helpful_votes_scaled_2</th>\n",
              "      <th>helpful_2</th>\n",
              "    </tr>\n",
              "  </thead>\n",
              "  <tbody>\n",
              "    <tr>\n",
              "      <th>137</th>\n",
              "      <td>10</td>\n",
              "      <td>b'B000OQ74FE'</td>\n",
              "      <td>b'447336068'</td>\n",
              "      <td>b'HEAD Liquidmetal 4 Tennis Racquet (4-3/8), S...</td>\n",
              "      <td>I'm really impressed by the quality of this ra...</td>\n",
              "      <td>b'Liquidmetal 4 makes you play like the BIG 4'</td>\n",
              "      <td>b'R2EYR2BSLOHCF5'</td>\n",
              "      <td>5</td>\n",
              "      <td>10</td>\n",
              "      <td>22.0</td>\n",
              "      <td>38.0</td>\n",
              "      <td>0.0</td>\n",
              "      <td>10.0</td>\n",
              "      <td>0.263158</td>\n",
              "      <td>True</td>\n",
              "      <td>0.263158</td>\n",
              "      <td>True</td>\n",
              "      <td>1.0</td>\n",
              "      <td>True</td>\n",
              "    </tr>\n",
              "    <tr>\n",
              "      <th>239</th>\n",
              "      <td>89</td>\n",
              "      <td>b'B000OQ8OU8'</td>\n",
              "      <td>b'547332048'</td>\n",
              "      <td>b'HEAD Ti.S6 Tennis Racquet - Strung'</td>\n",
              "      <td>I was on my high school tennis team almost  ye...</td>\n",
              "      <td>b'Outstanding for returning recreational players'</td>\n",
              "      <td>b'R3DF8ED26I7Y24'</td>\n",
              "      <td>5</td>\n",
              "      <td>92</td>\n",
              "      <td>109.0</td>\n",
              "      <td>201.0</td>\n",
              "      <td>0.0</td>\n",
              "      <td>89.0</td>\n",
              "      <td>0.442786</td>\n",
              "      <td>True</td>\n",
              "      <td>0.442786</td>\n",
              "      <td>True</td>\n",
              "      <td>1.0</td>\n",
              "      <td>True</td>\n",
              "    </tr>\n",
              "    <tr>\n",
              "      <th>328</th>\n",
              "      <td>11</td>\n",
              "      <td>b'B001PN0A1U'</td>\n",
              "      <td>b'351197271'</td>\n",
              "      <td>b'Prince O3 Red MP+ Prestrung Tennis Racquet'</td>\n",
              "      <td>Just wanted to say how pleased I am with this ...</td>\n",
              "      <td>b'Terrific Stick'</td>\n",
              "      <td>b'R4VHJ9DMTMLMZ'</td>\n",
              "      <td>5</td>\n",
              "      <td>11</td>\n",
              "      <td>39.0</td>\n",
              "      <td>43.0</td>\n",
              "      <td>0.0</td>\n",
              "      <td>11.0</td>\n",
              "      <td>0.255814</td>\n",
              "      <td>True</td>\n",
              "      <td>0.255814</td>\n",
              "      <td>True</td>\n",
              "      <td>1.0</td>\n",
              "      <td>True</td>\n",
              "    </tr>\n",
              "    <tr>\n",
              "      <th>376</th>\n",
              "      <td>8</td>\n",
              "      <td>b'B000QX9SAE'</td>\n",
              "      <td>b'53048323'</td>\n",
              "      <td>b'Wilson Impact Tennis Racquet (Colors May Vary)'</td>\n",
              "      <td>I have used a few different racquets lately, a...</td>\n",
              "      <td>b\"It's a good racket!\"</td>\n",
              "      <td>b'R2OJBCIDIO6CZP'</td>\n",
              "      <td>3</td>\n",
              "      <td>8</td>\n",
              "      <td>26.0</td>\n",
              "      <td>29.0</td>\n",
              "      <td>0.0</td>\n",
              "      <td>8.0</td>\n",
              "      <td>0.275862</td>\n",
              "      <td>True</td>\n",
              "      <td>0.275862</td>\n",
              "      <td>True</td>\n",
              "      <td>1.0</td>\n",
              "      <td>True</td>\n",
              "    </tr>\n",
              "    <tr>\n",
              "      <th>379</th>\n",
              "      <td>5</td>\n",
              "      <td>b'B000V1O55Y'</td>\n",
              "      <td>b'179386855'</td>\n",
              "      <td>b'Head Intelligence I.S12 Tennis Racquet Racket'</td>\n",
              "      <td>The i.S  is a true lightweight, I like to swin...</td>\n",
              "      <td>b'Best Racquet in its range!'</td>\n",
              "      <td>b'R3CMGHQ2K5QQ9Z'</td>\n",
              "      <td>5</td>\n",
              "      <td>5</td>\n",
              "      <td>16.0</td>\n",
              "      <td>21.0</td>\n",
              "      <td>0.0</td>\n",
              "      <td>5.0</td>\n",
              "      <td>0.238095</td>\n",
              "      <td>True</td>\n",
              "      <td>0.238095</td>\n",
              "      <td>True</td>\n",
              "      <td>1.0</td>\n",
              "      <td>True</td>\n",
              "    </tr>\n",
              "    <tr>\n",
              "      <th>610</th>\n",
              "      <td>23</td>\n",
              "      <td>b'B000OQBPOK'</td>\n",
              "      <td>b'726880504'</td>\n",
              "      <td>b'HEAD Liquidmetal 4 Prestrung Tennis Racquets'</td>\n",
              "      <td>I first bought this racquet in  when it was to...</td>\n",
              "      <td>b'Great high school varsity racquet'</td>\n",
              "      <td>b'R1BOZ1PM7XYWOE'</td>\n",
              "      <td>5</td>\n",
              "      <td>28</td>\n",
              "      <td>22.0</td>\n",
              "      <td>52.0</td>\n",
              "      <td>0.0</td>\n",
              "      <td>23.0</td>\n",
              "      <td>0.442308</td>\n",
              "      <td>True</td>\n",
              "      <td>0.442308</td>\n",
              "      <td>True</td>\n",
              "      <td>1.0</td>\n",
              "      <td>True</td>\n",
              "    </tr>\n",
              "    <tr>\n",
              "      <th>666</th>\n",
              "      <td>10</td>\n",
              "      <td>b'B0030GGXWA'</td>\n",
              "      <td>b'525218499'</td>\n",
              "      <td>b'Head Micro Gel Radical OS Strung Tennis Racq...</td>\n",
              "      <td>After using a $ walmart racquet for a while, I...</td>\n",
              "      <td>b'A great upgrade!!!  Great for shoulder injury'</td>\n",
              "      <td>b'R1JQC2V587Z7I4'</td>\n",
              "      <td>5</td>\n",
              "      <td>10</td>\n",
              "      <td>28.0</td>\n",
              "      <td>43.0</td>\n",
              "      <td>0.0</td>\n",
              "      <td>10.0</td>\n",
              "      <td>0.232558</td>\n",
              "      <td>True</td>\n",
              "      <td>0.232558</td>\n",
              "      <td>True</td>\n",
              "      <td>1.0</td>\n",
              "      <td>True</td>\n",
              "    </tr>\n",
              "    <tr>\n",
              "      <th>840</th>\n",
              "      <td>16</td>\n",
              "      <td>b'B0038N9JF8'</td>\n",
              "      <td>b'966478416'</td>\n",
              "      <td>b'Babolat AeroPro Drive GT 2010 Tennis Racquet...</td>\n",
              "      <td>I got this amazing babolat aeropro drive gt on...</td>\n",
              "      <td>b'Best racquet ever!'</td>\n",
              "      <td>b'R30XZFDTHUGUGI'</td>\n",
              "      <td>5</td>\n",
              "      <td>16</td>\n",
              "      <td>11.0</td>\n",
              "      <td>36.0</td>\n",
              "      <td>0.0</td>\n",
              "      <td>16.0</td>\n",
              "      <td>0.444444</td>\n",
              "      <td>True</td>\n",
              "      <td>0.444444</td>\n",
              "      <td>True</td>\n",
              "      <td>1.0</td>\n",
              "      <td>True</td>\n",
              "    </tr>\n",
              "    <tr>\n",
              "      <th>1004</th>\n",
              "      <td>14</td>\n",
              "      <td>b'B004UX3Z1E'</td>\n",
              "      <td>b'19173789'</td>\n",
              "      <td>b'Le Petit Tennis Racquet 17 Inches + TENNIS B...</td>\n",
              "      <td>I purchased this particular racquet for my  yr...</td>\n",
              "      <td>b'Tennis Racquet for Toddlers'</td>\n",
              "      <td>b'R3HNVAQ5QNBZCV'</td>\n",
              "      <td>5</td>\n",
              "      <td>14</td>\n",
              "      <td>37.0</td>\n",
              "      <td>62.0</td>\n",
              "      <td>0.0</td>\n",
              "      <td>14.0</td>\n",
              "      <td>0.225806</td>\n",
              "      <td>True</td>\n",
              "      <td>0.225806</td>\n",
              "      <td>True</td>\n",
              "      <td>1.0</td>\n",
              "      <td>True</td>\n",
              "    </tr>\n",
              "    <tr>\n",
              "      <th>1173</th>\n",
              "      <td>31</td>\n",
              "      <td>b'B007WZZ3TE'</td>\n",
              "      <td>b'489292521'</td>\n",
              "      <td>b'DHS Table Tennis Racket 4002C Ping Pong Padd...</td>\n",
              "      <td>Not forgiving, very sticky (when kept clean). ...</td>\n",
              "      <td>b'Great Intermediate Paddle'</td>\n",
              "      <td>b'R2ESB7YQWZZFTP'</td>\n",
              "      <td>5</td>\n",
              "      <td>34</td>\n",
              "      <td>92.0</td>\n",
              "      <td>140.0</td>\n",
              "      <td>0.0</td>\n",
              "      <td>31.0</td>\n",
              "      <td>0.221429</td>\n",
              "      <td>True</td>\n",
              "      <td>0.221429</td>\n",
              "      <td>True</td>\n",
              "      <td>1.0</td>\n",
              "      <td>True</td>\n",
              "    </tr>\n",
              "    <tr>\n",
              "      <th>1478</th>\n",
              "      <td>8</td>\n",
              "      <td>b'B00AW3DPJS'</td>\n",
              "      <td>b'460596995'</td>\n",
              "      <td>b'Wilson Steam 105 S Tennis Racquet - Red/Yell...</td>\n",
              "      <td>Initial review:&lt;br /&gt;The racquet is exactly as...</td>\n",
              "      <td>b'Restrung with poly and alls well'</td>\n",
              "      <td>b'R125JKAAN6WP5G'</td>\n",
              "      <td>5</td>\n",
              "      <td>8</td>\n",
              "      <td>12.0</td>\n",
              "      <td>43.0</td>\n",
              "      <td>0.0</td>\n",
              "      <td>8.0</td>\n",
              "      <td>0.186047</td>\n",
              "      <td>True</td>\n",
              "      <td>0.186047</td>\n",
              "      <td>True</td>\n",
              "      <td>1.0</td>\n",
              "      <td>True</td>\n",
              "    </tr>\n",
              "    <tr>\n",
              "      <th>1602</th>\n",
              "      <td>17</td>\n",
              "      <td>b'B0034PBL7Y'</td>\n",
              "      <td>b'389135987'</td>\n",
              "      <td>b'Wilson Triumph Tennis Racquet without Cover'</td>\n",
              "      <td>Overall a decent beginner's racket, but not wi...</td>\n",
              "      <td>b'Loose Strings'</td>\n",
              "      <td>b'R32M7D15A76195'</td>\n",
              "      <td>3</td>\n",
              "      <td>17</td>\n",
              "      <td>13.0</td>\n",
              "      <td>40.0</td>\n",
              "      <td>0.0</td>\n",
              "      <td>17.0</td>\n",
              "      <td>0.425000</td>\n",
              "      <td>True</td>\n",
              "      <td>0.425000</td>\n",
              "      <td>True</td>\n",
              "      <td>1.0</td>\n",
              "      <td>True</td>\n",
              "    </tr>\n",
              "    <tr>\n",
              "      <th>1979</th>\n",
              "      <td>24</td>\n",
              "      <td>b'B003B15Q90'</td>\n",
              "      <td>b'16849618'</td>\n",
              "      <td>b'Wilson Energy Extra Large Tennis Racquet wit...</td>\n",
              "      <td>My wife wanted to go back to tennis after  yea...</td>\n",
              "      <td>b'Great Buy, for the Price.'</td>\n",
              "      <td>b'R24CAJQZ5ICEH9'</td>\n",
              "      <td>5</td>\n",
              "      <td>26</td>\n",
              "      <td>86.0</td>\n",
              "      <td>114.0</td>\n",
              "      <td>0.0</td>\n",
              "      <td>24.0</td>\n",
              "      <td>0.210526</td>\n",
              "      <td>True</td>\n",
              "      <td>0.210526</td>\n",
              "      <td>True</td>\n",
              "      <td>1.0</td>\n",
              "      <td>True</td>\n",
              "    </tr>\n",
              "    <tr>\n",
              "      <th>2034</th>\n",
              "      <td>24</td>\n",
              "      <td>b'B0000AQCUY'</td>\n",
              "      <td>b'975002593'</td>\n",
              "      <td>b'Head Liquidmetal Radical MP Prestrung Tennis...</td>\n",
              "      <td>I bought  of these a month ago looking to expl...</td>\n",
              "      <td>b'a stick for the new game...'</td>\n",
              "      <td>b'RQUFL22BFIJKL'</td>\n",
              "      <td>4</td>\n",
              "      <td>28</td>\n",
              "      <td>18.0</td>\n",
              "      <td>94.0</td>\n",
              "      <td>0.0</td>\n",
              "      <td>24.0</td>\n",
              "      <td>0.255319</td>\n",
              "      <td>True</td>\n",
              "      <td>0.255319</td>\n",
              "      <td>True</td>\n",
              "      <td>1.0</td>\n",
              "      <td>True</td>\n",
              "    </tr>\n",
              "    <tr>\n",
              "      <th>2044</th>\n",
              "      <td>7</td>\n",
              "      <td>b'B000U8XFJA'</td>\n",
              "      <td>b'59656104'</td>\n",
              "      <td>b'Wilson SpongeBob Youth Tennis Racquet'</td>\n",
              "      <td>My son liked it very much and the quality look...</td>\n",
              "      <td>b'Very nice racket but price is high'</td>\n",
              "      <td>b'R3TW1PFTLAX8M8'</td>\n",
              "      <td>5</td>\n",
              "      <td>7</td>\n",
              "      <td>14.0</td>\n",
              "      <td>23.0</td>\n",
              "      <td>0.0</td>\n",
              "      <td>7.0</td>\n",
              "      <td>0.304348</td>\n",
              "      <td>True</td>\n",
              "      <td>0.304348</td>\n",
              "      <td>True</td>\n",
              "      <td>1.0</td>\n",
              "      <td>True</td>\n",
              "    </tr>\n",
              "    <tr>\n",
              "      <th>2176</th>\n",
              "      <td>101</td>\n",
              "      <td>b'B000OQBP7C'</td>\n",
              "      <td>b'384056751'</td>\n",
              "      <td>b'Head Liquidmetal 8 Tennis Racquet'</td>\n",
              "      <td>Basically, I'm a  year old recreational . NTSC...</td>\n",
              "      <td>b'Tried and Liked others costing up to $200., ...</td>\n",
              "      <td>b'R2Q926GXNLNNCY'</td>\n",
              "      <td>5</td>\n",
              "      <td>105</td>\n",
              "      <td>117.0</td>\n",
              "      <td>227.0</td>\n",
              "      <td>0.0</td>\n",
              "      <td>101.0</td>\n",
              "      <td>0.444934</td>\n",
              "      <td>True</td>\n",
              "      <td>0.444934</td>\n",
              "      <td>True</td>\n",
              "      <td>1.0</td>\n",
              "      <td>True</td>\n",
              "    </tr>\n",
              "    <tr>\n",
              "      <th>2332</th>\n",
              "      <td>5</td>\n",
              "      <td>b'B0090WWULQ'</td>\n",
              "      <td>b'260363376'</td>\n",
              "      <td>b'adidas Barricade III Tour 3 Tennis Racquet Bag'</td>\n",
              "      <td>This a terrific bag.  I use it to carry two te...</td>\n",
              "      <td>b'Awesome Roomy Bag for 2'</td>\n",
              "      <td>b'R14ZLJ8WCG5GRN'</td>\n",
              "      <td>5</td>\n",
              "      <td>5</td>\n",
              "      <td>38.0</td>\n",
              "      <td>22.0</td>\n",
              "      <td>0.0</td>\n",
              "      <td>5.0</td>\n",
              "      <td>0.227273</td>\n",
              "      <td>True</td>\n",
              "      <td>0.227273</td>\n",
              "      <td>True</td>\n",
              "      <td>1.0</td>\n",
              "      <td>True</td>\n",
              "    </tr>\n",
              "    <tr>\n",
              "      <th>2463</th>\n",
              "      <td>10</td>\n",
              "      <td>b'B0072R05ZY'</td>\n",
              "      <td>b'165422500'</td>\n",
              "      <td>b'Kettler Halo 5.0 Outdoor Table Tennis 2 Racq...</td>\n",
              "      <td>Awesome quality.  Great spin and control.  Why...</td>\n",
              "      <td>b'Great product Thanks!  ................'</td>\n",
              "      <td>b'R3OMDUSCHIMGDJ'</td>\n",
              "      <td>5</td>\n",
              "      <td>12</td>\n",
              "      <td>16.0</td>\n",
              "      <td>24.0</td>\n",
              "      <td>0.0</td>\n",
              "      <td>10.0</td>\n",
              "      <td>0.416667</td>\n",
              "      <td>True</td>\n",
              "      <td>0.416667</td>\n",
              "      <td>True</td>\n",
              "      <td>1.0</td>\n",
              "      <td>True</td>\n",
              "    </tr>\n",
              "    <tr>\n",
              "      <th>2563</th>\n",
              "      <td>40</td>\n",
              "      <td>b'B00387ET9A'</td>\n",
              "      <td>b'245257838'</td>\n",
              "      <td>b'Wilson Advantage Triple Tennis Racquet Bag (...</td>\n",
              "      <td>Let me start by saying that I read other revie...</td>\n",
              "      <td>b'Great Bag!'</td>\n",
              "      <td>b'RVRCQY7T4J26Y'</td>\n",
              "      <td>4</td>\n",
              "      <td>40</td>\n",
              "      <td>133.0</td>\n",
              "      <td>81.0</td>\n",
              "      <td>0.0</td>\n",
              "      <td>40.0</td>\n",
              "      <td>0.493827</td>\n",
              "      <td>True</td>\n",
              "      <td>0.493827</td>\n",
              "      <td>True</td>\n",
              "      <td>1.0</td>\n",
              "      <td>True</td>\n",
              "    </tr>\n",
              "    <tr>\n",
              "      <th>2745</th>\n",
              "      <td>12</td>\n",
              "      <td>b'B002O46XKG'</td>\n",
              "      <td>b'718588669'</td>\n",
              "      <td>b'HEAD MicroGel Radical Head Tennis Racquets'</td>\n",
              "      <td>The issue I have with this racket is its frame...</td>\n",
              "      <td>b'Decent racket but not for me'</td>\n",
              "      <td>b'R3K9JBFM2NTPZI'</td>\n",
              "      <td>3</td>\n",
              "      <td>17</td>\n",
              "      <td>31.0</td>\n",
              "      <td>60.0</td>\n",
              "      <td>0.0</td>\n",
              "      <td>12.0</td>\n",
              "      <td>0.200000</td>\n",
              "      <td>True</td>\n",
              "      <td>0.200000</td>\n",
              "      <td>True</td>\n",
              "      <td>1.0</td>\n",
              "      <td>True</td>\n",
              "    </tr>\n",
              "  </tbody>\n",
              "</table>\n",
              "</div>"
            ],
            "text/plain": [
              "      data/helpful_votes data/product_id  ... helpful_votes_scaled_2 helpful_2\n",
              "137                   10   b'B000OQ74FE'  ...                    1.0      True\n",
              "239                   89   b'B000OQ8OU8'  ...                    1.0      True\n",
              "328                   11   b'B001PN0A1U'  ...                    1.0      True\n",
              "376                    8   b'B000QX9SAE'  ...                    1.0      True\n",
              "379                    5   b'B000V1O55Y'  ...                    1.0      True\n",
              "610                   23   b'B000OQBPOK'  ...                    1.0      True\n",
              "666                   10   b'B0030GGXWA'  ...                    1.0      True\n",
              "840                   16   b'B0038N9JF8'  ...                    1.0      True\n",
              "1004                  14   b'B004UX3Z1E'  ...                    1.0      True\n",
              "1173                  31   b'B007WZZ3TE'  ...                    1.0      True\n",
              "1478                   8   b'B00AW3DPJS'  ...                    1.0      True\n",
              "1602                  17   b'B0034PBL7Y'  ...                    1.0      True\n",
              "1979                  24   b'B003B15Q90'  ...                    1.0      True\n",
              "2034                  24   b'B0000AQCUY'  ...                    1.0      True\n",
              "2044                   7   b'B000U8XFJA'  ...                    1.0      True\n",
              "2176                 101   b'B000OQBP7C'  ...                    1.0      True\n",
              "2332                   5   b'B0090WWULQ'  ...                    1.0      True\n",
              "2463                  10   b'B0072R05ZY'  ...                    1.0      True\n",
              "2563                  40   b'B00387ET9A'  ...                    1.0      True\n",
              "2745                  12   b'B002O46XKG'  ...                    1.0      True\n",
              "\n",
              "[20 rows x 19 columns]"
            ]
          },
          "metadata": {
            "tags": []
          },
          "execution_count": 70
        }
      ]
    },
    {
      "cell_type": "code",
      "metadata": {
        "colab": {
          "base_uri": "https://localhost:8080/",
          "height": 1000
        },
        "id": "bWJRnVzW0ZV0",
        "outputId": "b6409155-f0ef-4d10-f472-4b42e31a72fa"
      },
      "source": [
        "train_df.nsmallest(20,'helpful_votes_scaled_2')"
      ],
      "execution_count": 72,
      "outputs": [
        {
          "output_type": "execute_result",
          "data": {
            "text/html": [
              "<div>\n",
              "<style scoped>\n",
              "    .dataframe tbody tr th:only-of-type {\n",
              "        vertical-align: middle;\n",
              "    }\n",
              "\n",
              "    .dataframe tbody tr th {\n",
              "        vertical-align: top;\n",
              "    }\n",
              "\n",
              "    .dataframe thead th {\n",
              "        text-align: right;\n",
              "    }\n",
              "</style>\n",
              "<table border=\"1\" class=\"dataframe\">\n",
              "  <thead>\n",
              "    <tr style=\"text-align: right;\">\n",
              "      <th></th>\n",
              "      <th>data/helpful_votes</th>\n",
              "      <th>data/product_id</th>\n",
              "      <th>data/product_parent</th>\n",
              "      <th>data/product_title</th>\n",
              "      <th>data/review_body</th>\n",
              "      <th>data/review_headline</th>\n",
              "      <th>data/review_id</th>\n",
              "      <th>data/star_rating</th>\n",
              "      <th>data/total_votes</th>\n",
              "      <th>count</th>\n",
              "      <th>sum</th>\n",
              "      <th>min</th>\n",
              "      <th>max</th>\n",
              "      <th>helpful_votes_scaled</th>\n",
              "      <th>helpful</th>\n",
              "      <th>helpful_votes_scaled_1</th>\n",
              "      <th>helpful_1</th>\n",
              "      <th>helpful_votes_scaled_2</th>\n",
              "      <th>helpful_2</th>\n",
              "    </tr>\n",
              "  </thead>\n",
              "  <tbody>\n",
              "    <tr>\n",
              "      <th>1340</th>\n",
              "      <td>1</td>\n",
              "      <td>b'B006A2X7GG'</td>\n",
              "      <td>b'282976541'</td>\n",
              "      <td>b'Head You Tek IG Radical MP Tennis Racquet Un...</td>\n",
              "      <td>Certainly a step up from the LiquidMetal  I wa...</td>\n",
              "      <td>b'Nice racquet.'</td>\n",
              "      <td>b'RG305CR3KBYQV'</td>\n",
              "      <td>5</td>\n",
              "      <td>1</td>\n",
              "      <td>13.0</td>\n",
              "      <td>31.0</td>\n",
              "      <td>1.0</td>\n",
              "      <td>8.0</td>\n",
              "      <td>0.032258</td>\n",
              "      <td>False</td>\n",
              "      <td>0.032258</td>\n",
              "      <td>False</td>\n",
              "      <td>0.000000</td>\n",
              "      <td>False</td>\n",
              "    </tr>\n",
              "    <tr>\n",
              "      <th>2062</th>\n",
              "      <td>1</td>\n",
              "      <td>b'B006A2X2PC'</td>\n",
              "      <td>b'282976541'</td>\n",
              "      <td>b'Head You Tek IG Radical MP Tennis Racquet Un...</td>\n",
              "      <td>This product was exactly as described and came...</td>\n",
              "      <td>b'Exactly as described.'</td>\n",
              "      <td>b'RGAK1V8ZPZFHH'</td>\n",
              "      <td>5</td>\n",
              "      <td>1</td>\n",
              "      <td>13.0</td>\n",
              "      <td>31.0</td>\n",
              "      <td>1.0</td>\n",
              "      <td>8.0</td>\n",
              "      <td>0.032258</td>\n",
              "      <td>False</td>\n",
              "      <td>0.032258</td>\n",
              "      <td>False</td>\n",
              "      <td>0.000000</td>\n",
              "      <td>False</td>\n",
              "    </tr>\n",
              "    <tr>\n",
              "      <th>2093</th>\n",
              "      <td>1</td>\n",
              "      <td>b'B006A2X4OQ'</td>\n",
              "      <td>b'282976541'</td>\n",
              "      <td>b'Head You Tek IG Radical MP Tennis Racquet Un...</td>\n",
              "      <td>My instructor recommended this raquet. It is m...</td>\n",
              "      <td>b'Excellent Raquet'</td>\n",
              "      <td>b'R1XSNVCB0FH527'</td>\n",
              "      <td>5</td>\n",
              "      <td>1</td>\n",
              "      <td>13.0</td>\n",
              "      <td>31.0</td>\n",
              "      <td>1.0</td>\n",
              "      <td>8.0</td>\n",
              "      <td>0.032258</td>\n",
              "      <td>False</td>\n",
              "      <td>0.032258</td>\n",
              "      <td>False</td>\n",
              "      <td>0.000000</td>\n",
              "      <td>False</td>\n",
              "    </tr>\n",
              "    <tr>\n",
              "      <th>2192</th>\n",
              "      <td>1</td>\n",
              "      <td>b'B006A2X4OQ'</td>\n",
              "      <td>b'282976541'</td>\n",
              "      <td>b'Head You Tek IG Radical MP Tennis Racquet Un...</td>\n",
              "      <td>This racquet its great! Very light, high preci...</td>\n",
              "      <td>b'Love it'</td>\n",
              "      <td>b'R31F7EZ0J75KPK'</td>\n",
              "      <td>5</td>\n",
              "      <td>1</td>\n",
              "      <td>13.0</td>\n",
              "      <td>31.0</td>\n",
              "      <td>1.0</td>\n",
              "      <td>8.0</td>\n",
              "      <td>0.032258</td>\n",
              "      <td>False</td>\n",
              "      <td>0.032258</td>\n",
              "      <td>False</td>\n",
              "      <td>0.000000</td>\n",
              "      <td>False</td>\n",
              "    </tr>\n",
              "    <tr>\n",
              "      <th>2241</th>\n",
              "      <td>1</td>\n",
              "      <td>b'B006A2XB3U'</td>\n",
              "      <td>b'282976541'</td>\n",
              "      <td>b'Head You Tek IG Radical MP Tennis Racquet Un...</td>\n",
              "      <td>so so</td>\n",
              "      <td>b'Four Stars'</td>\n",
              "      <td>b'RZJCSAS39OKEY'</td>\n",
              "      <td>4</td>\n",
              "      <td>2</td>\n",
              "      <td>13.0</td>\n",
              "      <td>31.0</td>\n",
              "      <td>1.0</td>\n",
              "      <td>8.0</td>\n",
              "      <td>0.032258</td>\n",
              "      <td>False</td>\n",
              "      <td>0.032258</td>\n",
              "      <td>False</td>\n",
              "      <td>0.000000</td>\n",
              "      <td>False</td>\n",
              "    </tr>\n",
              "    <tr>\n",
              "      <th>2548</th>\n",
              "      <td>1</td>\n",
              "      <td>b'B006A2XB3U'</td>\n",
              "      <td>b'282976541'</td>\n",
              "      <td>b'Head You Tek IG Radical MP Tennis Racquet Un...</td>\n",
              "      <td>Great racket! Easy to use. Long swing type of ...</td>\n",
              "      <td>b'Five Stars'</td>\n",
              "      <td>b'R2YAUA0LMPFETS'</td>\n",
              "      <td>5</td>\n",
              "      <td>1</td>\n",
              "      <td>13.0</td>\n",
              "      <td>31.0</td>\n",
              "      <td>1.0</td>\n",
              "      <td>8.0</td>\n",
              "      <td>0.032258</td>\n",
              "      <td>False</td>\n",
              "      <td>0.032258</td>\n",
              "      <td>False</td>\n",
              "      <td>0.000000</td>\n",
              "      <td>False</td>\n",
              "    </tr>\n",
              "    <tr>\n",
              "      <th>3850</th>\n",
              "      <td>1</td>\n",
              "      <td>b'B006A2X4OQ'</td>\n",
              "      <td>b'282976541'</td>\n",
              "      <td>b'Head You Tek IG Radical MP Tennis Racquet Un...</td>\n",
              "      <td>Great product!</td>\n",
              "      <td>b'Five Stars'</td>\n",
              "      <td>b'R31VAIDNB59POW'</td>\n",
              "      <td>5</td>\n",
              "      <td>2</td>\n",
              "      <td>13.0</td>\n",
              "      <td>31.0</td>\n",
              "      <td>1.0</td>\n",
              "      <td>8.0</td>\n",
              "      <td>0.032258</td>\n",
              "      <td>False</td>\n",
              "      <td>0.032258</td>\n",
              "      <td>False</td>\n",
              "      <td>0.000000</td>\n",
              "      <td>False</td>\n",
              "    </tr>\n",
              "    <tr>\n",
              "      <th>4064</th>\n",
              "      <td>1</td>\n",
              "      <td>b'B006A2X2PC'</td>\n",
              "      <td>b'282976541'</td>\n",
              "      <td>b'Head You Tek IG Radical MP Tennis Racquet Un...</td>\n",
              "      <td>The racket is great! But the strings with it i...</td>\n",
              "      <td>b'The racket is great! But the strings with it...</td>\n",
              "      <td>b'R1P9DNACDU2DD4'</td>\n",
              "      <td>5</td>\n",
              "      <td>1</td>\n",
              "      <td>13.0</td>\n",
              "      <td>31.0</td>\n",
              "      <td>1.0</td>\n",
              "      <td>8.0</td>\n",
              "      <td>0.032258</td>\n",
              "      <td>False</td>\n",
              "      <td>0.032258</td>\n",
              "      <td>False</td>\n",
              "      <td>0.000000</td>\n",
              "      <td>False</td>\n",
              "    </tr>\n",
              "    <tr>\n",
              "      <th>166</th>\n",
              "      <td>1</td>\n",
              "      <td>b'B00SC49H3W'</td>\n",
              "      <td>b'453459277'</td>\n",
              "      <td>b'Wilson US Open Junior Tennis Racquet'</td>\n",
              "      <td>I bought this for my  year old daughter and ra...</td>\n",
              "      <td>b'... my 9 year old daughter and racquet size ...</td>\n",
              "      <td>b'R2G4CI8BM1E8YL'</td>\n",
              "      <td>5</td>\n",
              "      <td>1</td>\n",
              "      <td>159.0</td>\n",
              "      <td>1016.0</td>\n",
              "      <td>0.0</td>\n",
              "      <td>595.0</td>\n",
              "      <td>0.000984</td>\n",
              "      <td>False</td>\n",
              "      <td>0.000984</td>\n",
              "      <td>False</td>\n",
              "      <td>0.001681</td>\n",
              "      <td>False</td>\n",
              "    </tr>\n",
              "    <tr>\n",
              "      <th>269</th>\n",
              "      <td>1</td>\n",
              "      <td>b'B00BCP4WHY'</td>\n",
              "      <td>b'453459277'</td>\n",
              "      <td>b'Wilson US Open Junior Tennis Racquet'</td>\n",
              "      <td>perfect racquet for my son  years, is light, p...</td>\n",
              "      <td>b'Perfect racquet'</td>\n",
              "      <td>b'R1O87796UWJCFD'</td>\n",
              "      <td>5</td>\n",
              "      <td>2</td>\n",
              "      <td>159.0</td>\n",
              "      <td>1016.0</td>\n",
              "      <td>0.0</td>\n",
              "      <td>595.0</td>\n",
              "      <td>0.000984</td>\n",
              "      <td>False</td>\n",
              "      <td>0.000984</td>\n",
              "      <td>False</td>\n",
              "      <td>0.001681</td>\n",
              "      <td>False</td>\n",
              "    </tr>\n",
              "    <tr>\n",
              "      <th>291</th>\n",
              "      <td>1</td>\n",
              "      <td>b'B00BCP4XKU'</td>\n",
              "      <td>b'453459277'</td>\n",
              "      <td>b'Wilson US Open Junior Tennis Racquet'</td>\n",
              "      <td>Excellent product.</td>\n",
              "      <td>b'Excellent product.'</td>\n",
              "      <td>b'R2CL0EQ848EIWO'</td>\n",
              "      <td>5</td>\n",
              "      <td>1</td>\n",
              "      <td>159.0</td>\n",
              "      <td>1016.0</td>\n",
              "      <td>0.0</td>\n",
              "      <td>595.0</td>\n",
              "      <td>0.000984</td>\n",
              "      <td>False</td>\n",
              "      <td>0.000984</td>\n",
              "      <td>False</td>\n",
              "      <td>0.001681</td>\n",
              "      <td>False</td>\n",
              "    </tr>\n",
              "    <tr>\n",
              "      <th>477</th>\n",
              "      <td>1</td>\n",
              "      <td>b'B00BCP4WHY'</td>\n",
              "      <td>b'453459277'</td>\n",
              "      <td>b'Wilson US Open Junior Tennis Racquet'</td>\n",
              "      <td>Easy to use beginner tennis racket for my kids.</td>\n",
              "      <td>b'Four Stars'</td>\n",
              "      <td>b'RXOT8OW8SDC84'</td>\n",
              "      <td>4</td>\n",
              "      <td>2</td>\n",
              "      <td>159.0</td>\n",
              "      <td>1016.0</td>\n",
              "      <td>0.0</td>\n",
              "      <td>595.0</td>\n",
              "      <td>0.000984</td>\n",
              "      <td>False</td>\n",
              "      <td>0.000984</td>\n",
              "      <td>False</td>\n",
              "      <td>0.001681</td>\n",
              "      <td>False</td>\n",
              "    </tr>\n",
              "    <tr>\n",
              "      <th>953</th>\n",
              "      <td>1</td>\n",
              "      <td>b'B00BM7VN06'</td>\n",
              "      <td>b'453459277'</td>\n",
              "      <td>b'Wilson US Open Junior Tennis Racquet'</td>\n",
              "      <td>In the website listing it didn't mention the a...</td>\n",
              "      <td>b'It is a very nice-looking tennis racket.'</td>\n",
              "      <td>b'R21FK0C3953GRX'</td>\n",
              "      <td>3</td>\n",
              "      <td>6</td>\n",
              "      <td>159.0</td>\n",
              "      <td>1016.0</td>\n",
              "      <td>0.0</td>\n",
              "      <td>595.0</td>\n",
              "      <td>0.000984</td>\n",
              "      <td>False</td>\n",
              "      <td>0.000984</td>\n",
              "      <td>False</td>\n",
              "      <td>0.001681</td>\n",
              "      <td>False</td>\n",
              "    </tr>\n",
              "    <tr>\n",
              "      <th>1801</th>\n",
              "      <td>1</td>\n",
              "      <td>b'B00BCP4WHY'</td>\n",
              "      <td>b'453459277'</td>\n",
              "      <td>b'Wilson US Open Junior Tennis Racquet'</td>\n",
              "      <td>I received only a racquet of this reference an...</td>\n",
              "      <td>b'Pending receive'</td>\n",
              "      <td>b'R3SWGPZYSZFYKA'</td>\n",
              "      <td>5</td>\n",
              "      <td>21</td>\n",
              "      <td>159.0</td>\n",
              "      <td>1016.0</td>\n",
              "      <td>0.0</td>\n",
              "      <td>595.0</td>\n",
              "      <td>0.000984</td>\n",
              "      <td>False</td>\n",
              "      <td>0.000984</td>\n",
              "      <td>False</td>\n",
              "      <td>0.001681</td>\n",
              "      <td>False</td>\n",
              "    </tr>\n",
              "    <tr>\n",
              "      <th>2436</th>\n",
              "      <td>1</td>\n",
              "      <td>b'B00SC4562I'</td>\n",
              "      <td>b'453459277'</td>\n",
              "      <td>b'Wilson US Open Junior Tennis Racquet'</td>\n",
              "      <td>Although this racquet is cute and I believe it...</td>\n",
              "      <td>b'Cheaper at Target'</td>\n",
              "      <td>b'R3VCQ1ZHOV2NKI'</td>\n",
              "      <td>3</td>\n",
              "      <td>2</td>\n",
              "      <td>159.0</td>\n",
              "      <td>1016.0</td>\n",
              "      <td>0.0</td>\n",
              "      <td>595.0</td>\n",
              "      <td>0.000984</td>\n",
              "      <td>False</td>\n",
              "      <td>0.000984</td>\n",
              "      <td>False</td>\n",
              "      <td>0.001681</td>\n",
              "      <td>False</td>\n",
              "    </tr>\n",
              "    <tr>\n",
              "      <th>2725</th>\n",
              "      <td>1</td>\n",
              "      <td>b'B00SC48AYO'</td>\n",
              "      <td>b'453459277'</td>\n",
              "      <td>b'Wilson US Open Junior Tennis Racquet'</td>\n",
              "      <td>It's not a quality gift to my nephew... i real...</td>\n",
              "      <td>b'NOT SATISFIED....'</td>\n",
              "      <td>b'R3E38ND3D3G72A'</td>\n",
              "      <td>1</td>\n",
              "      <td>3</td>\n",
              "      <td>159.0</td>\n",
              "      <td>1016.0</td>\n",
              "      <td>0.0</td>\n",
              "      <td>595.0</td>\n",
              "      <td>0.000984</td>\n",
              "      <td>False</td>\n",
              "      <td>0.000984</td>\n",
              "      <td>False</td>\n",
              "      <td>0.001681</td>\n",
              "      <td>False</td>\n",
              "    </tr>\n",
              "    <tr>\n",
              "      <th>3728</th>\n",
              "      <td>1</td>\n",
              "      <td>b'B00BCP4WHY'</td>\n",
              "      <td>b'453459277'</td>\n",
              "      <td>b'Wilson US Open Junior Tennis Racquet'</td>\n",
              "      <td>Perfect for my  year old son who is just start...</td>\n",
              "      <td>b'Five Stars'</td>\n",
              "      <td>b'R2FDWB6F8CSEZ'</td>\n",
              "      <td>5</td>\n",
              "      <td>1</td>\n",
              "      <td>159.0</td>\n",
              "      <td>1016.0</td>\n",
              "      <td>0.0</td>\n",
              "      <td>595.0</td>\n",
              "      <td>0.000984</td>\n",
              "      <td>False</td>\n",
              "      <td>0.000984</td>\n",
              "      <td>False</td>\n",
              "      <td>0.001681</td>\n",
              "      <td>False</td>\n",
              "    </tr>\n",
              "    <tr>\n",
              "      <th>4141</th>\n",
              "      <td>1</td>\n",
              "      <td>b'B00BCP4WHY'</td>\n",
              "      <td>b'453459277'</td>\n",
              "      <td>b'Wilson US Open Junior Tennis Racquet'</td>\n",
              "      <td>Great racket for my  year old son who's taking...</td>\n",
              "      <td>b'Great price and racket!'</td>\n",
              "      <td>b'R26Z2PNMDFVJ9W'</td>\n",
              "      <td>4</td>\n",
              "      <td>1</td>\n",
              "      <td>159.0</td>\n",
              "      <td>1016.0</td>\n",
              "      <td>0.0</td>\n",
              "      <td>595.0</td>\n",
              "      <td>0.000984</td>\n",
              "      <td>False</td>\n",
              "      <td>0.000984</td>\n",
              "      <td>False</td>\n",
              "      <td>0.001681</td>\n",
              "      <td>False</td>\n",
              "    </tr>\n",
              "    <tr>\n",
              "      <th>4143</th>\n",
              "      <td>1</td>\n",
              "      <td>b'B00BCP4VJ8'</td>\n",
              "      <td>b'453459277'</td>\n",
              "      <td>b'Wilson US Open Junior Tennis Racquet'</td>\n",
              "      <td>I don't know, i just buy it.  I think that lik...</td>\n",
              "      <td>b\"It's very goo, very interesting and very str...</td>\n",
              "      <td>b'R2QNVQVVYT46TO'</td>\n",
              "      <td>4</td>\n",
              "      <td>9</td>\n",
              "      <td>159.0</td>\n",
              "      <td>1016.0</td>\n",
              "      <td>0.0</td>\n",
              "      <td>595.0</td>\n",
              "      <td>0.000984</td>\n",
              "      <td>False</td>\n",
              "      <td>0.000984</td>\n",
              "      <td>False</td>\n",
              "      <td>0.001681</td>\n",
              "      <td>False</td>\n",
              "    </tr>\n",
              "    <tr>\n",
              "      <th>4563</th>\n",
              "      <td>1</td>\n",
              "      <td>b'B00BCP4XKU'</td>\n",
              "      <td>b'453459277'</td>\n",
              "      <td>b'Wilson US Open Junior Tennis Racquet'</td>\n",
              "      <td>Perfect for my kids ages  and !</td>\n",
              "      <td>b'Five Stars'</td>\n",
              "      <td>b'R3L5BC58W9UVR5'</td>\n",
              "      <td>5</td>\n",
              "      <td>1</td>\n",
              "      <td>159.0</td>\n",
              "      <td>1016.0</td>\n",
              "      <td>0.0</td>\n",
              "      <td>595.0</td>\n",
              "      <td>0.000984</td>\n",
              "      <td>False</td>\n",
              "      <td>0.000984</td>\n",
              "      <td>False</td>\n",
              "      <td>0.001681</td>\n",
              "      <td>False</td>\n",
              "    </tr>\n",
              "  </tbody>\n",
              "</table>\n",
              "</div>"
            ],
            "text/plain": [
              "      data/helpful_votes data/product_id  ... helpful_votes_scaled_2 helpful_2\n",
              "1340                   1   b'B006A2X7GG'  ...               0.000000     False\n",
              "2062                   1   b'B006A2X2PC'  ...               0.000000     False\n",
              "2093                   1   b'B006A2X4OQ'  ...               0.000000     False\n",
              "2192                   1   b'B006A2X4OQ'  ...               0.000000     False\n",
              "2241                   1   b'B006A2XB3U'  ...               0.000000     False\n",
              "2548                   1   b'B006A2XB3U'  ...               0.000000     False\n",
              "3850                   1   b'B006A2X4OQ'  ...               0.000000     False\n",
              "4064                   1   b'B006A2X2PC'  ...               0.000000     False\n",
              "166                    1   b'B00SC49H3W'  ...               0.001681     False\n",
              "269                    1   b'B00BCP4WHY'  ...               0.001681     False\n",
              "291                    1   b'B00BCP4XKU'  ...               0.001681     False\n",
              "477                    1   b'B00BCP4WHY'  ...               0.001681     False\n",
              "953                    1   b'B00BM7VN06'  ...               0.001681     False\n",
              "1801                   1   b'B00BCP4WHY'  ...               0.001681     False\n",
              "2436                   1   b'B00SC4562I'  ...               0.001681     False\n",
              "2725                   1   b'B00SC48AYO'  ...               0.001681     False\n",
              "3728                   1   b'B00BCP4WHY'  ...               0.001681     False\n",
              "4141                   1   b'B00BCP4WHY'  ...               0.001681     False\n",
              "4143                   1   b'B00BCP4VJ8'  ...               0.001681     False\n",
              "4563                   1   b'B00BCP4XKU'  ...               0.001681     False\n",
              "\n",
              "[20 rows x 19 columns]"
            ]
          },
          "metadata": {
            "tags": []
          },
          "execution_count": 72
        }
      ]
    },
    {
      "cell_type": "code",
      "metadata": {
        "colab": {
          "base_uri": "https://localhost:8080/"
        },
        "id": "qYyqU_x1p2Pu",
        "outputId": "dabae829-9065-43f9-e49d-32d7511bdb80"
      },
      "source": [
        "sample_review_pos_1 = final_data['data/review_body'].iloc[2176]\r\n",
        "print(sample_review_pos_1)\r\n",
        "sample_review_pos_2 = final_data['data/review_body'].iloc[1602]\r\n",
        "print(sample_review_pos_2)\r\n",
        "sample_review_neg_1 = final_data['data/review_body'].iloc[4563]\r\n",
        "print(sample_review_neg_1)\r\n",
        "sample_review_neg_2 = final_data['data/review_body'].iloc[477]\r\n",
        "print(sample_review_neg_2)"
      ],
      "execution_count": 73,
      "outputs": [
        {
          "output_type": "stream",
          "text": [
            "b\"Basically, I'm a 58 year old recreational 4.5 NTSC player in the states and 30/2 player in France -- which is better than most, worse than many.<br /><br />What I use and why:  After MUCH experimentation using my own racquet stringing machine and lots of different strings and racquets, I found what works best for me and for many of my friends is this liquid metal 8 racquet restrung with Luxilon Original Rough string -16 gauge (1.30mm diameter) and strung at a shockingly low 33 pounds of tension (instead of the usual 55 lbs recommended).  Even 35 pounds was a bit too high as it sent balls sailing too far for me.  After a couple hours of use, the strings are broken in and stable and work well for me for about 60 hours playing time or 3 months at 5 hours a week on the courts.  When the strings stop recentering themselves after each shot, it's time to restring again at this low tension.  Never broke a string yet this way and even though it's a poly string, at 33 lbs it's very easy on the elbow and shoulder.  NOTE on stringing tension and how it works:  Most tennis guys know stringing at higher tension generally reduces power, but improves accuracy, touch, feel and control. Sampras used about 75 lbs but broke strings alot.  Federer strings at about 48 - 52 lbs.  Both had best accuracy of shots in their eras. However, it has been discovered that once you go roughly below 35 lbs (say 30 to 33 lbs) stringing tension, power again diminishes to what is useful (not too much) and touch and accuracy come back.  In addition, to those who are older or concerned about tennis elbow or wrist issues, low tension is really great.  I also got rid of the built-in vibration damper on the racquet (didn't like it) and instead use a Wilson Vibrafun damper which looks nice and works great and stays in place.<br /><br />No racquet will turn a newbie into a pro, but a decent racquet definitely helps improve your game.  Had one match against the best player in my state, knowing I'd get wholloped, but glad to try.  Basically, this racquet gave me a fighting chance once in a rally (we split long rally points about equally), because with it I could react very quickly due to the light weight and the power this racquet has (due to the 112 sq. inch head) allowed me to make quick and powerful defensive shots I simply have no hope to make with my other racquets.  Also, everyone comments that my serves are more powerful with this racquet as are my forehand power shots (when my game is on).  I had NO aces against this awesome player and didn't even win one game in two sets, but had one game on my serve go to deuce 5 times and even had a game point, but choked on an easy put away shot.  Still, it was a fun time and I felt strangely competitive against a much better player.<br /><br />Anyway, I realize this is now priced in the budget category at $85., but do yourself a favor and buy this for the same price but where they throw-in free restringing  and you just pay for the string (saves you about $15. stringing charge).  Pay the $15. - $20. extra for the Luxilon Original Rough and give it a try at my recommended &#34;sweet spot&#34; of 33 lbs tension. Tennis Warehouse and Tennis Express both offer free stringing, if I recall correctly.  I've seen this racquet on sale for as low as $75. with free re-stringing (great deal!).<br /><br />Grip size recommendations: grip size is very important, too.  Basic rule of thumb: use the smallest grip which feels comfortable in your hand.  Basically, a man who wears a medium to large leather glove will be a 4 3/8, extra-large workglove, a 4 1/2 and mitts like a bear might need a 4 5/8.  Men who fit a medium to small work glove will want a 4 1/4 and ladies wearing a small ladies glove will want a 4 1/8.  When in doubt, order 1/8 size smaller than you think and buy a $2.00 &#34;grip size increaser&#34;, but don't have them put it on -- just have it handy if you find you need to step up a size.  If you find you need to step down a size, it's not so much fun, but remove the thick, padded (nice) grip covering and replace it with thin competition (blue) tape.  That will drop it about 1/8&#34; for you, give you even better feel of the handle and shots, but not be as comfortable to hold.<br /><br />This racquet is best for those who really don't prefer to set-up and take huge swings at the ball, but prefer to use more compact swings while retaining power and good accuracy.  It has the power due to the large head and being head heavy, to hit serves and forehands with lots of power, make great, quick and deep defensive shots, light enough to feel agile at the net and when strung as I recommend, gives nice feel for drop shots, strings which don't break and last a LONG time and easy on the elbow and wrist and shoulder.  So, what's not to like?<br /><br />Thought I'd be searching forever for a better racquet, but all my opponents agree, this one, strung with Luxilon Original Rough at 33 lbs, it the best one for me.  I have no desire to search further.  Tennis anyone?  *@*, it's not so much fun, but remove the thick, padded (nice) grip covering and replace it with thin competition (blue) tape.  That will drop it about 1/8&#34; for you, give you even better feel of the handle and shots, but not be as comfortable to hold.<br /><br />This racquet is best for those who really don't prefer to set-up and take huge swings at the ball, but prefer to use more compact swings while retaining power and good accuracy.  It has the power due to the large head and being head heavy, to hit serves and forehands with lots of power, make great, quick and deep defensive shots, light enough to feel agile at the net and when strung as I recommend, gives nice feel for drop shots, strings which don't break and last a LONG time and easy on the elbow and wrist and shoulder.  So, what's not to like?<br /><br />Thought I'd be searching forever for a better racquet, but all my opponents agree, this one, strung with Luxilon Original Rough at 33 lbs, it the best one for me.  I have no desire to search further.  Tennis anyone?  *@*\"\n",
            "b\"Overall a decent beginner's racket, but not without a few shortcomings.  It's nice and light (I don't understand what other reviews are talking about if they call it heavy).  Has a nice large surface area.    However, the grip is a little smooth which causes the racket to spin sometimes on hits that aren't right on the center.  Additionally, on longer volleys or when hitting slightly harder shots, the strings really move around a lot and I'm forced to constantly adjust them between points.\"\n",
            "b'Perfect for my kids ages 8 and 10!'\n",
            "b'Easy to use beginner tennis racket for my kids.'\n"
          ],
          "name": "stdout"
        }
      ]
    },
    {
      "cell_type": "code",
      "metadata": {
        "id": "apsjgo9-4JJb"
      },
      "source": [
        "MDL = 'model3.gensim'\r\n",
        "ldamodel = gensim.models.ldamodel.LdaModel.load(home_dir+MDL)\r\n",
        "def return_topics_distribution(document,dictionary=texts_dict,lda=ldamodel):\r\n",
        "  clean_doc = tokenize_stop_stem_text(document)\r\n",
        "  bow = dictionary.doc2bow(clean_doc)\r\n",
        "  new_doc_distribution = np.array([tup[1] for tup in lda.get_document_topics(bow=bow)])\r\n",
        "  return new_doc_distribution"
      ],
      "execution_count": 74,
      "outputs": []
    },
    {
      "cell_type": "code",
      "metadata": {
        "colab": {
          "base_uri": "https://localhost:8080/"
        },
        "id": "T92Sc1rE40UM",
        "outputId": "e3e0b6aa-0b39-45db-96e2-f06d50af72e3"
      },
      "source": [
        "print(return_topics_distribution(sample_review_pos_1))\r\n",
        "print(return_topics_distribution(sample_review_pos_2))\r\n",
        "print(return_topics_distribution(sample_review_neg_1))\r\n",
        "print(return_topics_distribution(sample_review_neg_1))"
      ],
      "execution_count": 75,
      "outputs": [
        {
          "output_type": "stream",
          "text": [
            "[0.16533077 0.0008503  0.833819  ]\n",
            "[0.01094539 0.00997759 0.979077  ]\n",
            "[0.08383927 0.8314761  0.08468465]\n",
            "[0.08383925 0.8314768  0.08468395]\n"
          ],
          "name": "stdout"
        }
      ]
    },
    {
      "cell_type": "markdown",
      "metadata": {
        "id": "xrDz147VXkCo"
      },
      "source": [
        "It looks like no useful reviews are alike, but bad reviews are similar to each other."
      ]
    },
    {
      "cell_type": "markdown",
      "metadata": {
        "id": "t8ezJT98CASn"
      },
      "source": [
        "# Measuring similarity of new review to the trained LDA corpus"
      ]
    },
    {
      "cell_type": "code",
      "metadata": {
        "colab": {
          "base_uri": "https://localhost:8080/"
        },
        "id": "OsSQbozgNTmi",
        "outputId": "4c6fd956-2876-448d-e175-5eef620230b4"
      },
      "source": [
        "# we need to use nested list comprehension here\r\n",
        "# this may take 1-2 minutes...\r\n",
        "doc_topic_dist = np.array([[tup[1] for tup in lst] for lst in ldamodel[corpus]])\r\n",
        "doc_topic_dist"
      ],
      "execution_count": 76,
      "outputs": [
        {
          "output_type": "execute_result",
          "data": {
            "text/plain": [
              "array([[0.04663458, 0.90621775, 0.04714769],\n",
              "       [0.03107712, 0.03279931, 0.9361236 ],\n",
              "       [0.03451851, 0.9332573 , 0.03222418],\n",
              "       ...,\n",
              "       [0.02470714, 0.94617265, 0.0291202 ],\n",
              "       [0.04420937, 0.24039742, 0.71539325],\n",
              "       [0.05559305, 0.8933486 , 0.05105839]], dtype=float32)"
            ]
          },
          "metadata": {
            "tags": []
          },
          "execution_count": 76
        }
      ]
    },
    {
      "cell_type": "code",
      "metadata": {
        "id": "iCZYzLS6Nszg"
      },
      "source": [
        "def jensen_shannon(query, matrix):\r\n",
        "    \"\"\"\r\n",
        "    This function implements a Jensen-Shannon similarity\r\n",
        "    between the input query (an LDA topic distribution for a document)\r\n",
        "    and the entire corpus of topic distributions.\r\n",
        "    It returns an array of length M where M is the number of documents in the corpus\r\n",
        "    \"\"\"\r\n",
        "    sim=[distance.jensenshannon(data,query) for data in matrix]\r\n",
        "    return sim"
      ],
      "execution_count": 77,
      "outputs": []
    },
    {
      "cell_type": "code",
      "metadata": {
        "id": "L2Zq9I2XNvIZ"
      },
      "source": [
        "def get_most_similar_documents(query,matrix,k=5):\r\n",
        "    \"\"\"\r\n",
        "    This function implements the Jensen-Shannon distance above\r\n",
        "    and retruns the top k indices of the smallest jensen shannon distances\r\n",
        "    \"\"\"\r\n",
        "    sims = jensen_shannon(query,matrix) # list of jensen shannon distances\r\n",
        "    return np.argsort(sims)[:k] # the top k positional index of the smallest Jensen Shannon distances"
      ],
      "execution_count": 78,
      "outputs": []
    },
    {
      "cell_type": "markdown",
      "metadata": {
        "id": "V5bhaZn4_1GB"
      },
      "source": [
        "# Investigating potential relationships between LDA model predictions and reviews usefulness\n"
      ]
    },
    {
      "cell_type": "code",
      "metadata": {
        "colab": {
          "base_uri": "https://localhost:8080/",
          "height": 428
        },
        "id": "UlHX02b2Q_Tk",
        "outputId": "03c85061-2172-462f-d4c0-5d5b7af69f92"
      },
      "source": [
        "new_doc_distribution = return_topics_distribution(sample_review_pos_2)\r\n",
        "most_sim_ids = get_most_similar_documents(new_doc_distribution,doc_topic_dist)\r\n",
        "print(most_sim_ids)\r\n",
        "most_similar_df = train_df.iloc[most_sim_ids,:]\r\n",
        "most_similar_df"
      ],
      "execution_count": 79,
      "outputs": [
        {
          "output_type": "stream",
          "text": [
            "[184 606 473 232 465]\n"
          ],
          "name": "stdout"
        },
        {
          "output_type": "execute_result",
          "data": {
            "text/html": [
              "<div>\n",
              "<style scoped>\n",
              "    .dataframe tbody tr th:only-of-type {\n",
              "        vertical-align: middle;\n",
              "    }\n",
              "\n",
              "    .dataframe tbody tr th {\n",
              "        vertical-align: top;\n",
              "    }\n",
              "\n",
              "    .dataframe thead th {\n",
              "        text-align: right;\n",
              "    }\n",
              "</style>\n",
              "<table border=\"1\" class=\"dataframe\">\n",
              "  <thead>\n",
              "    <tr style=\"text-align: right;\">\n",
              "      <th></th>\n",
              "      <th>data/helpful_votes</th>\n",
              "      <th>data/product_id</th>\n",
              "      <th>data/product_parent</th>\n",
              "      <th>data/product_title</th>\n",
              "      <th>data/review_body</th>\n",
              "      <th>data/review_headline</th>\n",
              "      <th>data/review_id</th>\n",
              "      <th>data/star_rating</th>\n",
              "      <th>data/total_votes</th>\n",
              "      <th>count</th>\n",
              "      <th>sum</th>\n",
              "      <th>min</th>\n",
              "      <th>max</th>\n",
              "      <th>helpful_votes_scaled</th>\n",
              "      <th>helpful</th>\n",
              "      <th>helpful_votes_scaled_1</th>\n",
              "      <th>helpful_1</th>\n",
              "      <th>helpful_votes_scaled_2</th>\n",
              "      <th>helpful_2</th>\n",
              "    </tr>\n",
              "  </thead>\n",
              "  <tbody>\n",
              "    <tr>\n",
              "      <th>1602</th>\n",
              "      <td>17</td>\n",
              "      <td>b'B0034PBL7Y'</td>\n",
              "      <td>b'389135987'</td>\n",
              "      <td>b'Wilson Triumph Tennis Racquet without Cover'</td>\n",
              "      <td>Overall a decent beginner's racket, but not wi...</td>\n",
              "      <td>b'Loose Strings'</td>\n",
              "      <td>b'R32M7D15A76195'</td>\n",
              "      <td>3</td>\n",
              "      <td>17</td>\n",
              "      <td>13.0</td>\n",
              "      <td>40.0</td>\n",
              "      <td>0.0</td>\n",
              "      <td>17.0</td>\n",
              "      <td>0.425000</td>\n",
              "      <td>True</td>\n",
              "      <td>0.425000</td>\n",
              "      <td>True</td>\n",
              "      <td>1.000000</td>\n",
              "      <td>True</td>\n",
              "    </tr>\n",
              "    <tr>\n",
              "      <th>4774</th>\n",
              "      <td>8</td>\n",
              "      <td>b'B006A2X4OQ'</td>\n",
              "      <td>b'282976541'</td>\n",
              "      <td>b'Head You Tek IG Radical MP Tennis Racquet Un...</td>\n",
              "      <td>I'm relatively new to tennis and had the Radic...</td>\n",
              "      <td>b'Playing more tennis'</td>\n",
              "      <td>b'R1CRO95VBJVV41'</td>\n",
              "      <td>5</td>\n",
              "      <td>9</td>\n",
              "      <td>13.0</td>\n",
              "      <td>31.0</td>\n",
              "      <td>1.0</td>\n",
              "      <td>8.0</td>\n",
              "      <td>0.258065</td>\n",
              "      <td>True</td>\n",
              "      <td>0.258065</td>\n",
              "      <td>True</td>\n",
              "      <td>1.000000</td>\n",
              "      <td>True</td>\n",
              "    </tr>\n",
              "    <tr>\n",
              "      <th>3721</th>\n",
              "      <td>6</td>\n",
              "      <td>b'B000OQBPOK'</td>\n",
              "      <td>b'726880504'</td>\n",
              "      <td>b'HEAD Liquidmetal 4 Prestrung Tennis Racquets'</td>\n",
              "      <td>This racquet replaced my oversized LM.  It is ...</td>\n",
              "      <td>b'Way more accurate compared to oversized.'</td>\n",
              "      <td>b'R1K74R6R1O22K6'</td>\n",
              "      <td>5</td>\n",
              "      <td>6</td>\n",
              "      <td>22.0</td>\n",
              "      <td>52.0</td>\n",
              "      <td>0.0</td>\n",
              "      <td>23.0</td>\n",
              "      <td>0.115385</td>\n",
              "      <td>True</td>\n",
              "      <td>0.115385</td>\n",
              "      <td>True</td>\n",
              "      <td>0.260870</td>\n",
              "      <td>False</td>\n",
              "    </tr>\n",
              "    <tr>\n",
              "      <th>1944</th>\n",
              "      <td>1</td>\n",
              "      <td>b'B000OQBPOK'</td>\n",
              "      <td>b'726880504'</td>\n",
              "      <td>b'HEAD Liquidmetal 4 Prestrung Tennis Racquets'</td>\n",
              "      <td>I bought it cause of the low price as my secon...</td>\n",
              "      <td>b'Nice racquet.'</td>\n",
              "      <td>b'R3OFZ9WKFST75S'</td>\n",
              "      <td>4</td>\n",
              "      <td>1</td>\n",
              "      <td>22.0</td>\n",
              "      <td>52.0</td>\n",
              "      <td>0.0</td>\n",
              "      <td>23.0</td>\n",
              "      <td>0.019231</td>\n",
              "      <td>False</td>\n",
              "      <td>0.019231</td>\n",
              "      <td>False</td>\n",
              "      <td>0.043478</td>\n",
              "      <td>False</td>\n",
              "    </tr>\n",
              "    <tr>\n",
              "      <th>3684</th>\n",
              "      <td>1</td>\n",
              "      <td>b'B0010BJ71G'</td>\n",
              "      <td>b'179386855'</td>\n",
              "      <td>b'Head Intelligence I.S12 Tennis Racquet Racket'</td>\n",
              "      <td>I bought this racquet for my wife who is a beg...</td>\n",
              "      <td>b'Heavy Racquet and Oddly Shaped'</td>\n",
              "      <td>b'R11EG5FD0BOB82'</td>\n",
              "      <td>2</td>\n",
              "      <td>2</td>\n",
              "      <td>16.0</td>\n",
              "      <td>21.0</td>\n",
              "      <td>0.0</td>\n",
              "      <td>5.0</td>\n",
              "      <td>0.047619</td>\n",
              "      <td>False</td>\n",
              "      <td>0.047619</td>\n",
              "      <td>False</td>\n",
              "      <td>0.200000</td>\n",
              "      <td>False</td>\n",
              "    </tr>\n",
              "  </tbody>\n",
              "</table>\n",
              "</div>"
            ],
            "text/plain": [
              "      data/helpful_votes data/product_id  ... helpful_votes_scaled_2 helpful_2\n",
              "1602                  17   b'B0034PBL7Y'  ...               1.000000      True\n",
              "4774                   8   b'B006A2X4OQ'  ...               1.000000      True\n",
              "3721                   6   b'B000OQBPOK'  ...               0.260870     False\n",
              "1944                   1   b'B000OQBPOK'  ...               0.043478     False\n",
              "3684                   1   b'B0010BJ71G'  ...               0.200000     False\n",
              "\n",
              "[5 rows x 19 columns]"
            ]
          },
          "metadata": {
            "tags": []
          },
          "execution_count": 79
        }
      ]
    },
    {
      "cell_type": "code",
      "metadata": {
        "colab": {
          "base_uri": "https://localhost:8080/",
          "height": 428
        },
        "id": "A2NL41vtZ_-j",
        "outputId": "ca98b75f-6358-4b51-9783-89e53160e549"
      },
      "source": [
        "new_doc_distribution = return_topics_distribution(sample_review_pos_1)\r\n",
        "most_sim_ids = get_most_similar_documents(new_doc_distribution,doc_topic_dist)\r\n",
        "print(most_sim_ids)\r\n",
        "most_similar_df = train_df.iloc[most_sim_ids,:]\r\n",
        "most_similar_df"
      ],
      "execution_count": 81,
      "outputs": [
        {
          "output_type": "stream",
          "text": [
            "[264 603 440 586 329]\n"
          ],
          "name": "stdout"
        },
        {
          "output_type": "execute_result",
          "data": {
            "text/html": [
              "<div>\n",
              "<style scoped>\n",
              "    .dataframe tbody tr th:only-of-type {\n",
              "        vertical-align: middle;\n",
              "    }\n",
              "\n",
              "    .dataframe tbody tr th {\n",
              "        vertical-align: top;\n",
              "    }\n",
              "\n",
              "    .dataframe thead th {\n",
              "        text-align: right;\n",
              "    }\n",
              "</style>\n",
              "<table border=\"1\" class=\"dataframe\">\n",
              "  <thead>\n",
              "    <tr style=\"text-align: right;\">\n",
              "      <th></th>\n",
              "      <th>data/helpful_votes</th>\n",
              "      <th>data/product_id</th>\n",
              "      <th>data/product_parent</th>\n",
              "      <th>data/product_title</th>\n",
              "      <th>data/review_body</th>\n",
              "      <th>data/review_headline</th>\n",
              "      <th>data/review_id</th>\n",
              "      <th>data/star_rating</th>\n",
              "      <th>data/total_votes</th>\n",
              "      <th>count</th>\n",
              "      <th>sum</th>\n",
              "      <th>min</th>\n",
              "      <th>max</th>\n",
              "      <th>helpful_votes_scaled</th>\n",
              "      <th>helpful</th>\n",
              "      <th>helpful_votes_scaled_1</th>\n",
              "      <th>helpful_1</th>\n",
              "      <th>helpful_votes_scaled_2</th>\n",
              "      <th>helpful_2</th>\n",
              "    </tr>\n",
              "  </thead>\n",
              "  <tbody>\n",
              "    <tr>\n",
              "      <th>2176</th>\n",
              "      <td>101</td>\n",
              "      <td>b'B000OQBP7C'</td>\n",
              "      <td>b'384056751'</td>\n",
              "      <td>b'Head Liquidmetal 8 Tennis Racquet'</td>\n",
              "      <td>Basically, I'm a  year old recreational . NTSC...</td>\n",
              "      <td>b'Tried and Liked others costing up to $200., ...</td>\n",
              "      <td>b'R2Q926GXNLNNCY'</td>\n",
              "      <td>5</td>\n",
              "      <td>105</td>\n",
              "      <td>117.0</td>\n",
              "      <td>227.0</td>\n",
              "      <td>0.0</td>\n",
              "      <td>101.0</td>\n",
              "      <td>0.444934</td>\n",
              "      <td>True</td>\n",
              "      <td>0.444934</td>\n",
              "      <td>True</td>\n",
              "      <td>1.000000</td>\n",
              "      <td>True</td>\n",
              "    </tr>\n",
              "    <tr>\n",
              "      <th>4764</th>\n",
              "      <td>10</td>\n",
              "      <td>b'B000N26HEI'</td>\n",
              "      <td>b'108377324'</td>\n",
              "      <td>b'Gamma Sports Tennis Racquet Leather Replacem...</td>\n",
              "      <td>i have been playing since i was yo. i have alw...</td>\n",
              "      <td>b'leather is better'</td>\n",
              "      <td>b'RKAJ5EPIPK6CQ'</td>\n",
              "      <td>5</td>\n",
              "      <td>10</td>\n",
              "      <td>26.0</td>\n",
              "      <td>40.0</td>\n",
              "      <td>0.0</td>\n",
              "      <td>10.0</td>\n",
              "      <td>0.250000</td>\n",
              "      <td>True</td>\n",
              "      <td>0.250000</td>\n",
              "      <td>True</td>\n",
              "      <td>1.000000</td>\n",
              "      <td>True</td>\n",
              "    </tr>\n",
              "    <tr>\n",
              "      <th>3498</th>\n",
              "      <td>2</td>\n",
              "      <td>b'B000OQBPQ8'</td>\n",
              "      <td>b'547332048'</td>\n",
              "      <td>b'HEAD Ti.S6 Tennis Racquet - Strung'</td>\n",
              "      <td>Its just okay. I needed a lightweight racket d...</td>\n",
              "      <td>b'Hate the strings'</td>\n",
              "      <td>b'R3BYGHERRPCIGC'</td>\n",
              "      <td>3</td>\n",
              "      <td>3</td>\n",
              "      <td>109.0</td>\n",
              "      <td>201.0</td>\n",
              "      <td>0.0</td>\n",
              "      <td>89.0</td>\n",
              "      <td>0.009950</td>\n",
              "      <td>False</td>\n",
              "      <td>0.009950</td>\n",
              "      <td>False</td>\n",
              "      <td>0.022472</td>\n",
              "      <td>False</td>\n",
              "    </tr>\n",
              "    <tr>\n",
              "      <th>4645</th>\n",
              "      <td>5</td>\n",
              "      <td>b'B00138ZLD4'</td>\n",
              "      <td>b'222823620'</td>\n",
              "      <td>b'Luxilon ALU Power Spin 127 Tennis Racquet St...</td>\n",
              "      <td>Love this string because once it is strung tig...</td>\n",
              "      <td>b'great for top spin hard hitters'</td>\n",
              "      <td>b'R1IV7UTXBF436K'</td>\n",
              "      <td>5</td>\n",
              "      <td>6</td>\n",
              "      <td>21.0</td>\n",
              "      <td>31.0</td>\n",
              "      <td>0.0</td>\n",
              "      <td>8.0</td>\n",
              "      <td>0.161290</td>\n",
              "      <td>True</td>\n",
              "      <td>0.161290</td>\n",
              "      <td>True</td>\n",
              "      <td>0.625000</td>\n",
              "      <td>True</td>\n",
              "    </tr>\n",
              "    <tr>\n",
              "      <th>2644</th>\n",
              "      <td>5</td>\n",
              "      <td>b'B0000AQCUS'</td>\n",
              "      <td>b'384056751'</td>\n",
              "      <td>b'Head Liquidmetal 8 Tennis Racquet'</td>\n",
              "      <td>I received this racquet as a Christmas gift, i...</td>\n",
              "      <td>b'great tennis racquet'</td>\n",
              "      <td>b'RRQIQ2L744RTU'</td>\n",
              "      <td>5</td>\n",
              "      <td>7</td>\n",
              "      <td>117.0</td>\n",
              "      <td>227.0</td>\n",
              "      <td>0.0</td>\n",
              "      <td>101.0</td>\n",
              "      <td>0.022026</td>\n",
              "      <td>False</td>\n",
              "      <td>0.022026</td>\n",
              "      <td>False</td>\n",
              "      <td>0.049505</td>\n",
              "      <td>False</td>\n",
              "    </tr>\n",
              "  </tbody>\n",
              "</table>\n",
              "</div>"
            ],
            "text/plain": [
              "      data/helpful_votes data/product_id  ... helpful_votes_scaled_2 helpful_2\n",
              "2176                 101   b'B000OQBP7C'  ...               1.000000      True\n",
              "4764                  10   b'B000N26HEI'  ...               1.000000      True\n",
              "3498                   2   b'B000OQBPQ8'  ...               0.022472     False\n",
              "4645                   5   b'B00138ZLD4'  ...               0.625000      True\n",
              "2644                   5   b'B0000AQCUS'  ...               0.049505     False\n",
              "\n",
              "[5 rows x 19 columns]"
            ]
          },
          "metadata": {
            "tags": []
          },
          "execution_count": 81
        }
      ]
    },
    {
      "cell_type": "code",
      "metadata": {
        "colab": {
          "base_uri": "https://localhost:8080/",
          "height": 428
        },
        "id": "vYtGfUTKZ3eX",
        "outputId": "72d4c883-0009-4b05-db61-95698acf92a7"
      },
      "source": [
        "new_doc_distribution = return_topics_distribution(sample_review_neg_2)\r\n",
        "most_sim_ids = get_most_similar_documents(new_doc_distribution,doc_topic_dist)\r\n",
        "print(most_sim_ids)\r\n",
        "most_similar_df = train_df.iloc[most_sim_ids,:]\r\n",
        "most_similar_df"
      ],
      "execution_count": 80,
      "outputs": [
        {
          "output_type": "stream",
          "text": [
            "[ 55 623 299 414 524]\n"
          ],
          "name": "stdout"
        },
        {
          "output_type": "execute_result",
          "data": {
            "text/html": [
              "<div>\n",
              "<style scoped>\n",
              "    .dataframe tbody tr th:only-of-type {\n",
              "        vertical-align: middle;\n",
              "    }\n",
              "\n",
              "    .dataframe tbody tr th {\n",
              "        vertical-align: top;\n",
              "    }\n",
              "\n",
              "    .dataframe thead th {\n",
              "        text-align: right;\n",
              "    }\n",
              "</style>\n",
              "<table border=\"1\" class=\"dataframe\">\n",
              "  <thead>\n",
              "    <tr style=\"text-align: right;\">\n",
              "      <th></th>\n",
              "      <th>data/helpful_votes</th>\n",
              "      <th>data/product_id</th>\n",
              "      <th>data/product_parent</th>\n",
              "      <th>data/product_title</th>\n",
              "      <th>data/review_body</th>\n",
              "      <th>data/review_headline</th>\n",
              "      <th>data/review_id</th>\n",
              "      <th>data/star_rating</th>\n",
              "      <th>data/total_votes</th>\n",
              "      <th>count</th>\n",
              "      <th>sum</th>\n",
              "      <th>min</th>\n",
              "      <th>max</th>\n",
              "      <th>helpful_votes_scaled</th>\n",
              "      <th>helpful</th>\n",
              "      <th>helpful_votes_scaled_1</th>\n",
              "      <th>helpful_1</th>\n",
              "      <th>helpful_votes_scaled_2</th>\n",
              "      <th>helpful_2</th>\n",
              "    </tr>\n",
              "  </thead>\n",
              "  <tbody>\n",
              "    <tr>\n",
              "      <th>477</th>\n",
              "      <td>1</td>\n",
              "      <td>b'B00BCP4WHY'</td>\n",
              "      <td>b'453459277'</td>\n",
              "      <td>b'Wilson US Open Junior Tennis Racquet'</td>\n",
              "      <td>Easy to use beginner tennis racket for my kids.</td>\n",
              "      <td>b'Four Stars'</td>\n",
              "      <td>b'RXOT8OW8SDC84'</td>\n",
              "      <td>4</td>\n",
              "      <td>2</td>\n",
              "      <td>159.0</td>\n",
              "      <td>1016.0</td>\n",
              "      <td>0.0</td>\n",
              "      <td>595.0</td>\n",
              "      <td>0.000984</td>\n",
              "      <td>False</td>\n",
              "      <td>0.000984</td>\n",
              "      <td>False</td>\n",
              "      <td>0.001681</td>\n",
              "      <td>False</td>\n",
              "    </tr>\n",
              "    <tr>\n",
              "      <th>4904</th>\n",
              "      <td>1</td>\n",
              "      <td>b'B00AY6DBW4'</td>\n",
              "      <td>b'16849618'</td>\n",
              "      <td>b'Wilson Energy Extra Large Tennis Racquet wit...</td>\n",
              "      <td>Great Buy and excellent quality</td>\n",
              "      <td>b'Great Buy and excellent quality'</td>\n",
              "      <td>b'R6JCFN97NCLID'</td>\n",
              "      <td>5</td>\n",
              "      <td>1</td>\n",
              "      <td>86.0</td>\n",
              "      <td>114.0</td>\n",
              "      <td>0.0</td>\n",
              "      <td>24.0</td>\n",
              "      <td>0.008772</td>\n",
              "      <td>False</td>\n",
              "      <td>0.008772</td>\n",
              "      <td>False</td>\n",
              "      <td>0.041667</td>\n",
              "      <td>False</td>\n",
              "    </tr>\n",
              "    <tr>\n",
              "      <th>2425</th>\n",
              "      <td>1</td>\n",
              "      <td>b'B0000AQAEZ'</td>\n",
              "      <td>b'882115572'</td>\n",
              "      <td>b'Head Tis5 Comfortzone Performance Tennis Rac...</td>\n",
              "      <td>La raqueta no la habia probado, pero me acomod...</td>\n",
              "      <td>b'Me gusto'</td>\n",
              "      <td>b'R23FFY15VSAJQ3'</td>\n",
              "      <td>5</td>\n",
              "      <td>3</td>\n",
              "      <td>62.0</td>\n",
              "      <td>95.0</td>\n",
              "      <td>0.0</td>\n",
              "      <td>13.0</td>\n",
              "      <td>0.010526</td>\n",
              "      <td>False</td>\n",
              "      <td>0.010526</td>\n",
              "      <td>False</td>\n",
              "      <td>0.076923</td>\n",
              "      <td>False</td>\n",
              "    </tr>\n",
              "    <tr>\n",
              "      <th>3361</th>\n",
              "      <td>1</td>\n",
              "      <td>b'B00MT67USS'</td>\n",
              "      <td>b'798215989'</td>\n",
              "      <td>b'Wilson Pro Staff RF97 Autograph Tennis Racquet'</td>\n",
              "      <td>Excellent racquet . Has a very good control on...</td>\n",
              "      <td>b'Excellent racquet. Has a very good control o...</td>\n",
              "      <td>b'RPKKSSUJB8J4V'</td>\n",
              "      <td>5</td>\n",
              "      <td>1</td>\n",
              "      <td>14.0</td>\n",
              "      <td>52.0</td>\n",
              "      <td>0.0</td>\n",
              "      <td>17.0</td>\n",
              "      <td>0.019231</td>\n",
              "      <td>False</td>\n",
              "      <td>0.019231</td>\n",
              "      <td>False</td>\n",
              "      <td>0.058824</td>\n",
              "      <td>False</td>\n",
              "    </tr>\n",
              "    <tr>\n",
              "      <th>4106</th>\n",
              "      <td>1</td>\n",
              "      <td>b'B0090WWUMK'</td>\n",
              "      <td>b'260363376'</td>\n",
              "      <td>b'adidas Barricade III Tour 3 Tennis Racquet Bag'</td>\n",
              "      <td>Awesome. Perfect size.</td>\n",
              "      <td>b'Five Stars'</td>\n",
              "      <td>b'R12GTUIW48KUI4'</td>\n",
              "      <td>5</td>\n",
              "      <td>1</td>\n",
              "      <td>38.0</td>\n",
              "      <td>22.0</td>\n",
              "      <td>0.0</td>\n",
              "      <td>5.0</td>\n",
              "      <td>0.045455</td>\n",
              "      <td>False</td>\n",
              "      <td>0.045455</td>\n",
              "      <td>False</td>\n",
              "      <td>0.200000</td>\n",
              "      <td>False</td>\n",
              "    </tr>\n",
              "  </tbody>\n",
              "</table>\n",
              "</div>"
            ],
            "text/plain": [
              "      data/helpful_votes data/product_id  ... helpful_votes_scaled_2 helpful_2\n",
              "477                    1   b'B00BCP4WHY'  ...               0.001681     False\n",
              "4904                   1   b'B00AY6DBW4'  ...               0.041667     False\n",
              "2425                   1   b'B0000AQAEZ'  ...               0.076923     False\n",
              "3361                   1   b'B00MT67USS'  ...               0.058824     False\n",
              "4106                   1   b'B0090WWUMK'  ...               0.200000     False\n",
              "\n",
              "[5 rows x 19 columns]"
            ]
          },
          "metadata": {
            "tags": []
          },
          "execution_count": 80
        }
      ]
    },
    {
      "cell_type": "markdown",
      "metadata": {
        "id": "9_2OWxbSaUe3"
      },
      "source": [
        "The most matching documents to the sample reviews seems to correlate with its actual usefulness."
      ]
    },
    {
      "cell_type": "markdown",
      "metadata": {
        "id": "eflAnwgACZid"
      },
      "source": [
        "#Predicting usefulness scores by averging the score of k most similar documents"
      ]
    },
    {
      "cell_type": "code",
      "metadata": {
        "id": "71qjAkY8Kjy2"
      },
      "source": [
        "def predict_usefulness_score(doc):\r\n",
        "  new_doc_distribution = return_topics_distribution(doc)\r\n",
        "  most_sim_ids = get_most_similar_documents(new_doc_distribution,doc_topic_dist,3)\r\n",
        "  most_sim_df_scores = train_df.iloc[most_sim_ids,:]\r\n",
        "  return np.mean(most_sim_df_scores['helpful_votes_scaled_2'])"
      ],
      "execution_count": 83,
      "outputs": []
    },
    {
      "cell_type": "code",
      "metadata": {
        "colab": {
          "base_uri": "https://localhost:8080/"
        },
        "id": "2xfMXHlcLSlS",
        "outputId": "016d7601-ff82-43a5-da1f-3c198241a945"
      },
      "source": [
        "print(predict_usefulness_score(sample_review_neg_2))\r\n",
        "print(predict_usefulness_score(sample_review_pos_2))"
      ],
      "execution_count": 92,
      "outputs": [
        {
          "output_type": "stream",
          "text": [
            "0.05913775766716942\n",
            "0.753623188405797\n"
          ],
          "name": "stdout"
        }
      ]
    },
    {
      "cell_type": "markdown",
      "metadata": {
        "id": "L_JdekPebJfL"
      },
      "source": [
        "# Apply to entire dataset (which includes both seen and unseen data)\r\n",
        "\r\n",
        "Seen data: low useful to high use, mostly low\r\n",
        "\r\n",
        "Unseen data: all unuseful"
      ]
    },
    {
      "cell_type": "code",
      "metadata": {
        "colab": {
          "base_uri": "https://localhost:8080/",
          "height": 394
        },
        "id": "UonGH-PpMJ7N",
        "outputId": "cb31512c-44ad-4aba-ad3a-4b305390d45e"
      },
      "source": [
        "#apply to entire train data set\r\n",
        "final_data['predicted_score'] = final_data['data/review_body'].apply(predict_usefulness_score)\r\n",
        "final_data.head(5)"
      ],
      "execution_count": 93,
      "outputs": [
        {
          "output_type": "execute_result",
          "data": {
            "text/html": [
              "<div>\n",
              "<style scoped>\n",
              "    .dataframe tbody tr th:only-of-type {\n",
              "        vertical-align: middle;\n",
              "    }\n",
              "\n",
              "    .dataframe tbody tr th {\n",
              "        vertical-align: top;\n",
              "    }\n",
              "\n",
              "    .dataframe thead th {\n",
              "        text-align: right;\n",
              "    }\n",
              "</style>\n",
              "<table border=\"1\" class=\"dataframe\">\n",
              "  <thead>\n",
              "    <tr style=\"text-align: right;\">\n",
              "      <th></th>\n",
              "      <th>data/helpful_votes</th>\n",
              "      <th>data/product_id</th>\n",
              "      <th>data/product_parent</th>\n",
              "      <th>data/product_title</th>\n",
              "      <th>data/review_body</th>\n",
              "      <th>data/review_headline</th>\n",
              "      <th>data/review_id</th>\n",
              "      <th>data/star_rating</th>\n",
              "      <th>data/total_votes</th>\n",
              "      <th>count</th>\n",
              "      <th>sum</th>\n",
              "      <th>min</th>\n",
              "      <th>max</th>\n",
              "      <th>predicted_score</th>\n",
              "    </tr>\n",
              "  </thead>\n",
              "  <tbody>\n",
              "    <tr>\n",
              "      <th>0</th>\n",
              "      <td>1</td>\n",
              "      <td>b'B000OQ74FE'</td>\n",
              "      <td>b'447336068'</td>\n",
              "      <td>b'HEAD Liquidmetal 4 Tennis Racquet (4-3/8), S...</td>\n",
              "      <td>b\"Supposedly one of the best novice racquets. ...</td>\n",
              "      <td>b'highly rated'</td>\n",
              "      <td>b'R12VYI1R99EI1Q'</td>\n",
              "      <td>5</td>\n",
              "      <td>4</td>\n",
              "      <td>22.0</td>\n",
              "      <td>38.0</td>\n",
              "      <td>0.0</td>\n",
              "      <td>10.0</td>\n",
              "      <td>0.095368</td>\n",
              "    </tr>\n",
              "    <tr>\n",
              "      <th>1</th>\n",
              "      <td>1</td>\n",
              "      <td>b'B0034PBLA6'</td>\n",
              "      <td>b'16849618'</td>\n",
              "      <td>b'Wilson Energy Extra Large Tennis Racquet wit...</td>\n",
              "      <td>b'Wilson Energy Extra Large Tennis Racquet wit...</td>\n",
              "      <td>b'Wilson Energy Extra Large Tennis Racquet wit...</td>\n",
              "      <td>b'R31ZPNKKOSMF2L'</td>\n",
              "      <td>3</td>\n",
              "      <td>5</td>\n",
              "      <td>86.0</td>\n",
              "      <td>114.0</td>\n",
              "      <td>0.0</td>\n",
              "      <td>24.0</td>\n",
              "      <td>0.109361</td>\n",
              "    </tr>\n",
              "    <tr>\n",
              "      <th>2</th>\n",
              "      <td>0</td>\n",
              "      <td>b'B006A2V4KC'</td>\n",
              "      <td>b'81787317'</td>\n",
              "      <td>b'Head Youtek IG Prestige Pro Tennis Racquet (...</td>\n",
              "      <td>b\"I've been playing with Head Racquets for man...</td>\n",
              "      <td>b'Best of the Prestige frames'</td>\n",
              "      <td>b'R2NOC0IE7BEWWN'</td>\n",
              "      <td>5</td>\n",
              "      <td>0</td>\n",
              "      <td>5.0</td>\n",
              "      <td>8.0</td>\n",
              "      <td>0.0</td>\n",
              "      <td>6.0</td>\n",
              "      <td>0.174423</td>\n",
              "    </tr>\n",
              "    <tr>\n",
              "      <th>3</th>\n",
              "      <td>0</td>\n",
              "      <td>b'B000OQBP7C'</td>\n",
              "      <td>b'384056751'</td>\n",
              "      <td>b'Head Liquidmetal 8 Tennis Racquet'</td>\n",
              "      <td>b'I chose this racquet because its price and w...</td>\n",
              "      <td>b'Great!!!'</td>\n",
              "      <td>b'R2IDP12RDJ1SB5'</td>\n",
              "      <td>5</td>\n",
              "      <td>1</td>\n",
              "      <td>117.0</td>\n",
              "      <td>227.0</td>\n",
              "      <td>0.0</td>\n",
              "      <td>101.0</td>\n",
              "      <td>0.062595</td>\n",
              "    </tr>\n",
              "    <tr>\n",
              "      <th>4</th>\n",
              "      <td>1</td>\n",
              "      <td>b'B004IA8GL8'</td>\n",
              "      <td>b'586581984'</td>\n",
              "      <td>b\"Wilson unstrung'11 Blade Lite BLX Tennis Rac...</td>\n",
              "      <td>b'The racket is really nice for $60+. There is...</td>\n",
              "      <td>b'Good racket'</td>\n",
              "      <td>b'R2VG95KHXUZG1S'</td>\n",
              "      <td>4</td>\n",
              "      <td>1</td>\n",
              "      <td>6.0</td>\n",
              "      <td>6.0</td>\n",
              "      <td>0.0</td>\n",
              "      <td>2.0</td>\n",
              "      <td>0.048935</td>\n",
              "    </tr>\n",
              "  </tbody>\n",
              "</table>\n",
              "</div>"
            ],
            "text/plain": [
              "   data/helpful_votes data/product_id  ...    max predicted_score\n",
              "0                   1   b'B000OQ74FE'  ...   10.0        0.095368\n",
              "1                   1   b'B0034PBLA6'  ...   24.0        0.109361\n",
              "2                   0   b'B006A2V4KC'  ...    6.0        0.174423\n",
              "3                   0   b'B000OQBP7C'  ...  101.0        0.062595\n",
              "4                   1   b'B004IA8GL8'  ...    2.0        0.048935\n",
              "\n",
              "[5 rows x 14 columns]"
            ]
          },
          "metadata": {
            "tags": []
          },
          "execution_count": 93
        }
      ]
    },
    {
      "cell_type": "code",
      "metadata": {
        "id": "p0D0qm1CcJp_"
      },
      "source": [
        "#save it\r\n",
        "predicted_data = 'US_Tennis_Racquet_Reviews_Predictions.csv'\r\n",
        "final_data.to_csv(home_dir+predicted_data)"
      ],
      "execution_count": 94,
      "outputs": []
    },
    {
      "cell_type": "markdown",
      "metadata": {
        "id": "1P6rM5POOmPU"
      },
      "source": [
        "# Visualize the results"
      ]
    },
    {
      "cell_type": "code",
      "metadata": {
        "id": "lpa_MPbJ4byp"
      },
      "source": [
        "#load saved prediction data. Uncomment if needed\r\n",
        "predicted_data = 'US_Tennis_Racquet_Reviews_Predictions.csv'\r\n",
        "final_data = pd.read_csv(home_dir+predicted_data)"
      ],
      "execution_count": 95,
      "outputs": []
    },
    {
      "cell_type": "markdown",
      "metadata": {
        "id": "Ikk3grYod7SQ"
      },
      "source": [
        "Regression approach: see how far our predictions deviates from actual values"
      ]
    },
    {
      "cell_type": "code",
      "metadata": {
        "id": "Qx8BGeU7ci-e"
      },
      "source": [
        "final_data['helpful_votes_scaled_2'] = final_data.apply(lambda row: MinMaxScale(row),axis=1)"
      ],
      "execution_count": 98,
      "outputs": []
    },
    {
      "cell_type": "code",
      "metadata": {
        "colab": {
          "base_uri": "https://localhost:8080/",
          "height": 592
        },
        "id": "vqvN5-C-Oux9",
        "outputId": "c6778412-af71-4eb3-8b59-9b3f15c53a04"
      },
      "source": [
        "true_vals = final_data['helpful_votes_scaled_2']\r\n",
        "predicted_vals = final_data['predicted_score']\r\n",
        "plt.figure(figsize=(10,10))\r\n",
        "plt.plot(predicted_vals - true_vals,marker='o',linestyle='')\r\n",
        "plt.show()"
      ],
      "execution_count": 100,
      "outputs": [
        {
          "output_type": "display_data",
          "data": {
            "image/png": "[encoded data removed]",
            "text/plain": [
              "<Figure size 720x720 with 1 Axes>"
            ]
          },
          "metadata": {
            "tags": [],
            "needs_background": "light"
          }
        }
      ]
    },
    {
      "cell_type": "markdown",
      "metadata": {
        "id": "ZE__g4tlfQgW"
      },
      "source": [
        "Or if a visiable line can be detected:"
      ]
    },
    {
      "cell_type": "code",
      "metadata": {
        "colab": {
          "base_uri": "https://localhost:8080/",
          "height": 611
        },
        "id": "l_zuF34wTDzP",
        "outputId": "433cea74-be0e-4920-b4d9-89c18e5c7ea7"
      },
      "source": [
        "true_vals = final_data['helpful_votes_scaled_2']\r\n",
        "predicted_vals = final_data['predicted_score']\r\n",
        "plt.figure(figsize=(10,10))\r\n",
        "plt.scatter(true_vals, predicted_vals)\r\n",
        "plt.xlabel('True Values', fontsize=15)\r\n",
        "plt.ylabel('Predictions', fontsize=15)\r\n",
        "plt.xlim(0,0.2)\r\n",
        "plt.show()"
      ],
      "execution_count": 102,
      "outputs": [
        {
          "output_type": "display_data",
          "data": {
            "image/png": "[encoded data removed]",
            "text/plain": [
              "<Figure size 720x720 with 1 Axes>"
            ]
          },
          "metadata": {
            "tags": [],
            "needs_background": "light"
          }
        }
      ]
    },
    {
      "cell_type": "markdown",
      "metadata": {
        "id": "BLw___oieQgz"
      },
      "source": [
        "Classification approach: how accurate our model predicts based on a arbitrary cutoff value"
      ]
    },
    {
      "cell_type": "code",
      "metadata": {
        "colab": {
          "base_uri": "https://localhost:8080/",
          "height": 142
        },
        "id": "IiuKEHRw4_TN",
        "outputId": "cdb63841-d024-4c71-99ea-98b150416d3c"
      },
      "source": [
        "CUT_OFF_VALUE = 0.50\r\n",
        "final_data['predicted_class'] = np.where(final_data['predicted_score'] >= CUT_OFF_VALUE,True,False)\r\n",
        "final_data['actual_class'] = np.where(final_data['helpful_votes_scaled_2'] >= CUT_OFF_VALUE,True,False)\r\n",
        "pd.crosstab(final_data['actual_class'],final_data['predicted_class'],\r\n",
        "            margins_name=\"Total\",rownames=['Actual Class'], colnames=['Predicted Class'],normalize=False)\r\n"
      ],
      "execution_count": 107,
      "outputs": [
        {
          "output_type": "execute_result",
          "data": {
            "text/html": [
              "<div>\n",
              "<style scoped>\n",
              "    .dataframe tbody tr th:only-of-type {\n",
              "        vertical-align: middle;\n",
              "    }\n",
              "\n",
              "    .dataframe tbody tr th {\n",
              "        vertical-align: top;\n",
              "    }\n",
              "\n",
              "    .dataframe thead th {\n",
              "        text-align: right;\n",
              "    }\n",
              "</style>\n",
              "<table border=\"1\" class=\"dataframe\">\n",
              "  <thead>\n",
              "    <tr style=\"text-align: right;\">\n",
              "      <th>Predicted Class</th>\n",
              "      <th>False</th>\n",
              "      <th>True</th>\n",
              "    </tr>\n",
              "    <tr>\n",
              "      <th>Actual Class</th>\n",
              "      <th></th>\n",
              "      <th></th>\n",
              "    </tr>\n",
              "  </thead>\n",
              "  <tbody>\n",
              "    <tr>\n",
              "      <th>False</th>\n",
              "      <td>4230</td>\n",
              "      <td>210</td>\n",
              "    </tr>\n",
              "    <tr>\n",
              "      <th>True</th>\n",
              "      <td>731</td>\n",
              "      <td>81</td>\n",
              "    </tr>\n",
              "  </tbody>\n",
              "</table>\n",
              "</div>"
            ],
            "text/plain": [
              "Predicted Class  False  True \n",
              "Actual Class                 \n",
              "False             4230    210\n",
              "True               731     81"
            ]
          },
          "metadata": {
            "tags": []
          },
          "execution_count": 107
        }
      ]
    },
    {
      "cell_type": "code",
      "metadata": {
        "colab": {
          "base_uri": "https://localhost:8080/"
        },
        "id": "G97XS7zZ9WYH",
        "outputId": "80684b24-51da-482a-dc2a-a1ebcdedea4c"
      },
      "source": [
        "# A cleaner way to report classification metrics\r\n",
        "y_test = final_data['actual_class']\r\n",
        "y_pred = final_data['predicted_class']\r\n",
        "print(accuracy_score(y_test,y_pred))\r\n",
        "print(confusion_matrix(y_test,y_pred))\r\n",
        "print(classification_report(y_test,y_pred))"
      ],
      "execution_count": 108,
      "outputs": [
        {
          "output_type": "stream",
          "text": [
            "0.8208301599390708\n",
            "[[4230  210]\n",
            " [ 731   81]]\n",
            "              precision    recall  f1-score   support\n",
            "\n",
            "       False       0.85      0.95      0.90      4440\n",
            "        True       0.28      0.10      0.15       812\n",
            "\n",
            "    accuracy                           0.82      5252\n",
            "   macro avg       0.57      0.53      0.52      5252\n",
            "weighted avg       0.76      0.82      0.78      5252\n",
            "\n"
          ],
          "name": "stdout"
        }
      ]
    }
  ]
}