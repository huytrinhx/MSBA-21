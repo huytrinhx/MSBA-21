{
  "nbformat": 4,
  "nbformat_minor": 0,
  "metadata": {
    "colab": {
      "name": "Predicting the usefulness of Amazon Reviews_Base_Train(LDA+JSD).ipynb",
      "provenance": [],
      "collapsed_sections": [
        "2JVkgHk25qvt"
      ],
      "mount_file_id": "1tRKee7DTS8AH4euM519VGPLxpS7klc_S",
      "authorship_tag": "ABX9TyPFdmP9LJEmOsE2rdDySOT9",
      "include_colab_link": true
    },
    "kernelspec": {
      "name": "python3",
      "display_name": "Python 3"
    },
    "accelerator": "GPU"
  },
  "cells": [
    {
      "cell_type": "markdown",
      "metadata": {
        "id": "view-in-github",
        "colab_type": "text"
      },
      "source": [
        "<a href=\"https://colab.research.google.com/github/huytrinhx/lda-topic-modelling/blob/main/Predicting_the_usefulness_of_Amazon_Reviews_Base_Train(LDA%2BJSD).ipynb\" target=\"_parent\"><img src=\"https://colab.research.google.com/assets/colab-badge.svg\" alt=\"Open In Colab\"/></a>"
      ]
    },
    {
      "cell_type": "markdown",
      "metadata": {
        "id": "jojqGImw5h-3"
      },
      "source": [
        "#Set up"
      ]
    },
    {
      "cell_type": "markdown",
      "metadata": {
        "id": "RREOIchb6W-5"
      },
      "source": [
        "Mount google drive to save data and models to local google drive folder"
      ]
    },
    {
      "cell_type": "code",
      "metadata": {
        "colab": {
          "base_uri": "https://localhost:8080/"
        },
        "id": "6Z3cPpK72KHZ",
        "outputId": "f751d79a-4464-4db8-d4a5-d193bd8519a2"
      },
      "source": [
        "from google.colab import drive\n",
        "drive.mount('/content/gdrive')"
      ],
      "execution_count": 1,
      "outputs": [
        {
          "output_type": "stream",
          "text": [
            "Mounted at /content/gdrive\n"
          ],
          "name": "stdout"
        }
      ]
    },
    {
      "cell_type": "code",
      "metadata": {
        "id": "z-zDwLkU7GXy"
      },
      "source": [
        "home_dir = '/content/gdrive/MyDrive/Data/'\r\n",
        "data_dir = home_dir+'US_Tennis_Racquet_Reviews_Dataset.csv'"
      ],
      "execution_count": 2,
      "outputs": []
    },
    {
      "cell_type": "code",
      "metadata": {
        "colab": {
          "base_uri": "https://localhost:8080/"
        },
        "id": "RUcLkv4tMNVL",
        "outputId": "40f77758-5e50-4cbe-9b4c-99e28ff1964c"
      },
      "source": [
        "import numpy as np #for matrix operations\n",
        "import tensorflow as tf #general tensorflows to work with amazon datasets\n",
        "import tensorflow_hub as hub \n",
        "import tensorflow_datasets as tfds\n",
        "import pandas as pd # for data tables manipulation\n",
        "import matplotlib.pyplot as plt # for plotting\n",
        "import seaborn as sns # for more fancy visualization\n",
        "\n",
        "!pip install nltk\n",
        "import nltk # library to clean and preprocess text\n",
        "nltk.download(\"stopwords\")\n",
        "from nltk.tokenize import RegexpTokenizer\n",
        "from nltk.corpus import stopwords\n",
        "from nltk.stem.snowball import SnowballStemmer\n",
        "!pip install stop_words\n",
        "from stop_words import get_stop_words\n",
        "\n",
        "import gensim # library to run LDA algorithms\n",
        "from gensim import corpora, models\n",
        "import operator # for list operations\n",
        "import pickle # for saving model and data\n",
        "import random # for random generators\n",
        "!pip install pyLDAvis\n",
        "import pyLDAvis.gensim # for visualize LDA output\n",
        "from scipy.spatial import distance # calculate Janson-Shannon Distance\n",
        "from sklearn.preprocessing import MinMaxScaler # Rescale useful votes count \n",
        "from sklearn.metrics import classification_report, confusion_matrix, accuracy_score # report classficiation metrics\n",
        "import warnings #ignore warnings\n",
        "warnings.filterwarnings('ignore')\n",
        "print(\"Version: \", tf.__version__)\n",
        "print(\"Eager mode: \", tf.executing_eagerly())\n",
        "print(\"Hub version: \", hub.__version__)\n",
        "print(\"GPU is\", \"available\" if tf.config.list_physical_devices('GPU') else \"NOT AVAILABLE\")"
      ],
      "execution_count": 3,
      "outputs": [
        {
          "output_type": "stream",
          "text": [
            "Requirement already satisfied: nltk in /usr/local/lib/python3.6/dist-packages (3.2.5)\n",
            "Requirement already satisfied: six in /usr/local/lib/python3.6/dist-packages (from nltk) (1.15.0)\n",
            "[nltk_data] Downloading package stopwords to /root/nltk_data...\n",
            "[nltk_data]   Unzipping corpora/stopwords.zip.\n",
            "Collecting stop_words\n",
            "  Downloading https://files.pythonhosted.org/packages/1c/cb/d58290804b7a4c5daa42abbbe2a93c477ae53e45541b1825e86f0dfaaf63/stop-words-2018.7.23.tar.gz\n",
            "Building wheels for collected packages: stop-words\n",
            "  Building wheel for stop-words (setup.py) ... \u001b[?25l\u001b[?25hdone\n",
            "  Created wheel for stop-words: filename=stop_words-2018.7.23-cp36-none-any.whl size=32919 sha256=26f25ca336c49052c3b2d26c39394ee80de8871d6f07c5bb07d42afd9eea2353\n",
            "  Stored in directory: /root/.cache/pip/wheels/75/37/6a/2b295e03bd07290f0da95c3adb9a74ba95fbc333aa8b0c7c78\n",
            "Successfully built stop-words\n",
            "Installing collected packages: stop-words\n",
            "Successfully installed stop-words-2018.7.23\n",
            "Collecting pyLDAvis\n",
            "\u001b[?25l  Downloading https://files.pythonhosted.org/packages/a5/3a/af82e070a8a96e13217c8f362f9a73e82d61ac8fff3a2561946a97f96266/pyLDAvis-2.1.2.tar.gz (1.6MB)\n",
            "\u001b[K     |████████████████████████████████| 1.6MB 10.9MB/s \n",
            "\u001b[?25hRequirement already satisfied: wheel>=0.23.0 in /usr/local/lib/python3.6/dist-packages (from pyLDAvis) (0.36.2)\n",
            "Requirement already satisfied: numpy>=1.9.2 in /usr/local/lib/python3.6/dist-packages (from pyLDAvis) (1.19.4)\n",
            "Requirement already satisfied: scipy>=0.18.0 in /usr/local/lib/python3.6/dist-packages (from pyLDAvis) (1.4.1)\n",
            "Requirement already satisfied: pandas>=0.17.0 in /usr/local/lib/python3.6/dist-packages (from pyLDAvis) (1.1.5)\n",
            "Requirement already satisfied: joblib>=0.8.4 in /usr/local/lib/python3.6/dist-packages (from pyLDAvis) (1.0.0)\n",
            "Requirement already satisfied: jinja2>=2.7.2 in /usr/local/lib/python3.6/dist-packages (from pyLDAvis) (2.11.2)\n",
            "Requirement already satisfied: numexpr in /usr/local/lib/python3.6/dist-packages (from pyLDAvis) (2.7.1)\n",
            "Requirement already satisfied: pytest in /usr/local/lib/python3.6/dist-packages (from pyLDAvis) (3.6.4)\n",
            "Requirement already satisfied: future in /usr/local/lib/python3.6/dist-packages (from pyLDAvis) (0.16.0)\n",
            "Collecting funcy\n",
            "  Downloading https://files.pythonhosted.org/packages/66/89/479de0afbbfb98d1c4b887936808764627300208bb771fcd823403645a36/funcy-1.15-py2.py3-none-any.whl\n",
            "Requirement already satisfied: python-dateutil>=2.7.3 in /usr/local/lib/python3.6/dist-packages (from pandas>=0.17.0->pyLDAvis) (2.8.1)\n",
            "Requirement already satisfied: pytz>=2017.2 in /usr/local/lib/python3.6/dist-packages (from pandas>=0.17.0->pyLDAvis) (2018.9)\n",
            "Requirement already satisfied: MarkupSafe>=0.23 in /usr/local/lib/python3.6/dist-packages (from jinja2>=2.7.2->pyLDAvis) (1.1.1)\n",
            "Requirement already satisfied: six>=1.10.0 in /usr/local/lib/python3.6/dist-packages (from pytest->pyLDAvis) (1.15.0)\n",
            "Requirement already satisfied: more-itertools>=4.0.0 in /usr/local/lib/python3.6/dist-packages (from pytest->pyLDAvis) (8.6.0)\n",
            "Requirement already satisfied: py>=1.5.0 in /usr/local/lib/python3.6/dist-packages (from pytest->pyLDAvis) (1.10.0)\n",
            "Requirement already satisfied: pluggy<0.8,>=0.5 in /usr/local/lib/python3.6/dist-packages (from pytest->pyLDAvis) (0.7.1)\n",
            "Requirement already satisfied: setuptools in /usr/local/lib/python3.6/dist-packages (from pytest->pyLDAvis) (51.0.0)\n",
            "Requirement already satisfied: attrs>=17.4.0 in /usr/local/lib/python3.6/dist-packages (from pytest->pyLDAvis) (20.3.0)\n",
            "Requirement already satisfied: atomicwrites>=1.0 in /usr/local/lib/python3.6/dist-packages (from pytest->pyLDAvis) (1.4.0)\n",
            "Building wheels for collected packages: pyLDAvis\n",
            "  Building wheel for pyLDAvis (setup.py) ... \u001b[?25l\u001b[?25hdone\n",
            "  Created wheel for pyLDAvis: filename=pyLDAvis-2.1.2-py2.py3-none-any.whl size=97712 sha256=1faab4bd8160ab3c779828b39fcf20b1456739e23bbb6b51e0d9cbec29f955e0\n",
            "  Stored in directory: /root/.cache/pip/wheels/98/71/24/513a99e58bb6b8465bae4d2d5e9dba8f0bef8179e3051ac414\n",
            "Successfully built pyLDAvis\n",
            "Installing collected packages: funcy, pyLDAvis\n",
            "Successfully installed funcy-1.15 pyLDAvis-2.1.2\n",
            "Version:  2.4.0\n",
            "Eager mode:  True\n",
            "Hub version:  0.10.0\n",
            "GPU is available\n"
          ],
          "name": "stdout"
        }
      ]
    },
    {
      "cell_type": "markdown",
      "metadata": {
        "id": "2JVkgHk25qvt"
      },
      "source": [
        "#Download the dataset (Amazon Reviews/Sports)\n",
        "\n",
        "* Change the dataset name if your scope is different\n",
        "* Only do this once and save to local drive because loading the dataset the first time is very time-consuming"
      ]
    },
    {
      "cell_type": "code",
      "metadata": {
        "id": "HDkNgl78NCMT"
      },
      "source": [
        "ds, info = tfds.load(name=\"amazon_us_reviews/Sports_v1_00\", \n",
        "                        shuffle_files=True,\n",
        "                        with_info=True)\n",
        "print(ds)\n",
        "print(info)"
      ],
      "execution_count": null,
      "outputs": []
    },
    {
      "cell_type": "markdown",
      "metadata": {
        "id": "IN_AT4Kz8Z_z"
      },
      "source": [
        "Filter data for only products related to tennis racqet (US market)"
      ]
    },
    {
      "cell_type": "code",
      "metadata": {
        "id": "FdWL_U1tJGho"
      },
      "source": [
        "ds_US = ds['train'].filter(lambda x: x['data']['marketplace'] == 'US')"
      ],
      "execution_count": null,
      "outputs": []
    },
    {
      "cell_type": "code",
      "metadata": {
        "id": "UDZ8WvEyOkkx"
      },
      "source": [
        "ds_Tennis = ds_US.filter(lambda x: tf.strings.regex_full_match(tf.strings.lower(x['data']['product_title']),\".*tennis.*\"))"
      ],
      "execution_count": null,
      "outputs": []
    },
    {
      "cell_type": "code",
      "metadata": {
        "id": "dAWef4DReLAW"
      },
      "source": [
        "ds_Racquet = ds_Tennis.filter(lambda x: tf.strings.regex_full_match(tf.strings.lower(x['data']['product_title']),\".*racquet.*\"))"
      ],
      "execution_count": null,
      "outputs": []
    },
    {
      "cell_type": "code",
      "metadata": {
        "id": "oioYne5ANqIF"
      },
      "source": [
        "tfds.as_dataframe(ds_Racquet.take(5))"
      ],
      "execution_count": null,
      "outputs": []
    },
    {
      "cell_type": "markdown",
      "metadata": {
        "id": "9Zn_c74h6Nh6"
      },
      "source": [
        "Convert dataset to pandas dataframe:"
      ]
    },
    {
      "cell_type": "code",
      "metadata": {
        "id": "N2G4t41Dej9C"
      },
      "source": [
        "tennis_racquet_df = tfds.as_dataframe(ds_Racquet)\n",
        "print(len(tennis_racquet_df))"
      ],
      "execution_count": null,
      "outputs": []
    },
    {
      "cell_type": "code",
      "metadata": {
        "id": "P22WSyVNf8Mg"
      },
      "source": [
        "tennis_racquet_df.to_csv(data_dir)"
      ],
      "execution_count": null,
      "outputs": []
    },
    {
      "cell_type": "markdown",
      "metadata": {
        "id": "P_bSiNCZ75-v"
      },
      "source": [
        "#Load data from local drive"
      ]
    },
    {
      "cell_type": "code",
      "metadata": {
        "colab": {
          "base_uri": "https://localhost:8080/",
          "height": 411
        },
        "id": "tbC5UbPN7-h6",
        "outputId": "fd8166cc-7fd6-4499-d0bc-eb34bdc216ca"
      },
      "source": [
        "data = pd.read_csv(data_dir)\n",
        "data.head(5)"
      ],
      "execution_count": 135,
      "outputs": [
        {
          "output_type": "execute_result",
          "data": {
            "text/html": [
              "<div>\n",
              "<style scoped>\n",
              "    .dataframe tbody tr th:only-of-type {\n",
              "        vertical-align: middle;\n",
              "    }\n",
              "\n",
              "    .dataframe tbody tr th {\n",
              "        vertical-align: top;\n",
              "    }\n",
              "\n",
              "    .dataframe thead th {\n",
              "        text-align: right;\n",
              "    }\n",
              "</style>\n",
              "<table border=\"1\" class=\"dataframe\">\n",
              "  <thead>\n",
              "    <tr style=\"text-align: right;\">\n",
              "      <th></th>\n",
              "      <th>Unnamed: 0</th>\n",
              "      <th>data/customer_id</th>\n",
              "      <th>data/helpful_votes</th>\n",
              "      <th>data/marketplace</th>\n",
              "      <th>data/product_category</th>\n",
              "      <th>data/product_id</th>\n",
              "      <th>data/product_parent</th>\n",
              "      <th>data/product_title</th>\n",
              "      <th>data/review_body</th>\n",
              "      <th>data/review_date</th>\n",
              "      <th>data/review_headline</th>\n",
              "      <th>data/review_id</th>\n",
              "      <th>data/star_rating</th>\n",
              "      <th>data/total_votes</th>\n",
              "      <th>data/verified_purchase</th>\n",
              "      <th>data/vine</th>\n",
              "    </tr>\n",
              "  </thead>\n",
              "  <tbody>\n",
              "    <tr>\n",
              "      <th>0</th>\n",
              "      <td>0</td>\n",
              "      <td>b'20515499'</td>\n",
              "      <td>1</td>\n",
              "      <td>b'US'</td>\n",
              "      <td>b'Sports'</td>\n",
              "      <td>b'B000OQ74FE'</td>\n",
              "      <td>b'447336068'</td>\n",
              "      <td>b'HEAD Liquidmetal 4 Tennis Racquet (4-3/8), S...</td>\n",
              "      <td>b\"Supposedly one of the best novice racquets. ...</td>\n",
              "      <td>b'2012-12-30'</td>\n",
              "      <td>b'highly rated'</td>\n",
              "      <td>b'R12VYI1R99EI1Q'</td>\n",
              "      <td>5</td>\n",
              "      <td>4</td>\n",
              "      <td>0</td>\n",
              "      <td>1</td>\n",
              "    </tr>\n",
              "    <tr>\n",
              "      <th>1</th>\n",
              "      <td>1</td>\n",
              "      <td>b'33855426'</td>\n",
              "      <td>1</td>\n",
              "      <td>b'US'</td>\n",
              "      <td>b'Sports'</td>\n",
              "      <td>b'B0034PBLA6'</td>\n",
              "      <td>b'16849618'</td>\n",
              "      <td>b'Wilson Energy Extra Large Tennis Racquet wit...</td>\n",
              "      <td>b'Wilson Energy Extra Large Tennis Racquet wit...</td>\n",
              "      <td>b'2012-10-02'</td>\n",
              "      <td>b'Wilson Energy Extra Large Tennis Racquet wit...</td>\n",
              "      <td>b'R31ZPNKKOSMF2L'</td>\n",
              "      <td>3</td>\n",
              "      <td>5</td>\n",
              "      <td>0</td>\n",
              "      <td>1</td>\n",
              "    </tr>\n",
              "    <tr>\n",
              "      <th>2</th>\n",
              "      <td>2</td>\n",
              "      <td>b'48169106'</td>\n",
              "      <td>0</td>\n",
              "      <td>b'US'</td>\n",
              "      <td>b'Sports'</td>\n",
              "      <td>b'B006A2V4KC'</td>\n",
              "      <td>b'81787317'</td>\n",
              "      <td>b'Head Youtek IG Prestige Pro Tennis Racquet (...</td>\n",
              "      <td>b\"I've been playing with Head Racquets for man...</td>\n",
              "      <td>b'2014-12-21'</td>\n",
              "      <td>b'Best of the Prestige frames'</td>\n",
              "      <td>b'R2NOC0IE7BEWWN'</td>\n",
              "      <td>5</td>\n",
              "      <td>0</td>\n",
              "      <td>0</td>\n",
              "      <td>1</td>\n",
              "    </tr>\n",
              "    <tr>\n",
              "      <th>3</th>\n",
              "      <td>3</td>\n",
              "      <td>b'31282127'</td>\n",
              "      <td>0</td>\n",
              "      <td>b'US'</td>\n",
              "      <td>b'Sports'</td>\n",
              "      <td>b'B000OQBP7C'</td>\n",
              "      <td>b'384056751'</td>\n",
              "      <td>b'Head Liquidmetal 8 Tennis Racquet'</td>\n",
              "      <td>b'I chose this racquet because its price and w...</td>\n",
              "      <td>b'2013-07-08'</td>\n",
              "      <td>b'Great!!!'</td>\n",
              "      <td>b'R2IDP12RDJ1SB5'</td>\n",
              "      <td>5</td>\n",
              "      <td>1</td>\n",
              "      <td>0</td>\n",
              "      <td>1</td>\n",
              "    </tr>\n",
              "    <tr>\n",
              "      <th>4</th>\n",
              "      <td>4</td>\n",
              "      <td>b'7692919'</td>\n",
              "      <td>1</td>\n",
              "      <td>b'US'</td>\n",
              "      <td>b'Sports'</td>\n",
              "      <td>b'B004IA8GL8'</td>\n",
              "      <td>b'586581984'</td>\n",
              "      <td>b\"Wilson unstrung'11 Blade Lite BLX Tennis Rac...</td>\n",
              "      <td>b'The racket is really nice for $60+. There is...</td>\n",
              "      <td>b'2013-07-14'</td>\n",
              "      <td>b'Good racket'</td>\n",
              "      <td>b'R2VG95KHXUZG1S'</td>\n",
              "      <td>4</td>\n",
              "      <td>1</td>\n",
              "      <td>0</td>\n",
              "      <td>1</td>\n",
              "    </tr>\n",
              "  </tbody>\n",
              "</table>\n",
              "</div>"
            ],
            "text/plain": [
              "   Unnamed: 0 data/customer_id  ...  data/verified_purchase data/vine\n",
              "0           0      b'20515499'  ...                       0         1\n",
              "1           1      b'33855426'  ...                       0         1\n",
              "2           2      b'48169106'  ...                       0         1\n",
              "3           3      b'31282127'  ...                       0         1\n",
              "4           4       b'7692919'  ...                       0         1\n",
              "\n",
              "[5 rows x 16 columns]"
            ]
          },
          "metadata": {
            "tags": []
          },
          "execution_count": 135
        }
      ]
    },
    {
      "cell_type": "markdown",
      "metadata": {
        "id": "NFEgz39ShPVV"
      },
      "source": [
        "# Data Exploration"
      ]
    },
    {
      "cell_type": "markdown",
      "metadata": {
        "id": "CCiV3f08hZUZ"
      },
      "source": [
        "* Number of products in the dataset\n",
        "* Number reviews for each"
      ]
    },
    {
      "cell_type": "code",
      "metadata": {
        "colab": {
          "base_uri": "https://localhost:8080/",
          "height": 289
        },
        "id": "2MiCdQH0hNEi",
        "outputId": "341d62bb-d054-4856-ff3d-2f6c137af261"
      },
      "source": [
        "cols = ['data/helpful_votes','data/product_id','data/product_parent',\n",
        "        'data/product_title','data/review_body','data/review_headline','data/review_id',\n",
        "        'data/star_rating', 'data/total_votes']\n",
        "data = data[cols]\n",
        "data.head(5)"
      ],
      "execution_count": 6,
      "outputs": [
        {
          "output_type": "execute_result",
          "data": {
            "text/html": [
              "<div>\n",
              "<style scoped>\n",
              "    .dataframe tbody tr th:only-of-type {\n",
              "        vertical-align: middle;\n",
              "    }\n",
              "\n",
              "    .dataframe tbody tr th {\n",
              "        vertical-align: top;\n",
              "    }\n",
              "\n",
              "    .dataframe thead th {\n",
              "        text-align: right;\n",
              "    }\n",
              "</style>\n",
              "<table border=\"1\" class=\"dataframe\">\n",
              "  <thead>\n",
              "    <tr style=\"text-align: right;\">\n",
              "      <th></th>\n",
              "      <th>data/helpful_votes</th>\n",
              "      <th>data/product_id</th>\n",
              "      <th>data/product_parent</th>\n",
              "      <th>data/product_title</th>\n",
              "      <th>data/review_body</th>\n",
              "      <th>data/review_headline</th>\n",
              "      <th>data/review_id</th>\n",
              "      <th>data/star_rating</th>\n",
              "      <th>data/total_votes</th>\n",
              "    </tr>\n",
              "  </thead>\n",
              "  <tbody>\n",
              "    <tr>\n",
              "      <th>0</th>\n",
              "      <td>1</td>\n",
              "      <td>b'B000OQ74FE'</td>\n",
              "      <td>b'447336068'</td>\n",
              "      <td>b'HEAD Liquidmetal 4 Tennis Racquet (4-3/8), S...</td>\n",
              "      <td>b\"Supposedly one of the best novice racquets. ...</td>\n",
              "      <td>b'highly rated'</td>\n",
              "      <td>b'R12VYI1R99EI1Q'</td>\n",
              "      <td>5</td>\n",
              "      <td>4</td>\n",
              "    </tr>\n",
              "    <tr>\n",
              "      <th>1</th>\n",
              "      <td>1</td>\n",
              "      <td>b'B0034PBLA6'</td>\n",
              "      <td>b'16849618'</td>\n",
              "      <td>b'Wilson Energy Extra Large Tennis Racquet wit...</td>\n",
              "      <td>b'Wilson Energy Extra Large Tennis Racquet wit...</td>\n",
              "      <td>b'Wilson Energy Extra Large Tennis Racquet wit...</td>\n",
              "      <td>b'R31ZPNKKOSMF2L'</td>\n",
              "      <td>3</td>\n",
              "      <td>5</td>\n",
              "    </tr>\n",
              "    <tr>\n",
              "      <th>2</th>\n",
              "      <td>0</td>\n",
              "      <td>b'B006A2V4KC'</td>\n",
              "      <td>b'81787317'</td>\n",
              "      <td>b'Head Youtek IG Prestige Pro Tennis Racquet (...</td>\n",
              "      <td>b\"I've been playing with Head Racquets for man...</td>\n",
              "      <td>b'Best of the Prestige frames'</td>\n",
              "      <td>b'R2NOC0IE7BEWWN'</td>\n",
              "      <td>5</td>\n",
              "      <td>0</td>\n",
              "    </tr>\n",
              "    <tr>\n",
              "      <th>3</th>\n",
              "      <td>0</td>\n",
              "      <td>b'B000OQBP7C'</td>\n",
              "      <td>b'384056751'</td>\n",
              "      <td>b'Head Liquidmetal 8 Tennis Racquet'</td>\n",
              "      <td>b'I chose this racquet because its price and w...</td>\n",
              "      <td>b'Great!!!'</td>\n",
              "      <td>b'R2IDP12RDJ1SB5'</td>\n",
              "      <td>5</td>\n",
              "      <td>1</td>\n",
              "    </tr>\n",
              "    <tr>\n",
              "      <th>4</th>\n",
              "      <td>1</td>\n",
              "      <td>b'B004IA8GL8'</td>\n",
              "      <td>b'586581984'</td>\n",
              "      <td>b\"Wilson unstrung'11 Blade Lite BLX Tennis Rac...</td>\n",
              "      <td>b'The racket is really nice for $60+. There is...</td>\n",
              "      <td>b'Good racket'</td>\n",
              "      <td>b'R2VG95KHXUZG1S'</td>\n",
              "      <td>4</td>\n",
              "      <td>1</td>\n",
              "    </tr>\n",
              "  </tbody>\n",
              "</table>\n",
              "</div>"
            ],
            "text/plain": [
              "   data/helpful_votes data/product_id  ... data/star_rating data/total_votes\n",
              "0                   1   b'B000OQ74FE'  ...                5                4\n",
              "1                   1   b'B0034PBLA6'  ...                3                5\n",
              "2                   0   b'B006A2V4KC'  ...                5                0\n",
              "3                   0   b'B000OQBP7C'  ...                5                1\n",
              "4                   1   b'B004IA8GL8'  ...                4                1\n",
              "\n",
              "[5 rows x 9 columns]"
            ]
          },
          "metadata": {
            "tags": []
          },
          "execution_count": 6
        }
      ]
    },
    {
      "cell_type": "code",
      "metadata": {
        "id": "uEiP1nQmhpW2"
      },
      "source": [
        "float_cols = ['data/helpful_votes','data/total_votes']\n",
        "cat_cols = ['data/product_id','data/product_parent','data/product_title','data/star_rating']\n",
        "\n",
        "def visualize_columns(float_cols,cat_cols):\n",
        "    '''\n",
        "    This function visualizes all columns\n",
        "      - Box-and-whisker and histogram plots for continuous variables\n",
        "      - Lists of distinct values for categorical columns\n",
        "    '''\n",
        "    # Float columns\n",
        "    for i in float_cols:\n",
        "        print(i)\n",
        "        fig, axs = plt.subplots(1, 2, tight_layout=True)\n",
        "\n",
        "        sns.boxplot(data=final_data[i], ax = axs[0])\n",
        "\n",
        "        # Print the three highest values\n",
        "        highest_vals = sorted(final_data[i], reverse=True)[:3]\n",
        "        print(highest_vals)\n",
        "        smallest_val = round(min(final_data[i]),2)\n",
        "        print(smallest_val)\n",
        "        axs[0].text(smallest_val, -0.3, round(highest_vals[0],2))\n",
        "        axs[0].text(smallest_val, -0.2, round(highest_vals[1],2))\n",
        "        axs[0].text(smallest_val, -0.1, round(highest_vals[2],2))\n",
        "\n",
        "        #Draw the histogram\n",
        "        axs[1] = plt.hist(final_data[i],50)\n",
        "        plt.show()\n",
        "        \n",
        "    # Categorical columns \n",
        "    for i in cat_cols:\n",
        "        print(i)\n",
        "        print(str(len(set(final_data[i]))) + \" distinct values\")\n",
        "        print(final_data[i].value_counts())\n",
        "        print(\"\")\n",
        "        print(\"\")"
      ],
      "execution_count": 7,
      "outputs": []
    },
    {
      "cell_type": "code",
      "metadata": {
        "colab": {
          "base_uri": "https://localhost:8080/",
          "height": 1000
        },
        "id": "D0VRBwWJjcnS",
        "outputId": "b14ab6dd-3b32-435a-c92b-2da927e9ce17"
      },
      "source": [
        "final_data = data\n",
        "visualize_columns(float_cols,cat_cols)"
      ],
      "execution_count": 8,
      "outputs": [
        {
          "output_type": "stream",
          "text": [
            "data/helpful_votes\n",
            "[595, 171, 101]\n",
            "0\n"
          ],
          "name": "stdout"
        },
        {
          "output_type": "display_data",
          "data": {
            "image/png": "[encoded data removed]",
            "text/plain": [
              "<Figure size 432x288 with 2 Axes>"
            ]
          },
          "metadata": {
            "tags": [],
            "needs_background": "light"
          }
        },
        {
          "output_type": "stream",
          "text": [
            "data/total_votes\n",
            "[598, 177, 105]\n",
            "0\n"
          ],
          "name": "stdout"
        },
        {
          "output_type": "display_data",
          "data": {
            "image/png": "[encoded data removed]",
            "text/plain": [
              "<Figure size 432x288 with 2 Axes>"
            ]
          },
          "metadata": {
            "tags": [],
            "needs_background": "light"
          }
        },
        {
          "output_type": "stream",
          "text": [
            "data/product_id\n",
            "2186 distinct values\n",
            "b'B00387ET9A'    133\n",
            "b'B0007R8MHE'     95\n",
            "b'B007WZZ3TE'     92\n",
            "b'B000KYHMM0'     51\n",
            "b'B0034PBLA6'     50\n",
            "                ... \n",
            "b'B0000AQA5Y'      1\n",
            "b'B0009GUCBM'      1\n",
            "b'B000V6WV5A'      1\n",
            "b'B00HQE7ZHE'      1\n",
            "b'B00GFYRIYG'      1\n",
            "Name: data/product_id, Length: 2186, dtype: int64\n",
            "\n",
            "\n",
            "data/product_parent\n",
            "1602 distinct values\n",
            "b'453459277'    159\n",
            "b'245257838'    133\n",
            "b'384056751'    117\n",
            "b'33077627'     111\n",
            "b'547332048'    109\n",
            "               ... \n",
            "b'72297323'       1\n",
            "b'367147621'      1\n",
            "b'914175674'      1\n",
            "b'979916381'      1\n",
            "b'678814265'      1\n",
            "Name: data/product_parent, Length: 1602, dtype: int64\n",
            "\n",
            "\n",
            "data/product_title\n",
            "1601 distinct values\n",
            "b'Wilson US Open Junior Tennis Racquet'                                                                                                                                                                    159\n",
            "b'Wilson Advantage Triple Tennis Racquet Bag (Black\\\\Gray)'                                                                                                                                                133\n",
            "b'GAMMA X-2 Tennis Racquet/ Racquet Stringing Machine| Complete W/ Stringing Tools| Get The Best Stringing Consistency To Match Your Needs W/ Our Tennis Stringer Gamma Tennis Accessories & Equipment'    111\n",
            "b'HEAD Ti.S6 Tennis Racquet - Strung'                                                                                                                                                                      106\n",
            "b'Head Liquidmetal 8 Tennis Racquet'                                                                                                                                                                       101\n",
            "                                                                                                                                                                                                          ... \n",
            "b'Wilson 25-inch Roger Federer Junior Tennis Racquet'                                                                                                                                                        1\n",
            "b'Head Youtek Instinct Tennis Racquet [Unstrung]'                                                                                                                                                            1\n",
            "b'Head Youtek Graphene Instinct S Tennis Racquet (4-1/2) - Unstrung'                                                                                                                                         1\n",
            "b'Babolat 2012 Pure Drive Roddick Plus Tennis Racquet (4-1/4)'                                                                                                                                               1\n",
            "b'HEAD Speed 19 Junior Tennis Racquet (Strung with Cover)'                                                                                                                                                   1\n",
            "Name: data/product_title, Length: 1601, dtype: int64\n",
            "\n",
            "\n",
            "data/star_rating\n",
            "5 distinct values\n",
            "5    3588\n",
            "4     972\n",
            "3     321\n",
            "1     236\n",
            "2     135\n",
            "Name: data/star_rating, dtype: int64\n",
            "\n",
            "\n"
          ],
          "name": "stdout"
        }
      ]
    },
    {
      "cell_type": "code",
      "metadata": {
        "colab": {
          "base_uri": "https://localhost:8080/",
          "height": 450
        },
        "id": "a49_lBxAmtAx",
        "outputId": "cf45ced8-71bf-4077-f368-5bc50adbe3d4"
      },
      "source": [
        "#Aggregating count of reviews and total helpful votes for each products\n",
        "products = final_data.groupby('data/product_parent', sort=False)\n",
        "combined = products['data/helpful_votes'].agg(['count', 'sum'])\n",
        "combined.sort_values(by='sum',ascending=False)"
      ],
      "execution_count": 9,
      "outputs": [
        {
          "output_type": "execute_result",
          "data": {
            "text/html": [
              "<div>\n",
              "<style scoped>\n",
              "    .dataframe tbody tr th:only-of-type {\n",
              "        vertical-align: middle;\n",
              "    }\n",
              "\n",
              "    .dataframe tbody tr th {\n",
              "        vertical-align: top;\n",
              "    }\n",
              "\n",
              "    .dataframe thead th {\n",
              "        text-align: right;\n",
              "    }\n",
              "</style>\n",
              "<table border=\"1\" class=\"dataframe\">\n",
              "  <thead>\n",
              "    <tr style=\"text-align: right;\">\n",
              "      <th></th>\n",
              "      <th>count</th>\n",
              "      <th>sum</th>\n",
              "      <th>min</th>\n",
              "      <th>max</th>\n",
              "    </tr>\n",
              "    <tr>\n",
              "      <th>data/product_parent</th>\n",
              "      <th></th>\n",
              "      <th></th>\n",
              "      <th></th>\n",
              "      <th></th>\n",
              "    </tr>\n",
              "  </thead>\n",
              "  <tbody>\n",
              "    <tr>\n",
              "      <th>b'453459277'</th>\n",
              "      <td>159</td>\n",
              "      <td>1016</td>\n",
              "      <td>0</td>\n",
              "      <td>595</td>\n",
              "    </tr>\n",
              "    <tr>\n",
              "      <th>b'384056751'</th>\n",
              "      <td>117</td>\n",
              "      <td>227</td>\n",
              "      <td>0</td>\n",
              "      <td>101</td>\n",
              "    </tr>\n",
              "    <tr>\n",
              "      <th>b'547332048'</th>\n",
              "      <td>109</td>\n",
              "      <td>201</td>\n",
              "      <td>0</td>\n",
              "      <td>89</td>\n",
              "    </tr>\n",
              "    <tr>\n",
              "      <th>b'33077627'</th>\n",
              "      <td>111</td>\n",
              "      <td>193</td>\n",
              "      <td>0</td>\n",
              "      <td>21</td>\n",
              "    </tr>\n",
              "    <tr>\n",
              "      <th>b'630149495'</th>\n",
              "      <td>9</td>\n",
              "      <td>190</td>\n",
              "      <td>3</td>\n",
              "      <td>62</td>\n",
              "    </tr>\n",
              "    <tr>\n",
              "      <th>...</th>\n",
              "      <td>...</td>\n",
              "      <td>...</td>\n",
              "      <td>...</td>\n",
              "      <td>...</td>\n",
              "    </tr>\n",
              "    <tr>\n",
              "      <th>b'981876364'</th>\n",
              "      <td>1</td>\n",
              "      <td>0</td>\n",
              "      <td>0</td>\n",
              "      <td>0</td>\n",
              "    </tr>\n",
              "    <tr>\n",
              "      <th>b'407107768'</th>\n",
              "      <td>1</td>\n",
              "      <td>0</td>\n",
              "      <td>0</td>\n",
              "      <td>0</td>\n",
              "    </tr>\n",
              "    <tr>\n",
              "      <th>b'201894283'</th>\n",
              "      <td>2</td>\n",
              "      <td>0</td>\n",
              "      <td>0</td>\n",
              "      <td>0</td>\n",
              "    </tr>\n",
              "    <tr>\n",
              "      <th>b'490148299'</th>\n",
              "      <td>1</td>\n",
              "      <td>0</td>\n",
              "      <td>0</td>\n",
              "      <td>0</td>\n",
              "    </tr>\n",
              "    <tr>\n",
              "      <th>b'882281519'</th>\n",
              "      <td>1</td>\n",
              "      <td>0</td>\n",
              "      <td>0</td>\n",
              "      <td>0</td>\n",
              "    </tr>\n",
              "  </tbody>\n",
              "</table>\n",
              "<p>1602 rows × 4 columns</p>\n",
              "</div>"
            ],
            "text/plain": [
              "                     count   sum  min  max\n",
              "data/product_parent                       \n",
              "b'453459277'           159  1016    0  595\n",
              "b'384056751'           117   227    0  101\n",
              "b'547332048'           109   201    0   89\n",
              "b'33077627'            111   193    0   21\n",
              "b'630149495'             9   190    3   62\n",
              "...                    ...   ...  ...  ...\n",
              "b'981876364'             1     0    0    0\n",
              "b'407107768'             1     0    0    0\n",
              "b'201894283'             2     0    0    0\n",
              "b'490148299'             1     0    0    0\n",
              "b'882281519'             1     0    0    0\n",
              "\n",
              "[1602 rows x 4 columns]"
            ]
          },
          "metadata": {
            "tags": []
          },
          "execution_count": 9
        }
      ]
    },
    {
      "cell_type": "code",
      "metadata": {
        "colab": {
          "base_uri": "https://localhost:8080/",
          "height": 374
        },
        "id": "6KtDBiSfsVfj",
        "outputId": "42d99d81-c225-4c67-9af4-9f0e25915dfd"
      },
      "source": [
        "selected_products = combined[combined['sum'] > 0]\n",
        "left = pd.DataFrame(selected_products)\n",
        "\n",
        "final_data = final_data.merge(selected_products, on='data/product_parent', how='left')\n",
        "final_data.head()"
      ],
      "execution_count": 10,
      "outputs": [
        {
          "output_type": "execute_result",
          "data": {
            "text/html": [
              "<div>\n",
              "<style scoped>\n",
              "    .dataframe tbody tr th:only-of-type {\n",
              "        vertical-align: middle;\n",
              "    }\n",
              "\n",
              "    .dataframe tbody tr th {\n",
              "        vertical-align: top;\n",
              "    }\n",
              "\n",
              "    .dataframe thead th {\n",
              "        text-align: right;\n",
              "    }\n",
              "</style>\n",
              "<table border=\"1\" class=\"dataframe\">\n",
              "  <thead>\n",
              "    <tr style=\"text-align: right;\">\n",
              "      <th></th>\n",
              "      <th>data/helpful_votes</th>\n",
              "      <th>data/product_id</th>\n",
              "      <th>data/product_parent</th>\n",
              "      <th>data/product_title</th>\n",
              "      <th>data/review_body</th>\n",
              "      <th>data/review_headline</th>\n",
              "      <th>data/review_id</th>\n",
              "      <th>data/star_rating</th>\n",
              "      <th>data/total_votes</th>\n",
              "      <th>count</th>\n",
              "      <th>sum</th>\n",
              "      <th>min</th>\n",
              "      <th>max</th>\n",
              "    </tr>\n",
              "  </thead>\n",
              "  <tbody>\n",
              "    <tr>\n",
              "      <th>0</th>\n",
              "      <td>1</td>\n",
              "      <td>b'B000OQ74FE'</td>\n",
              "      <td>b'447336068'</td>\n",
              "      <td>b'HEAD Liquidmetal 4 Tennis Racquet (4-3/8), S...</td>\n",
              "      <td>b\"Supposedly one of the best novice racquets. ...</td>\n",
              "      <td>b'highly rated'</td>\n",
              "      <td>b'R12VYI1R99EI1Q'</td>\n",
              "      <td>5</td>\n",
              "      <td>4</td>\n",
              "      <td>22.0</td>\n",
              "      <td>38.0</td>\n",
              "      <td>0.0</td>\n",
              "      <td>10.0</td>\n",
              "    </tr>\n",
              "    <tr>\n",
              "      <th>1</th>\n",
              "      <td>1</td>\n",
              "      <td>b'B0034PBLA6'</td>\n",
              "      <td>b'16849618'</td>\n",
              "      <td>b'Wilson Energy Extra Large Tennis Racquet wit...</td>\n",
              "      <td>b'Wilson Energy Extra Large Tennis Racquet wit...</td>\n",
              "      <td>b'Wilson Energy Extra Large Tennis Racquet wit...</td>\n",
              "      <td>b'R31ZPNKKOSMF2L'</td>\n",
              "      <td>3</td>\n",
              "      <td>5</td>\n",
              "      <td>86.0</td>\n",
              "      <td>114.0</td>\n",
              "      <td>0.0</td>\n",
              "      <td>24.0</td>\n",
              "    </tr>\n",
              "    <tr>\n",
              "      <th>2</th>\n",
              "      <td>0</td>\n",
              "      <td>b'B006A2V4KC'</td>\n",
              "      <td>b'81787317'</td>\n",
              "      <td>b'Head Youtek IG Prestige Pro Tennis Racquet (...</td>\n",
              "      <td>b\"I've been playing with Head Racquets for man...</td>\n",
              "      <td>b'Best of the Prestige frames'</td>\n",
              "      <td>b'R2NOC0IE7BEWWN'</td>\n",
              "      <td>5</td>\n",
              "      <td>0</td>\n",
              "      <td>5.0</td>\n",
              "      <td>8.0</td>\n",
              "      <td>0.0</td>\n",
              "      <td>6.0</td>\n",
              "    </tr>\n",
              "    <tr>\n",
              "      <th>3</th>\n",
              "      <td>0</td>\n",
              "      <td>b'B000OQBP7C'</td>\n",
              "      <td>b'384056751'</td>\n",
              "      <td>b'Head Liquidmetal 8 Tennis Racquet'</td>\n",
              "      <td>b'I chose this racquet because its price and w...</td>\n",
              "      <td>b'Great!!!'</td>\n",
              "      <td>b'R2IDP12RDJ1SB5'</td>\n",
              "      <td>5</td>\n",
              "      <td>1</td>\n",
              "      <td>117.0</td>\n",
              "      <td>227.0</td>\n",
              "      <td>0.0</td>\n",
              "      <td>101.0</td>\n",
              "    </tr>\n",
              "    <tr>\n",
              "      <th>4</th>\n",
              "      <td>1</td>\n",
              "      <td>b'B004IA8GL8'</td>\n",
              "      <td>b'586581984'</td>\n",
              "      <td>b\"Wilson unstrung'11 Blade Lite BLX Tennis Rac...</td>\n",
              "      <td>b'The racket is really nice for $60+. There is...</td>\n",
              "      <td>b'Good racket'</td>\n",
              "      <td>b'R2VG95KHXUZG1S'</td>\n",
              "      <td>4</td>\n",
              "      <td>1</td>\n",
              "      <td>6.0</td>\n",
              "      <td>6.0</td>\n",
              "      <td>0.0</td>\n",
              "      <td>2.0</td>\n",
              "    </tr>\n",
              "  </tbody>\n",
              "</table>\n",
              "</div>"
            ],
            "text/plain": [
              "   data/helpful_votes data/product_id data/product_parent  ...    sum  min    max\n",
              "0                   1   b'B000OQ74FE'        b'447336068'  ...   38.0  0.0   10.0\n",
              "1                   1   b'B0034PBLA6'         b'16849618'  ...  114.0  0.0   24.0\n",
              "2                   0   b'B006A2V4KC'         b'81787317'  ...    8.0  0.0    6.0\n",
              "3                   0   b'B000OQBP7C'        b'384056751'  ...  227.0  0.0  101.0\n",
              "4                   1   b'B004IA8GL8'        b'586581984'  ...    6.0  0.0    2.0\n",
              "\n",
              "[5 rows x 13 columns]"
            ]
          },
          "metadata": {
            "tags": []
          },
          "execution_count": 10
        }
      ]
    },
    {
      "cell_type": "code",
      "metadata": {
        "colab": {
          "base_uri": "https://localhost:8080/"
        },
        "id": "FBDigdb72URp",
        "outputId": "60dc506d-7c33-4def-cec0-997c311a7d4c"
      },
      "source": [
        "#Remove reviews from products that does not have any helpful votes\n",
        "df = final_data[final_data['sum'] > 0]\n",
        "print('Number of reviews removed: '+ str(len(final_data)-len(df)))"
      ],
      "execution_count": 11,
      "outputs": [
        {
          "output_type": "stream",
          "text": [
            "Number of reviews removed: 1036\n"
          ],
          "name": "stdout"
        }
      ]
    },
    {
      "cell_type": "code",
      "metadata": {
        "colab": {
          "base_uri": "https://localhost:8080/"
        },
        "id": "KhwI64Dx3w5u",
        "outputId": "89eab691-9958-41ca-c281-f2fe0bd7a9fa"
      },
      "source": [
        "#Remove reviews that does not have any helpful votes\n",
        "df_1 = final_data[final_data['data/helpful_votes'] > 0]\n",
        "print(df_1['data/review_body'].head())\n",
        "print('Number of reviews removed: '+ str(len(final_data)-len(df_1)))"
      ],
      "execution_count": 12,
      "outputs": [
        {
          "output_type": "stream",
          "text": [
            "0    b\"Supposedly one of the best novice racquets. ...\n",
            "1    b'Wilson Energy Extra Large Tennis Racquet wit...\n",
            "4    b'The racket is really nice for $60+. There is...\n",
            "5    b\"Perfect size and weight for the child's stre...\n",
            "8    b'As expected, powerful yet controlled. I play...\n",
            "Name: data/review_body, dtype: object\n",
            "Number of reviews removed: 3170\n"
          ],
          "name": "stdout"
        }
      ]
    },
    {
      "cell_type": "code",
      "metadata": {
        "colab": {
          "base_uri": "https://localhost:8080/"
        },
        "id": "-ZeaLTb84oiD",
        "outputId": "f1579ef4-b793-401f-e819-e10cfff38c86"
      },
      "source": [
        "#Checking if there are any factors that make up the data\n",
        "df_2 = df[df['data/helpful_votes'] > 0]\n",
        "print('Number of reviews removed: '+ str(len(df)-len(df_2)))"
      ],
      "execution_count": 13,
      "outputs": [
        {
          "output_type": "stream",
          "text": [
            "Number of reviews removed: 2134\n"
          ],
          "name": "stdout"
        }
      ]
    },
    {
      "cell_type": "markdown",
      "metadata": {
        "id": "K2GM-Wxi8ows"
      },
      "source": [
        "#Tokenization"
      ]
    },
    {
      "cell_type": "code",
      "metadata": {
        "id": "MVSlUaeX5ziW"
      },
      "source": [
        "tokenizer = RegexpTokenizer(r'\\w+')"
      ],
      "execution_count": 20,
      "outputs": []
    },
    {
      "cell_type": "markdown",
      "metadata": {
        "id": "D9yF46I3-CpA"
      },
      "source": [
        "#Stopping"
      ]
    },
    {
      "cell_type": "code",
      "metadata": {
        "colab": {
          "base_uri": "https://localhost:8080/"
        },
        "id": "tRdIL1Vb6QkY",
        "outputId": "2425f99f-72e4-43bd-f635-bc54d210276c"
      },
      "source": [
        "nltk_stpwd = stopwords.words('english')\r\n",
        "stop_words_stpwd = get_stop_words('en')\r\n",
        "custom_stpwd = ['b','br',] # These get added after inspecting the listing of stemmed tokens\r\n",
        "merged_stopwords = list(set(nltk_stpwd + stop_words_stpwd + custom_stpwd))\r\n",
        "\r\n",
        "print(len(set(merged_stopwords)))\r\n",
        "print(merged_stopwords[:10])"
      ],
      "execution_count": 21,
      "outputs": [
        {
          "output_type": "stream",
          "text": [
            "213\n",
            "['do', 'yourself', 'these', \"where's\", 'for', \"he'd\", 'an', 'its', 'him', 'from']\n"
          ],
          "name": "stdout"
        }
      ]
    },
    {
      "cell_type": "markdown",
      "metadata": {
        "id": "9bjnCidg-FiK"
      },
      "source": [
        "#Stemming"
      ]
    },
    {
      "cell_type": "code",
      "metadata": {
        "id": "OhQxop6Z6vLA"
      },
      "source": [
        "sb_stemmer = SnowballStemmer('english')"
      ],
      "execution_count": 22,
      "outputs": []
    },
    {
      "cell_type": "markdown",
      "metadata": {
        "id": "OBUtC1U4-5vk"
      },
      "source": [
        "# Transform Reviews Text to Term Frequency - IDF Vector"
      ]
    },
    {
      "cell_type": "code",
      "metadata": {
        "id": "gJV8-MJU2pVs"
      },
      "source": [
        "def tokenize_stop_stem_text(document):\r\n",
        "  tokens = tokenizer.tokenize(document.lower())\r\n",
        "  stopped_tokens = [token for token in tokens if not token in merged_stopwords]\r\n",
        "  stemmed_tokens = [sb_stemmer.stem(token) for token in stopped_tokens]\r\n",
        "  return stemmed_tokens"
      ],
      "execution_count": 23,
      "outputs": []
    },
    {
      "cell_type": "code",
      "metadata": {
        "colab": {
          "base_uri": "https://localhost:8080/"
        },
        "id": "k_GE0iXs69T8",
        "outputId": "cb132d23-48f6-4e9c-fb59-058b6db5df96"
      },
      "source": [
        "train_df = df_1\r\n",
        "num_reviews = train_df.shape[0]\r\n",
        "# Stripping leading and trailing characters\r\n",
        "train_df['data/review_body'] = train_df['data/review_body'].str.strip(\"b\\'\\\"\")\r\n",
        "# Removing any digits\r\n",
        "train_df['data/review_body'] = train_df['data/review_body'].str.replace(r'\\d+','')\r\n",
        "# Load reviews into list\r\n",
        "doc_set = [train_df['data/review_body'].iloc[i] for i in range(num_reviews)]\r\n",
        "texts = []\r\n",
        "\r\n",
        "for doc in doc_set:\r\n",
        "  # putting our three steps together\r\n",
        "  results = tokenize_stop_stem_text(doc)\r\n",
        "  #print(stemmed_tokens) #Uncomment to inspect the results of tokenizations\r\n",
        "  # add tokens to list\r\n",
        "  texts.append(results)\r\n",
        "\r\n",
        "print(texts[0])"
      ],
      "execution_count": 140,
      "outputs": [
        {
          "output_type": "stream",
          "text": [
            "['suppos', 'one', 'best', 'novic', 'racquet', 'bought', 'daughter', 'birthday', 'degre', 'outsid', 'ask', 'next', 'summer']\n"
          ],
          "name": "stdout"
        }
      ]
    },
    {
      "cell_type": "code",
      "metadata": {
        "colab": {
          "base_uri": "https://localhost:8080/"
        },
        "id": "8FfUPMH1Hi63",
        "outputId": "2e5ff2ff-010c-4cc2-96b1-552ff1f06b7d"
      },
      "source": [
        "# Gensim's Dictionary encapsulates the mapping between normalized words and their integer ids.\r\n",
        "texts_dict = corpora.Dictionary(texts)\r\n",
        "# Examine each token’s unique id\r\n",
        "print(texts_dict)"
      ],
      "execution_count": 25,
      "outputs": [
        {
          "output_type": "stream",
          "text": [
            "Dictionary(4656 unique tokens: ['ask', 'best', 'birthday', 'bought', 'daughter']...)\n"
          ],
          "name": "stdout"
        }
      ]
    },
    {
      "cell_type": "code",
      "metadata": {
        "colab": {
          "base_uri": "https://localhost:8080/"
        },
        "id": "aVSJwyX3t9xg",
        "outputId": "6b648d82-8c30-4778-df18-3d90c96a31e6"
      },
      "source": [
        "LOWER_BOUND = 5\r\n",
        "UPPER_BOUND = 0.25\r\n",
        "texts_dict.filter_extremes(no_below=LOWER_BOUND, no_above=UPPER_BOUND) # inplace filter\r\n",
        "print(texts_dict)\r\n",
        "print(\"top terms:\")\r\n",
        "print(sorted(texts_dict.token2id.items(), key=operator.itemgetter(1), reverse = False)[:10])"
      ],
      "execution_count": 26,
      "outputs": [
        {
          "output_type": "stream",
          "text": [
            "Dictionary(1485 unique tokens: ['ask', 'best', 'birthday', 'bought', 'daughter']...)\n",
            "top terms:\n",
            "[('ask', 0), ('best', 1), ('birthday', 2), ('bought', 3), ('daughter', 4), ('degre', 5), ('next', 6), ('novic', 7), ('outsid', 8), ('summer', 9)]\n"
          ],
          "name": "stdout"
        }
      ]
    },
    {
      "cell_type": "code",
      "metadata": {
        "id": "-co_hTpsuYgw"
      },
      "source": [
        "texts_dict.save(home_dir+'tennis_racquet_review.dict') # lets save to disk for later use"
      ],
      "execution_count": 136,
      "outputs": []
    },
    {
      "cell_type": "code",
      "metadata": {
        "id": "Jp0aIdhlIJap"
      },
      "source": [
        "corpus = [texts_dict.doc2bow(text) for text in texts]\r\n",
        "len(corpus)\r\n",
        "pickle.dump(corpus, open(home_dir+'tennis_racquet_review.pkl', 'wb'))"
      ],
      "execution_count": 29,
      "outputs": []
    },
    {
      "cell_type": "markdown",
      "metadata": {
        "id": "WVxuGo8OBg10"
      },
      "source": [
        "#Train LDA Model"
      ]
    },
    {
      "cell_type": "code",
      "metadata": {
        "id": "o8QsOEecIwnD"
      },
      "source": [
        "def train_LDA(corpus,dictionary,NUM_TOPICS=1,new_train=True):\r\n",
        "  MDL = 'model{0}.gensim'.format(NUM_TOPICS)\r\n",
        "  if new_train:\r\n",
        "    ldamodel = gensim.models.ldamodel.LdaModel(corpus, num_topics = NUM_TOPICS, \r\n",
        "                                              id2word=dictionary, passes=15,iterations=5000, # to make sure enough random starts\r\n",
        "                                              random_state=random.seed(12345), # to make sure results are the same every run\r\n",
        "                                              minimum_probability=0.0001) #to make sure no topics are filtered out\r\n",
        "    ldamodel.save(home_dir+MDL)\r\n",
        "  else:\r\n",
        "    ldamodel = gensim.models.ldamodel.LdaModel.load(home_dir+MDL)\r\n",
        "\r\n",
        "  #Print top 10 words from each topics\r\n",
        "  topics = ldamodel.print_topics(num_words=10)\r\n",
        "  for topic in topics:\r\n",
        "      print(topic)\r\n",
        "  #Visualize LDA results\r\n",
        "  lda_display = pyLDAvis.gensim.prepare(ldamodel, corpus, dictionary, sort_topics=False)\r\n",
        "  pyLDAvis.display(lda_display)"
      ],
      "execution_count": 33,
      "outputs": []
    },
    {
      "cell_type": "code",
      "metadata": {
        "colab": {
          "base_uri": "https://localhost:8080/"
        },
        "id": "VYC8bx-1JwX8",
        "outputId": "ef1e356e-8802-42d8-f401-225350ac4313"
      },
      "source": [
        "k=4\r\n",
        "train_LDA(corpus,texts_dict,k,True)"
      ],
      "execution_count": 137,
      "outputs": [
        {
          "output_type": "stream",
          "text": [
            "(0, '0.033*\"frame\" + 0.024*\"spin\" + 0.017*\"power\" + 0.017*\"player\" + 0.015*\"serv\" + 0.014*\"shot\" + 0.011*\"string\" + 0.011*\"make\" + 0.011*\"like\" + 0.011*\"hit\"')\n",
            "(1, '0.037*\"string\" + 0.015*\"time\" + 0.014*\"get\" + 0.013*\"well\" + 0.013*\"year\" + 0.012*\"light\" + 0.012*\"price\" + 0.012*\"first\" + 0.011*\"klipperm\" + 0.011*\"easi\"')\n",
            "(2, '0.013*\"wilson\" + 0.012*\"like\" + 0.011*\"string\" + 0.011*\"control\" + 0.010*\"feel\" + 0.010*\"tri\" + 0.009*\"bought\" + 0.009*\"two\" + 0.009*\"new\" + 0.008*\"weight\"')\n",
            "(3, '0.019*\"bag\" + 0.017*\"year\" + 0.017*\"raquet\" + 0.016*\"look\" + 0.014*\"old\" + 0.014*\"nice\" + 0.014*\"like\" + 0.013*\"player\" + 0.013*\"love\" + 0.013*\"string\"')\n"
          ],
          "name": "stdout"
        }
      ]
    },
    {
      "cell_type": "markdown",
      "metadata": {
        "id": "YnvGkSOb_AYQ"
      },
      "source": [
        "# Training the LDA models with different values of K (Number of topics as assumptions)"
      ]
    },
    {
      "cell_type": "markdown",
      "metadata": {
        "id": "g6CsoSlQ_W6a"
      },
      "source": [
        "# Create Our Target Variable: Determine the right metrics for usefulness"
      ]
    },
    {
      "cell_type": "code",
      "metadata": {
        "colab": {
          "base_uri": "https://localhost:8080/",
          "height": 1000
        },
        "id": "4mkxnApqwinP",
        "outputId": "f170c31e-592c-425d-cc0e-64232a915b96"
      },
      "source": [
        "USEFULNESS_THRESHOLD = 0.10\r\n",
        "#Scale by review votes count divided by total helpful votes of that products\r\n",
        "final_data['helpful_votes_scaled'] = final_data['data/helpful_votes'] / final_data['sum']\r\n",
        "final_data['helpful'] = np.where(final_data['helpful_votes_scaled'] >= USEFULNESS_THRESHOLD,True,False)\r\n",
        "float_cols = ['helpful_votes_scaled','data/helpful_votes','sum']\r\n",
        "cat_cols = ['helpful']\r\n",
        "visualize_columns(float_cols,cat_cols)"
      ],
      "execution_count": 100,
      "outputs": [
        {
          "output_type": "stream",
          "text": [
            "helpful_votes_scaled\n",
            "[0.5, 0.5, 0.16666666666666666]\n",
            "0.0\n"
          ],
          "name": "stdout"
        },
        {
          "output_type": "display_data",
          "data": {
            "image/png": "[encoded data removed]",
            "text/plain": [
              "<Figure size 432x288 with 2 Axes>"
            ]
          },
          "metadata": {
            "tags": [],
            "needs_background": "light"
          }
        },
        {
          "output_type": "stream",
          "text": [
            "data/helpful_votes\n",
            "[595, 171, 101]\n",
            "0\n"
          ],
          "name": "stdout"
        },
        {
          "output_type": "display_data",
          "data": {
            "image/png": "[encoded data removed]",
            "text/plain": [
              "<Figure size 432x288 with 2 Axes>"
            ]
          },
          "metadata": {
            "tags": [],
            "needs_background": "light"
          }
        },
        {
          "output_type": "stream",
          "text": [
            "sum\n",
            "[227.0, 201.0, 193.0]\n",
            "1.0\n"
          ],
          "name": "stdout"
        },
        {
          "output_type": "display_data",
          "data": {
            "image/png": "[encoded data removed]",
            "text/plain": [
              "<Figure size 432x288 with 2 Axes>"
            ]
          },
          "metadata": {
            "tags": [],
            "needs_background": "light"
          }
        },
        {
          "output_type": "stream",
          "text": [
            "helpful\n",
            "2 distinct values\n",
            "False    3824\n",
            "True     1428\n",
            "Name: helpful, dtype: int64\n",
            "\n",
            "\n"
          ],
          "name": "stdout"
        }
      ]
    },
    {
      "cell_type": "code",
      "metadata": {
        "colab": {
          "base_uri": "https://localhost:8080/",
          "height": 1000
        },
        "id": "4ipgfzi15OA5",
        "outputId": "771a0879-a5b5-4104-e94c-6e926159410d"
      },
      "source": [
        "TOP_K_PERCENT = 10\r\n",
        "#Scaled by max-min of dataset\r\n",
        "scaler = MinMaxScaler()\r\n",
        "final_data['helpful_votes_scaled'] = scaler.fit_transform(final_data[['data/helpful_votes']])\r\n",
        "# Find the minimum value of the top K percent records\r\n",
        "USEFULNESS_THRESHOLD = np.min(final_data.nlargest(int(len(final_data)*TOP_K_PERCENT/100),'helpful_votes_scaled')['helpful_votes_scaled'])\r\n",
        "print(USEFULNESS_THRESHOLD)\r\n",
        "final_data['helpful'] = np.where(final_data['helpful_votes_scaled'] >= USEFULNESS_THRESHOLD,True,False)\r\n",
        "float_cols = ['helpful_votes_scaled','data/helpful_votes','sum']\r\n",
        "cat_cols = ['helpful']\r\n",
        "visualize_columns(float_cols,cat_cols)"
      ],
      "execution_count": 105,
      "outputs": [
        {
          "output_type": "stream",
          "text": [
            "0.005042016806722689\n",
            "helpful_votes_scaled\n",
            "[1.0, 0.2873949579831933, 0.16974789915966387]\n",
            "0.0\n"
          ],
          "name": "stdout"
        },
        {
          "output_type": "display_data",
          "data": {
            "image/png": "[encoded data removed]",
            "text/plain": [
              "<Figure size 432x288 with 2 Axes>"
            ]
          },
          "metadata": {
            "tags": [],
            "needs_background": "light"
          }
        },
        {
          "output_type": "stream",
          "text": [
            "data/helpful_votes\n",
            "[595, 171, 101]\n",
            "0\n"
          ],
          "name": "stdout"
        },
        {
          "output_type": "display_data",
          "data": {
            "image/png": "[encoded data removed]",
            "text/plain": [
              "<Figure size 432x288 with 2 Axes>"
            ]
          },
          "metadata": {
            "tags": [],
            "needs_background": "light"
          }
        },
        {
          "output_type": "stream",
          "text": [
            "sum\n",
            "[227.0, 201.0, 193.0]\n",
            "1.0\n"
          ],
          "name": "stdout"
        },
        {
          "output_type": "display_data",
          "data": {
            "image/png": "[encoded data removed]",
            "text/plain": [
              "<Figure size 432x288 with 2 Axes>"
            ]
          },
          "metadata": {
            "tags": [],
            "needs_background": "light"
          }
        },
        {
          "output_type": "stream",
          "text": [
            "helpful\n",
            "2 distinct values\n",
            "False    4587\n",
            "True      665\n",
            "Name: helpful, dtype: int64\n",
            "\n",
            "\n"
          ],
          "name": "stdout"
        }
      ]
    },
    {
      "cell_type": "markdown",
      "metadata": {
        "id": "iMefxxaHplUd"
      },
      "source": [
        "#Explore topics distribution of sample reviews (1,2 from highly useful and 1,2 from not useful)"
      ]
    },
    {
      "cell_type": "code",
      "metadata": {
        "colab": {
          "base_uri": "https://localhost:8080/",
          "height": 394
        },
        "id": "xuM-8EhKz0Ji",
        "outputId": "0e1085f5-91fd-4865-bb51-b74bc4b46417"
      },
      "source": [
        "final_data.nlargest(5,'data/helpful_votes')"
      ],
      "execution_count": 57,
      "outputs": [
        {
          "output_type": "execute_result",
          "data": {
            "text/html": [
              "<div>\n",
              "<style scoped>\n",
              "    .dataframe tbody tr th:only-of-type {\n",
              "        vertical-align: middle;\n",
              "    }\n",
              "\n",
              "    .dataframe tbody tr th {\n",
              "        vertical-align: top;\n",
              "    }\n",
              "\n",
              "    .dataframe thead th {\n",
              "        text-align: right;\n",
              "    }\n",
              "</style>\n",
              "<table border=\"1\" class=\"dataframe\">\n",
              "  <thead>\n",
              "    <tr style=\"text-align: right;\">\n",
              "      <th></th>\n",
              "      <th>data/helpful_votes</th>\n",
              "      <th>data/product_id</th>\n",
              "      <th>data/product_parent</th>\n",
              "      <th>data/product_title</th>\n",
              "      <th>data/review_body</th>\n",
              "      <th>data/review_headline</th>\n",
              "      <th>data/review_id</th>\n",
              "      <th>data/star_rating</th>\n",
              "      <th>data/total_votes</th>\n",
              "      <th>count</th>\n",
              "      <th>sum</th>\n",
              "      <th>min</th>\n",
              "      <th>max</th>\n",
              "      <th>helpful_votes_scaled</th>\n",
              "      <th>helpful</th>\n",
              "    </tr>\n",
              "  </thead>\n",
              "  <tbody>\n",
              "    <tr>\n",
              "      <th>3015</th>\n",
              "      <td>595</td>\n",
              "      <td>b'B00C1DEFHI'</td>\n",
              "      <td>b'453459277'</td>\n",
              "      <td>b'Wilson US Open Junior Tennis Racquet'</td>\n",
              "      <td>b'Nice, affordable, light tennis racquet, but ...</td>\n",
              "      <td>b'Nice Starter Racquet, but Review a Size Chart'</td>\n",
              "      <td>b'R1QLQ05NFCCX2N'</td>\n",
              "      <td>4</td>\n",
              "      <td>598</td>\n",
              "      <td>159.0</td>\n",
              "      <td>1016.0</td>\n",
              "      <td>0.0</td>\n",
              "      <td>595.0</td>\n",
              "      <td>1.000000</td>\n",
              "      <td>True</td>\n",
              "    </tr>\n",
              "    <tr>\n",
              "      <th>4108</th>\n",
              "      <td>171</td>\n",
              "      <td>b'B00BCP4XKU'</td>\n",
              "      <td>b'453459277'</td>\n",
              "      <td>b'Wilson US Open Junior Tennis Racquet'</td>\n",
              "      <td>b'Great racket for a beginner tennis player.  ...</td>\n",
              "      <td>b'Size guidelines'</td>\n",
              "      <td>b'RC7BO7IPK6MAM'</td>\n",
              "      <td>5</td>\n",
              "      <td>177</td>\n",
              "      <td>159.0</td>\n",
              "      <td>1016.0</td>\n",
              "      <td>0.0</td>\n",
              "      <td>595.0</td>\n",
              "      <td>0.287395</td>\n",
              "      <td>True</td>\n",
              "    </tr>\n",
              "    <tr>\n",
              "      <th>2176</th>\n",
              "      <td>101</td>\n",
              "      <td>b'B000OQBP7C'</td>\n",
              "      <td>b'384056751'</td>\n",
              "      <td>b'Head Liquidmetal 8 Tennis Racquet'</td>\n",
              "      <td>b\"Basically, I'm a 58 year old recreational 4....</td>\n",
              "      <td>b'Tried and Liked others costing up to $200., ...</td>\n",
              "      <td>b'R2Q926GXNLNNCY'</td>\n",
              "      <td>5</td>\n",
              "      <td>105</td>\n",
              "      <td>117.0</td>\n",
              "      <td>227.0</td>\n",
              "      <td>0.0</td>\n",
              "      <td>101.0</td>\n",
              "      <td>0.169748</td>\n",
              "      <td>True</td>\n",
              "    </tr>\n",
              "    <tr>\n",
              "      <th>239</th>\n",
              "      <td>89</td>\n",
              "      <td>b'B000OQ8OU8'</td>\n",
              "      <td>b'547332048'</td>\n",
              "      <td>b'HEAD Ti.S6 Tennis Racquet - Strung'</td>\n",
              "      <td>b\"I was on my high school tennis team almost 4...</td>\n",
              "      <td>b'Outstanding for returning recreational players'</td>\n",
              "      <td>b'R3DF8ED26I7Y24'</td>\n",
              "      <td>5</td>\n",
              "      <td>92</td>\n",
              "      <td>109.0</td>\n",
              "      <td>201.0</td>\n",
              "      <td>0.0</td>\n",
              "      <td>89.0</td>\n",
              "      <td>0.149580</td>\n",
              "      <td>True</td>\n",
              "    </tr>\n",
              "    <tr>\n",
              "      <th>1826</th>\n",
              "      <td>87</td>\n",
              "      <td>b'B00BCP4VJ8'</td>\n",
              "      <td>b'453459277'</td>\n",
              "      <td>b'Wilson US Open Junior Tennis Racquet'</td>\n",
              "      <td>b\"The size of the racket you should buy your c...</td>\n",
              "      <td>b'How to know which size- measure fingertips t...</td>\n",
              "      <td>b'R2ZAS7JMZ6M3YH'</td>\n",
              "      <td>5</td>\n",
              "      <td>88</td>\n",
              "      <td>159.0</td>\n",
              "      <td>1016.0</td>\n",
              "      <td>0.0</td>\n",
              "      <td>595.0</td>\n",
              "      <td>0.146218</td>\n",
              "      <td>True</td>\n",
              "    </tr>\n",
              "  </tbody>\n",
              "</table>\n",
              "</div>"
            ],
            "text/plain": [
              "      data/helpful_votes data/product_id  ... helpful_votes_scaled helpful\n",
              "3015                 595   b'B00C1DEFHI'  ...             1.000000    True\n",
              "4108                 171   b'B00BCP4XKU'  ...             0.287395    True\n",
              "2176                 101   b'B000OQBP7C'  ...             0.169748    True\n",
              "239                   89   b'B000OQ8OU8'  ...             0.149580    True\n",
              "1826                  87   b'B00BCP4VJ8'  ...             0.146218    True\n",
              "\n",
              "[5 rows x 15 columns]"
            ]
          },
          "metadata": {
            "tags": []
          },
          "execution_count": 57
        }
      ]
    },
    {
      "cell_type": "code",
      "metadata": {
        "colab": {
          "base_uri": "https://localhost:8080/",
          "height": 1000
        },
        "id": "bWJRnVzW0ZV0",
        "outputId": "0274ba41-ece5-450c-c137-b8767ecf0867"
      },
      "source": [
        "final_data.nsmallest(20,'data/helpful_votes')"
      ],
      "execution_count": 83,
      "outputs": [
        {
          "output_type": "execute_result",
          "data": {
            "text/html": [
              "<div>\n",
              "<style scoped>\n",
              "    .dataframe tbody tr th:only-of-type {\n",
              "        vertical-align: middle;\n",
              "    }\n",
              "\n",
              "    .dataframe tbody tr th {\n",
              "        vertical-align: top;\n",
              "    }\n",
              "\n",
              "    .dataframe thead th {\n",
              "        text-align: right;\n",
              "    }\n",
              "</style>\n",
              "<table border=\"1\" class=\"dataframe\">\n",
              "  <thead>\n",
              "    <tr style=\"text-align: right;\">\n",
              "      <th></th>\n",
              "      <th>data/helpful_votes</th>\n",
              "      <th>data/product_id</th>\n",
              "      <th>data/product_parent</th>\n",
              "      <th>data/product_title</th>\n",
              "      <th>data/review_body</th>\n",
              "      <th>data/review_headline</th>\n",
              "      <th>data/review_id</th>\n",
              "      <th>data/star_rating</th>\n",
              "      <th>data/total_votes</th>\n",
              "      <th>count</th>\n",
              "      <th>sum</th>\n",
              "      <th>min</th>\n",
              "      <th>max</th>\n",
              "      <th>helpful_votes_scaled</th>\n",
              "      <th>helpful</th>\n",
              "    </tr>\n",
              "  </thead>\n",
              "  <tbody>\n",
              "    <tr>\n",
              "      <th>2</th>\n",
              "      <td>0</td>\n",
              "      <td>b'B006A2V4KC'</td>\n",
              "      <td>b'81787317'</td>\n",
              "      <td>b'Head Youtek IG Prestige Pro Tennis Racquet (...</td>\n",
              "      <td>b\"I've been playing with Head Racquets for man...</td>\n",
              "      <td>b'Best of the Prestige frames'</td>\n",
              "      <td>b'R2NOC0IE7BEWWN'</td>\n",
              "      <td>5</td>\n",
              "      <td>0</td>\n",
              "      <td>5.0</td>\n",
              "      <td>8.0</td>\n",
              "      <td>0.0</td>\n",
              "      <td>6.0</td>\n",
              "      <td>0.0</td>\n",
              "      <td>False</td>\n",
              "    </tr>\n",
              "    <tr>\n",
              "      <th>3</th>\n",
              "      <td>0</td>\n",
              "      <td>b'B000OQBP7C'</td>\n",
              "      <td>b'384056751'</td>\n",
              "      <td>b'Head Liquidmetal 8 Tennis Racquet'</td>\n",
              "      <td>b'I chose this racquet because its price and w...</td>\n",
              "      <td>b'Great!!!'</td>\n",
              "      <td>b'R2IDP12RDJ1SB5'</td>\n",
              "      <td>5</td>\n",
              "      <td>1</td>\n",
              "      <td>117.0</td>\n",
              "      <td>227.0</td>\n",
              "      <td>0.0</td>\n",
              "      <td>101.0</td>\n",
              "      <td>0.0</td>\n",
              "      <td>False</td>\n",
              "    </tr>\n",
              "    <tr>\n",
              "      <th>6</th>\n",
              "      <td>0</td>\n",
              "      <td>b'B002N1SMOU'</td>\n",
              "      <td>b'33077627'</td>\n",
              "      <td>b'GAMMA X-2 Tennis Racquet/ Racquet Stringing ...</td>\n",
              "      <td>b'Easy to use, after stringing second time, I ...</td>\n",
              "      <td>b'Five Stars'</td>\n",
              "      <td>b'R1HM2BMVP1POGO'</td>\n",
              "      <td>5</td>\n",
              "      <td>1</td>\n",
              "      <td>111.0</td>\n",
              "      <td>193.0</td>\n",
              "      <td>0.0</td>\n",
              "      <td>21.0</td>\n",
              "      <td>0.0</td>\n",
              "      <td>False</td>\n",
              "    </tr>\n",
              "    <tr>\n",
              "      <th>7</th>\n",
              "      <td>0</td>\n",
              "      <td>b'B006A2Y30U'</td>\n",
              "      <td>b'320145091'</td>\n",
              "      <td>b'Head You Tek IG Radical S Tennis Racquet'</td>\n",
              "      <td>b'good product&lt;br /&gt;single failure: damage a h...</td>\n",
              "      <td>b'Four Stars'</td>\n",
              "      <td>b'R2YQZAJZUWFA8X'</td>\n",
              "      <td>4</td>\n",
              "      <td>0</td>\n",
              "      <td>5.0</td>\n",
              "      <td>13.0</td>\n",
              "      <td>0.0</td>\n",
              "      <td>9.0</td>\n",
              "      <td>0.0</td>\n",
              "      <td>False</td>\n",
              "    </tr>\n",
              "    <tr>\n",
              "      <th>9</th>\n",
              "      <td>0</td>\n",
              "      <td>b'B001ACOF9E'</td>\n",
              "      <td>b'664151410'</td>\n",
              "      <td>b\"Wilson '08 K BLADE Tour 93 Tennis Racquet-5\"</td>\n",
              "      <td>b\"This racquet is great for 4.0+ level players...</td>\n",
              "      <td>b'Great for the experienced; Others beware'</td>\n",
              "      <td>b'R3MHG6HNOWS3SJ'</td>\n",
              "      <td>5</td>\n",
              "      <td>0</td>\n",
              "      <td>NaN</td>\n",
              "      <td>NaN</td>\n",
              "      <td>NaN</td>\n",
              "      <td>NaN</td>\n",
              "      <td>0.0</td>\n",
              "      <td>False</td>\n",
              "    </tr>\n",
              "    <tr>\n",
              "      <th>10</th>\n",
              "      <td>0</td>\n",
              "      <td>b'B00CHZZFJC'</td>\n",
              "      <td>b'987277405'</td>\n",
              "      <td>b'Hello Kitty Sports Junior Tennis Racquet'</td>\n",
              "      <td>b'It was a gift, but came in on time, looked g...</td>\n",
              "      <td>b'looked great.'</td>\n",
              "      <td>b'R3SP7QZBVPUN07'</td>\n",
              "      <td>5</td>\n",
              "      <td>0</td>\n",
              "      <td>24.0</td>\n",
              "      <td>16.0</td>\n",
              "      <td>0.0</td>\n",
              "      <td>4.0</td>\n",
              "      <td>0.0</td>\n",
              "      <td>False</td>\n",
              "    </tr>\n",
              "    <tr>\n",
              "      <th>11</th>\n",
              "      <td>0</td>\n",
              "      <td>b'B0001GZ7O2'</td>\n",
              "      <td>b'428353524'</td>\n",
              "      <td>b'Dunlop 600G ICE Tennis Racquet'</td>\n",
              "      <td>b'I bought a prince o3 \\\\\\\\\"red\\\\\\\\\" and used ...</td>\n",
              "      <td>b'BEST VALUE RACQUET'</td>\n",
              "      <td>b'R3FTJWQS14833D'</td>\n",
              "      <td>5</td>\n",
              "      <td>0</td>\n",
              "      <td>NaN</td>\n",
              "      <td>NaN</td>\n",
              "      <td>NaN</td>\n",
              "      <td>NaN</td>\n",
              "      <td>0.0</td>\n",
              "      <td>False</td>\n",
              "    </tr>\n",
              "    <tr>\n",
              "      <th>13</th>\n",
              "      <td>0</td>\n",
              "      <td>b'B00FYXG9I0'</td>\n",
              "      <td>b'280599633'</td>\n",
              "      <td>b'Wilson Pro Staff Junior Tennis Racquet'</td>\n",
              "      <td>b'the product is very good'</td>\n",
              "      <td>b'Four Stars'</td>\n",
              "      <td>b'R3FXXO4FL4ARSG'</td>\n",
              "      <td>4</td>\n",
              "      <td>1</td>\n",
              "      <td>8.0</td>\n",
              "      <td>5.0</td>\n",
              "      <td>0.0</td>\n",
              "      <td>4.0</td>\n",
              "      <td>0.0</td>\n",
              "      <td>False</td>\n",
              "    </tr>\n",
              "    <tr>\n",
              "      <th>15</th>\n",
              "      <td>0</td>\n",
              "      <td>b'B00387ET9A'</td>\n",
              "      <td>b'245257838'</td>\n",
              "      <td>b'Wilson Advantage Triple Tennis Racquet Bag (...</td>\n",
              "      <td>b'excellent product'</td>\n",
              "      <td>b'Five Stars'</td>\n",
              "      <td>b'R2F60NFXA9V4GC'</td>\n",
              "      <td>5</td>\n",
              "      <td>0</td>\n",
              "      <td>133.0</td>\n",
              "      <td>81.0</td>\n",
              "      <td>0.0</td>\n",
              "      <td>40.0</td>\n",
              "      <td>0.0</td>\n",
              "      <td>False</td>\n",
              "    </tr>\n",
              "    <tr>\n",
              "      <th>17</th>\n",
              "      <td>0</td>\n",
              "      <td>b'B00BCP4XKU'</td>\n",
              "      <td>b'453459277'</td>\n",
              "      <td>b'Wilson US Open Junior Tennis Racquet'</td>\n",
              "      <td>b'Priced great and is super light. Kids loves ...</td>\n",
              "      <td>b'Super light and priced right !'</td>\n",
              "      <td>b'R1MGH5G3H0L55V'</td>\n",
              "      <td>4</td>\n",
              "      <td>0</td>\n",
              "      <td>159.0</td>\n",
              "      <td>1016.0</td>\n",
              "      <td>0.0</td>\n",
              "      <td>595.0</td>\n",
              "      <td>0.0</td>\n",
              "      <td>False</td>\n",
              "    </tr>\n",
              "    <tr>\n",
              "      <th>18</th>\n",
              "      <td>0</td>\n",
              "      <td>b'B00KCGR1D6'</td>\n",
              "      <td>b'913609119'</td>\n",
              "      <td>b'10pcs Anti-slip Badminton Tennis Racquet Rac...</td>\n",
              "      <td>b\"This grip tape isn't fancy, but it gets the ...</td>\n",
              "      <td>b'Great for the Price'</td>\n",
              "      <td>b'R917814M4KND8'</td>\n",
              "      <td>5</td>\n",
              "      <td>0</td>\n",
              "      <td>30.0</td>\n",
              "      <td>11.0</td>\n",
              "      <td>0.0</td>\n",
              "      <td>4.0</td>\n",
              "      <td>0.0</td>\n",
              "      <td>False</td>\n",
              "    </tr>\n",
              "    <tr>\n",
              "      <th>20</th>\n",
              "      <td>0</td>\n",
              "      <td>b'B00GKQFV84'</td>\n",
              "      <td>b'786184391'</td>\n",
              "      <td>b'Wilson Profile Tennis Racquet Over Grip'</td>\n",
              "      <td>b'Loved it! Works perfectly'</td>\n",
              "      <td>b'Five Stars'</td>\n",
              "      <td>b'R3VWL2O7NTVWDS'</td>\n",
              "      <td>5</td>\n",
              "      <td>0</td>\n",
              "      <td>NaN</td>\n",
              "      <td>NaN</td>\n",
              "      <td>NaN</td>\n",
              "      <td>NaN</td>\n",
              "      <td>0.0</td>\n",
              "      <td>False</td>\n",
              "    </tr>\n",
              "    <tr>\n",
              "      <th>21</th>\n",
              "      <td>0</td>\n",
              "      <td>b'B0009GUCBM'</td>\n",
              "      <td>b'79650164'</td>\n",
              "      <td>b\"Head '05 LM Prestige Junior Tennis Junior Ra...</td>\n",
              "      <td>b'The tennis racquet was new and came in its o...</td>\n",
              "      <td>b'Met my expectations'</td>\n",
              "      <td>b'R1M8V721BQCK8T'</td>\n",
              "      <td>5</td>\n",
              "      <td>0</td>\n",
              "      <td>NaN</td>\n",
              "      <td>NaN</td>\n",
              "      <td>NaN</td>\n",
              "      <td>NaN</td>\n",
              "      <td>0.0</td>\n",
              "      <td>False</td>\n",
              "    </tr>\n",
              "    <tr>\n",
              "      <th>22</th>\n",
              "      <td>0</td>\n",
              "      <td>b'B000OQ9RJU'</td>\n",
              "      <td>b'839273135'</td>\n",
              "      <td>b'Head TiS5 CZ Strung Tennis Racquet Cover (4....</td>\n",
              "      <td>b'I love this Racquet....I am using this one e...</td>\n",
              "      <td>b'Perfect Racquet'</td>\n",
              "      <td>b'R3AY08NRMDTV9J'</td>\n",
              "      <td>4</td>\n",
              "      <td>0</td>\n",
              "      <td>5.0</td>\n",
              "      <td>3.0</td>\n",
              "      <td>0.0</td>\n",
              "      <td>3.0</td>\n",
              "      <td>0.0</td>\n",
              "      <td>False</td>\n",
              "    </tr>\n",
              "    <tr>\n",
              "      <th>23</th>\n",
              "      <td>0</td>\n",
              "      <td>b'B0007R8MHE'</td>\n",
              "      <td>b'33077627'</td>\n",
              "      <td>b'GAMMA X-2 Tennis Racquet/ Racquet Stringing ...</td>\n",
              "      <td>b'The unit came packaged well...small piece of...</td>\n",
              "      <td>b'great first string machine!!'</td>\n",
              "      <td>b'R2PJOBSU508WOJ'</td>\n",
              "      <td>5</td>\n",
              "      <td>0</td>\n",
              "      <td>111.0</td>\n",
              "      <td>193.0</td>\n",
              "      <td>0.0</td>\n",
              "      <td>21.0</td>\n",
              "      <td>0.0</td>\n",
              "      <td>False</td>\n",
              "    </tr>\n",
              "    <tr>\n",
              "      <th>27</th>\n",
              "      <td>0</td>\n",
              "      <td>b'B0034ER7OG'</td>\n",
              "      <td>b'857597875'</td>\n",
              "      <td>b'Head Youtek Prestige Mid Plus Tennis Racquet...</td>\n",
              "      <td>b'this is great . i bought two before it . bec...</td>\n",
              "      <td>b'great racquet'</td>\n",
              "      <td>b'RUTYVS6LNLLJH'</td>\n",
              "      <td>5</td>\n",
              "      <td>1</td>\n",
              "      <td>9.0</td>\n",
              "      <td>5.0</td>\n",
              "      <td>0.0</td>\n",
              "      <td>2.0</td>\n",
              "      <td>0.0</td>\n",
              "      <td>False</td>\n",
              "    </tr>\n",
              "    <tr>\n",
              "      <th>28</th>\n",
              "      <td>0</td>\n",
              "      <td>b'B004J0UY5I'</td>\n",
              "      <td>b'409488083'</td>\n",
              "      <td>b'Wilson N6 Grey Tennis Strung Racquet'</td>\n",
              "      <td>b'This racket is an amazing racket. I have use...</td>\n",
              "      <td>b'N6 Hybrid'</td>\n",
              "      <td>b'R8VZ63W12H7MD'</td>\n",
              "      <td>5</td>\n",
              "      <td>0</td>\n",
              "      <td>NaN</td>\n",
              "      <td>NaN</td>\n",
              "      <td>NaN</td>\n",
              "      <td>NaN</td>\n",
              "      <td>0.0</td>\n",
              "      <td>False</td>\n",
              "    </tr>\n",
              "    <tr>\n",
              "      <th>30</th>\n",
              "      <td>0</td>\n",
              "      <td>b'B00FWPKE86'</td>\n",
              "      <td>b'85672885'</td>\n",
              "      <td>b'WILSON Steam 99LS Adult Tennis Racquet (4-1/4)'</td>\n",
              "      <td>b'Husband loves it! He used to have a Babolat ...</td>\n",
              "      <td>b'Good Racquet'</td>\n",
              "      <td>b'RE175G81TE74'</td>\n",
              "      <td>5</td>\n",
              "      <td>0</td>\n",
              "      <td>NaN</td>\n",
              "      <td>NaN</td>\n",
              "      <td>NaN</td>\n",
              "      <td>NaN</td>\n",
              "      <td>0.0</td>\n",
              "      <td>False</td>\n",
              "    </tr>\n",
              "    <tr>\n",
              "      <th>33</th>\n",
              "      <td>0</td>\n",
              "      <td>b'B000KYHMM0'</td>\n",
              "      <td>b'511617527'</td>\n",
              "      <td>b'Klippermate\\xc2\\xae Tennis Racquet / Racket ...</td>\n",
              "      <td>b'This is my first stringer and have no proble...</td>\n",
              "      <td>b'Great Stringer'</td>\n",
              "      <td>b'R1ZHLEZIZMXI1H'</td>\n",
              "      <td>5</td>\n",
              "      <td>1</td>\n",
              "      <td>51.0</td>\n",
              "      <td>127.0</td>\n",
              "      <td>0.0</td>\n",
              "      <td>25.0</td>\n",
              "      <td>0.0</td>\n",
              "      <td>False</td>\n",
              "    </tr>\n",
              "    <tr>\n",
              "      <th>34</th>\n",
              "      <td>0</td>\n",
              "      <td>b'B003EIIXOU'</td>\n",
              "      <td>b'156306328'</td>\n",
              "      <td>b'Volkl Tennis Power Bridge 5 with Power Arm R...</td>\n",
              "      <td>b'I played with different kind of racquets, an...</td>\n",
              "      <td>b'Excellent racquet'</td>\n",
              "      <td>b'R3KEQGE0E42DZF'</td>\n",
              "      <td>5</td>\n",
              "      <td>0</td>\n",
              "      <td>NaN</td>\n",
              "      <td>NaN</td>\n",
              "      <td>NaN</td>\n",
              "      <td>NaN</td>\n",
              "      <td>0.0</td>\n",
              "      <td>False</td>\n",
              "    </tr>\n",
              "  </tbody>\n",
              "</table>\n",
              "</div>"
            ],
            "text/plain": [
              "    data/helpful_votes data/product_id  ... helpful_votes_scaled helpful\n",
              "2                    0   b'B006A2V4KC'  ...                  0.0   False\n",
              "3                    0   b'B000OQBP7C'  ...                  0.0   False\n",
              "6                    0   b'B002N1SMOU'  ...                  0.0   False\n",
              "7                    0   b'B006A2Y30U'  ...                  0.0   False\n",
              "9                    0   b'B001ACOF9E'  ...                  0.0   False\n",
              "10                   0   b'B00CHZZFJC'  ...                  0.0   False\n",
              "11                   0   b'B0001GZ7O2'  ...                  0.0   False\n",
              "13                   0   b'B00FYXG9I0'  ...                  0.0   False\n",
              "15                   0   b'B00387ET9A'  ...                  0.0   False\n",
              "17                   0   b'B00BCP4XKU'  ...                  0.0   False\n",
              "18                   0   b'B00KCGR1D6'  ...                  0.0   False\n",
              "20                   0   b'B00GKQFV84'  ...                  0.0   False\n",
              "21                   0   b'B0009GUCBM'  ...                  0.0   False\n",
              "22                   0   b'B000OQ9RJU'  ...                  0.0   False\n",
              "23                   0   b'B0007R8MHE'  ...                  0.0   False\n",
              "27                   0   b'B0034ER7OG'  ...                  0.0   False\n",
              "28                   0   b'B004J0UY5I'  ...                  0.0   False\n",
              "30                   0   b'B00FWPKE86'  ...                  0.0   False\n",
              "33                   0   b'B000KYHMM0'  ...                  0.0   False\n",
              "34                   0   b'B003EIIXOU'  ...                  0.0   False\n",
              "\n",
              "[20 rows x 15 columns]"
            ]
          },
          "metadata": {
            "tags": []
          },
          "execution_count": 83
        }
      ]
    },
    {
      "cell_type": "code",
      "metadata": {
        "colab": {
          "base_uri": "https://localhost:8080/"
        },
        "id": "qYyqU_x1p2Pu",
        "outputId": "03d06915-d10b-4e93-b29e-0aab99687de1"
      },
      "source": [
        "sample_review_pos_1 = final_data['data/review_body'].iloc[3015]\r\n",
        "print(sample_review_pos_1)\r\n",
        "sample_review_pos_2 = final_data['data/review_body'].iloc[239]\r\n",
        "print(sample_review_pos_2)\r\n",
        "sample_review_neg_1 = final_data['data/review_body'].iloc[13]\r\n",
        "print(sample_review_neg_1)\r\n",
        "sample_review_neg_2 = final_data['data/review_body'].iloc[17]\r\n",
        "print(sample_review_neg_2)"
      ],
      "execution_count": 85,
      "outputs": [
        {
          "output_type": "stream",
          "text": [
            "b'Nice, affordable, light tennis racquet, but wish the listing would have included (or we would have researched for) a size chart like the image attached (which came with this racquet) since the 19&#34; racquet seems a bit small for even our relatively small 5-year old.'\n",
            "b\"I was on my high school tennis team almost 40 years ago, and the last time I played seriously was about 30 years ago.  Now in my mid-fifties, I wanted to get back in the game for exercise.  My last racquet (remember how long ago this was) was an Arthur Ash Head Comp strung to 63 lbs with VS gut.  I simply love the Head Ti-S6!  I love it's lightness, as it lets me move the head around quickly to make shots I couldn't even make in high school.  It has a lot of power, whether for volleying, or for ground strokes.  The control from the baseline is better than I have ever had, and I can put those baseline shots right over the net with tremendous power.  The synthetic gut the racquet comes with allows quite a good spin, and while I don't know what the racquet is strung to, the strings feel taut, and have a lot of power.  While it is of course still good to follow through, I've found that chopping when vollying still yields a fast return.  The sweet spot covers most of the head of the racquet, and there is little vibration, with or without the included vibration dampener.  Speaking of inclusions, when I bought it through Amazon from Bois Blanc Sports, it came with a very nice Head whole racquet case.  Out of the box and with little practice, I am playing the best tennis of my life with this racquet.  I much prefer it to my son's Head Liquidmetal 4, and I love to keep that 14 year old running at my age.  I don't know if this is considered a geezer racquet, but if it is, I don't care, since it helps me play a couple of levels above my competence.  I simply love this racquet, and recommend it without reservations.\"\n",
            "b'the product is very good'\n",
            "b'Priced great and is super light. Kids loves it.'\n"
          ],
          "name": "stdout"
        }
      ]
    },
    {
      "cell_type": "code",
      "metadata": {
        "id": "apsjgo9-4JJb"
      },
      "source": [
        "MDL = 'model4.gensim'\r\n",
        "ldamodel = gensim.models.ldamodel.LdaModel.load(home_dir+MDL)\r\n",
        "def return_topics_distribution(document,dictionary=texts_dict,lda=ldamodel):\r\n",
        "  clean_doc = tokenize_stop_stem_text(document)\r\n",
        "  bow = dictionary.doc2bow(clean_doc)\r\n",
        "  new_doc_distribution = np.array([tup[1] for tup in lda.get_document_topics(bow=bow)])\r\n",
        "  return new_doc_distribution"
      ],
      "execution_count": 141,
      "outputs": []
    },
    {
      "cell_type": "code",
      "metadata": {
        "colab": {
          "base_uri": "https://localhost:8080/"
        },
        "id": "T92Sc1rE40UM",
        "outputId": "4d89fe92-f61b-4386-9e74-09635263227d"
      },
      "source": [
        "print(return_topics_distribution(sample_review_pos_1))\r\n",
        "print(return_topics_distribution(sample_review_pos_2))\r\n",
        "print(return_topics_distribution(sample_review_neg_1))\r\n",
        "print(return_topics_distribution(sample_review_neg_1))"
      ],
      "execution_count": 63,
      "outputs": [
        {
          "output_type": "stream",
          "text": [
            "[0.16469537 0.01168004 0.5892447  0.23437987]\n",
            "[0.2531362  0.47179246 0.0021463  0.27292508]\n",
            "[0.1106678  0.50239724 0.01038471 0.3765503 ]\n",
            "[0.11067715 0.50241345 0.01038201 0.37652737]\n"
          ],
          "name": "stdout"
        }
      ]
    },
    {
      "cell_type": "markdown",
      "metadata": {
        "id": "t8ezJT98CASn"
      },
      "source": [
        "# Measuring similarity of new review to the trained LDA corpus"
      ]
    },
    {
      "cell_type": "code",
      "metadata": {
        "colab": {
          "base_uri": "https://localhost:8080/"
        },
        "id": "OsSQbozgNTmi",
        "outputId": "a01c3a28-0168-4b90-860b-74fea3664653"
      },
      "source": [
        "# we need to use nested list comprehension here\r\n",
        "# this may take 1-2 minutes...\r\n",
        "doc_topic_dist = np.array([[tup[1] for tup in lst] for lst in ldamodel[corpus]])\r\n",
        "doc_topic_dist"
      ],
      "execution_count": 65,
      "outputs": [
        {
          "output_type": "execute_result",
          "data": {
            "text/plain": [
              "array([[0.35308424, 0.10801675, 0.1367207 , 0.4021783 ],\n",
              "       [0.72101665, 0.0214636 , 0.23446922, 0.02305052],\n",
              "       [0.8584496 , 0.01818722, 0.1046809 , 0.01868234],\n",
              "       ...,\n",
              "       [0.00178836, 0.99453944, 0.00183948, 0.0018327 ],\n",
              "       [0.02318582, 0.02319025, 0.02319549, 0.93042845],\n",
              "       [0.00739571, 0.00744607, 0.00735457, 0.9778037 ]], dtype=float32)"
            ]
          },
          "metadata": {
            "tags": []
          },
          "execution_count": 65
        }
      ]
    },
    {
      "cell_type": "code",
      "metadata": {
        "id": "iCZYzLS6Nszg"
      },
      "source": [
        "def jensen_shannon(query, matrix):\r\n",
        "    \"\"\"\r\n",
        "    This function implements a Jensen-Shannon similarity\r\n",
        "    between the input query (an LDA topic distribution for a document)\r\n",
        "    and the entire corpus of topic distributions.\r\n",
        "    It returns an array of length M where M is the number of documents in the corpus\r\n",
        "    \"\"\"\r\n",
        "    sim=[distance.jensenshannon(data,query) for data in matrix]\r\n",
        "    return sim"
      ],
      "execution_count": 66,
      "outputs": []
    },
    {
      "cell_type": "code",
      "metadata": {
        "id": "L2Zq9I2XNvIZ"
      },
      "source": [
        "def get_most_similar_documents(query,matrix,k=5):\r\n",
        "    \"\"\"\r\n",
        "    This function implements the Jensen-Shannon distance above\r\n",
        "    and retruns the top k indices of the smallest jensen shannon distances\r\n",
        "    \"\"\"\r\n",
        "    sims = jensen_shannon(query,matrix) # list of jensen shannon distances\r\n",
        "    return np.argsort(sims)[:k] # the top k positional index of the smallest Jensen Shannon distances"
      ],
      "execution_count": 67,
      "outputs": []
    },
    {
      "cell_type": "markdown",
      "metadata": {
        "id": "V5bhaZn4_1GB"
      },
      "source": [
        "# Investigating potential relationships between LDA model predictions and reviews usefulness\n"
      ]
    },
    {
      "cell_type": "code",
      "metadata": {
        "id": "7HZMU4hGE5Yv"
      },
      "source": [
        "USEFULNESS_THRESHOLD = 0.10\r\n",
        "#Scale by review votes count divided by total helpful votes of that products\r\n",
        "train_df['helpful_votes_scaled'] = train_df['data/helpful_votes'] / train_df['sum']\r\n",
        "train_df['helpful'] = np.where(train_df['helpful_votes_scaled'] >= USEFULNESS_THRESHOLD,True,False)"
      ],
      "execution_count": 138,
      "outputs": []
    },
    {
      "cell_type": "code",
      "metadata": {
        "colab": {
          "base_uri": "https://localhost:8080/"
        },
        "id": "VjpnFe9wDHGa",
        "outputId": "baff583e-b3cc-4a37-bc17-53f79e49ff37"
      },
      "source": [
        "TOP_K_PERCENT = 10\r\n",
        "# Apply min-max scaling to train dataset and label the reviews based on threshold\r\n",
        "train_df['helpful_votes_scaled'] = scaler.fit_transform(train_df[['data/helpful_votes']])\r\n",
        "# Find the minimum value of the top K percent records\r\n",
        "USEFULNESS_THRESHOLD = np.min(final_data.nlargest(int(len(train_df)*TOP_K_PERCENT/100),'helpful_votes_scaled')['helpful_votes_scaled'])\r\n",
        "print(USEFULNESS_THRESHOLD)\r\n",
        "train_df['helpful'] = np.where(train_df['helpful_votes_scaled'] >= USEFULNESS_THRESHOLD,True,False)"
      ],
      "execution_count": 139,
      "outputs": [
        {
          "output_type": "stream",
          "text": [
            "0.010084033613445379\n"
          ],
          "name": "stdout"
        }
      ]
    },
    {
      "cell_type": "code",
      "metadata": {
        "colab": {
          "base_uri": "https://localhost:8080/",
          "height": 411
        },
        "id": "UlHX02b2Q_Tk",
        "outputId": "42e82aaf-537e-4126-9d80-d72109ff3540"
      },
      "source": [
        "new_doc_distribution = return_topics_distribution(sample_review_pos_2)\r\n",
        "most_sim_ids = get_most_similar_documents(new_doc_distribution,doc_topic_dist)\r\n",
        "print(most_sim_ids)\r\n",
        "most_similar_df = train_df.iloc[most_sim_ids,:]\r\n",
        "most_similar_df"
      ],
      "execution_count": 92,
      "outputs": [
        {
          "output_type": "stream",
          "text": [
            "[  87  301  772  248 1107]\n"
          ],
          "name": "stdout"
        },
        {
          "output_type": "execute_result",
          "data": {
            "text/html": [
              "<div>\n",
              "<style scoped>\n",
              "    .dataframe tbody tr th:only-of-type {\n",
              "        vertical-align: middle;\n",
              "    }\n",
              "\n",
              "    .dataframe tbody tr th {\n",
              "        vertical-align: top;\n",
              "    }\n",
              "\n",
              "    .dataframe thead th {\n",
              "        text-align: right;\n",
              "    }\n",
              "</style>\n",
              "<table border=\"1\" class=\"dataframe\">\n",
              "  <thead>\n",
              "    <tr style=\"text-align: right;\">\n",
              "      <th></th>\n",
              "      <th>data/helpful_votes</th>\n",
              "      <th>data/product_id</th>\n",
              "      <th>data/product_parent</th>\n",
              "      <th>data/product_title</th>\n",
              "      <th>data/review_body</th>\n",
              "      <th>data/review_headline</th>\n",
              "      <th>data/review_id</th>\n",
              "      <th>data/star_rating</th>\n",
              "      <th>data/total_votes</th>\n",
              "      <th>count</th>\n",
              "      <th>sum</th>\n",
              "      <th>min</th>\n",
              "      <th>max</th>\n",
              "      <th>helpful_votes_scaled</th>\n",
              "      <th>helpful</th>\n",
              "    </tr>\n",
              "  </thead>\n",
              "  <tbody>\n",
              "    <tr>\n",
              "      <th>239</th>\n",
              "      <td>89</td>\n",
              "      <td>b'B000OQ8OU8'</td>\n",
              "      <td>b'547332048'</td>\n",
              "      <td>b'HEAD Ti.S6 Tennis Racquet - Strung'</td>\n",
              "      <td>I was on my high school tennis team almost  ye...</td>\n",
              "      <td>b'Outstanding for returning recreational players'</td>\n",
              "      <td>b'R3DF8ED26I7Y24'</td>\n",
              "      <td>5</td>\n",
              "      <td>92</td>\n",
              "      <td>109.0</td>\n",
              "      <td>201.0</td>\n",
              "      <td>0.0</td>\n",
              "      <td>89.0</td>\n",
              "      <td>0.148148</td>\n",
              "      <td>True</td>\n",
              "    </tr>\n",
              "    <tr>\n",
              "      <th>757</th>\n",
              "      <td>2</td>\n",
              "      <td>b'B00GAB9XII'</td>\n",
              "      <td>b'167148431'</td>\n",
              "      <td>b'Head YouTek Graphene Radical REV Tennis Racq...</td>\n",
              "      <td>I have about  racquets but have switched over ...</td>\n",
              "      <td>b'Tennis Elbow Friendly Racquet'</td>\n",
              "      <td>b'R3VSO16UF99T7G'</td>\n",
              "      <td>4</td>\n",
              "      <td>2</td>\n",
              "      <td>1.0</td>\n",
              "      <td>2.0</td>\n",
              "      <td>2.0</td>\n",
              "      <td>2.0</td>\n",
              "      <td>0.001684</td>\n",
              "      <td>False</td>\n",
              "    </tr>\n",
              "    <tr>\n",
              "      <th>1966</th>\n",
              "      <td>6</td>\n",
              "      <td>b'B0030GGXWA'</td>\n",
              "      <td>b'525218499'</td>\n",
              "      <td>b'Head Micro Gel Radical OS Strung Tennis Racq...</td>\n",
              "      <td>I purchased one of these racquets along with a...</td>\n",
              "      <td>b'A very nice racquet, especially for the price'</td>\n",
              "      <td>b'R1SA88EANF10Y2'</td>\n",
              "      <td>5</td>\n",
              "      <td>7</td>\n",
              "      <td>28.0</td>\n",
              "      <td>43.0</td>\n",
              "      <td>0.0</td>\n",
              "      <td>10.0</td>\n",
              "      <td>0.008418</td>\n",
              "      <td>False</td>\n",
              "    </tr>\n",
              "    <tr>\n",
              "      <th>633</th>\n",
              "      <td>9</td>\n",
              "      <td>b'B006A2Y8ZA'</td>\n",
              "      <td>b'320145091'</td>\n",
              "      <td>b'Head You Tek IG Radical S Tennis Racquet'</td>\n",
              "      <td>Hi every one, my best regards from Sud America...</td>\n",
              "      <td>b'It is the choosen one!!!!'</td>\n",
              "      <td>b'R9FPAISDTVXQ0'</td>\n",
              "      <td>5</td>\n",
              "      <td>10</td>\n",
              "      <td>5.0</td>\n",
              "      <td>13.0</td>\n",
              "      <td>0.0</td>\n",
              "      <td>9.0</td>\n",
              "      <td>0.013468</td>\n",
              "      <td>True</td>\n",
              "    </tr>\n",
              "    <tr>\n",
              "      <th>2788</th>\n",
              "      <td>7</td>\n",
              "      <td>b'B0000AQ9EA'</td>\n",
              "      <td>b'804079990'</td>\n",
              "      <td>b'Prince Triple Threat Scream Oversize Tennis ...</td>\n",
              "      <td>Am a -. player ..getting back into the game af...</td>\n",
              "      <td>b'Like it a lot!'</td>\n",
              "      <td>b'R2TL89QCXNL52P'</td>\n",
              "      <td>4</td>\n",
              "      <td>7</td>\n",
              "      <td>5.0</td>\n",
              "      <td>22.0</td>\n",
              "      <td>0.0</td>\n",
              "      <td>15.0</td>\n",
              "      <td>0.010101</td>\n",
              "      <td>True</td>\n",
              "    </tr>\n",
              "  </tbody>\n",
              "</table>\n",
              "</div>"
            ],
            "text/plain": [
              "      data/helpful_votes data/product_id  ... helpful_votes_scaled helpful\n",
              "239                   89   b'B000OQ8OU8'  ...             0.148148    True\n",
              "757                    2   b'B00GAB9XII'  ...             0.001684   False\n",
              "1966                   6   b'B0030GGXWA'  ...             0.008418   False\n",
              "633                    9   b'B006A2Y8ZA'  ...             0.013468    True\n",
              "2788                   7   b'B0000AQ9EA'  ...             0.010101    True\n",
              "\n",
              "[5 rows x 15 columns]"
            ]
          },
          "metadata": {
            "tags": []
          },
          "execution_count": 92
        }
      ]
    },
    {
      "cell_type": "markdown",
      "metadata": {
        "id": "eflAnwgACZid"
      },
      "source": [
        "#Predicting usefulness scores by averging the score of k most similar documents"
      ]
    },
    {
      "cell_type": "code",
      "metadata": {
        "id": "71qjAkY8Kjy2"
      },
      "source": [
        "def predict_usefulness_score(doc):\r\n",
        "  new_doc_distribution = return_topics_distribution(doc)\r\n",
        "  most_sim_ids = get_most_similar_documents(new_doc_distribution,doc_topic_dist)\r\n",
        "  most_sim_df_scores = train_df.iloc[most_sim_ids,:]\r\n",
        "  return np.mean(most_sim_df_scores['helpful_votes_scaled'])"
      ],
      "execution_count": 95,
      "outputs": []
    },
    {
      "cell_type": "code",
      "metadata": {
        "colab": {
          "base_uri": "https://localhost:8080/"
        },
        "id": "2xfMXHlcLSlS",
        "outputId": "2f7b5298-9ddf-4d8d-af10-88fd5314e84e"
      },
      "source": [
        "print(predict_usefulness_score(sample_review_neg_2))"
      ],
      "execution_count": 107,
      "outputs": [
        {
          "output_type": "stream",
          "text": [
            "0.00033670033670033666\n"
          ],
          "name": "stdout"
        }
      ]
    },
    {
      "cell_type": "code",
      "metadata": {
        "colab": {
          "base_uri": "https://localhost:8080/",
          "height": 394
        },
        "id": "UonGH-PpMJ7N",
        "outputId": "0780734e-4298-4a83-ae72-b46237750ce9"
      },
      "source": [
        "#apply to entire data set\r\n",
        "final_data['predicted_score'] = final_data['data/review_body'].apply(predict_usefulness_score)\r\n",
        "final_data.head(5)"
      ],
      "execution_count": 108,
      "outputs": [
        {
          "output_type": "execute_result",
          "data": {
            "text/html": [
              "<div>\n",
              "<style scoped>\n",
              "    .dataframe tbody tr th:only-of-type {\n",
              "        vertical-align: middle;\n",
              "    }\n",
              "\n",
              "    .dataframe tbody tr th {\n",
              "        vertical-align: top;\n",
              "    }\n",
              "\n",
              "    .dataframe thead th {\n",
              "        text-align: right;\n",
              "    }\n",
              "</style>\n",
              "<table border=\"1\" class=\"dataframe\">\n",
              "  <thead>\n",
              "    <tr style=\"text-align: right;\">\n",
              "      <th></th>\n",
              "      <th>data/helpful_votes</th>\n",
              "      <th>data/product_id</th>\n",
              "      <th>data/product_parent</th>\n",
              "      <th>data/product_title</th>\n",
              "      <th>data/review_body</th>\n",
              "      <th>data/review_headline</th>\n",
              "      <th>data/review_id</th>\n",
              "      <th>data/star_rating</th>\n",
              "      <th>data/total_votes</th>\n",
              "      <th>count</th>\n",
              "      <th>sum</th>\n",
              "      <th>min</th>\n",
              "      <th>max</th>\n",
              "      <th>helpful_votes_scaled</th>\n",
              "      <th>helpful</th>\n",
              "      <th>predict_score</th>\n",
              "    </tr>\n",
              "  </thead>\n",
              "  <tbody>\n",
              "    <tr>\n",
              "      <th>0</th>\n",
              "      <td>1</td>\n",
              "      <td>b'B000OQ74FE'</td>\n",
              "      <td>b'447336068'</td>\n",
              "      <td>b'HEAD Liquidmetal 4 Tennis Racquet (4-3/8), S...</td>\n",
              "      <td>b\"Supposedly one of the best novice racquets. ...</td>\n",
              "      <td>b'highly rated'</td>\n",
              "      <td>b'R12VYI1R99EI1Q'</td>\n",
              "      <td>5</td>\n",
              "      <td>4</td>\n",
              "      <td>22.0</td>\n",
              "      <td>38.0</td>\n",
              "      <td>0.0</td>\n",
              "      <td>10.0</td>\n",
              "      <td>0.001681</td>\n",
              "      <td>False</td>\n",
              "      <td>0.001010</td>\n",
              "    </tr>\n",
              "    <tr>\n",
              "      <th>1</th>\n",
              "      <td>1</td>\n",
              "      <td>b'B0034PBLA6'</td>\n",
              "      <td>b'16849618'</td>\n",
              "      <td>b'Wilson Energy Extra Large Tennis Racquet wit...</td>\n",
              "      <td>b'Wilson Energy Extra Large Tennis Racquet wit...</td>\n",
              "      <td>b'Wilson Energy Extra Large Tennis Racquet wit...</td>\n",
              "      <td>b'R31ZPNKKOSMF2L'</td>\n",
              "      <td>3</td>\n",
              "      <td>5</td>\n",
              "      <td>86.0</td>\n",
              "      <td>114.0</td>\n",
              "      <td>0.0</td>\n",
              "      <td>24.0</td>\n",
              "      <td>0.001681</td>\n",
              "      <td>False</td>\n",
              "      <td>0.003030</td>\n",
              "    </tr>\n",
              "    <tr>\n",
              "      <th>2</th>\n",
              "      <td>0</td>\n",
              "      <td>b'B006A2V4KC'</td>\n",
              "      <td>b'81787317'</td>\n",
              "      <td>b'Head Youtek IG Prestige Pro Tennis Racquet (...</td>\n",
              "      <td>b\"I've been playing with Head Racquets for man...</td>\n",
              "      <td>b'Best of the Prestige frames'</td>\n",
              "      <td>b'R2NOC0IE7BEWWN'</td>\n",
              "      <td>5</td>\n",
              "      <td>0</td>\n",
              "      <td>5.0</td>\n",
              "      <td>8.0</td>\n",
              "      <td>0.0</td>\n",
              "      <td>6.0</td>\n",
              "      <td>0.000000</td>\n",
              "      <td>False</td>\n",
              "      <td>0.003704</td>\n",
              "    </tr>\n",
              "    <tr>\n",
              "      <th>3</th>\n",
              "      <td>0</td>\n",
              "      <td>b'B000OQBP7C'</td>\n",
              "      <td>b'384056751'</td>\n",
              "      <td>b'Head Liquidmetal 8 Tennis Racquet'</td>\n",
              "      <td>b'I chose this racquet because its price and w...</td>\n",
              "      <td>b'Great!!!'</td>\n",
              "      <td>b'R2IDP12RDJ1SB5'</td>\n",
              "      <td>5</td>\n",
              "      <td>1</td>\n",
              "      <td>117.0</td>\n",
              "      <td>227.0</td>\n",
              "      <td>0.0</td>\n",
              "      <td>101.0</td>\n",
              "      <td>0.000000</td>\n",
              "      <td>False</td>\n",
              "      <td>0.001684</td>\n",
              "    </tr>\n",
              "    <tr>\n",
              "      <th>4</th>\n",
              "      <td>1</td>\n",
              "      <td>b'B004IA8GL8'</td>\n",
              "      <td>b'586581984'</td>\n",
              "      <td>b\"Wilson unstrung'11 Blade Lite BLX Tennis Rac...</td>\n",
              "      <td>b'The racket is really nice for $60+. There is...</td>\n",
              "      <td>b'Good racket'</td>\n",
              "      <td>b'R2VG95KHXUZG1S'</td>\n",
              "      <td>4</td>\n",
              "      <td>1</td>\n",
              "      <td>6.0</td>\n",
              "      <td>6.0</td>\n",
              "      <td>0.0</td>\n",
              "      <td>2.0</td>\n",
              "      <td>0.001681</td>\n",
              "      <td>False</td>\n",
              "      <td>0.001684</td>\n",
              "    </tr>\n",
              "  </tbody>\n",
              "</table>\n",
              "</div>"
            ],
            "text/plain": [
              "   data/helpful_votes data/product_id  ... helpful predict_score\n",
              "0                   1   b'B000OQ74FE'  ...   False      0.001010\n",
              "1                   1   b'B0034PBLA6'  ...   False      0.003030\n",
              "2                   0   b'B006A2V4KC'  ...   False      0.003704\n",
              "3                   0   b'B000OQBP7C'  ...   False      0.001684\n",
              "4                   1   b'B004IA8GL8'  ...   False      0.001684\n",
              "\n",
              "[5 rows x 16 columns]"
            ]
          },
          "metadata": {
            "tags": []
          },
          "execution_count": 108
        }
      ]
    },
    {
      "cell_type": "code",
      "metadata": {
        "id": "p0D0qm1CcJp_"
      },
      "source": [
        "#save it\r\n",
        "predicted_data = 'US_Tennis_Racquet_Reviews_Predictions.csv'\r\n",
        "final_data.to_csv(home_dir+predicted_data)"
      ],
      "execution_count": 145,
      "outputs": []
    },
    {
      "cell_type": "markdown",
      "metadata": {
        "id": "1P6rM5POOmPU"
      },
      "source": [
        "# Visualize the results"
      ]
    },
    {
      "cell_type": "code",
      "metadata": {
        "id": "lpa_MPbJ4byp"
      },
      "source": [
        "#load saved prediction data. Uncomment if needed\r\n",
        "predicted_data = 'US_Tennis_Racquet_Reviews_Predictions.csv'\r\n",
        "final_data = pd.read_csv(home_dir+predicted_data)"
      ],
      "execution_count": 4,
      "outputs": []
    },
    {
      "cell_type": "code",
      "metadata": {
        "colab": {
          "base_uri": "https://localhost:8080/",
          "height": 592
        },
        "id": "vqvN5-C-Oux9",
        "outputId": "6000caa1-5c08-43f3-ba52-3c898ab2df6a"
      },
      "source": [
        "true_vals = final_data['helpful_votes_scaled']\r\n",
        "predicted_vals = final_data['predict_score']\r\n",
        "plt.figure(figsize=(10,10))\r\n",
        "plt.plot(predicted_vals - true_vals,marker='o',linestyle='')\r\n",
        "plt.show()"
      ],
      "execution_count": 29,
      "outputs": [
        {
          "output_type": "display_data",
          "data": {
            "image/png": "[encoded data removed]",
            "text/plain": [
              "<Figure size 720x720 with 1 Axes>"
            ]
          },
          "metadata": {
            "tags": [],
            "needs_background": "light"
          }
        }
      ]
    },
    {
      "cell_type": "code",
      "metadata": {
        "colab": {
          "base_uri": "https://localhost:8080/",
          "height": 611
        },
        "id": "l_zuF34wTDzP",
        "outputId": "e048101d-5e13-4ee1-c232-8763bf279900"
      },
      "source": [
        "true_vals = final_data['helpful_votes_scaled']\r\n",
        "predicted_vals = final_data['predict_score']\r\n",
        "plt.figure(figsize=(10,10))\r\n",
        "plt.scatter(true_vals, predicted_vals)\r\n",
        "plt.xlabel('True Values', fontsize=15)\r\n",
        "plt.ylabel('Predictions', fontsize=15)\r\n",
        "plt.xlim(0,0.2)\r\n",
        "plt.show()"
      ],
      "execution_count": 6,
      "outputs": [
        {
          "output_type": "display_data",
          "data": {
            "image/png": "[encoded data removed]",
            "text/plain": [
              "<Figure size 720x720 with 1 Axes>"
            ]
          },
          "metadata": {
            "tags": [],
            "needs_background": "light"
          }
        }
      ]
    },
    {
      "cell_type": "code",
      "metadata": {
        "colab": {
          "base_uri": "https://localhost:8080/",
          "height": 142
        },
        "id": "IiuKEHRw4_TN",
        "outputId": "acd2fb78-a59d-48d2-f318-4318d7fe48f7"
      },
      "source": [
        "CUT_OFF_VALUE = 0.01\r\n",
        "final_data['predicted_class'] = np.where(final_data['predict_score'] >= CUT_OFF_VALUE,True,False)\r\n",
        "pd.crosstab(final_data['helpful'],final_data['predicted_class'],\r\n",
        "            margins_name=\"Total\",rownames=['Actual Class'], colnames=['Predicted Class'],normalize=False)\r\n"
      ],
      "execution_count": 26,
      "outputs": [
        {
          "output_type": "execute_result",
          "data": {
            "text/html": [
              "<div>\n",
              "<style scoped>\n",
              "    .dataframe tbody tr th:only-of-type {\n",
              "        vertical-align: middle;\n",
              "    }\n",
              "\n",
              "    .dataframe tbody tr th {\n",
              "        vertical-align: top;\n",
              "    }\n",
              "\n",
              "    .dataframe thead th {\n",
              "        text-align: right;\n",
              "    }\n",
              "</style>\n",
              "<table border=\"1\" class=\"dataframe\">\n",
              "  <thead>\n",
              "    <tr style=\"text-align: right;\">\n",
              "      <th>Predicted Class</th>\n",
              "      <th>False</th>\n",
              "      <th>True</th>\n",
              "    </tr>\n",
              "    <tr>\n",
              "      <th>Actual Class</th>\n",
              "      <th></th>\n",
              "      <th></th>\n",
              "    </tr>\n",
              "  </thead>\n",
              "  <tbody>\n",
              "    <tr>\n",
              "      <th>False</th>\n",
              "      <td>4407</td>\n",
              "      <td>180</td>\n",
              "    </tr>\n",
              "    <tr>\n",
              "      <th>True</th>\n",
              "      <td>592</td>\n",
              "      <td>73</td>\n",
              "    </tr>\n",
              "  </tbody>\n",
              "</table>\n",
              "</div>"
            ],
            "text/plain": [
              "Predicted Class  False  True \n",
              "Actual Class                 \n",
              "False             4407    180\n",
              "True               592     73"
            ]
          },
          "metadata": {
            "tags": []
          },
          "execution_count": 26
        }
      ]
    },
    {
      "cell_type": "code",
      "metadata": {
        "colab": {
          "base_uri": "https://localhost:8080/"
        },
        "id": "G97XS7zZ9WYH",
        "outputId": "a57e3498-d760-419a-ffd3-ef0f259cf042"
      },
      "source": [
        "# A cleaner way to report classification metrics\r\n",
        "y_test = final_data['helpful']\r\n",
        "y_pred = final_data['predicted_class']\r\n",
        "print(accuracy_score(y_test,y_pred))\r\n",
        "print(confusion_matrix(y_test,y_pred))\r\n",
        "print(classification_report(y_test,y_pred))"
      ],
      "execution_count": 27,
      "outputs": [
        {
          "output_type": "stream",
          "text": [
            "0.853008377760853\n",
            "[[4407  180]\n",
            " [ 592   73]]\n",
            "              precision    recall  f1-score   support\n",
            "\n",
            "       False       0.88      0.96      0.92      4587\n",
            "        True       0.29      0.11      0.16       665\n",
            "\n",
            "    accuracy                           0.85      5252\n",
            "   macro avg       0.59      0.54      0.54      5252\n",
            "weighted avg       0.81      0.85      0.82      5252\n",
            "\n"
          ],
          "name": "stdout"
        }
      ]
    },
    {
      "cell_type": "markdown",
      "metadata": {
        "id": "2rntK--9wfUS"
      },
      "source": [
        "# Acknowledgement\r\n",
        "- https://kldavenport.com/topic-modeling-amazon-reviews/#querying-the-lda-model\r\n",
        "- https://towardsdatascience.com/topic-modelling-in-python-with-nltk-and-gensim-4ef03213cd21\r\n",
        "- https://www.kaggle.com/ktattan/lda-and-document-similarity"
      ]
    }
  ]
}