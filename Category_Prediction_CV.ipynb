{
  "nbformat": 4,
  "nbformat_minor": 0,
  "metadata": {
    "kernelspec": {
      "display_name": "Python 3",
      "language": "python",
      "name": "python3"
    },
    "language_info": {
      "codemirror_mode": {
        "name": "ipython",
        "version": 3
      },
      "file_extension": ".py",
      "mimetype": "text/x-python",
      "name": "python",
      "nbconvert_exporter": "python",
      "pygments_lexer": "ipython3",
      "version": "3.7.1"
    },
    "colab": {
      "name": "Copy of Category_Prediction.ipynb",
      "provenance": [],
      "machine_shape": "hm",
      "include_colab_link": true
    },
    "accelerator": "TPU"
  },
  "cells": [
    {
      "cell_type": "markdown",
      "metadata": {
        "id": "view-in-github",
        "colab_type": "text"
      },
      "source": [
        "<a href=\"https://colab.research.google.com/github/tpmarsha/ML2AmazonKaggle/blob/master/Category_Prediction_CV.ipynb\" target=\"_parent\"><img src=\"https://colab.research.google.com/assets/colab-badge.svg\" alt=\"Open In Colab\"/></a>"
      ]
    },
    {
      "cell_type": "code",
      "metadata": {
        "id": "_-x9J3S1khRx",
        "colab_type": "code",
        "outputId": "5be0495f-3bd2-43ea-881f-6663aaf1470f",
        "colab": {
          "base_uri": "https://localhost:8080/",
          "height": 50
        }
      },
      "source": [
        "import pandas as pd\n",
        "import os\n",
        "from collections import defaultdict\n",
        "import time\n",
        "import numpy as np\n",
        "from numpy import random\n",
        "import nltk\n",
        "nltk.download('stopwords')\n",
        "from sklearn.model_selection import train_test_split\n",
        "from sklearn.feature_extraction.text import CountVectorizer, TfidfVectorizer\n",
        "from sklearn.metrics import accuracy_score, classification_report\n",
        "import matplotlib.pyplot as plt\n",
        "from nltk.corpus import stopwords\n",
        "import re\n",
        "\n",
        "\n"
      ],
      "execution_count": 1,
      "outputs": [
        {
          "output_type": "stream",
          "text": [
            "[nltk_data] Downloading package stopwords to /root/nltk_data...\n",
            "[nltk_data]   Unzipping corpora/stopwords.zip.\n"
          ],
          "name": "stdout"
        }
      ]
    },
    {
      "cell_type": "code",
      "metadata": {
        "id": "FX_SmV8AkhR1",
        "colab_type": "code",
        "colab": {}
      },
      "source": [
        "def read_json(f):\n",
        "  for l in open(f,\"r\"):\n",
        "    yield eval(l)"
      ],
      "execution_count": 0,
      "outputs": []
    },
    {
      "cell_type": "code",
      "metadata": {
        "id": "3NF2Gf8akhR3",
        "colab_type": "code",
        "colab": {}
      },
      "source": [
        "# f = \"C:/Users/Hewitt/Documents/GitHub/ML2_FinalProject/train.json\"\n",
        "# labels = ['Men','Women','Baby', 'Boys','Girls']\n",
        "# for l in read_json(f):\n",
        "#     start_time = time.time()\n",
        "#     reviewHash, reviewText, category = l['reviewHash'],l['reviewText'],l['categories']\n",
        "#     flat_category = [item for sublist in category for item in sublist]\n",
        "#     label = [label for label in labels if\n",
        "#              any(label in str for str in flat_category)] \n",
        "# #     print(label[0])\n",
        "#     df = df.append({'ReviewHash': reviewHash,\n",
        "#                     'ReviewText': reviewText,\n",
        "#                    'CategoryLabel': label[0]}, ignore_index=True)\n",
        "# #     print(\"--- %s seconds ---\" % (time.time() - start_time))\n",
        "# df.to_csv(\"train.csv\")"
      ],
      "execution_count": 0,
      "outputs": []
    },
    {
      "cell_type": "code",
      "metadata": {
        "id": "G2ZDFVfVk_sV",
        "colab_type": "code",
        "outputId": "bbb6774f-2f15-4915-eae7-066d36a7d536",
        "colab": {
          "base_uri": "https://localhost:8080/",
          "height": 121
        }
      },
      "source": [
        "from google.colab import drive\n",
        "drive.mount('/content/drive')"
      ],
      "execution_count": 5,
      "outputs": [
        {
          "output_type": "stream",
          "text": [
            "Go to this URL in a browser: https://accounts.google.com/o/oauth2/auth?client_id=947318989803-6bn6qk8qdgf4n4g3pfee6491hc0brc4i.apps.googleusercontent.com&redirect_uri=urn%3aietf%3awg%3aoauth%3a2.0%3aoob&response_type=code&scope=email%20https%3a%2f%2fwww.googleapis.com%2fauth%2fdocs.test%20https%3a%2f%2fwww.googleapis.com%2fauth%2fdrive%20https%3a%2f%2fwww.googleapis.com%2fauth%2fdrive.photos.readonly%20https%3a%2f%2fwww.googleapis.com%2fauth%2fpeopleapi.readonly\n",
            "\n",
            "Enter your authorization code:\n",
            "··········\n",
            "Mounted at /content/drive\n"
          ],
          "name": "stdout"
        }
      ]
    },
    {
      "cell_type": "code",
      "metadata": {
        "id": "ruaOnkJskhR5",
        "colab_type": "code",
        "outputId": "2f373837-004b-4307-eebc-7c84c29bf5b1",
        "colab": {
          "base_uri": "https://localhost:8080/",
          "height": 195
        }
      },
      "source": [
        "root_path = '/content/drive/My Drive/Team 3 Kaggle Competition ML2/'\n",
        "df= pd.read_csv(root_path + 'train_CategoryPrediction.csv',\n",
        "               index_col=0)\n",
        "df.head(5)\n"
      ],
      "execution_count": 6,
      "outputs": [
        {
          "output_type": "execute_result",
          "data": {
            "text/html": [
              "<div>\n",
              "<style scoped>\n",
              "    .dataframe tbody tr th:only-of-type {\n",
              "        vertical-align: middle;\n",
              "    }\n",
              "\n",
              "    .dataframe tbody tr th {\n",
              "        vertical-align: top;\n",
              "    }\n",
              "\n",
              "    .dataframe thead th {\n",
              "        text-align: right;\n",
              "    }\n",
              "</style>\n",
              "<table border=\"1\" class=\"dataframe\">\n",
              "  <thead>\n",
              "    <tr style=\"text-align: right;\">\n",
              "      <th></th>\n",
              "      <th>ReviewHash</th>\n",
              "      <th>ReviewText</th>\n",
              "      <th>CategoryLabel</th>\n",
              "    </tr>\n",
              "  </thead>\n",
              "  <tbody>\n",
              "    <tr>\n",
              "      <th>0</th>\n",
              "      <td>R798569390</td>\n",
              "      <td>The model in this picture has them rolled up a...</td>\n",
              "      <td>Women</td>\n",
              "    </tr>\n",
              "    <tr>\n",
              "      <th>1</th>\n",
              "      <td>R436443063</td>\n",
              "      <td>I love the look of this bra, it is what I want...</td>\n",
              "      <td>Women</td>\n",
              "    </tr>\n",
              "    <tr>\n",
              "      <th>2</th>\n",
              "      <td>R103439446</td>\n",
              "      <td>I am not comfortable with wearing my wedding b...</td>\n",
              "      <td>Women</td>\n",
              "    </tr>\n",
              "    <tr>\n",
              "      <th>3</th>\n",
              "      <td>R486351639</td>\n",
              "      <td>Like the look of this top and really looks cut...</td>\n",
              "      <td>Women</td>\n",
              "    </tr>\n",
              "    <tr>\n",
              "      <th>4</th>\n",
              "      <td>R508664275</td>\n",
              "      <td>I'm quite small and the XS fits me like a regu...</td>\n",
              "      <td>Women</td>\n",
              "    </tr>\n",
              "  </tbody>\n",
              "</table>\n",
              "</div>"
            ],
            "text/plain": [
              "   ReviewHash                                         ReviewText CategoryLabel\n",
              "0  R798569390  The model in this picture has them rolled up a...         Women\n",
              "1  R436443063  I love the look of this bra, it is what I want...         Women\n",
              "2  R103439446  I am not comfortable with wearing my wedding b...         Women\n",
              "3  R486351639  Like the look of this top and really looks cut...         Women\n",
              "4  R508664275  I'm quite small and the XS fits me like a regu...         Women"
            ]
          },
          "metadata": {
            "tags": []
          },
          "execution_count": 6
        }
      ]
    },
    {
      "cell_type": "code",
      "metadata": {
        "id": "ew6OP3bQkhR-",
        "colab_type": "code",
        "outputId": "154ef9e1-1599-4d34-ed58-8315fece5051",
        "colab": {
          "base_uri": "https://localhost:8080/",
          "height": 118
        }
      },
      "source": [
        "display(df['CategoryLabel'].value_counts())"
      ],
      "execution_count": 7,
      "outputs": [
        {
          "output_type": "display_data",
          "data": {
            "text/plain": [
              "Women    141303\n",
              "Men       51530\n",
              "Baby       3324\n",
              "Girls      2191\n",
              "Boys       1652\n",
              "Name: CategoryLabel, dtype: int64"
            ]
          },
          "metadata": {
            "tags": []
          }
        }
      ]
    },
    {
      "cell_type": "code",
      "metadata": {
        "id": "JpKszWGwkhSA",
        "colab_type": "code",
        "outputId": "d77fd981-d899-4337-c2ee-855d530c3d4d",
        "colab": {
          "base_uri": "https://localhost:8080/",
          "height": 185
        }
      },
      "source": [
        "Replace_by_space_re = re.compile('[/(){}\\[\\]\\|@,;]')\n",
        "Bad_symbols_re = re.compile('[^0-9a-z #+_]')\n",
        "Stopwords = set(stopwords.words('english'))\n",
        "\n",
        "def clean_text(text):\n",
        "    text=str(text)\n",
        "    text=text.lower()\n",
        "    text=Replace_by_space_re.sub(' ', text)\n",
        "    text=Bad_symbols_re.sub('', text)\n",
        "    text= ' '.join(word for word in text.split() if word not in Stopwords)\n",
        "    return text\n",
        "\n",
        "df['ReviewText'] = df['ReviewText'].apply(clean_text)\n",
        "print(df.head(5))\n",
        "### Word Size\n",
        "print(df['ReviewText'].apply(lambda x: len(x.split(' '))).sum())\n",
        "### Max Review Length\n",
        "print(df['ReviewText'].apply(lambda x: len(x.split(' '))).max())\n",
        "\n",
        "df['tokens_length'] = df['ReviewText'].apply(lambda x: len(x.split(' ')))\n",
        "df[df.tokens_length==2046].ReviewText\n"
      ],
      "execution_count": 8,
      "outputs": [
        {
          "output_type": "stream",
          "text": [
            "   ReviewHash                                         ReviewText CategoryLabel\n",
            "0  R798569390  model picture rolled top actually high waisted...         Women\n",
            "1  R436443063  love look bra wanted however cup size band siz...         Women\n",
            "2  R103439446  comfortable wearing wedding band little diamon...         Women\n",
            "3  R486351639  like look top really looks cute buton closer l...         Women\n",
            "4  R508664275  im quite small xs fits like regular tshirt imp...         Women\n",
            "5889335\n",
            "2046\n"
          ],
          "name": "stdout"
        },
        {
          "output_type": "execute_result",
          "data": {
            "text/plain": [
              "164763    kind icebreaker oasis shirt last week decided ...\n",
              "Name: ReviewText, dtype: object"
            ]
          },
          "metadata": {
            "tags": []
          },
          "execution_count": 8
        }
      ]
    },
    {
      "cell_type": "code",
      "metadata": {
        "id": "JeJDCfmmkhSC",
        "colab_type": "code",
        "outputId": "2e08ed21-ddf7-402a-f1aa-e14a7b70311e",
        "colab": {
          "base_uri": "https://localhost:8080/",
          "height": 458
        }
      },
      "source": [
        "### Generate words count & histograms\n",
        "from yellowbrick.text import FreqDistVisualizer\n",
        "v=CountVectorizer()\n",
        "d=v.fit_transform(df['ReviewText'])\n",
        "f=v.get_feature_names()\n",
        "\n",
        "visualizer = FreqDistVisualizer(features=f, orient='v', n=2500)\n",
        "visualizer.fit(d)\n",
        "visualizer.draw()"
      ],
      "execution_count": 9,
      "outputs": [
        {
          "output_type": "stream",
          "text": [
            "/usr/local/lib/python3.6/dist-packages/sklearn/utils/deprecation.py:144: FutureWarning: The sklearn.metrics.classification module is  deprecated in version 0.22 and will be removed in version 0.24. The corresponding classes / functions should instead be imported from sklearn.metrics. Anything that cannot be imported from sklearn.metrics is now part of the private API.\n",
            "  warnings.warn(message, FutureWarning)\n"
          ],
          "name": "stderr"
        },
        {
          "output_type": "display_data",
          "data": {
            "image/png": "[encoded data removed]",
            "text/plain": [
              "<Figure size 576x396 with 1 Axes>"
            ]
          },
          "metadata": {
            "tags": []
          }
        }
      ]
    },
    {
      "cell_type": "code",
      "metadata": {
        "id": "LlZF6sD5khSF",
        "colab_type": "code",
        "outputId": "efc922ea-0261-49de-a6d5-ead32f158ddb",
        "colab": {
          "base_uri": "https://localhost:8080/",
          "height": 134
        }
      },
      "source": [
        "from nltk import FreqDist\n",
        "df['tokenized'] = df['ReviewText'].apply(lambda x: x.split(' '))\n",
        "# df.head(5)\n",
        "all_words = [word for item in list(df['tokenized']) for word in item]\n",
        "fdist = FreqDist(all_words)\n",
        "print(len(fdist)) # number of unique words\n",
        "# choose k and visually inspect the bottom 10 words of the top k\n",
        "k = 10000\n",
        "top_k_words = fdist.most_common(k)\n",
        "print(top_k_words[-10:])\n",
        "\n",
        "k = 5000\n",
        "top_k_words = fdist.most_common(k)\n",
        "print(top_k_words[-10:])\n",
        "\n",
        "k = 2000\n",
        "top_k_words = fdist.most_common(k)\n",
        "print(top_k_words[-10:])\n",
        "\n",
        "k = 1000\n",
        "top_k_words = fdist.most_common(k)\n",
        "print(top_k_words[-10:])\n",
        "\n",
        "k = 500\n",
        "top_k_words = fdist.most_common(k)\n",
        "print(top_k_words[-10:])\n",
        "\n",
        "k = 100\n",
        "top_k_words = fdist.most_common(k)\n",
        "print(top_k_words[-10:])\n"
      ],
      "execution_count": 10,
      "outputs": [
        {
          "output_type": "stream",
          "text": [
            "123375\n",
            "[('toesi', 19), ('spd', 19), ('44#34', 19), ('gifti', 19), ('braces', 19), ('poolside', 19), ('understandable', 19), ('1314', 19), ('singing', 19), ('approve', 19)]\n",
            "[('tracking', 67), ('handled', 67), ('eternity', 67), ('dishes', 67), ('pilates', 67), ('reads', 67), ('http', 67), ('score', 67), ('kudos', 67), ('neoprene', 67)]\n",
            "[('satin', 320), ('smart', 320), ('manufacturers', 320), ('def', 319), ('mark', 319), ('dr', 318), ('beginning', 318), ('amazoncom', 318), ('charge', 318), ('rolled', 317)]\n",
            "[('saying', 888), ('colored', 887), ('nicer', 885), ('figured', 884), ('skechers', 883), ('16', 881), ('rough', 877), ('flexible', 876), ('collar', 872), ('affordable', 872)]\n",
            "[('hoping', 2154), ('making', 2152), ('women', 2148), ('sock', 2146), ('dresses', 2145), ('womens', 2142), ('okay', 2136), ('zipper', 2119), ('pain', 2118), ('month', 2099)]\n",
            "[('style', 10241), ('lot', 10235), ('fabric', 10032), ('two', 9959), ('put', 9898), ('keep', 9890), ('cant', 9868), ('worn', 9802), ('since', 9772), ('true', 9711)]\n"
          ],
          "name": "stdout"
        }
      ]
    },
    {
      "cell_type": "code",
      "metadata": {
        "id": "Rn9b9ibEkhSJ",
        "colab_type": "code",
        "outputId": "4b39dc1b-0eab-45b0-87af-5d01abbaa9aa",
        "colab": {
          "base_uri": "https://localhost:8080/",
          "height": 84
        }
      },
      "source": [
        "# define a function only to keep words in the top k words\n",
        "k=2500\n",
        "top_k_words,_ = zip(*fdist.most_common(k))\n",
        "top_k_words = set(top_k_words)\n",
        "def keep_top_k_words(text):\n",
        "    return [word for word in text if word in top_k_words]\n",
        "\n",
        "df['tokenized'] = df['tokenized'].apply(keep_top_k_words)\n",
        "\n",
        "# document length\n",
        "df['doc_len'] = df['tokenized'].apply(lambda x: len(x))\n",
        "doc_lengths = list(df['doc_len'])\n",
        "\n",
        "print(\"length of list:\",len(doc_lengths),\n",
        "      \"\\naverage document length\", np.average(doc_lengths),\n",
        "      \"\\nminimum document length\", min(doc_lengths),\n",
        "      \"\\nmaximum document length\", max(doc_lengths))"
      ],
      "execution_count": 11,
      "outputs": [
        {
          "output_type": "stream",
          "text": [
            "length of list: 200000 \n",
            "average document length 25.805625 \n",
            "minimum document length 0 \n",
            "maximum document length 1554\n"
          ],
          "name": "stdout"
        }
      ]
    },
    {
      "cell_type": "code",
      "metadata": {
        "id": "kHM8sjm1khSL",
        "colab_type": "code",
        "colab": {}
      },
      "source": [
        "X =df.ReviewText\n",
        "y= df.CategoryLabel\n",
        "# X_train, X_test, y_train, y_test = train_test_split(X, y, test_size=0.2, random_state = 42, stratify=y)"
      ],
      "execution_count": 0,
      "outputs": []
    },
    {
      "cell_type": "code",
      "metadata": {
        "id": "pLOrIzkDkhSN",
        "colab_type": "code",
        "outputId": "93729939-7796-4f45-ac90-1a60101dd328",
        "colab": {
          "base_uri": "https://localhost:8080/",
          "height": 302
        }
      },
      "source": [
        "from sklearn.pipeline import Pipeline\n",
        "from sklearn.feature_extraction.text import TfidfTransformer\n",
        "from sklearn.linear_model import LogisticRegression\n",
        "\n",
        "tfidf = Pipeline([('vect', CountVectorizer()),\n",
        "                 ('tfidf', TfidfTransformer()),\n",
        "                 ('clf', LogisticRegression(n_jobs=10, C=1e5, multi_class='auto', verbose=1)),\n",
        "                 ])\n",
        "start_time = time.time()\n",
        "tfidf.fit(X_train, y_train)\n",
        "\n",
        "# y_pred = tfidf.predict(X_test)\n",
        "\n",
        "# print(\"--- %s seconds ---\" % (time.time() - start_time))\n",
        "# print('training accuracy %s' % tfidf.score(X_train, y_train))\n",
        "# print('testing accuracy %s' % accuracy_score(y_pred,y_test))\n",
        "# print(classification_report(y_test, y_pred, target_names=y.unique()))\n"
      ],
      "execution_count": 13,
      "outputs": [
        {
          "output_type": "stream",
          "text": [
            "[Parallel(n_jobs=10)]: Using backend LokyBackend with 10 concurrent workers.\n",
            "[Parallel(n_jobs=10)]: Done   1 out of   1 | elapsed:   24.2s finished\n"
          ],
          "name": "stderr"
        },
        {
          "output_type": "stream",
          "text": [
            "--- 30.2066433429718 seconds ---\n",
            "training accuracy 0.8788375\n",
            "testing accuracy 0.83985\n",
            "              precision    recall  f1-score   support\n",
            "\n",
            "       Women       0.75      0.62      0.68       665\n",
            "        Baby       0.56      0.34      0.42       330\n",
            "        Boys       0.43      0.18      0.26       438\n",
            "         Men       0.76      0.67      0.71     10306\n",
            "       Girls       0.87      0.92      0.90     28261\n",
            "\n",
            "    accuracy                           0.84     40000\n",
            "   macro avg       0.67      0.55      0.59     40000\n",
            "weighted avg       0.83      0.84      0.83     40000\n",
            "\n"
          ],
          "name": "stdout"
        }
      ]
    },
    {
      "cell_type": "code",
      "metadata": {
        "id": "38p7Fq1SkhSO",
        "colab_type": "code",
        "colab": {}
      },
      "source": [
        "#Initialize TFIDF vectorizer that turn collection of document to sparse matrix of ngram from 1 to 3\n",
        "ngram = TfidfVectorizer(ngram_range=(1,3), min_df=1, use_idf=True, smooth_idf=True)\n",
        "#Vectorize the training data\n",
        "start_time = time.time()\n",
        "# X_vector = ngram.fit_transform(X)\n",
        "# #Vectorize the testing data\n",
        "# X_test_vector = ngram.transform(X_test)\n",
        "# ngram_tfidf = LogisticRegression(n_jobs=10, C=1e5, multi_class='auto', verbose=True)\n",
        "# ngram_tfidf.fit(X_vector,y)\n",
        "# #Prediction\n",
        "# y_pred = ngram_tfidf.predict(X_test_vector)\n",
        "\n",
        "# print(\"--- %s seconds ---\" % (time.time() - start_time))\n",
        "# print('training accuracy %s' % ngram_tfidf.score(X_train_vector, y_train))\n",
        "# print('testing accuracy %s' % accuracy_score(y_pred,y_test))\n",
        "# print(classification_report(y_test, y_pred, target_names=y.unique()))"
      ],
      "execution_count": 0,
      "outputs": []
    },
    {
      "cell_type": "code",
      "metadata": {
        "id": "OwnfAbQRkhSQ",
        "colab_type": "code",
        "colab": {}
      },
      "source": [
        "from tensorflow.keras.preprocessing.text import Tokenizer\n",
        "from tensorflow.keras.preprocessing.sequence import pad_sequences\n",
        "from tensorflow.keras.utils import to_categorical\n",
        "n_most_common_words = 2500 # based on the inspection of the words counts above\n",
        "max_len = 1000 # based on max document length above after filtering for top 2500 words\n",
        "tokenizer = Tokenizer(num_words=n_most_common_words)\n",
        "tokenizer.fit_on_texts(X)\n",
        "sequences = tokenizer.texts_to_sequences(X)\n",
        "X_LSTM = pad_sequences(sequences, maxlen=max_len)\n",
        "y_LSTM = to_categorical(df.CategoryLabel.factorize()[0], num_classes=5)\n",
        "X_train_lstm, X_test_lstm, y_train_lstm, y_test_lstm = train_test_split(X_LSTM, y_LSTM, test_size=0.2, random_state = 42, stratify=y)"
      ],
      "execution_count": 0,
      "outputs": []
    },
    {
      "cell_type": "code",
      "metadata": {
        "id": "mJ63dFG8khST",
        "colab_type": "code",
        "outputId": "be24e491-c553-40fe-ad34-5e4ef0f3780f",
        "colab": {
          "base_uri": "https://localhost:8080/",
          "height": 269
        }
      },
      "source": [
        "import tensorflow as tf\n",
        "from tensorflow import keras\n",
        "from tensorflow.keras import Sequential\n",
        "from tensorflow.keras.layers import Embedding, Dense, Bidirectional, LSTM\n",
        "\n",
        "embedding_size = 100\n",
        "model = Sequential()\n",
        "model.add(Embedding(n_most_common_words, embedding_size, input_length=X_LSTM.shape[1]))\n",
        "model.add(Bidirectional(LSTM(128, dropout=0.7, recurrent_dropout=0.7)))\n",
        "model.add(Dense(y_LSTM.shape[1], activation='softmax'))\n",
        "model.compile(optimizer='adam', \n",
        "              loss='categorical_crossentropy',\n",
        "              metrics=['accuracy'])\n",
        "print(model.summary())"
      ],
      "execution_count": 0,
      "outputs": [
        {
          "output_type": "stream",
          "text": [
            "Model: \"sequential\"\n",
            "_________________________________________________________________\n",
            "Layer (type)                 Output Shape              Param #   \n",
            "=================================================================\n",
            "embedding (Embedding)        (None, 150, 100)          250000    \n",
            "_________________________________________________________________\n",
            "bidirectional (Bidirectional (None, 256)               234496    \n",
            "_________________________________________________________________\n",
            "dense (Dense)                (None, 5)                 1285      \n",
            "=================================================================\n",
            "Total params: 485,781\n",
            "Trainable params: 485,781\n",
            "Non-trainable params: 0\n",
            "_________________________________________________________________\n",
            "None\n"
          ],
          "name": "stdout"
        }
      ]
    },
    {
      "cell_type": "code",
      "metadata": {
        "id": "vD5H-rzTkhSV",
        "colab_type": "code",
        "outputId": "51a3da06-9f4b-4234-da39-6e6f96c2c899",
        "colab": {
          "base_uri": "https://localhost:8080/",
          "height": 67
        }
      },
      "source": [
        "start_time = time.time()\n",
        "model.fit(X_train_lstm, y_train_lstm, batch_size=128, validation_split=0.2, verbose=1, \n",
        "          shuffle=True, workers=10, use_multiprocessing=True)\n",
        "model.evaluate(X_test_lstm,y_test_lstm, verbose=1, workers=10, use_multiprocessing=True)\n",
        "\n",
        "print(\"--- %s seconds ---\" % (time.time() - start_time))\n"
      ],
      "execution_count": 0,
      "outputs": [
        {
          "output_type": "stream",
          "text": [
            "1000/1000 [==============================] - 1569s 2s/step - loss: 0.5613 - accuracy: 0.7883 - val_loss: 0.4599 - val_accuracy: 0.8192\n",
            "1250/1250 [==============================] - 116s 92ms/step - loss: 0.4657 - accuracy: 0.8167\n",
            "--- 1691.2015647888184 seconds ---\n"
          ],
          "name": "stdout"
        }
      ]
    },
    {
      "cell_type": "code",
      "metadata": {
        "id": "DsqmAYO1khSW",
        "colab_type": "code",
        "colab": {}
      },
      "source": [
        "### Printing Prediction for Submission on Kaggle\n",
        "root = f_path = '/content/drive/My Drive/Team 3 Kaggle Competition ML2/'\n",
        "catDict = {\n",
        "  \"Women\": 0,\n",
        "  \"Men\": 1,\n",
        "  \"Girls\": 2,\n",
        "  \"Boys\": 3,\n",
        "  \"Baby\": 4\n",
        "}\n",
        "\n",
        "def print_predictions(representation,classifier):\n",
        "  input_representation = representation\n",
        "  predictions = open(root + \"prediction_Category_\" + input_representation + '_'+ classifier + \".txt\", 'w')\n",
        "  predictions.write(\"reviewerID-reviewHash,category\\n\")\n",
        "  for l in read_json(root + \"test_Category.json\"):\n",
        "    cat = 'Women' # Default category is the most popular category\n",
        "    input_text = l['reviewText'].lower()\n",
        "    input_text = clean_text(input_text)\n",
        "    if input_representation == 'tfidf':\n",
        "      label = tfidf.predict([input_text])\n",
        "      cat = catDict[label[0]]\n",
        "    if input_representation == 'ngram_tfidf':\n",
        "      input_text = ngram.transform([input_text])\n",
        "      label = ngram_tfidf.predict(input_text)\n",
        "      cat = catDict[label[0]]\n",
        "    if input_representation == 'biLSTM':\n",
        "      tokenizer.fit_on_texts([input_text])\n",
        "      sequences = tokenizer.texts_to_sequences([input_text])\n",
        "      input_text = pad_sequences(sequences, maxlen=max_len)\n",
        "      vec_predict = model.predict(input_text)\n",
        "      label = [np.argmax(vec_predict)]\n",
        "      cat = label[0]\n",
        "\n",
        "\n",
        "    # print(label)\n",
        "    # print(cat)\n",
        "    predictions.write(l['reviewerID'] + '-' + l['reviewHash'] + ',' + str(cat) + \"\\n\")\n",
        "\n",
        "  predictions.close()"
      ],
      "execution_count": 0,
      "outputs": []
    },
    {
      "cell_type": "code",
      "metadata": {
        "id": "PJz_0zRMCu5F",
        "colab_type": "code",
        "colab": {}
      },
      "source": [
        "# print_predictions('tfidf', 'logistic_regression')\n",
        "# print_predictions('ngram_tfidf', 'logistic_regression')\n",
        "print_predictions('biLSTM', 'logistic_regression')"
      ],
      "execution_count": 0,
      "outputs": []
    },
    {
      "cell_type": "markdown",
      "metadata": {
        "id": "PlWWlTLH-Hcu",
        "colab_type": "text"
      },
      "source": [
        "# New Section"
      ]
    }
  ]
}